{
 "cells": [
  {
   "cell_type": "markdown",
   "metadata": {},
   "source": [
    "# Example workflow"
   ]
  },
  {
   "cell_type": "markdown",
   "source": [],
   "metadata": {
    "collapsed": false
   }
  },
  {
   "cell_type": "code",
   "execution_count": 11,
   "metadata": {
    "ExecuteTime": {
     "end_time": "2024-03-07T18:31:49.115245Z",
     "start_time": "2024-03-07T18:31:49.092165Z"
    }
   },
   "outputs": [],
   "source": [
    "import rectanglepy as rectangle\n",
    "from anndata import AnnData"
   ]
  },
  {
   "cell_type": "markdown",
   "source": [
    "## Load tutorial data"
   ],
   "metadata": {
    "collapsed": false
   }
  },
  {
   "cell_type": "code",
   "execution_count": 12,
   "metadata": {
    "ExecuteTime": {
     "end_time": "2024-03-07T18:31:49.161373Z",
     "start_time": "2024-03-07T18:31:49.120483Z"
    }
   },
   "outputs": [],
   "source": [
    "sc_counts, annotations, bulks  = rectangle.load_tutorial_data()"
   ]
  },
  {
   "cell_type": "code",
   "execution_count": 13,
   "outputs": [
    {
     "data": {
      "text/plain": "                       NOC2L  HES4  ISG15  SDF4  B3GALT6  UBE2J2  INTS11   \nE2L4_GATGCTACAGGCACAA      0    11      7     0        2       1       2  \\\nL3_AACGTCACATCAGCAT        0     0      1     0        0       0       1   \nL3_GGAATGGGTCTAACGT        0     0      0     2        0       0       0   \nE2L7_GTCATTTAGGCCTTCG      2     1      1     2        0       0       0   \nE2L6_CCCTTAGCATTGACCA      0     0      0     1        0       0       0   \n\n                       AURKAIP1  CCNL2  MRPL20  \nE2L4_GATGCTACAGGCACAA         5      0       0  \nL3_AACGTCACATCAGCAT           1      0       1  \nL3_GGAATGGGTCTAACGT           1      0       3  \nE2L7_GTCATTTAGGCCTTCG         1      0       0  \nE2L6_CCCTTAGCATTGACCA         1      2       1  ",
      "text/html": "<div>\n<style scoped>\n    .dataframe tbody tr th:only-of-type {\n        vertical-align: middle;\n    }\n\n    .dataframe tbody tr th {\n        vertical-align: top;\n    }\n\n    .dataframe thead th {\n        text-align: right;\n    }\n</style>\n<table border=\"1\" class=\"dataframe\">\n  <thead>\n    <tr style=\"text-align: right;\">\n      <th></th>\n      <th>NOC2L</th>\n      <th>HES4</th>\n      <th>ISG15</th>\n      <th>SDF4</th>\n      <th>B3GALT6</th>\n      <th>UBE2J2</th>\n      <th>INTS11</th>\n      <th>AURKAIP1</th>\n      <th>CCNL2</th>\n      <th>MRPL20</th>\n    </tr>\n  </thead>\n  <tbody>\n    <tr>\n      <th>E2L4_GATGCTACAGGCACAA</th>\n      <td>0</td>\n      <td>11</td>\n      <td>7</td>\n      <td>0</td>\n      <td>2</td>\n      <td>1</td>\n      <td>2</td>\n      <td>5</td>\n      <td>0</td>\n      <td>0</td>\n    </tr>\n    <tr>\n      <th>L3_AACGTCACATCAGCAT</th>\n      <td>0</td>\n      <td>0</td>\n      <td>1</td>\n      <td>0</td>\n      <td>0</td>\n      <td>0</td>\n      <td>1</td>\n      <td>1</td>\n      <td>0</td>\n      <td>1</td>\n    </tr>\n    <tr>\n      <th>L3_GGAATGGGTCTAACGT</th>\n      <td>0</td>\n      <td>0</td>\n      <td>0</td>\n      <td>2</td>\n      <td>0</td>\n      <td>0</td>\n      <td>0</td>\n      <td>1</td>\n      <td>0</td>\n      <td>3</td>\n    </tr>\n    <tr>\n      <th>E2L7_GTCATTTAGGCCTTCG</th>\n      <td>2</td>\n      <td>1</td>\n      <td>1</td>\n      <td>2</td>\n      <td>0</td>\n      <td>0</td>\n      <td>0</td>\n      <td>1</td>\n      <td>0</td>\n      <td>0</td>\n    </tr>\n    <tr>\n      <th>E2L6_CCCTTAGCATTGACCA</th>\n      <td>0</td>\n      <td>0</td>\n      <td>0</td>\n      <td>1</td>\n      <td>0</td>\n      <td>0</td>\n      <td>0</td>\n      <td>1</td>\n      <td>2</td>\n      <td>1</td>\n    </tr>\n  </tbody>\n</table>\n</div>"
     },
     "execution_count": 13,
     "metadata": {},
     "output_type": "execute_result"
    }
   ],
   "source": [
    "sc_counts.iloc[:, :10].head()"
   ],
   "metadata": {
    "collapsed": false,
    "ExecuteTime": {
     "end_time": "2024-03-07T18:31:49.162499Z",
     "start_time": "2024-03-07T18:31:49.160216Z"
    }
   }
  },
  {
   "cell_type": "code",
   "execution_count": 14,
   "outputs": [
    {
     "data": {
      "text/plain": "E2L4_GATGCTACAGGCACAA    Monocytes\nL3_AACGTCACATCAGCAT      Monocytes\nL3_GGAATGGGTCTAACGT      Monocytes\nE2L7_GTCATTTAGGCCTTCG    Monocytes\nE2L6_CCCTTAGCATTGACCA    Monocytes\nName: 0, dtype: object"
     },
     "execution_count": 14,
     "metadata": {},
     "output_type": "execute_result"
    }
   ],
   "source": [
    "annotations.head()"
   ],
   "metadata": {
    "collapsed": false,
    "ExecuteTime": {
     "end_time": "2024-03-07T18:31:49.169641Z",
     "start_time": "2024-03-07T18:31:49.164684Z"
    }
   }
  },
  {
   "cell_type": "code",
   "execution_count": 15,
   "outputs": [
    {
     "data": {
      "text/plain": "         SNORA52   SNORA53  SNORA54   SNORA55  SNORA56   SNORA57  SNORA59B   \npbmc_1   2.02120  0.426412      0.0  0.585614  0.00000  2.060440  0.666746  \\\npbmc_10  1.15102  0.000000      0.0  1.185750  1.15618  0.325934  0.379692   \n\n         SNORA5A   SNORA5B  SNORA5C  \npbmc_1   1.84082  0.000000  2.53766  \npbmc_10  2.01894  0.884945  1.70451  ",
      "text/html": "<div>\n<style scoped>\n    .dataframe tbody tr th:only-of-type {\n        vertical-align: middle;\n    }\n\n    .dataframe tbody tr th {\n        vertical-align: top;\n    }\n\n    .dataframe thead th {\n        text-align: right;\n    }\n</style>\n<table border=\"1\" class=\"dataframe\">\n  <thead>\n    <tr style=\"text-align: right;\">\n      <th></th>\n      <th>SNORA52</th>\n      <th>SNORA53</th>\n      <th>SNORA54</th>\n      <th>SNORA55</th>\n      <th>SNORA56</th>\n      <th>SNORA57</th>\n      <th>SNORA59B</th>\n      <th>SNORA5A</th>\n      <th>SNORA5B</th>\n      <th>SNORA5C</th>\n    </tr>\n  </thead>\n  <tbody>\n    <tr>\n      <th>pbmc_1</th>\n      <td>2.02120</td>\n      <td>0.426412</td>\n      <td>0.0</td>\n      <td>0.585614</td>\n      <td>0.00000</td>\n      <td>2.060440</td>\n      <td>0.666746</td>\n      <td>1.84082</td>\n      <td>0.000000</td>\n      <td>2.53766</td>\n    </tr>\n    <tr>\n      <th>pbmc_10</th>\n      <td>1.15102</td>\n      <td>0.000000</td>\n      <td>0.0</td>\n      <td>1.185750</td>\n      <td>1.15618</td>\n      <td>0.325934</td>\n      <td>0.379692</td>\n      <td>2.01894</td>\n      <td>0.884945</td>\n      <td>1.70451</td>\n    </tr>\n  </tbody>\n</table>\n</div>"
     },
     "execution_count": 15,
     "metadata": {},
     "output_type": "execute_result"
    }
   ],
   "source": [
    "bulks.iloc[:, :10].head()"
   ],
   "metadata": {
    "collapsed": false,
    "ExecuteTime": {
     "end_time": "2024-03-07T18:31:49.177705Z",
     "start_time": "2024-03-07T18:31:49.173852Z"
    }
   }
  },
  {
   "cell_type": "markdown",
   "metadata": {},
   "source": [
    "### Convert to AnnData object"
   ]
  },
  {
   "cell_type": "code",
   "execution_count": 16,
   "outputs": [],
   "source": [
    "sc_adata = AnnData(sc_counts, obs=annotations.to_frame(name=\"cell_type\"))"
   ],
   "metadata": {
    "collapsed": false,
    "ExecuteTime": {
     "end_time": "2024-03-07T18:31:49.181062Z",
     "start_time": "2024-03-07T18:31:49.178366Z"
    }
   }
  },
  {
   "cell_type": "markdown",
   "source": [
    "# Single step Rectangle workflow"
   ],
   "metadata": {
    "collapsed": false
   }
  },
  {
   "cell_type": "code",
   "outputs": [],
   "source": [
    "estimations, signature_result = rectangle.rectangle(sc_adata, bulks)"
   ],
   "metadata": {
    "collapsed": false
   },
   "execution_count": null
  },
  {
   "cell_type": "code",
   "outputs": [
    {
     "data": {
      "text/plain": "              B cells  Monocytes  NK cells  Plasma cells  T cells CD4 conv   \npbmc_1  -1.653677e-18   0.105667  0.029340      0.008662      3.723346e-01  \\\npbmc_10  1.641017e-17   0.242756  0.061698      0.001183      2.935494e-16   \n\n          T cells CD8         Tregs       mDC       pDC  Unknown  \npbmc_1   5.698229e-02  1.376688e-02  0.164630  0.248618      0.0  \npbmc_10  3.265707e-17 -3.973413e-17  0.278038  0.416326      0.0  ",
      "text/html": "<div>\n<style scoped>\n    .dataframe tbody tr th:only-of-type {\n        vertical-align: middle;\n    }\n\n    .dataframe tbody tr th {\n        vertical-align: top;\n    }\n\n    .dataframe thead th {\n        text-align: right;\n    }\n</style>\n<table border=\"1\" class=\"dataframe\">\n  <thead>\n    <tr style=\"text-align: right;\">\n      <th></th>\n      <th>B cells</th>\n      <th>Monocytes</th>\n      <th>NK cells</th>\n      <th>Plasma cells</th>\n      <th>T cells CD4 conv</th>\n      <th>T cells CD8</th>\n      <th>Tregs</th>\n      <th>mDC</th>\n      <th>pDC</th>\n      <th>Unknown</th>\n    </tr>\n  </thead>\n  <tbody>\n    <tr>\n      <th>pbmc_1</th>\n      <td>-1.653677e-18</td>\n      <td>0.105667</td>\n      <td>0.029340</td>\n      <td>0.008662</td>\n      <td>3.723346e-01</td>\n      <td>5.698229e-02</td>\n      <td>1.376688e-02</td>\n      <td>0.164630</td>\n      <td>0.248618</td>\n      <td>0.0</td>\n    </tr>\n    <tr>\n      <th>pbmc_10</th>\n      <td>1.641017e-17</td>\n      <td>0.242756</td>\n      <td>0.061698</td>\n      <td>0.001183</td>\n      <td>2.935494e-16</td>\n      <td>3.265707e-17</td>\n      <td>-3.973413e-17</td>\n      <td>0.278038</td>\n      <td>0.416326</td>\n      <td>0.0</td>\n    </tr>\n  </tbody>\n</table>\n</div>"
     },
     "execution_count": 18,
     "metadata": {},
     "output_type": "execute_result"
    }
   ],
   "source": [
    "estimations"
   ],
   "metadata": {
    "collapsed": false,
    "ExecuteTime": {
     "end_time": "2024-03-07T18:32:46.333109Z",
     "start_time": "2024-03-07T18:32:46.329466Z"
    }
   },
   "execution_count": 18
  },
  {
   "cell_type": "markdown",
   "source": [
    "signature_result is a [`RectangleSignatureResult`](../generated/rectanglepy.pp.RectangleSignatureResult.rst) object"
   ],
   "metadata": {
    "collapsed": false
   }
  },
  {
   "cell_type": "markdown",
   "source": [
    "## Even sampling and consensus"
   ],
   "metadata": {
    "collapsed": false
   }
  },
  {
   "cell_type": "markdown",
   "source": [
    "We recommend even subsampling of the sc data.\n",
    "You can use the `sample_size` parameter to sample a fixed number of cells per cell type,  and run the consensus multiple times to get a more robust result."
   ],
   "metadata": {
    "collapsed": false
   }
  },
  {
   "cell_type": "code",
   "outputs": [],
   "source": [
    "estimations, signature_result = rectangle.rectangle(sc_adata, bulks, consensus_runs=5, sample_size=1500)"
   ],
   "metadata": {
    "collapsed": false
   },
   "execution_count": null
  },
  {
   "cell_type": "markdown",
   "source": [
    "# 2-step Rectangle workflow"
   ],
   "metadata": {
    "collapsed": false
   }
  },
  {
   "cell_type": "markdown",
   "source": [
    "Rectangle can also be run in two steps, first creating the signature and then deconvoluting the bulk data."
   ],
   "metadata": {
    "collapsed": false
   }
  },
  {
   "cell_type": "markdown",
   "source": [
    "## Create Signature result"
   ],
   "metadata": {
    "collapsed": false
   }
  },
  {
   "cell_type": "code",
   "execution_count": null,
   "outputs": [],
   "source": [
    "signature_result = rectangle.pp.build_rectangle_signatures(sc_adata, bulks=bulks)"
   ],
   "metadata": {
    "collapsed": false
   }
  },
  {
   "cell_type": "markdown",
   "source": [
    "This creates a [`RectangleSignatureResult`](../generated/rectanglepy.pp.RectangleSignatureResult.rst) object."
   ],
   "metadata": {
    "collapsed": false
   }
  },
  {
   "cell_type": "markdown",
   "source": [
    "## Deconvolute bulk data"
   ],
   "metadata": {
    "collapsed": false
   }
  },
  {
   "cell_type": "code",
   "execution_count": null,
   "outputs": [],
   "source": [
    "estimations = rectangle.tl.deconvolution(signature_result, bulks)"
   ],
   "metadata": {
    "collapsed": false
   }
  },
  {
   "cell_type": "markdown",
   "source": [
    "This returns a pandas DataFrame with the estimated cell type proportions."
   ],
   "metadata": {
    "collapsed": false
   }
  },
  {
   "cell_type": "code",
   "outputs": [],
   "source": [],
   "metadata": {
    "collapsed": false,
    "ExecuteTime": {
     "end_time": "2024-03-07T18:39:06.840457Z",
     "start_time": "2024-03-07T18:39:06.838965Z"
    }
   },
   "execution_count": 21
  }
 ],
 "metadata": {
  "kernelspec": {
   "display_name": "Python 3.9.12 ('squidpy39')",
   "language": "python",
   "name": "python3"
  },
  "language_info": {
   "codemirror_mode": {
    "name": "ipython",
    "version": 3
   },
   "file_extension": ".py",
   "mimetype": "text/x-python",
   "name": "python",
   "nbconvert_exporter": "python",
   "pygments_lexer": "ipython3",
   "version": "3.9.12"
  },
  "vscode": {
   "interpreter": {
    "hash": "ae6466e8d4f517858789b5c9e8f0ed238fb8964458a36305fca7bddc149e9c64"
   }
  }
 },
 "nbformat": 4,
 "nbformat_minor": 4
}
