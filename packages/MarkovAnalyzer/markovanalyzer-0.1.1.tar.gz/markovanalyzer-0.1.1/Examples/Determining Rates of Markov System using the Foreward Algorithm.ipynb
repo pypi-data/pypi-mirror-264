{
 "cells": [
  {
   "cell_type": "markdown",
   "source": [
    "# Determining Rates of Markov System using the Foreward Algorithm"
   ],
   "metadata": {
    "collapsed": false
   },
   "id": "79c034c787193498"
  },
  {
   "cell_type": "code",
   "execution_count": 1,
   "outputs": [],
   "source": [
    "from markovanalyzer.forward import DiscreteHaugSystem\n",
    "import numpy as np\n",
    "%matplotlib inline"
   ],
   "metadata": {
    "collapsed": false,
    "ExecuteTime": {
     "end_time": "2023-08-02T13:50:49.581332Z",
     "start_time": "2023-08-02T13:50:45.986410Z"
    }
   },
   "id": "initial_id"
  },
  {
   "cell_type": "markdown",
   "source": [
    "## Load Dataset"
   ],
   "metadata": {
    "collapsed": false
   },
   "id": "66f9b36b3561e954"
  },
  {
   "cell_type": "markdown",
   "source": [
    "The dataset has n rows, where n is the number of jumps and 3 columns. Column 1: current level, column 2: time spend in this level, and column 3: time elapsed when jumping to that level."
   ],
   "metadata": {
    "collapsed": false
   },
   "id": "89294a2345324eb5"
  },
  {
   "cell_type": "code",
   "execution_count": 2,
   "outputs": [
    {
     "data": {
      "text/plain": "array([[        2,       238,         0],\n       [        1,      1392,      1392],\n       [        2,      1546,      2938],\n       ...,\n       [        2,     84113, 196511758],\n       [        3,    905939, 197417697],\n       [        2,   2239275, 199656972]], dtype=int32)"
     },
     "execution_count": 2,
     "metadata": {},
     "output_type": "execute_result"
    }
   ],
   "source": [
    "path = 'example_data/V_qpc_0.5mV-0_digital_gaussian_filter_2_with_level_5_6_as_one.npy'\n",
    "dataset = np.load(path)\n",
    "n_steps = dataset.shape[0]\n",
    "delta_t = 1 / 400e3\n",
    "dataset = dataset.astype(np.int32)\n",
    "dataset"
   ],
   "metadata": {
    "collapsed": false,
    "ExecuteTime": {
     "end_time": "2023-08-02T13:50:49.592820Z",
     "start_time": "2023-08-02T13:50:49.583313Z"
    }
   },
   "id": "d91dde81cdb29039"
  },
  {
   "cell_type": "code",
   "execution_count": 4,
   "outputs": [
    {
     "data": {
      "text/plain": "6"
     },
     "execution_count": 4,
     "metadata": {},
     "output_type": "execute_result"
    }
   ],
   "source": [
    "dataset[:,0].max()"
   ],
   "metadata": {
    "collapsed": false,
    "ExecuteTime": {
     "end_time": "2023-08-02T13:51:38.028773Z",
     "start_time": "2023-08-02T13:51:38.015828Z"
    }
   },
   "id": "a184c39af458a126"
  },
  {
   "cell_type": "markdown",
   "source": [
    "## Define initial state and fit system rates"
   ],
   "metadata": {
    "collapsed": false
   },
   "id": "9a4801ef6f6a4f68"
  },
  {
   "cell_type": "code",
   "execution_count": 5,
   "outputs": [
    {
     "ename": "KeyboardInterrupt",
     "evalue": "",
     "output_type": "error",
     "traceback": [
      "\u001B[0;31m---------------------------------------------------------------------------\u001B[0m",
      "\u001B[0;31mKeyboardInterrupt\u001B[0m                         Traceback (most recent call last)",
      "Cell \u001B[0;32mIn[5], line 22\u001B[0m\n\u001B[1;32m     19\u001B[0m upper \u001B[38;5;241m=\u001B[39m \u001B[38;5;241m2\u001B[39m \u001B[38;5;241m*\u001B[39m init\n\u001B[1;32m     21\u001B[0m system \u001B[38;5;241m=\u001B[39m DiscreteHaugSystem(dataset, init, lower, upper)\n\u001B[0;32m---> 22\u001B[0m result \u001B[38;5;241m=\u001B[39m \u001B[43msystem\u001B[49m\u001B[38;5;241;43m.\u001B[39;49m\u001B[43mfit_system\u001B[49m\u001B[43m(\u001B[49m\u001B[43mwith_bounds\u001B[49m\u001B[38;5;241;43m=\u001B[39;49m\u001B[38;5;28;43;01mFalse\u001B[39;49;00m\u001B[43m)\u001B[49m\n",
      "File \u001B[0;32m~/mambaforge/envs/py311/lib/python3.11/site-packages/markovanalyzer/foreward.py:272\u001B[0m, in \u001B[0;36mDiscreteHaugSystem.fit_system\u001B[0;34m(self, with_bounds)\u001B[0m\n\u001B[1;32m    269\u001B[0m     result \u001B[38;5;241m=\u001B[39m minimize(\u001B[38;5;28mself\u001B[39m\u001B[38;5;241m.\u001B[39mobjective_function, \u001B[38;5;28mself\u001B[39m\u001B[38;5;241m.\u001B[39minitial_state, args\u001B[38;5;241m=\u001B[39m\u001B[38;5;28mself\u001B[39m\u001B[38;5;241m.\u001B[39mdataset, method\u001B[38;5;241m=\u001B[39m\u001B[38;5;124m'\u001B[39m\u001B[38;5;124mL-BFGS-B\u001B[39m\u001B[38;5;124m'\u001B[39m,\n\u001B[1;32m    270\u001B[0m                       bounds\u001B[38;5;241m=\u001B[39mbounds, callback\u001B[38;5;241m=\u001B[39m\u001B[38;5;28mself\u001B[39m\u001B[38;5;241m.\u001B[39mcallback_function)\n\u001B[1;32m    271\u001B[0m \u001B[38;5;28;01melse\u001B[39;00m:\n\u001B[0;32m--> 272\u001B[0m     result \u001B[38;5;241m=\u001B[39m \u001B[43mminimize\u001B[49m\u001B[43m(\u001B[49m\u001B[38;5;28;43mself\u001B[39;49m\u001B[38;5;241;43m.\u001B[39;49m\u001B[43mobjective_function\u001B[49m\u001B[43m,\u001B[49m\u001B[43m \u001B[49m\u001B[38;5;28;43mself\u001B[39;49m\u001B[38;5;241;43m.\u001B[39;49m\u001B[43minitial_state\u001B[49m\u001B[43m,\u001B[49m\u001B[43m \u001B[49m\u001B[43margs\u001B[49m\u001B[38;5;241;43m=\u001B[39;49m\u001B[38;5;28;43mself\u001B[39;49m\u001B[38;5;241;43m.\u001B[39;49m\u001B[43mdataset\u001B[49m\u001B[43m,\u001B[49m\n\u001B[1;32m    273\u001B[0m \u001B[43m                      \u001B[49m\u001B[43mcallback\u001B[49m\u001B[38;5;241;43m=\u001B[39;49m\u001B[38;5;28;43mself\u001B[39;49m\u001B[38;5;241;43m.\u001B[39;49m\u001B[43mcallback_function\u001B[49m\u001B[43m)\u001B[49m\n\u001B[1;32m    275\u001B[0m \u001B[38;5;28;01mreturn\u001B[39;00m result\n",
      "File \u001B[0;32m~/mambaforge/envs/py311/lib/python3.11/site-packages/scipy/optimize/_minimize.py:705\u001B[0m, in \u001B[0;36mminimize\u001B[0;34m(fun, x0, args, method, jac, hess, hessp, bounds, constraints, tol, callback, options)\u001B[0m\n\u001B[1;32m    703\u001B[0m     res \u001B[38;5;241m=\u001B[39m _minimize_cg(fun, x0, args, jac, callback, \u001B[38;5;241m*\u001B[39m\u001B[38;5;241m*\u001B[39moptions)\n\u001B[1;32m    704\u001B[0m \u001B[38;5;28;01melif\u001B[39;00m meth \u001B[38;5;241m==\u001B[39m \u001B[38;5;124m'\u001B[39m\u001B[38;5;124mbfgs\u001B[39m\u001B[38;5;124m'\u001B[39m:\n\u001B[0;32m--> 705\u001B[0m     res \u001B[38;5;241m=\u001B[39m \u001B[43m_minimize_bfgs\u001B[49m\u001B[43m(\u001B[49m\u001B[43mfun\u001B[49m\u001B[43m,\u001B[49m\u001B[43m \u001B[49m\u001B[43mx0\u001B[49m\u001B[43m,\u001B[49m\u001B[43m \u001B[49m\u001B[43margs\u001B[49m\u001B[43m,\u001B[49m\u001B[43m \u001B[49m\u001B[43mjac\u001B[49m\u001B[43m,\u001B[49m\u001B[43m \u001B[49m\u001B[43mcallback\u001B[49m\u001B[43m,\u001B[49m\u001B[43m \u001B[49m\u001B[38;5;241;43m*\u001B[39;49m\u001B[38;5;241;43m*\u001B[39;49m\u001B[43moptions\u001B[49m\u001B[43m)\u001B[49m\n\u001B[1;32m    706\u001B[0m \u001B[38;5;28;01melif\u001B[39;00m meth \u001B[38;5;241m==\u001B[39m \u001B[38;5;124m'\u001B[39m\u001B[38;5;124mnewton-cg\u001B[39m\u001B[38;5;124m'\u001B[39m:\n\u001B[1;32m    707\u001B[0m     res \u001B[38;5;241m=\u001B[39m _minimize_newtoncg(fun, x0, args, jac, hess, hessp, callback,\n\u001B[1;32m    708\u001B[0m                              \u001B[38;5;241m*\u001B[39m\u001B[38;5;241m*\u001B[39moptions)\n",
      "File \u001B[0;32m~/mambaforge/envs/py311/lib/python3.11/site-packages/scipy/optimize/_optimize.py:1418\u001B[0m, in \u001B[0;36m_minimize_bfgs\u001B[0;34m(fun, x0, args, jac, callback, gtol, norm, eps, maxiter, disp, return_all, finite_diff_rel_step, xrtol, **unknown_options)\u001B[0m\n\u001B[1;32m   1415\u001B[0m \u001B[38;5;28;01mif\u001B[39;00m maxiter \u001B[38;5;129;01mis\u001B[39;00m \u001B[38;5;28;01mNone\u001B[39;00m:\n\u001B[1;32m   1416\u001B[0m     maxiter \u001B[38;5;241m=\u001B[39m \u001B[38;5;28mlen\u001B[39m(x0) \u001B[38;5;241m*\u001B[39m \u001B[38;5;241m200\u001B[39m\n\u001B[0;32m-> 1418\u001B[0m sf \u001B[38;5;241m=\u001B[39m \u001B[43m_prepare_scalar_function\u001B[49m\u001B[43m(\u001B[49m\u001B[43mfun\u001B[49m\u001B[43m,\u001B[49m\u001B[43m \u001B[49m\u001B[43mx0\u001B[49m\u001B[43m,\u001B[49m\u001B[43m \u001B[49m\u001B[43mjac\u001B[49m\u001B[43m,\u001B[49m\u001B[43m \u001B[49m\u001B[43margs\u001B[49m\u001B[38;5;241;43m=\u001B[39;49m\u001B[43margs\u001B[49m\u001B[43m,\u001B[49m\u001B[43m \u001B[49m\u001B[43mepsilon\u001B[49m\u001B[38;5;241;43m=\u001B[39;49m\u001B[43meps\u001B[49m\u001B[43m,\u001B[49m\n\u001B[1;32m   1419\u001B[0m \u001B[43m                              \u001B[49m\u001B[43mfinite_diff_rel_step\u001B[49m\u001B[38;5;241;43m=\u001B[39;49m\u001B[43mfinite_diff_rel_step\u001B[49m\u001B[43m)\u001B[49m\n\u001B[1;32m   1421\u001B[0m f \u001B[38;5;241m=\u001B[39m sf\u001B[38;5;241m.\u001B[39mfun\n\u001B[1;32m   1422\u001B[0m myfprime \u001B[38;5;241m=\u001B[39m sf\u001B[38;5;241m.\u001B[39mgrad\n",
      "File \u001B[0;32m~/mambaforge/envs/py311/lib/python3.11/site-packages/scipy/optimize/_optimize.py:383\u001B[0m, in \u001B[0;36m_prepare_scalar_function\u001B[0;34m(fun, x0, jac, args, bounds, epsilon, finite_diff_rel_step, hess)\u001B[0m\n\u001B[1;32m    379\u001B[0m     bounds \u001B[38;5;241m=\u001B[39m (\u001B[38;5;241m-\u001B[39mnp\u001B[38;5;241m.\u001B[39minf, np\u001B[38;5;241m.\u001B[39minf)\n\u001B[1;32m    381\u001B[0m \u001B[38;5;66;03m# ScalarFunction caches. Reuse of fun(x) during grad\u001B[39;00m\n\u001B[1;32m    382\u001B[0m \u001B[38;5;66;03m# calculation reduces overall function evaluations.\u001B[39;00m\n\u001B[0;32m--> 383\u001B[0m sf \u001B[38;5;241m=\u001B[39m \u001B[43mScalarFunction\u001B[49m\u001B[43m(\u001B[49m\u001B[43mfun\u001B[49m\u001B[43m,\u001B[49m\u001B[43m \u001B[49m\u001B[43mx0\u001B[49m\u001B[43m,\u001B[49m\u001B[43m \u001B[49m\u001B[43margs\u001B[49m\u001B[43m,\u001B[49m\u001B[43m \u001B[49m\u001B[43mgrad\u001B[49m\u001B[43m,\u001B[49m\u001B[43m \u001B[49m\u001B[43mhess\u001B[49m\u001B[43m,\u001B[49m\n\u001B[1;32m    384\u001B[0m \u001B[43m                    \u001B[49m\u001B[43mfinite_diff_rel_step\u001B[49m\u001B[43m,\u001B[49m\u001B[43m \u001B[49m\u001B[43mbounds\u001B[49m\u001B[43m,\u001B[49m\u001B[43m \u001B[49m\u001B[43mepsilon\u001B[49m\u001B[38;5;241;43m=\u001B[39;49m\u001B[43mepsilon\u001B[49m\u001B[43m)\u001B[49m\n\u001B[1;32m    386\u001B[0m \u001B[38;5;28;01mreturn\u001B[39;00m sf\n",
      "File \u001B[0;32m~/mambaforge/envs/py311/lib/python3.11/site-packages/scipy/optimize/_differentiable_functions.py:177\u001B[0m, in \u001B[0;36mScalarFunction.__init__\u001B[0;34m(self, fun, x0, args, grad, hess, finite_diff_rel_step, finite_diff_bounds, epsilon)\u001B[0m\n\u001B[1;32m    173\u001B[0m         \u001B[38;5;28mself\u001B[39m\u001B[38;5;241m.\u001B[39mg \u001B[38;5;241m=\u001B[39m approx_derivative(fun_wrapped, \u001B[38;5;28mself\u001B[39m\u001B[38;5;241m.\u001B[39mx, f0\u001B[38;5;241m=\u001B[39m\u001B[38;5;28mself\u001B[39m\u001B[38;5;241m.\u001B[39mf,\n\u001B[1;32m    174\u001B[0m                                    \u001B[38;5;241m*\u001B[39m\u001B[38;5;241m*\u001B[39mfinite_diff_options)\n\u001B[1;32m    176\u001B[0m \u001B[38;5;28mself\u001B[39m\u001B[38;5;241m.\u001B[39m_update_grad_impl \u001B[38;5;241m=\u001B[39m update_grad\n\u001B[0;32m--> 177\u001B[0m \u001B[38;5;28;43mself\u001B[39;49m\u001B[38;5;241;43m.\u001B[39;49m\u001B[43m_update_grad\u001B[49m\u001B[43m(\u001B[49m\u001B[43m)\u001B[49m\n\u001B[1;32m    179\u001B[0m \u001B[38;5;66;03m# Hessian Evaluation\u001B[39;00m\n\u001B[1;32m    180\u001B[0m \u001B[38;5;28;01mif\u001B[39;00m \u001B[38;5;28mcallable\u001B[39m(hess):\n",
      "File \u001B[0;32m~/mambaforge/envs/py311/lib/python3.11/site-packages/scipy/optimize/_differentiable_functions.py:256\u001B[0m, in \u001B[0;36mScalarFunction._update_grad\u001B[0;34m(self)\u001B[0m\n\u001B[1;32m    254\u001B[0m \u001B[38;5;28;01mdef\u001B[39;00m \u001B[38;5;21m_update_grad\u001B[39m(\u001B[38;5;28mself\u001B[39m):\n\u001B[1;32m    255\u001B[0m     \u001B[38;5;28;01mif\u001B[39;00m \u001B[38;5;129;01mnot\u001B[39;00m \u001B[38;5;28mself\u001B[39m\u001B[38;5;241m.\u001B[39mg_updated:\n\u001B[0;32m--> 256\u001B[0m         \u001B[38;5;28;43mself\u001B[39;49m\u001B[38;5;241;43m.\u001B[39;49m\u001B[43m_update_grad_impl\u001B[49m\u001B[43m(\u001B[49m\u001B[43m)\u001B[49m\n\u001B[1;32m    257\u001B[0m         \u001B[38;5;28mself\u001B[39m\u001B[38;5;241m.\u001B[39mg_updated \u001B[38;5;241m=\u001B[39m \u001B[38;5;28;01mTrue\u001B[39;00m\n",
      "File \u001B[0;32m~/mambaforge/envs/py311/lib/python3.11/site-packages/scipy/optimize/_differentiable_functions.py:173\u001B[0m, in \u001B[0;36mScalarFunction.__init__.<locals>.update_grad\u001B[0;34m()\u001B[0m\n\u001B[1;32m    171\u001B[0m \u001B[38;5;28mself\u001B[39m\u001B[38;5;241m.\u001B[39m_update_fun()\n\u001B[1;32m    172\u001B[0m \u001B[38;5;28mself\u001B[39m\u001B[38;5;241m.\u001B[39mngev \u001B[38;5;241m+\u001B[39m\u001B[38;5;241m=\u001B[39m \u001B[38;5;241m1\u001B[39m\n\u001B[0;32m--> 173\u001B[0m \u001B[38;5;28mself\u001B[39m\u001B[38;5;241m.\u001B[39mg \u001B[38;5;241m=\u001B[39m \u001B[43mapprox_derivative\u001B[49m\u001B[43m(\u001B[49m\u001B[43mfun_wrapped\u001B[49m\u001B[43m,\u001B[49m\u001B[43m \u001B[49m\u001B[38;5;28;43mself\u001B[39;49m\u001B[38;5;241;43m.\u001B[39;49m\u001B[43mx\u001B[49m\u001B[43m,\u001B[49m\u001B[43m \u001B[49m\u001B[43mf0\u001B[49m\u001B[38;5;241;43m=\u001B[39;49m\u001B[38;5;28;43mself\u001B[39;49m\u001B[38;5;241;43m.\u001B[39;49m\u001B[43mf\u001B[49m\u001B[43m,\u001B[49m\n\u001B[1;32m    174\u001B[0m \u001B[43m                           \u001B[49m\u001B[38;5;241;43m*\u001B[39;49m\u001B[38;5;241;43m*\u001B[39;49m\u001B[43mfinite_diff_options\u001B[49m\u001B[43m)\u001B[49m\n",
      "File \u001B[0;32m~/mambaforge/envs/py311/lib/python3.11/site-packages/scipy/optimize/_numdiff.py:505\u001B[0m, in \u001B[0;36mapprox_derivative\u001B[0;34m(fun, x0, method, rel_step, abs_step, f0, bounds, sparsity, as_linear_operator, args, kwargs)\u001B[0m\n\u001B[1;32m    502\u001B[0m     use_one_sided \u001B[38;5;241m=\u001B[39m \u001B[38;5;28;01mFalse\u001B[39;00m\n\u001B[1;32m    504\u001B[0m \u001B[38;5;28;01mif\u001B[39;00m sparsity \u001B[38;5;129;01mis\u001B[39;00m \u001B[38;5;28;01mNone\u001B[39;00m:\n\u001B[0;32m--> 505\u001B[0m     \u001B[38;5;28;01mreturn\u001B[39;00m \u001B[43m_dense_difference\u001B[49m\u001B[43m(\u001B[49m\u001B[43mfun_wrapped\u001B[49m\u001B[43m,\u001B[49m\u001B[43m \u001B[49m\u001B[43mx0\u001B[49m\u001B[43m,\u001B[49m\u001B[43m \u001B[49m\u001B[43mf0\u001B[49m\u001B[43m,\u001B[49m\u001B[43m \u001B[49m\u001B[43mh\u001B[49m\u001B[43m,\u001B[49m\n\u001B[1;32m    506\u001B[0m \u001B[43m                             \u001B[49m\u001B[43muse_one_sided\u001B[49m\u001B[43m,\u001B[49m\u001B[43m \u001B[49m\u001B[43mmethod\u001B[49m\u001B[43m)\u001B[49m\n\u001B[1;32m    507\u001B[0m \u001B[38;5;28;01melse\u001B[39;00m:\n\u001B[1;32m    508\u001B[0m     \u001B[38;5;28;01mif\u001B[39;00m \u001B[38;5;129;01mnot\u001B[39;00m issparse(sparsity) \u001B[38;5;129;01mand\u001B[39;00m \u001B[38;5;28mlen\u001B[39m(sparsity) \u001B[38;5;241m==\u001B[39m \u001B[38;5;241m2\u001B[39m:\n",
      "File \u001B[0;32m~/mambaforge/envs/py311/lib/python3.11/site-packages/scipy/optimize/_numdiff.py:576\u001B[0m, in \u001B[0;36m_dense_difference\u001B[0;34m(fun, x0, f0, h, use_one_sided, method)\u001B[0m\n\u001B[1;32m    574\u001B[0m     x \u001B[38;5;241m=\u001B[39m x0 \u001B[38;5;241m+\u001B[39m h_vecs[i]\n\u001B[1;32m    575\u001B[0m     dx \u001B[38;5;241m=\u001B[39m x[i] \u001B[38;5;241m-\u001B[39m x0[i]  \u001B[38;5;66;03m# Recompute dx as exactly representable number.\u001B[39;00m\n\u001B[0;32m--> 576\u001B[0m     df \u001B[38;5;241m=\u001B[39m \u001B[43mfun\u001B[49m\u001B[43m(\u001B[49m\u001B[43mx\u001B[49m\u001B[43m)\u001B[49m \u001B[38;5;241m-\u001B[39m f0\n\u001B[1;32m    577\u001B[0m \u001B[38;5;28;01melif\u001B[39;00m method \u001B[38;5;241m==\u001B[39m \u001B[38;5;124m'\u001B[39m\u001B[38;5;124m3-point\u001B[39m\u001B[38;5;124m'\u001B[39m \u001B[38;5;129;01mand\u001B[39;00m use_one_sided[i]:\n\u001B[1;32m    578\u001B[0m     x1 \u001B[38;5;241m=\u001B[39m x0 \u001B[38;5;241m+\u001B[39m h_vecs[i]\n",
      "File \u001B[0;32m~/mambaforge/envs/py311/lib/python3.11/site-packages/scipy/optimize/_numdiff.py:456\u001B[0m, in \u001B[0;36mapprox_derivative.<locals>.fun_wrapped\u001B[0;34m(x)\u001B[0m\n\u001B[1;32m    455\u001B[0m \u001B[38;5;28;01mdef\u001B[39;00m \u001B[38;5;21mfun_wrapped\u001B[39m(x):\n\u001B[0;32m--> 456\u001B[0m     f \u001B[38;5;241m=\u001B[39m np\u001B[38;5;241m.\u001B[39matleast_1d(\u001B[43mfun\u001B[49m\u001B[43m(\u001B[49m\u001B[43mx\u001B[49m\u001B[43m,\u001B[49m\u001B[43m \u001B[49m\u001B[38;5;241;43m*\u001B[39;49m\u001B[43margs\u001B[49m\u001B[43m,\u001B[49m\u001B[43m \u001B[49m\u001B[38;5;241;43m*\u001B[39;49m\u001B[38;5;241;43m*\u001B[39;49m\u001B[43mkwargs\u001B[49m\u001B[43m)\u001B[49m)\n\u001B[1;32m    457\u001B[0m     \u001B[38;5;28;01mif\u001B[39;00m f\u001B[38;5;241m.\u001B[39mndim \u001B[38;5;241m>\u001B[39m \u001B[38;5;241m1\u001B[39m:\n\u001B[1;32m    458\u001B[0m         \u001B[38;5;28;01mraise\u001B[39;00m \u001B[38;5;167;01mRuntimeError\u001B[39;00m(\u001B[38;5;124m\"\u001B[39m\u001B[38;5;124m`fun` return value has \u001B[39m\u001B[38;5;124m\"\u001B[39m\n\u001B[1;32m    459\u001B[0m                            \u001B[38;5;124m\"\u001B[39m\u001B[38;5;124mmore than 1 dimension.\u001B[39m\u001B[38;5;124m\"\u001B[39m)\n",
      "File \u001B[0;32m~/mambaforge/envs/py311/lib/python3.11/site-packages/scipy/optimize/_differentiable_functions.py:137\u001B[0m, in \u001B[0;36mScalarFunction.__init__.<locals>.fun_wrapped\u001B[0;34m(x)\u001B[0m\n\u001B[1;32m    133\u001B[0m \u001B[38;5;28mself\u001B[39m\u001B[38;5;241m.\u001B[39mnfev \u001B[38;5;241m+\u001B[39m\u001B[38;5;241m=\u001B[39m \u001B[38;5;241m1\u001B[39m\n\u001B[1;32m    134\u001B[0m \u001B[38;5;66;03m# Send a copy because the user may overwrite it.\u001B[39;00m\n\u001B[1;32m    135\u001B[0m \u001B[38;5;66;03m# Overwriting results in undefined behaviour because\u001B[39;00m\n\u001B[1;32m    136\u001B[0m \u001B[38;5;66;03m# fun(self.x) will change self.x, with the two no longer linked.\u001B[39;00m\n\u001B[0;32m--> 137\u001B[0m fx \u001B[38;5;241m=\u001B[39m \u001B[43mfun\u001B[49m\u001B[43m(\u001B[49m\u001B[43mnp\u001B[49m\u001B[38;5;241;43m.\u001B[39;49m\u001B[43mcopy\u001B[49m\u001B[43m(\u001B[49m\u001B[43mx\u001B[49m\u001B[43m)\u001B[49m\u001B[43m,\u001B[49m\u001B[43m \u001B[49m\u001B[38;5;241;43m*\u001B[39;49m\u001B[43margs\u001B[49m\u001B[43m)\u001B[49m\n\u001B[1;32m    138\u001B[0m \u001B[38;5;66;03m# Make sure the function returns a true scalar\u001B[39;00m\n\u001B[1;32m    139\u001B[0m \u001B[38;5;28;01mif\u001B[39;00m \u001B[38;5;129;01mnot\u001B[39;00m np\u001B[38;5;241m.\u001B[39misscalar(fx):\n",
      "File \u001B[0;32m~/mambaforge/envs/py311/lib/python3.11/site-packages/markovanalyzer/foreward.py:282\u001B[0m, in \u001B[0;36mDiscreteHaugSystem.objective_function\u001B[0;34m(self, params, state_array)\u001B[0m\n\u001B[1;32m    281\u001B[0m \u001B[38;5;28;01mdef\u001B[39;00m \u001B[38;5;21mobjective_function\u001B[39m(\u001B[38;5;28mself\u001B[39m, params, state_array):\n\u001B[0;32m--> 282\u001B[0m     p_test \u001B[38;5;241m=\u001B[39m \u001B[43msystem_to_probability_array\u001B[49m\u001B[43m(\u001B[49m\u001B[43mparams\u001B[49m\u001B[43m,\u001B[49m\u001B[43m \u001B[49m\u001B[43mstate_array\u001B[49m\u001B[43m)\u001B[49m\n\u001B[1;32m    283\u001B[0m     \u001B[38;5;28mself\u001B[39m\u001B[38;5;241m.\u001B[39mall_p\u001B[38;5;241m.\u001B[39mappend(p_test)  \u001B[38;5;66;03m# append current p_test to all_p list\u001B[39;00m\n\u001B[1;32m    284\u001B[0m     \u001B[38;5;28;01mreturn\u001B[39;00m p_test\n",
      "File \u001B[0;32m~/mambaforge/envs/py311/lib/python3.11/site-packages/scipy/sparse/linalg/_matfuncs.py:590\u001B[0m, in \u001B[0;36mexpm\u001B[0;34m(A)\u001B[0m\n\u001B[1;32m    545\u001B[0m \u001B[38;5;28;01mdef\u001B[39;00m \u001B[38;5;21mexpm\u001B[39m(A):\n\u001B[1;32m    546\u001B[0m \u001B[38;5;250m    \u001B[39m\u001B[38;5;124;03m\"\"\"\u001B[39;00m\n\u001B[1;32m    547\u001B[0m \u001B[38;5;124;03m    Compute the matrix exponential using Pade approximation.\u001B[39;00m\n\u001B[1;32m    548\u001B[0m \n\u001B[0;32m   (...)\u001B[0m\n\u001B[1;32m    588\u001B[0m \u001B[38;5;124;03m           [  0.        ,   0.        ,  20.08553692]])\u001B[39;00m\n\u001B[1;32m    589\u001B[0m \u001B[38;5;124;03m    \"\"\"\u001B[39;00m\n\u001B[0;32m--> 590\u001B[0m     \u001B[38;5;28;01mreturn\u001B[39;00m \u001B[43m_expm\u001B[49m\u001B[43m(\u001B[49m\u001B[43mA\u001B[49m\u001B[43m,\u001B[49m\u001B[43m \u001B[49m\u001B[43muse_exact_onenorm\u001B[49m\u001B[38;5;241;43m=\u001B[39;49m\u001B[38;5;124;43m'\u001B[39;49m\u001B[38;5;124;43mauto\u001B[39;49m\u001B[38;5;124;43m'\u001B[39;49m\u001B[43m)\u001B[49m\n",
      "File \u001B[0;32m~/mambaforge/envs/py311/lib/python3.11/site-packages/scipy/sparse/linalg/_matfuncs.py:642\u001B[0m, in \u001B[0;36m_expm\u001B[0;34m(A, use_exact_onenorm)\u001B[0m\n\u001B[1;32m    640\u001B[0m \u001B[38;5;28;01mif\u001B[39;00m eta_1 \u001B[38;5;241m<\u001B[39m \u001B[38;5;241m1.495585217958292e-002\u001B[39m \u001B[38;5;129;01mand\u001B[39;00m _ell(h\u001B[38;5;241m.\u001B[39mA, \u001B[38;5;241m3\u001B[39m) \u001B[38;5;241m==\u001B[39m \u001B[38;5;241m0\u001B[39m:\n\u001B[1;32m    641\u001B[0m     U, V \u001B[38;5;241m=\u001B[39m h\u001B[38;5;241m.\u001B[39mpade3()\n\u001B[0;32m--> 642\u001B[0m     \u001B[38;5;28;01mreturn\u001B[39;00m \u001B[43m_solve_P_Q\u001B[49m\u001B[43m(\u001B[49m\u001B[43mU\u001B[49m\u001B[43m,\u001B[49m\u001B[43m \u001B[49m\u001B[43mV\u001B[49m\u001B[43m,\u001B[49m\u001B[43m \u001B[49m\u001B[43mstructure\u001B[49m\u001B[38;5;241;43m=\u001B[39;49m\u001B[43mstructure\u001B[49m\u001B[43m)\u001B[49m\n\u001B[1;32m    644\u001B[0m \u001B[38;5;66;03m# Try Pade order 5.\u001B[39;00m\n\u001B[1;32m    645\u001B[0m eta_2 \u001B[38;5;241m=\u001B[39m \u001B[38;5;28mmax\u001B[39m(h\u001B[38;5;241m.\u001B[39md4_tight, h\u001B[38;5;241m.\u001B[39md6_loose)\n",
      "File \u001B[0;32m~/mambaforge/envs/py311/lib/python3.11/site-packages/scipy/sparse/linalg/_matfuncs.py:708\u001B[0m, in \u001B[0;36m_solve_P_Q\u001B[0;34m(U, V, structure)\u001B[0m\n\u001B[1;32m    706\u001B[0m     \u001B[38;5;28;01mreturn\u001B[39;00m spsolve(Q, P)\n\u001B[1;32m    707\u001B[0m \u001B[38;5;28;01melif\u001B[39;00m structure \u001B[38;5;129;01mis\u001B[39;00m \u001B[38;5;28;01mNone\u001B[39;00m:\n\u001B[0;32m--> 708\u001B[0m     \u001B[38;5;28;01mreturn\u001B[39;00m \u001B[43msolve\u001B[49m\u001B[43m(\u001B[49m\u001B[43mQ\u001B[49m\u001B[43m,\u001B[49m\u001B[43m \u001B[49m\u001B[43mP\u001B[49m\u001B[43m)\u001B[49m\n\u001B[1;32m    709\u001B[0m \u001B[38;5;28;01melif\u001B[39;00m structure \u001B[38;5;241m==\u001B[39m UPPER_TRIANGULAR:\n\u001B[1;32m    710\u001B[0m     \u001B[38;5;28;01mreturn\u001B[39;00m solve_triangular(Q, P)\n",
      "File \u001B[0;32m~/mambaforge/envs/py311/lib/python3.11/site-packages/scipy/linalg/_basic.py:196\u001B[0m, in \u001B[0;36msolve\u001B[0;34m(a, b, lower, overwrite_a, overwrite_b, check_finite, assume_a, transposed)\u001B[0m\n\u001B[1;32m    191\u001B[0m     lamch \u001B[38;5;241m=\u001B[39m get_lapack_funcs(\u001B[38;5;124m'\u001B[39m\u001B[38;5;124mlamch\u001B[39m\u001B[38;5;124m'\u001B[39m, dtype\u001B[38;5;241m=\u001B[39m\u001B[38;5;124m'\u001B[39m\u001B[38;5;124md\u001B[39m\u001B[38;5;124m'\u001B[39m)\n\u001B[1;32m    193\u001B[0m \u001B[38;5;66;03m# Currently we do not have the other forms of the norm calculators\u001B[39;00m\n\u001B[1;32m    194\u001B[0m \u001B[38;5;66;03m#   lansy, lanpo, lanhe.\u001B[39;00m\n\u001B[1;32m    195\u001B[0m \u001B[38;5;66;03m# However, in any case they only reduce computations slightly...\u001B[39;00m\n\u001B[0;32m--> 196\u001B[0m lange \u001B[38;5;241m=\u001B[39m \u001B[43mget_lapack_funcs\u001B[49m\u001B[43m(\u001B[49m\u001B[38;5;124;43m'\u001B[39;49m\u001B[38;5;124;43mlange\u001B[39;49m\u001B[38;5;124;43m'\u001B[39;49m\u001B[43m,\u001B[49m\u001B[43m \u001B[49m\u001B[43m(\u001B[49m\u001B[43ma1\u001B[49m\u001B[43m,\u001B[49m\u001B[43m)\u001B[49m\u001B[43m)\u001B[49m\n\u001B[1;32m    198\u001B[0m \u001B[38;5;66;03m# Since the I-norm and 1-norm are the same for symmetric matrices\u001B[39;00m\n\u001B[1;32m    199\u001B[0m \u001B[38;5;66;03m# we can collect them all in this one call\u001B[39;00m\n\u001B[1;32m    200\u001B[0m \u001B[38;5;66;03m# Note however, that when issuing 'gen' and form!='none', then\u001B[39;00m\n\u001B[1;32m    201\u001B[0m \u001B[38;5;66;03m# the I-norm should be used\u001B[39;00m\n\u001B[1;32m    202\u001B[0m \u001B[38;5;28;01mif\u001B[39;00m transposed:\n",
      "File \u001B[0;32m~/mambaforge/envs/py311/lib/python3.11/site-packages/scipy/linalg/blas.py:389\u001B[0m, in \u001B[0;36m_memoize_get_funcs.<locals>.getter\u001B[0;34m(names, arrays, dtype, ilp64)\u001B[0m\n\u001B[1;32m    386\u001B[0m key \u001B[38;5;241m=\u001B[39m (names, dtype, ilp64)\n\u001B[1;32m    387\u001B[0m \u001B[38;5;28;01mfor\u001B[39;00m array \u001B[38;5;129;01min\u001B[39;00m arrays:\n\u001B[1;32m    388\u001B[0m     \u001B[38;5;66;03m# cf. find_blas_funcs\u001B[39;00m\n\u001B[0;32m--> 389\u001B[0m     key \u001B[38;5;241m+\u001B[39m\u001B[38;5;241m=\u001B[39m (array\u001B[38;5;241m.\u001B[39mdtype\u001B[38;5;241m.\u001B[39mchar, array\u001B[38;5;241m.\u001B[39mflags\u001B[38;5;241m.\u001B[39mfortran)\n\u001B[1;32m    391\u001B[0m \u001B[38;5;28;01mtry\u001B[39;00m:\n\u001B[1;32m    392\u001B[0m     value \u001B[38;5;241m=\u001B[39m memo\u001B[38;5;241m.\u001B[39mget(key)\n",
      "\u001B[0;31mKeyboardInterrupt\u001B[0m: "
     ]
    }
   ],
   "source": [
    "init = np.array( # for 1.0mV\n",
    "[ 1.11402988e+02,  1.28911556e+00, -5.85500121e-09,\n",
    "  7.56994802e+02,  2.46499466e+00,  2.34568809e-01,\n",
    "  1.77727393e+02,  9.97553568e-01, -1.06451333e-03,\n",
    "  9.18552712e+02,  2.80328638e+01,  1.29819722e-01,\n",
    "  1.74886070e+02,  9.40535137e-01,  4.95709712e-04,\n",
    "  7.40000424e+01,  1.01762755e+00,  2.54223609e-03,\n",
    " \n",
    "  1.10108137e+02,  1.68592423e+00, -5.04938490e-08,\n",
    "  1.33534981e+03,  4.83217040e-01, -2.92942193e-07,\n",
    "  2.21471526e+02,  5.76323255e-02, -3.91361939e-07,\n",
    "  6.75541471e+02,  6.53011364e+00,  9.34433358e-05,\n",
    "  6.60687610e+01,  6.70393567e+00,  7.51044013e-03,\n",
    "  3.15170862e+03,  1.68823670e+00,  1.58763909e-03,\n",
    "    ]\n",
    ")\n",
    "\n",
    "lower = 0.5 * init\n",
    "upper = 2 * init\n",
    "\n",
    "system = DiscreteHaugSystem(dataset, init, lower, upper)\n",
    "result = system.fit_system(with_bounds=False)"
   ],
   "metadata": {
    "collapsed": false,
    "ExecuteTime": {
     "end_time": "2023-08-02T13:52:05.524391Z",
     "start_time": "2023-08-02T13:51:49.458525Z"
    }
   },
   "id": "e12c7acd6eedd77c"
  },
  {
   "cell_type": "code",
   "execution_count": null,
   "outputs": [],
   "source": [
    "result.x.reshape(-1,3)"
   ],
   "metadata": {
    "collapsed": false
   },
   "id": "17d492eb9ca8f71"
  },
  {
   "cell_type": "code",
   "execution_count": null,
   "outputs": [],
   "source": [
    "np.save('Data/Fitted_Rates_with_Johannes_Decay_Function/rates_V_qpc_1.0mV_digital_gaussian_filter_7_with_level_5_6_as_one', result.x)"
   ],
   "metadata": {
    "collapsed": false
   },
   "id": "afae43fb39cbb280"
  }
 ],
 "metadata": {
  "kernelspec": {
   "display_name": "Python 3",
   "language": "python",
   "name": "python3"
  },
  "language_info": {
   "codemirror_mode": {
    "name": "ipython",
    "version": 2
   },
   "file_extension": ".py",
   "mimetype": "text/x-python",
   "name": "python",
   "nbconvert_exporter": "python",
   "pygments_lexer": "ipython2",
   "version": "2.7.6"
  }
 },
 "nbformat": 4,
 "nbformat_minor": 5
}
