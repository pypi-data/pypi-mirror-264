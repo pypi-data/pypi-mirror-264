{
 "cells": [
  {
   "cell_type": "code",
   "execution_count": 16,
   "metadata": {},
   "outputs": [
    {
     "data": {
      "application/vnd.jupyter.widget-view+json": {
       "model_id": "4bee9113495b4d358ba6b489e1172dc0",
       "version_major": 2,
       "version_minor": 0
      },
      "text/plain": [
       "Map(center=[52.204793, 360.121558], controls=(ZoomControl(options=['position', 'zoom_in_text', 'zoom_in_title'…"
      ]
     },
     "metadata": {},
     "output_type": "display_data"
    }
   ],
   "source": [
    "from ipyleaflet import Map, Marker\n",
    "\n",
    "center = (52.204793, 360.121558)\n",
    "\n",
    "m = Map(center=center, zoom=15)\n",
    "\n",
    "marker = Marker(location=center, draggable=True)\n",
    "m.add(marker)\n",
    "\n",
    "display(m)\n",
    "\n",
    "# Now that the marker is on the Map, you can drag it with your mouse,\n",
    "# it will automatically update the `marker.location` attribute in Python\n",
    "\n",
    "# You can also update the marker location from Python, that will update the\n",
    "# marker location on the Map:\n",
    "# marker.location = (50, 356)"
   ]
  },
  {
   "cell_type": "code",
   "execution_count": 17,
   "metadata": {},
   "outputs": [],
   "source": [
    "import ipyleaflet"
   ]
  },
  {
   "cell_type": "code",
   "execution_count": 18,
   "metadata": {},
   "outputs": [
    {
     "data": {
      "application/vnd.jupyter.widget-view+json": {
       "model_id": "e9ce42e9cfca401db42cbe90fa09b706",
       "version_major": 2,
       "version_minor": 0
      },
      "text/plain": [
       "Map(center=[40, -100], controls=(ZoomControl(options=['position', 'zoom_in_text', 'zoom_in_title', 'zoom_out_t…"
      ]
     },
     "execution_count": 18,
     "metadata": {},
     "output_type": "execute_result"
    }
   ],
   "source": [
    "m = ipyleaflet.Map(center=(40, -100), zoom=4)\n",
    "m"
   ]
  },
  {
   "cell_type": "code",
   "execution_count": 20,
   "metadata": {},
   "outputs": [
    {
     "data": {
      "application/vnd.jupyter.widget-view+json": {
       "model_id": "7eb1805f53b740feb6308624a2d67365",
       "version_major": 2,
       "version_minor": 0
      },
      "text/plain": [
       "Map(center=[40, -100], controls=(ZoomControl(options=['position', 'zoom_in_text', 'zoom_in_title', 'zoom_out_t…"
      ]
     },
     "execution_count": 20,
     "metadata": {},
     "output_type": "execute_result"
    }
   ],
   "source": [
    "m = ipyleaflet.Map(center=(40, -100), zoom=4)\n",
    "m.scroll_wheel_zoom = True\n",
    "m.add_control(ipyleaflet.FullScreenControl())\n",
    "\n",
    "m"
   ]
  },
  {
   "cell_type": "code",
   "execution_count": 22,
   "metadata": {},
   "outputs": [],
   "source": [
    "import geohub"
   ]
  },
  {
   "cell_type": "code",
   "execution_count": 23,
   "metadata": {},
   "outputs": [],
   "source": [
    "from geohub.geohub import Map"
   ]
  },
  {
   "cell_type": "code",
   "execution_count": 24,
   "metadata": {},
   "outputs": [
    {
     "data": {
      "application/vnd.jupyter.widget-view+json": {
       "model_id": "f9c7259d25f84ca880ba3e5f3b7a9146",
       "version_major": 2,
       "version_minor": 0
      },
      "text/plain": [
       "Map(center=[20, 0], controls=(ZoomControl(options=['position', 'zoom_in_text', 'zoom_in_title', 'zoom_out_text…"
      ]
     },
     "execution_count": 24,
     "metadata": {},
     "output_type": "execute_result"
    }
   ],
   "source": [
    "m=geohub.Map()\n",
    "m"
   ]
  },
  {
   "cell_type": "code",
   "execution_count": 26,
   "metadata": {},
   "outputs": [
    {
     "data": {
      "application/vnd.jupyter.widget-view+json": {
       "model_id": "990f923e7254475a86aada3d2f2fccc6",
       "version_major": 2,
       "version_minor": 0
      },
      "text/plain": [
       "Map(center=[20, 0], controls=(ZoomControl(options=['position', 'zoom_in_text', 'zoom_in_title', 'zoom_out_text…"
      ]
     },
     "execution_count": 26,
     "metadata": {},
     "output_type": "execute_result"
    }
   ],
   "source": [
    "m=geohub.Map()\n",
    "m.add_basemap('OpenTopoMap')\n",
    "m.add_layers_control()\n",
    "m"
   ]
  },
  {
   "cell_type": "code",
   "execution_count": 12,
   "metadata": {},
   "outputs": [
    {
     "data": {
      "application/vnd.jupyter.widget-view+json": {
       "model_id": "df908df785b747589453805401509fd1",
       "version_major": 2,
       "version_minor": 0
      },
      "text/plain": [
       "Map(center=[52.204793, 360.121558], controls=(ZoomControl(options=['position', 'zoom_in_text', 'zoom_in_title'…"
      ]
     },
     "execution_count": 12,
     "metadata": {},
     "output_type": "execute_result"
    }
   ],
   "source": [
    "from ipyleaflet import Map, basemaps\n",
    "\n",
    "center = (52.204793, 360.121558)    \n",
    "zoom = 5\n",
    "\n",
    "Map(basemap=basemaps.NASAGIBS.ViirsEarthAtNight2012, center=center, zoom=zoom)"
   ]
  },
  {
   "cell_type": "code",
   "execution_count": 13,
   "metadata": {},
   "outputs": [
    {
     "data": {
      "text/plain": [
       "(TileLayer(attribution='&copy; <a href=\"https://www.openstreetmap.org/copyright\">OpenStreetMap</a> contributors', base=True, max_zoom=19, min_zoom=1, name='OpenStreetMap.Mapnik', options=['attribution', 'bounds', 'detect_retina', 'max_native_zoom', 'max_zoom', 'min_native_zoom', 'min_zoom', 'no_wrap', 'tile_size', 'tms', 'zoom_offset'], url='https://tile.openstreetmap.org/{z}/{x}/{y}.png'),)"
      ]
     },
     "execution_count": 13,
     "metadata": {},
     "output_type": "execute_result"
    }
   ],
   "source": [
    "m.layers"
   ]
  },
  {
   "cell_type": "code",
   "execution_count": 14,
   "metadata": {},
   "outputs": [
    {
     "data": {
      "text/plain": [
       "(ZoomControl(options=['position', 'zoom_in_text', 'zoom_in_title', 'zoom_out_text', 'zoom_out_title']),\n",
       " AttributionControl(options=['position', 'prefix'], position='bottomright'))"
      ]
     },
     "execution_count": 14,
     "metadata": {},
     "output_type": "execute_result"
    }
   ],
   "source": [
    "m.controls"
   ]
  },
  {
   "cell_type": "code",
   "execution_count": 21,
   "metadata": {},
   "outputs": [
    {
     "data": {
      "text/html": [
       "\n",
       "        <div>\n",
       "        <style>\n",
       "/* CSS stylesheet for displaying xyzservices objects in Jupyter.*/\n",
       ".xyz-wrap {\n",
       "    --xyz-border-color: var(--jp-border-color2, #ddd);\n",
       "    --xyz-font-color2: var(--jp-content-font-color2, rgba(128, 128, 128, 1));\n",
       "    --xyz-background-color-white: var(--jp-layout-color1, white);\n",
       "    --xyz-background-color: var(--jp-layout-color2, rgba(128, 128, 128, 0.1));\n",
       "}\n",
       "\n",
       "html[theme=dark] .xyz-wrap,\n",
       "body.vscode-dark .xyz-wrap,\n",
       "body.vscode-high-contrast .xyz-wrap {\n",
       "    --xyz-border-color: #222;\n",
       "    --xyz-font-color2: rgba(255, 255, 255, 0.54);\n",
       "    --xyz-background-color-white: rgba(255, 255, 255, 1);\n",
       "    --xyz-background-color: rgba(255, 255, 255, 0.05);\n",
       "\n",
       "}\n",
       "\n",
       ".xyz-header {\n",
       "    padding-top: 6px;\n",
       "    padding-bottom: 6px;\n",
       "    margin-bottom: 4px;\n",
       "    border-bottom: solid 1px var(--xyz-border-color);\n",
       "}\n",
       "\n",
       ".xyz-header>div {\n",
       "    display: inline;\n",
       "    margin-top: 0;\n",
       "    margin-bottom: 0;\n",
       "}\n",
       "\n",
       ".xyz-obj,\n",
       ".xyz-name {\n",
       "    margin-left: 2px;\n",
       "    margin-right: 10px;\n",
       "}\n",
       "\n",
       ".xyz-obj {\n",
       "    color: var(--xyz-font-color2);\n",
       "}\n",
       "\n",
       ".xyz-attrs {\n",
       "    grid-column: 1 / -1;\n",
       "}\n",
       "\n",
       "dl.xyz-attrs {\n",
       "    padding: 0 5px 0 5px;\n",
       "    margin: 0;\n",
       "    display: grid;\n",
       "    grid-template-columns: 135px auto;\n",
       "    background-color: var(--xyz-background-color);\n",
       "}\n",
       "\n",
       ".xyz-attrs dt,\n",
       "dd {\n",
       "    padding: 0;\n",
       "    margin: 0;\n",
       "    float: left;\n",
       "    padding-right: 10px;\n",
       "    width: auto;\n",
       "}\n",
       "\n",
       ".xyz-attrs dt {\n",
       "    font-weight: normal;\n",
       "    grid-column: 1;\n",
       "}\n",
       "\n",
       ".xyz-attrs dd {\n",
       "    grid-column: 2;\n",
       "    white-space: pre-wrap;\n",
       "    word-break: break-all;\n",
       "}\n",
       "\n",
       ".xyz-details ul>li>label>span {\n",
       "    color: var(--xyz-font-color2);\n",
       "    padding-left: 10px;\n",
       "}\n",
       "\n",
       ".xyz-inside {\n",
       "    display: none;\n",
       "}\n",
       "\n",
       ".xyz-checkbox:checked~.xyz-inside {\n",
       "    display: contents;\n",
       "}\n",
       "\n",
       ".xyz-collapsible li>input {\n",
       "    display: none;\n",
       "}\n",
       "\n",
       ".xyz-collapsible>li>label {\n",
       "    cursor: pointer;\n",
       "}\n",
       "\n",
       ".xyz-collapsible>li>label:hover {\n",
       "    color: var(--xyz-font-color2);\n",
       "}\n",
       "\n",
       "ul.xyz-collapsible {\n",
       "    list-style: none!important;\n",
       "    padding-left: 20px!important;\n",
       "}\n",
       "\n",
       ".xyz-checkbox+label:before {\n",
       "    content: '►';\n",
       "    font-size: 11px;\n",
       "}\n",
       "\n",
       ".xyz-checkbox:checked+label:before {\n",
       "    content: '▼';\n",
       "}\n",
       "\n",
       ".xyz-wrap {\n",
       "    margin-bottom: 10px;\n",
       "}\n",
       "</style>\n",
       "            <div class=\"xyz-wrap\">\n",
       "                <div class=\"xyz-header\">\n",
       "                    <div class=\"xyz-obj\">xyzservices.TileProvider</div>\n",
       "                    <div class=\"xyz-name\">OpenTopoMap</div>\n",
       "                </div>\n",
       "                <div class=\"xyz-details\">\n",
       "                    <dl class=\"xyz-attrs\">\n",
       "                        <dt><span>url</span></dt><dd>https://{s}.tile.opentopomap.org/{z}/{x}/{y}.png</dd><dt><span>max_zoom</span></dt><dd>17</dd><dt><span>html_attribution</span></dt><dd>Map data: &copy; <a href=\"https://www.openstreetmap.org/copyright\">OpenStreetMap</a> contributors, <a href=\"http://viewfinderpanoramas.org\">SRTM</a> | Map style: &copy; <a href=\"https://opentopomap.org\">OpenTopoMap</a> (<a href=\"https://creativecommons.org/licenses/by-sa/3.0/\">CC-BY-SA</a>)</dd><dt><span>attribution</span></dt><dd>Map data: (C) OpenStreetMap contributors, SRTM | Map style: (C) OpenTopoMap (CC-BY-SA)</dd>\n",
       "                    </dl>\n",
       "                </div>\n",
       "            </div>\n",
       "        </div>\n",
       "        "
      ],
      "text/plain": [
       "{'url': 'https://{s}.tile.opentopomap.org/{z}/{x}/{y}.png',\n",
       " 'max_zoom': 17,\n",
       " 'html_attribution': 'Map data: &copy; <a href=\"https://www.openstreetmap.org/copyright\">OpenStreetMap</a> contributors, <a href=\"http://viewfinderpanoramas.org\">SRTM</a> | Map style: &copy; <a href=\"https://opentopomap.org\">OpenTopoMap</a> (<a href=\"https://creativecommons.org/licenses/by-sa/3.0/\">CC-BY-SA</a>)',\n",
       " 'attribution': 'Map data: (C) OpenStreetMap contributors, SRTM | Map style: (C) OpenTopoMap (CC-BY-SA)',\n",
       " 'name': 'OpenTopoMap'}"
      ]
     },
     "execution_count": 21,
     "metadata": {},
     "output_type": "execute_result"
    }
   ],
   "source": [
    "eval(\"basemaps.OpenTopoMap\")"
   ]
  }
 ],
 "metadata": {
  "kernelspec": {
   "display_name": "geo",
   "language": "python",
   "name": "python3"
  },
  "language_info": {
   "codemirror_mode": {
    "name": "ipython",
    "version": 3
   },
   "file_extension": ".py",
   "mimetype": "text/x-python",
   "name": "python",
   "nbconvert_exporter": "python",
   "pygments_lexer": "ipython3",
   "version": "3.11.7"
  }
 },
 "nbformat": 4,
 "nbformat_minor": 2
}
