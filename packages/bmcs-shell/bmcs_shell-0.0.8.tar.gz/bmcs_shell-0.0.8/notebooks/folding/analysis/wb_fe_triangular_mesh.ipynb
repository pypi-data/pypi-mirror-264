{
 "cells": [
  {
   "cell_type": "code",
   "execution_count": null,
   "metadata": {
    "pycharm": {
     "name": "#%%\n"
    }
   },
   "outputs": [],
   "source": [
    "from bmcs_shell.api import  WBShellGeometry, WBShellFETriangularMesh\n",
    "\n",
    "geo = WBShellGeometry()\n",
    "\n",
    "fe_mesh = WBShellFETriangularMesh(geo=geo, direct_mesh=True)\n",
    "\n",
    "fe_mesh.I_CDij"
   ]
  },
  {
   "cell_type": "code",
   "execution_count": null,
   "metadata": {
    "pycharm": {
     "name": "#%%\n"
    }
   },
   "outputs": [],
   "source": [
    "fe_mesh.interact()"
   ]
  },
  {
   "cell_type": "code",
   "execution_count": null,
   "metadata": {
    "pycharm": {
     "name": "#%%\n"
    }
   },
   "outputs": [],
   "source": [
    "\n",
    "import pygmsh\n",
    "\n",
    "with pygmsh.geo.Geometry() as geom:\n",
    "    lcar = 0.1\n",
    "    p1 = geom.add_point([0.0, 0.0], lcar)\n",
    "    p2 = geom.add_point([1.0, 0.0], lcar)\n",
    "    p3 = geom.add_point([1.0, 0.5], lcar)\n",
    "    p4 = geom.add_point([1.0, 1.0], lcar)\n",
    "    s1 = geom.add_bspline([p1, p2, p3, p4])\n",
    "\n",
    "    p2 = geom.add_point([0.0, 1.0], lcar)\n",
    "    p3 = geom.add_point([0.5, 1.0], lcar)\n",
    "    s2 = geom.add_spline([p4, p3, p2, p1])\n",
    "\n",
    "    ll = geom.add_curve_loop([s1, s2])\n",
    "    pl = geom.add_plane_surface(ll)\n",
    "\n",
    "    mesh = geom.generate_mesh()"
   ]
  },
  {
   "cell_type": "code",
   "execution_count": null,
   "metadata": {
    "pycharm": {
     "name": "#%%\n"
    }
   },
   "outputs": [],
   "source": [
    "mesh.points"
   ]
  },
  {
   "cell_type": "code",
   "execution_count": null,
   "metadata": {
    "pycharm": {
     "name": "#%%\n"
    }
   },
   "outputs": [],
   "source": [
    "with pygmsh.geo.Geometry() as geom:\n",
    "    geom.add_polygon(\n",
    "        [\n",
    "            [0.0, 0.0],\n",
    "            [1.0, 0],\n",
    "            [1, 1],\n",
    "        ],\n",
    "        mesh_size=1,\n",
    "    )\n",
    "    geom.add_polygon(\n",
    "        [\n",
    "            [0.0, 0.0],\n",
    "            [1.0, 0],\n",
    "            [1, 1],\n",
    "        ],\n",
    "        mesh_size=1,\n",
    "    )\n",
    "    mesh = geom.generate_mesh()\n",
    "\n",
    "mesh.points"
   ]
  },
  {
   "cell_type": "code",
   "execution_count": null,
   "metadata": {
    "pycharm": {
     "name": "#%%\n"
    }
   },
   "outputs": [],
   "source": [
    "mesh.cells"
   ]
  },
  {
   "cell_type": "code",
   "execution_count": null,
   "metadata": {
    "pycharm": {
     "name": "#%%\n"
    }
   },
   "outputs": [],
   "source": [
    "mesh.cells[2]"
   ]
  },
  {
   "cell_type": "code",
   "execution_count": null,
   "metadata": {
    "pycharm": {
     "name": "#%%\n"
    }
   },
   "outputs": [],
   "source": []
  }
 ],
 "metadata": {
  "kernelspec": {
   "display_name": "bmcs_env",
   "language": "python",
   "name": "bmcs_env"
  },
  "language_info": {
   "codemirror_mode": {
    "name": "ipython",
    "version": 3
   },
   "file_extension": ".py",
   "mimetype": "text/x-python",
   "name": "python",
   "nbconvert_exporter": "python",
   "pygments_lexer": "ipython3"
  },
  "toc": {
   "base_numbering": 1,
   "nav_menu": {},
   "number_sections": true,
   "sideBar": true,
   "skip_h1_title": false,
   "title_cell": "Table of Contents",
   "title_sidebar": "Contents",
   "toc_cell": false,
   "toc_position": {},
   "toc_section_display": true,
   "toc_window_display": false
  }
 },
 "nbformat": 4,
 "nbformat_minor": 1
}
