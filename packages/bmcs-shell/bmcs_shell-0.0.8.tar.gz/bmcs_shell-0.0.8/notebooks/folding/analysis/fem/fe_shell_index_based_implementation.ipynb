{
 "cells": [
  {
   "cell_type": "markdown",
   "id": "ea98376e-b4f7-41e5-b22b-fe927d76dc77",
   "metadata": {},
   "source": [
    "# Index based implementation of a shell element"
   ]
  },
  {
   "cell_type": "markdown",
   "id": "37a56370-5f01-42b1-acc4-4f247338f542",
   "metadata": {},
   "source": [
    "The displacement approximation is constructed using in-plane shape functions and the transversal vector given by the rotations $\\alpha$ and $\\beta$ around the orthogonal in-plane vectors $v_{a1}$ and $v_{a2}$.  "
   ]
  },
  {
   "cell_type": "markdown",
   "id": "ab52959e-23fc-4168-ae8d-eaee5391077d",
   "metadata": {},
   "source": [
    "$$\n",
    " u_a(\\eta,\\xi,\\zeta) = N_i(\\eta, \\xi) \\left( u_{ia} + \\frac{1}{2} \\zeta t_i\n",
    " \\left(v_{ia1} \\alpha_i - v_{ia2} \\beta_i \\right) \\right)\n",
    "$$"
   ]
  },
  {
   "cell_type": "markdown",
   "id": "49b46a6c-21b0-4d8b-9d8d-52a11886e12a",
   "metadata": {},
   "source": [
    "The goal is to transform the nodal values $u_{ia}$ and $\\alpha_i$ and $\\beta_i$ into a nodal vector with five values."
   ]
  },
  {
   "cell_type": "markdown",
   "id": "a250c8fd-5384-4152-a9a2-7b284bb47a1f",
   "metadata": {},
   "source": [
    "$$\n",
    "\\mathcal{V}_{iar} = [v_{ia1}, -v_{ia2} ] \\\\\n",
    "\\Phi_{ir} = [\\alpha_i, \\beta_i]\n",
    "$$"
   ]
  },
  {
   "cell_type": "markdown",
   "id": "93ca7018-ed1e-4185-bd1f-d1df1ad9883f",
   "metadata": {},
   "source": [
    "$$\n",
    " u_a(\\eta, \\xi, \\zeta) = \n",
    " N_i(\\eta, \\xi) \\, u_{ia} + N_i(\\eta, \\xi) \\, \n",
    " \\frac{1}{2} \\zeta t_i \\mathcal{V}_{iar} \\Phi_{ir}\n",
    "$$"
   ]
  },
  {
   "cell_type": "markdown",
   "id": "039cf86a-201a-45c4-9fb6-759c0795892c",
   "metadata": {},
   "source": [
    "The nodal five parameter vector $\\mathcal{U}_o$ with the $o$ denoting the three displacements $a$ and two rotations $r$ within a node is introduced using the two mappings"
   ]
  },
  {
   "cell_type": "markdown",
   "id": "0e8ff555-9abc-4263-87e7-c1b1208a33ba",
   "metadata": {},
   "source": [
    "$$\n",
    " u_{a} = \\delta_{ao} \\mathcal{U}_o \\\\\n",
    " \\Phi_{r} = \\delta_{ro} \\mathcal{U}_o\n",
    "$$\n",
    "where $\\delta_{oi}$ and $\\delta_{or}$ are the placement operators defined as\n",
    "$$\n",
    " \\delta_{ao} = \n",
    " \\left[\n",
    " \\begin{array}{ccccc}\n",
    "   1 & 0 & 0 & 0 & 0 \\\\\n",
    "   0 & 1 & 0 & 0 & 0 \\\\\n",
    "   0 & 0 & 1 & 0 & 0\n",
    " \\end{array}\n",
    " \\right]\n",
    "$$\n",
    "and \n",
    "$$\n",
    "\\delta_{ro} = \n",
    "\\left[\n",
    "\\begin{array}{ccccc}\n",
    "0 & 0 & 0 & 1 & 0 \\\\\n",
    "0 & 0 & 0 & 0 & 1\n",
    "\\end{array}\n",
    "\\right]\n",
    "$$"
   ]
  },
  {
   "cell_type": "markdown",
   "id": "79de4fbc-5ba1-4168-8902-e48ee3184707",
   "metadata": {},
   "source": [
    "Then, the displacement approximation can be rewritten to"
   ]
  },
  {
   "cell_type": "markdown",
   "id": "efe73635-e28d-41ce-8dad-fced98c4bce5",
   "metadata": {},
   "source": [
    "$$\n",
    " u_a(\\eta, \\xi, \\zeta) = \n",
    " N_i(\\eta, \\xi) \\, \\delta_{ao } \\mathcal{U}_{io} + N_i(\\eta, \\xi) \\, \n",
    " \\frac{1}{2} \\zeta \\mathcal{V}_{iar} \\delta_{ro} \\mathcal{U}_{io}\n",
    "$$"
   ]
  },
  {
   "cell_type": "markdown",
   "id": "ca6b0ec9-695e-4255-a33b-4b11b84d5f4d",
   "metadata": {},
   "source": [
    "so that, finally a decomposed mapping operator is found for all nodal parameters in the following form"
   ]
  },
  {
   "cell_type": "markdown",
   "id": "94cf4831-4f2b-48da-aedc-1381e4a73d0b",
   "metadata": {},
   "source": [
    "$$\n",
    " u_a(\\eta, \\xi, \\zeta)\n",
    " = \n",
    " \\left(\n",
    " N_i \\delta_{ao} + N_i \\frac{1}{2} t_i \\zeta \\mathcal{V}_{iar} \\delta_{ro} \\right)\n",
    " \\mathcal{U}_{io}\n",
    "$$"
   ]
  },
  {
   "cell_type": "markdown",
   "id": "a76de93a-09d9-4d10-86d1-c15dd049dad2",
   "metadata": {},
   "source": [
    "From this place, the derivation of strains and of the kinematic matrix $B$ follows the same lines as in the continuum."
   ]
  },
  {
   "cell_type": "markdown",
   "id": "2766252b",
   "metadata": {},
   "source": [
    "$$\n",
    " u_a(r, s, t)\n",
    " = \n",
    " \\left(\n",
    " N_i \\delta_{ao} + (N t)_i \\frac{1}{2} a_i \\mathcal{V}_{iav} \\delta_{vo} \\right)\n",
    " \\mathcal{U}_{io}\n",
    "$$\n",
    "\n",
    "\\begin{align}\n",
    "\\varepsilon_{ab} &= \\frac{1}{2}\n",
    "\\left(\\frac{\\partial u_a}{\\partial x_b} +\n",
    " \\frac{\\partial u_b}{\\partial x_a}\\right) \\\\\n",
    "&= \\frac{1}{2}\n",
    "\\left( \\delta_{ac} \\delta_{bd} + \\delta_{ad} \\delta_{bc}\\right)\n",
    " \\frac{\\partial u_c}{\\partial x_d}\n",
    "\\\\\n",
    "&=\n",
    " \\frac{1}{2}\n",
    "\\left( \\delta_{ac} \\delta_{bd} + \\delta_{ad} \\delta_{bc}\\right)\n",
    " \\left( \\frac{\\partial N_i}{\\partial x_d} \\delta_{co} + \\frac{\\partial (Nt)_i}{\\partial x_d} \\frac{1}{2} a_i \\mathcal{V}_{icv} \\delta_{vo} \\right) \\mathcal{U}_{io}\n",
    "\\\\\n",
    " &=\n",
    " \\frac{1}{2}\n",
    "\\left( \\delta_{ac} \\delta_{bd} + \\delta_{ad} \\delta_{bc}\\right)\n",
    "\\left( \\frac{\\partial N_i}{\\partial r_r}\\frac{\\partial r_r}{\\partial x_d} \\delta_{co} + \\frac{\\partial (Nt)_i}{\\partial r_r}\\frac{\\partial r_r}{\\partial x_d} \\frac{1}{2} a_i \\mathcal{V}_{icv} \\delta_{vo} \\right) \\mathcal{U}_{io}\n",
    "\\\\\n",
    " &=\n",
    " \\frac{1}{2}\n",
    "\\left( \\delta_{ac} \\delta_{bd} + \\delta_{ad} \\delta_{bc}\\right)\n",
    "\\left( \\frac{\\partial N_i}{\\partial r_r} \\delta_{co} + \\frac{\\partial (Nt)_i}{\\partial r_r} \\frac{1}{2} a_i \\mathcal{V}_{icv} \\delta_{vo} \\right) (J^{-1})_{rd} \\mathcal{U}_{io}\n",
    "\\end{align}\n",
    "\n",
    "$\\mathcal{U}_{io}$: the known nodal displacements for one element ($i$=num_of_nodes=3, $o$=dofs=5)\n",
    "\n",
    "$\\varepsilon_{ab}$: the evaluated strain at one Gauss point with coords $(r, s, t)$\n",
    "\n",
    "$N(r, s, t)$"
   ]
  }
 ],
 "metadata": {
  "kernelspec": {
   "display_name": "Python 3 (ipykernel)",
   "language": "python",
   "name": "python3"
  },
  "language_info": {
   "codemirror_mode": {
    "name": "ipython",
    "version": 3
   },
   "file_extension": ".py",
   "mimetype": "text/x-python",
   "name": "python",
   "nbconvert_exporter": "python",
   "pygments_lexer": "ipython3"
  }
 },
 "nbformat": 4,
 "nbformat_minor": 5
}
