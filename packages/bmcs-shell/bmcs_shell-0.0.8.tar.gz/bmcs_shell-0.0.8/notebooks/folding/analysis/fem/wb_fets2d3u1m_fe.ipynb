{
 "cells": [
  {
   "cell_type": "code",
   "execution_count": null,
   "metadata": {},
   "outputs": [],
   "source": [
    "from bmcs_shell.api import FETriangularMesh, TriXDomainFE\n",
    "import numpy as np"
   ]
  },
  {
   "cell_type": "code",
   "execution_count": null,
   "metadata": {
    "pycharm": {
     "name": "#%%\n"
    }
   },
   "outputs": [],
   "source": [
    "wb_mesh_0 = FETriangularMesh(\n",
    "    X_Id = [[1.5,2,0], [7,3.5,0], [4,7,0]],\n",
    "#    X_Id = [[-1,0,0], [1,0,0], [0,1,0]],\n",
    "#    X_Id = [[0,0,0], [1,0,0], [0,1,0]],\n",
    "    I_Fi = [[0,1,2]],\n",
    ")\n",
    "fixed_dofs_0 = [0,1,2,4,5,6,8]\n",
    "loaded_dofs_0 = [3,7]\n",
    "\n",
    "wb_mesh_1 = FETriangularMesh(\n",
    "    X_Id = [[0,-1,1], [0,1,1], [-2,0,0], [2,0,0]],\n",
    "    I_Fi = [[0,1,2], [0,3,1]],\n",
    ")\n",
    "fixed_dofs_1 = [2,5,6,7,8,10,11]\n",
    "loaded_dofs_1 = [9]\n",
    "\n",
    "wb_mesh_2 = FETriangularMesh(\n",
    "    X_Id = [[0,0,0], [2,0,0], [2,2,0], [2,0,0], [1,1,0]],\n",
    "    I_Fi = [[0,1,4], [1,2,4], [2,3,4], [3,0,4]],\n",
    ")\n",
    "\n",
    "fixed_dofs_2 = [0,1,2,5,8,9,10,11,14]\n",
    "loaded_dofs_2 = [3,6]\n",
    "\n",
    "wb_mesh_3 = FETriangularMesh(\n",
    "    X_Id = [[0,-1,1], [0,1,1], [2,0,0], [-2,0,0]],\n",
    "    I_Fi = [[0,2,1], [0,3,1]],\n",
    ")\n",
    "\n",
    "fixed_dofs_3 = [1,4,6,7,8,9,10,11]\n",
    "loaded_dofs_3 = [2,5]\n",
    "\n",
    "wb_mesh = wb_mesh_0\n",
    "fixed_dofs = fixed_dofs_0\n",
    "loaded_dofs_0 = loaded_dofs_0"
   ]
  },
  {
   "cell_type": "markdown",
   "metadata": {
    "pycharm": {
     "name": "#%% md\n"
    }
   },
   "source": [
    "# WBDomain operators"
   ]
  },
  {
   "cell_type": "code",
   "execution_count": null,
   "metadata": {
    "pycharm": {
     "name": "#%%\n"
    }
   },
   "outputs": [],
   "source": [
    "xdomain = WBXDomainFE(\n",
    "    mesh=wb_mesh\n",
    ")"
   ]
  },
  {
   "cell_type": "code",
   "execution_count": null,
   "metadata": {
    "pycharm": {
     "name": "#%%\n"
    }
   },
   "outputs": [],
   "source": [
    "xdomain.x_Eia"
   ]
  },
  {
   "cell_type": "code",
   "execution_count": null,
   "metadata": {
    "pycharm": {
     "name": "#%%\n"
    }
   },
   "outputs": [],
   "source": [
    "xdomain.F_N"
   ]
  },
  {
   "cell_type": "code",
   "execution_count": null,
   "metadata": {
    "pycharm": {
     "name": "#%%\n"
    }
   },
   "outputs": [],
   "source": [
    "xdomain.J_Emar"
   ]
  },
  {
   "cell_type": "code",
   "execution_count": null,
   "metadata": {
    "pycharm": {
     "name": "#%%\n"
    }
   },
   "outputs": [],
   "source": [
    "xdomain.det_J_Em\n"
   ]
  },
  {
   "cell_type": "code",
   "execution_count": null,
   "metadata": {
    "pycharm": {
     "name": "#%%\n"
    }
   },
   "outputs": [],
   "source": [
    "xdomain.F_area"
   ]
  },
  {
   "cell_type": "markdown",
   "metadata": {
    "pycharm": {
     "name": "#%% md\n"
    }
   },
   "source": [
    "# Kinematic mapping\n"
   ]
  },
  {
   "cell_type": "markdown",
   "metadata": {},
   "source": [
    "\\begin{align}\n",
    " u_a = L_i u_{ia}\n",
    "\\end{align}\n",
    "\\begin{align}\n",
    "\\varepsilon_{ab} &= \\frac{1}{2}\n",
    "\\left(\\frac{\\partial u_a}{\\partial x_b} +\n",
    " \\frac{\\partial u_b}{\\partial x_a}\\right) \\\\\n",
    "&= \\frac{1}{2}\n",
    "\\left( \\delta_{ac} \\delta_{bd} + \\delta_{ad} \\delta_{bc}\\right)\n",
    " \\frac{\\partial u_c}{\\partial x_d}\n",
    "\\\\\n",
    "&=\n",
    " \\frac{1}{2}\n",
    "\\left( \\delta_{ac} \\delta_{bd} + \\delta_{ad} \\delta_{bc}\\right)\n",
    " \\frac{\\partial L_i}{\\partial x_d} u_{ic}\n",
    "\\\\\n",
    " &=\n",
    " \\frac{1}{2}\n",
    "\\left( \\delta_{ac} \\delta_{bd} + \\delta_{ad} \\delta_{bc}\\right)\n",
    "\\frac{\\partial L_i}{\\partial \\eta_j} \\frac{\\partial \\eta_j}{\\partial x_d} u_{ic}\n",
    "\\end{align}"
   ]
  },
  {
   "cell_type": "markdown",
   "metadata": {},
   "source": [
    "\\begin{align}\n",
    "L_1 &= \\eta_1, L_2 = \\eta_2, L_3 = 1 - \\eta_1 - \\eta_2 \\\\\n",
    "\\frac{\\partial L_i}{\\partial \\eta_j} & =\n",
    "\\left[\n",
    "\\begin{array}{rr}\n",
    "1 & 0 \\\\ 0 & 1 \\\\ -1 &-1\n",
    "\\end{array}\n",
    "\\right]\n",
    "\\end{align}"
   ]
  },
  {
   "cell_type": "markdown",
   "metadata": {},
   "source": [
    "\\begin{align}\n",
    "x_{a} = L_i x_{ia}\n",
    "\\end{align}\n",
    "\\begin{align}\n",
    "\\frac{\\partial x_a}{\\partial \\eta_j}\n",
    "& = \\frac{\\partial L_i}{\\partial \\eta_j} x_{ia}\n",
    "\\end{align}\n",
    "\\begin{align}\n",
    "\\end{align}\n",
    "\n"
   ]
  },
  {
   "cell_type": "code",
   "execution_count": null,
   "metadata": {
    "pycharm": {
     "name": "#%%\n"
    }
   },
   "outputs": [],
   "source": [
    "x_Ia = xdomain.X_Id[...,:-1]\n",
    "x_Eia = x_Ia[xdomain.I_Ei]\n",
    "delta = np.identity(2)\n",
    "Diff1_abcd = 0.5 * (\n",
    "    np.einsum('ac,bd->abcd', delta, delta) +\n",
    "    np.einsum('ad,bc->abcd', delta, delta)\n",
    ")\n",
    "dN_mir = np.array([[[1,0],[0,1],[-1,-1]]], dtype=np.float_)\n",
    "J_Emar = np.einsum('mir,Eia->Emar', dN_mir, x_Eia)\n",
    "inv_J_Emra = np.linalg.inv(J_Emar)\n",
    "det_J_Emra = np.linalg.det(J_Emar)\n",
    "B_Eimabc = np.einsum('abcd,mir,Emrd->Eimabc',Diff1_abcd,dN_mir,inv_J_Emra)\n",
    "U_Eic = np.array([[[0,0],[1,0],[0,1]]], dtype=np.float_)\n",
    "eps_Emab = np.einsum('Eimabc,Eic->Emab', B_Eimabc, U_Eic)\n",
    "eps_Emab"
   ]
  },
  {
   "cell_type": "code",
   "execution_count": null,
   "metadata": {
    "pycharm": {
     "name": "#%%\n"
    }
   },
   "outputs": [],
   "source": [
    "B2_Eimabc = np.einsum('abcd,imr,Emrd->Eimabc',Diff1_abcd,xdomain.fets.dN_imr,inv_J_Emra)"
   ]
  },
  {
   "cell_type": "code",
   "execution_count": null,
   "metadata": {
    "pycharm": {
     "name": "#%%\n"
    }
   },
   "outputs": [],
   "source": [
    "inv_J_Emra"
   ]
  },
  {
   "cell_type": "code",
   "execution_count": null,
   "metadata": {
    "pycharm": {
     "name": "#%%\n"
    }
   },
   "outputs": [],
   "source": [
    "eps2_Emab = np.einsum('Eimabc,Eic->Emab', xdomain.B1_Eimabc, U_Eic)\n",
    "eps2_Emab\n",
    "\n"
   ]
  },
  {
   "cell_type": "markdown",
   "metadata": {
    "pycharm": {
     "name": "#%% md\n"
    }
   },
   "source": [
    "# Verification using standard vectorial CST formulation"
   ]
  },
  {
   "cell_type": "code",
   "execution_count": null,
   "metadata": {
    "pycharm": {
     "name": "#%%\n"
    }
   },
   "outputs": [],
   "source": [
    "E_ = 70e+3\n",
    "nu_ = 0.3"
   ]
  },
  {
   "cell_type": "code",
   "execution_count": null,
   "metadata": {
    "pycharm": {
     "name": "#%%\n"
    }
   },
   "outputs": [],
   "source": [
    "xdomain.x_Eia"
   ]
  },
  {
   "cell_type": "code",
   "execution_count": null,
   "metadata": {
    "pycharm": {
     "name": "#%%\n"
    }
   },
   "outputs": [],
   "source": [
    "xx_Ei, yy_Ei = np.einsum('...a->a...', xdomain.x_Eia)\n",
    "xx_Ei, yy_Ei"
   ]
  },
  {
   "cell_type": "code",
   "execution_count": null,
   "metadata": {
    "pycharm": {
     "name": "#%%\n"
    }
   },
   "outputs": [],
   "source": [
    "y23 = yy_Ei[:,1] - yy_Ei[:,2]\n",
    "y31 = yy_Ei[:,2] - yy_Ei[:,0]\n",
    "y12 = yy_Ei[:,0] - yy_Ei[:,1]\n",
    "x32 = xx_Ei[:,2] - xx_Ei[:,1]\n",
    "x13 = xx_Ei[:,0] - xx_Ei[:,2]\n",
    "x21 = xx_Ei[:,1] - xx_Ei[:,0]\n",
    "x23 = -x32\n",
    "y32 = -y23\n",
    "y13 = -y31\n",
    "\n",
    "J_Ear = np.array([[x13,y13],[x23,y23]])\n",
    "J_Ear = np.einsum('ar...->...ar', J_Ear)\n",
    "J_Ear"
   ]
  },
  {
   "cell_type": "code",
   "execution_count": null,
   "metadata": {
    "pycharm": {
     "name": "#%%\n"
    }
   },
   "outputs": [],
   "source": [
    "inv_J_Ear = np.linalg.inv(J_Ear)\n",
    "det_J_E = np.linalg.det(J_Ear)\n",
    "J_Ear, det_J_E"
   ]
  },
  {
   "cell_type": "code",
   "execution_count": null,
   "metadata": {
    "pycharm": {
     "name": "#%%\n"
    }
   },
   "outputs": [],
   "source": [
    "X_Eid = xdomain.X_Id[xdomain.I_Ei]\n",
    "J_Emar = np.einsum('imr,Eia->Emra', xdomain.fets.dN_imr, X_Eid[...,:-1])\n",
    "#J_Emar, xdomain.det_J_Em, xdomain.J_Emar"
   ]
  },
  {
   "cell_type": "code",
   "execution_count": null,
   "metadata": {
    "pycharm": {
     "name": "#%%\n"
    }
   },
   "outputs": [],
   "source": [
    "O = np.zeros_like(y23)\n",
    "B_soE = np.array(\n",
    "    [\n",
    "        [y23, O, y31, O, y12, O],\n",
    "        [O, x32, O, x13, O, x21],\n",
    "        [x32,y23,x13,y31,x21,y12]\n",
    "    ]\n",
    ")\n",
    "\n",
    "B_Eso = np.einsum('soE,E->Eso', B_soE, 1/det_J_E )"
   ]
  },
  {
   "cell_type": "code",
   "execution_count": null,
   "metadata": {
    "pycharm": {
     "name": "#%%\n"
    }
   },
   "outputs": [],
   "source": [
    "B_Eso"
   ]
  },
  {
   "cell_type": "code",
   "execution_count": null,
   "metadata": {
    "pycharm": {
     "name": "#%%\n"
    }
   },
   "outputs": [],
   "source": [
    "np.einsum('Eso,Eo->s', B_Eso, U_Eic.reshape(-1,6))"
   ]
  },
  {
   "cell_type": "code",
   "execution_count": null,
   "metadata": {
    "pycharm": {
     "name": "#%%\n"
    }
   },
   "outputs": [],
   "source": [
    "D_st = E_ / (1 - nu_**2) * np.array([[1, nu_, 0], [nu_, 1, 0], [0, 0, 0.5*(1-nu_)]])"
   ]
  },
  {
   "cell_type": "code",
   "execution_count": null,
   "metadata": {
    "pycharm": {
     "name": "#%%\n"
    }
   },
   "outputs": [],
   "source": [
    "k2_ij = np.einsum('Eso,st,Etp,E->Eop', B_Eso, D_st, B_Eso, det_J_E) / 2"
   ]
  },
  {
   "cell_type": "code",
   "execution_count": null,
   "metadata": {
    "pycharm": {
     "name": "#%%\n"
    }
   },
   "outputs": [],
   "source": [
    "k2_ij\n",
    "k2_ij"
   ]
  },
  {
   "cell_type": "code",
   "execution_count": null,
   "metadata": {
    "pycharm": {
     "name": "#%%\n"
    }
   },
   "outputs": [],
   "source": [
    "K_Eiejf = k2_ij.reshape(-1,3,2,3,2)"
   ]
  },
  {
   "cell_type": "code",
   "execution_count": null,
   "metadata": {
    "pycharm": {
     "name": "#%%\n"
    }
   },
   "outputs": [],
   "source": [
    "K_Eiajb = xdomain.xk2K(K_Eiejf)\n",
    "\n",
    "K_Eiajb.reshape(-1,9,9)"
   ]
  },
  {
   "cell_type": "markdown",
   "metadata": {
    "pycharm": {
     "name": "#%% md\n"
    }
   },
   "source": [
    "# Patch test"
   ]
  },
  {
   "cell_type": "code",
   "execution_count": null,
   "metadata": {
    "pycharm": {
     "name": "#%%\n"
    }
   },
   "outputs": [],
   "source": [
    "from bmcs_shell.folding.vmats2D_elastic import MATS2DElastic"
   ]
  },
  {
   "cell_type": "code",
   "execution_count": null,
   "metadata": {},
   "outputs": [],
   "source": [
    "m = MATS2DElastic()"
   ]
  },
  {
   "cell_type": "markdown",
   "metadata": {
    "pycharm": {
     "name": "#%% md\n"
    }
   },
   "source": []
  },
  {
   "cell_type": "code",
   "execution_count": null,
   "metadata": {},
   "outputs": [],
   "source": [
    "from ibvpy.bcond import BCDof"
   ]
  },
  {
   "cell_type": "code",
   "execution_count": null,
   "metadata": {},
   "outputs": [],
   "source": [
    "u_cntl = 1\n",
    "fixed_dofs = [0,1,2,5,6,7,8]\n",
    "loaded_dofs = [3]\n",
    "# fixed_dofs = [0,1,2,5,8,9,10,11,14]\n",
    "# loaded_dofs = [3,6]\n",
    "bc_fixed = [BCDof(var= 'u', dof=dof, value=0 )\n",
    "           for dof in fixed_dofs]\n",
    "bc_loaded = [BCDof(var= 'f', dof=dof, value=u_cntl )\n",
    "           for dof in loaded_dofs]"
   ]
  },
  {
   "cell_type": "code",
   "execution_count": null,
   "metadata": {},
   "outputs": [],
   "source": [
    "from ibvpy.sim.tstep_bc import TStepBC\n",
    "from ibvpy.mats.viz3d_scalar_field import \\\n",
    "    Vis3DStateField, Viz3DScalarField"
   ]
  },
  {
   "cell_type": "code",
   "execution_count": null,
   "metadata": {},
   "outputs": [],
   "source": [
    "from ibvpy.mats.viz3d_tensor_field import \\\n",
    "    Vis3DTensorField, Viz3DTensorField"
   ]
  },
  {
   "cell_type": "code",
   "execution_count": null,
   "metadata": {},
   "outputs": [],
   "source": [
    "ts = TStepBC(\n",
    "    domains=[(xdomain, m)],\n",
    "    bc=bc_fixed + bc_loaded,\n",
    ")\n",
    "\n",
    "# m.hist.vis_record = {\n",
    "#     'strain': Vis3DTensorField(var='eps_ab'),\n",
    "# #     'stress': Vis3DTensorField(var='sig_ab'),\n",
    "#    'damage': Vis3DStateField(var='omega_a'),\n",
    "#     #        'kinematic hardening': Vis3DStateField(var='z_a')\n",
    "# }"
   ]
  },
  {
   "cell_type": "markdown",
   "metadata": {
    "pycharm": {
     "name": "#%% md\n"
    }
   },
   "source": [
    "# Transformation global-local test"
   ]
  },
  {
   "cell_type": "markdown",
   "metadata": {},
   "source": [
    "\\begin{align}\n",
    "u_f &= T_{fb} U_b \\\\\n",
    "f_e &= k_{ef} u_f \\\\\n",
    "F_a &= T_{ea} f_e\n",
    "\\end{align}\n",
    "\\begin{align}\n",
    " F_a = K_{ab} U_b = T_{ea} k_{ef} T_{fb} U_b\n",
    "\\end{align}"
   ]
  },
  {
   "cell_type": "code",
   "execution_count": null,
   "metadata": {},
   "outputs": [],
   "source": [
    "ts.fe_domain[0].tmodel"
   ]
  },
  {
   "cell_type": "code",
   "execution_count": null,
   "metadata": {},
   "outputs": [],
   "source": [
    "ts.fe_domain[0]"
   ]
  },
  {
   "cell_type": "code",
   "execution_count": null,
   "metadata": {},
   "outputs": [],
   "source": [
    "s = ts.sim\n",
    "s.tloop.k_max = 10\n",
    "s.tline.step = 0.1\n",
    "s.tloop.verbose = True\n",
    "s.run()"
   ]
  },
  {
   "cell_type": "code",
   "execution_count": null,
   "metadata": {
    "pycharm": {
     "name": "#%%\n"
    }
   },
   "outputs": [],
   "source": [
    "import numpy as np\n",
    "F_to = ts.hist.F_t\n",
    "U_to = ts.hist.U_t\n",
    "F_loaded = np.sum(F_to[:, loaded_dofs], axis=-1)\n",
    "F_fixed = np.sum(F_to[:, fixed_dofs], axis=-1)\n",
    "U_loaded = np.average(U_to[:, loaded_dofs], axis=-1)\n"
   ]
  },
  {
   "cell_type": "code",
   "execution_count": null,
   "metadata": {},
   "outputs": [],
   "source": [
    "F_loaded\n",
    "U_loaded\n"
   ]
  },
  {
   "cell_type": "code",
   "execution_count": null,
   "metadata": {
    "pycharm": {
     "name": "#%%\n"
    }
   },
   "outputs": [],
   "source": [
    "import matplotlib.pylab as plt\n",
    "plt.plot(U_loaded, F_loaded)\n",
    "\n",
    "\n"
   ]
  },
  {
   "cell_type": "markdown",
   "metadata": {},
   "source": [
    "# Uniaxial tension test"
   ]
  },
  {
   "cell_type": "code",
   "execution_count": null,
   "metadata": {},
   "outputs": [],
   "source": [
    "wb_mesh = FETriangularMesh(\n",
    "    X_Id = [[0,0,0], [1000,0,0], [1000,1000,0],[0,1000,0]],\n",
    "    I_Fi = [[0,1,2], [0,2,3]],\n",
    ")\n",
    "fixed_dofs = [0,1,2,4,5,7,8,9,11]\n",
    "loaded_dofs = [3,6]"
   ]
  },
  {
   "cell_type": "code",
   "execution_count": null,
   "metadata": {},
   "outputs": [],
   "source": [
    "xdomain = XWBDomain(\n",
    "    integ_factor = 1,\n",
    "    mesh=wb_mesh\n",
    ")"
   ]
  },
  {
   "cell_type": "code",
   "execution_count": null,
   "metadata": {},
   "outputs": [],
   "source": [
    "tmodel = MATS2DElastic(E_=1, nu=00)"
   ]
  },
  {
   "cell_type": "code",
   "execution_count": null,
   "metadata": {},
   "outputs": [],
   "source": [
    "u_cntl = 5000\n",
    "bc_fixed = [BCDof(var= 'u', dof=dof, value=0 )\n",
    "           for dof in fixed_dofs]\n",
    "bc_loaded = [BCDof(var= 'f', dof=dof, value=u_cntl )\n",
    "           for dof in loaded_dofs]"
   ]
  },
  {
   "cell_type": "code",
   "execution_count": null,
   "metadata": {},
   "outputs": [],
   "source": [
    "ts = TStepBC(\n",
    "    domains=[(xdomain, tmodel)],\n",
    "    bc=bc_fixed + bc_loaded,\n",
    ")"
   ]
  },
  {
   "cell_type": "code",
   "execution_count": null,
   "metadata": {},
   "outputs": [],
   "source": [
    "s = ts.sim\n",
    "s.tloop.k_max = 10\n",
    "s.tline.step = 1\n",
    "s.tloop.verbose = True\n",
    "s.run()"
   ]
  },
  {
   "cell_type": "code",
   "execution_count": null,
   "metadata": {},
   "outputs": [],
   "source": [
    "U1 = ts.hist.U_t[-1]\n",
    "print(U1)\n",
    "eps1 = ts.fe_domain[0].xdomain.map_U_to_field(U1)\n",
    "sig1, _ = ts.fe_domain[0].tmodel.get_corr_pred(eps1,1)\n",
    "sig_x, sig_y, tau = sig1.T\n",
    "sig_ab = np.einsum('ab...->...ab', np.array([[sig_x, tau], [tau, sig_y]], dtype=np.float))\n",
    "sig_val, sig_dir = np.linalg.eig(sig_ab)\n",
    "[np.min(sig_val), np.max(sig_val)]\n"
   ]
  },
  {
   "cell_type": "code",
   "execution_count": null,
   "metadata": {},
   "outputs": [],
   "source": [
    "sig1"
   ]
  },
  {
   "cell_type": "code",
   "execution_count": null,
   "metadata": {},
   "outputs": [],
   "source": [
    "sig_val"
   ]
  },
  {
   "cell_type": "code",
   "execution_count": null,
   "metadata": {},
   "outputs": [],
   "source": []
  },
  {
   "cell_type": "code",
   "execution_count": null,
   "metadata": {},
   "outputs": [],
   "source": []
  }
 ],
 "metadata": {
  "kernelspec": {
   "display_name": "Python 3 (ipykernel)",
   "language": "python",
   "name": "python3"
  },
  "language_info": {
   "codemirror_mode": {
    "name": "ipython",
    "version": 3
   },
   "file_extension": ".py",
   "mimetype": "text/x-python",
   "name": "python",
   "nbconvert_exporter": "python",
   "pygments_lexer": "ipython3"
  },
  "toc": {
   "base_numbering": 1,
   "nav_menu": {},
   "number_sections": true,
   "sideBar": true,
   "skip_h1_title": false,
   "title_cell": "Table of Contents",
   "title_sidebar": "Contents",
   "toc_cell": false,
   "toc_position": {},
   "toc_section_display": true,
   "toc_window_display": false
  }
 },
 "nbformat": 4,
 "nbformat_minor": 1
}
