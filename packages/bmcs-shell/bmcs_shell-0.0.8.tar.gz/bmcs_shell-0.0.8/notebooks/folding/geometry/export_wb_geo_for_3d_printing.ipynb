{
 "cells": [
  {
   "cell_type": "code",
   "execution_count": null,
   "id": "eb118c0e",
   "metadata": {
    "pycharm": {
     "name": "#%%\n"
    }
   },
   "outputs": [],
   "source": [
    "%matplotlib widget\n",
    "from bmcs_shell.api import WBCell5Param, WBTessellation5PBeta, WBNumTessellation, WBNumTessellationInvest, WBTessellationBase, WBNumTessellationBase, WBCell5ParamBeta, WBTessellation4P, WBCell4Param\n",
    "import numpy as np\n",
    "import matplotlib.pyplot as plt"
   ]
  },
  {
   "cell_type": "markdown",
   "id": "489ae395",
   "metadata": {
    "pycharm": {
     "name": "#%% md\n"
    }
   },
   "source": [
    "## Generate, extrude and subtract the geometry using gmsh"
   ]
  },
  {
   "cell_type": "code",
   "execution_count": null,
   "id": "e32f6ed5",
   "metadata": {
    "pycharm": {
     "name": "#%%\n"
    }
   },
   "outputs": [],
   "source": [
    "params = [{'a': 50.0, 'b': 488.7096992126691, 'c': 219.35035456988965, 'gamma': 1.1474627907495765}, {'a': 75.0, 'b': 490.49365795443356, 'c': 201.23489828631506, 'gamma': 1.0544352782787323}, {'a': 100.0, 'b': 493.47789764898204, 'c': 188.08268555670807, 'gamma': 0.9231728219305352, 'n_phi_plus': 3}, {'a': 125.0, 'b': 498.98924772523196, 'c': 184.16057467325248, 'gamma': 0.7460842175215365, 'n_phi_plus': 3}]\n",
    "wbt = WBTessellation4P(\n",
    "                        **params[1],\n",
    "                         n_x_plus=2,\n",
    "    n_phi_plus=3,\n",
    "                         wireframe_width=5,\n",
    "#                          trim_half_cells_along_y=True,\n",
    "#                          trim_half_cells_along_x=True,\n",
    "#                          align_outer_nodes_along_x=True,\n",
    ")\n",
    "wbt.gamma = np.pi/2-1e-3\n",
    "wbt.interact()"
   ]
  },
  {
   "cell_type": "code",
   "execution_count": null,
   "id": "572b7484",
   "metadata": {
    "pycharm": {
     "name": "#%%\n"
    }
   },
   "outputs": [],
   "source": [
    "wbt.plot_folding_pattern(trimmed=False)"
   ]
  },
  {
   "cell_type": "code",
   "execution_count": null,
   "id": "114b5487",
   "metadata": {
    "pycharm": {
     "name": "#%%\n"
    }
   },
   "outputs": [],
   "source": [
    "I_Fi = wbt.I_Fi\n",
    "# I_Fi"
   ]
  },
  {
   "cell_type": "code",
   "execution_count": null,
   "id": "48a1f455",
   "metadata": {
    "pycharm": {
     "name": "#%%\n"
    }
   },
   "outputs": [],
   "source": [
    "X_Ia = np.round(wbt.X_Ia, 0)\n",
    "# X_Ia"
   ]
  },
  {
   "cell_type": "markdown",
   "id": "6f7687a4",
   "metadata": {
    "pycharm": {
     "name": "#%% md\n"
    }
   },
   "source": [
    "### Basic mesh generation:"
   ]
  },
  {
   "cell_type": "code",
   "execution_count": null,
   "id": "eb6e2ff0",
   "metadata": {
    "pycharm": {
     "name": "#%%\n"
    }
   },
   "outputs": [],
   "source": [
    "# See https://gitlab.onelab.info/gmsh/gmsh/-/blob/master/tutorials/python/t11.py\n",
    "# dimTag means tuple of (dimention, tag). Where tag is like an ID\n",
    "\n",
    "import gmsh\n",
    "import sys\n",
    "import numpy as np\n",
    "import bmcs_utils.api as bu\n",
    "\n",
    "gmsh.initialize()\n",
    "gmsh.model.add(\"t11\")\n",
    "mesh_size = 30\n",
    "\n",
    "xpoints = np.array([gmsh.model.occ.addPoint(*X_a, mesh_size) for X_a in X_Ia])\n",
    "\n",
    "for I_i in I_Fi:\n",
    "    xpoints1 = xpoints[I_i]\n",
    "    curves = [gmsh.model.occ.addLine(xpoints1[k], xpoints1[k + 1]) for k in range(len(xpoints1) - 1)] + [gmsh.model.occ.addLine(xpoints1[-1], xpoints1[0])]\n",
    "    cl = gmsh.model.occ.addCurveLoop(curves)\n",
    "    pl = gmsh.model.occ.addPlaneSurface([cl])\n",
    "\n",
    "# Meshing ---------------------------------------------------- ------------------------------------------------\n",
    "\n",
    "gmsh.model.occ.synchronize()\n",
    "\n",
    "gmsh.model.mesh.generate(2)\n",
    "# gmsh.model.mesh.recombine()\n",
    "# gmsh.option.setNumber(\"Mesh.SubdivisionAlgorithm\", 1)\n",
    "# gmsh.model.mesh.refine()\n",
    "\n",
    "# Launch the GUI to see the results:\n",
    "if '-nopopup' not in sys.argv:\n",
    "    gmsh.fltk.run()\n",
    "elem_types, elem_tags, node_tags = gmsh.model.mesh.getElements()\n",
    "print(gmsh.model.mesh.getElements())\n",
    "\n",
    "gmsh.finalize()"
   ]
  },
  {
   "cell_type": "markdown",
   "id": "e5cfd45c",
   "metadata": {
    "pycharm": {
     "name": "#%% md\n"
    }
   },
   "source": [
    "### Flipping negative normals to unite all normals point (upwards)"
   ]
  },
  {
   "cell_type": "code",
   "execution_count": null,
   "id": "25503424",
   "metadata": {
    "pycharm": {
     "name": "#%%\n"
    }
   },
   "outputs": [],
   "source": [
    "X_Fia = X_Ia[I_Fi]\n",
    "To_flip_F = np.cross(X_Fia[:, 1, :] - X_Fia[:, 0, :], X_Fia[:, 2, :] - X_Fia[:, 0, :])[:, 2] < 0 # all items where z of normal is negative\n",
    "To_flip_F"
   ]
  },
  {
   "cell_type": "code",
   "execution_count": null,
   "id": "73028872",
   "metadata": {
    "pycharm": {
     "name": "#%%\n"
    }
   },
   "outputs": [],
   "source": [
    "I_Fi[To_flip_F] = np.flip(I_Fi[To_flip_F], axis=1)\n",
    "I_Fi"
   ]
  },
  {
   "cell_type": "code",
   "execution_count": null,
   "id": "2ee9772a",
   "metadata": {
    "pycharm": {
     "name": "#%%\n"
    }
   },
   "outputs": [],
   "source": [
    "I_Li = np.vstack(((I_Fi[:, (0, 1)]), (I_Fi[:, (0, 2)]), (I_Fi[:, (1, 2)])))\n",
    "I_Li = np.sort(I_Li, axis=1)\n",
    "I_Li = np.unique(I_Li, axis=0)\n",
    "I_Li"
   ]
  },
  {
   "cell_type": "markdown",
   "id": "05c47d61",
   "metadata": {
    "pycharm": {
     "name": "#%% md\n"
    }
   },
   "source": [
    "### Verify section"
   ]
  },
  {
   "cell_type": "code",
   "execution_count": null,
   "id": "d9f5b5c6",
   "metadata": {
    "pycharm": {
     "name": "#%%\n"
    }
   },
   "outputs": [],
   "source": [
    "import bmcs_utils.api as bu\n",
    "import k3d\n",
    "\n",
    "X_Lia = X_Ia[I_Li]\n",
    "path_2a = X_Lia[0, ...]\n",
    "\n",
    "path = path_2a\n",
    "points = np.array([[2, 2, 0], [-2, 2, 0], [-2, -2, 0], [2, -2, 0]])\n",
    "\n",
    "points = bu.Extruder.transform_first_contour(path, points, adapt_dimensions=True)\n",
    "\n",
    "print('path=', path)\n",
    "print('points=', points)\n",
    "\n",
    "plot = k3d.plot()\n",
    "\n",
    "mesh = k3d.lines(points.astype(np.float32), [[0, 1], [1, 2], [2, 3], [3, 0]], color=0xc73737, indices_type='segment', width=0.5)\n",
    "plot += mesh\n",
    "\n",
    "mesh = k3d.lines(path.astype(np.float32), [[0, 1]], color=0, width=0.5)\n",
    "plot += mesh\n",
    "plot"
   ]
  },
  {
   "cell_type": "code",
   "execution_count": null,
   "id": "acae8cef",
   "metadata": {
    "pycharm": {
     "name": "#%%\n"
    }
   },
   "outputs": [],
   "source": [
    "from scipy.spatial.transform import Rotation\n",
    "\n",
    "def get_rot_matrix_around_vector(v, deg_angle):\n",
    "    deg_angle = np.deg2rad(deg_angle)\n",
    "    \n",
    "    c = np.cos(deg_angle)\n",
    "    s = np.sin(deg_angle)\n",
    "    v_norm = v / np.sqrt(sum(v * v))\n",
    "\n",
    "    # See: Rotation matrix from axis and angle (https://en.wikipedia.org/wiki/Rotation_matrix)\n",
    "    cross_product_matrix = np.cross(v_norm, np.identity(v_norm.shape[0]) * -1)\n",
    "    return c * np.identity(3) + s * cross_product_matrix + (1 - c) * np.outer(v_norm, v_norm)\n",
    "\n",
    "def rotate_points_around_vector(cs_points, vector, deg_angle, center_of_rotation=None):\n",
    "    if center_of_rotation is None:\n",
    "        cs_points_center = np.sum(cs_points, axis=0)/cs_points.shape[0]\n",
    "    else:\n",
    "        cs_points_center = center_of_rotation\n",
    "    cs_points_at_origin = cs_points - cs_points_center\n",
    "\n",
    "    rot_around_path = get_rot_matrix_around_vector(vector, deg_angle)\n",
    "    r = Rotation.from_matrix(rot_around_path)\n",
    "    cs_points_at_origin = r.apply(cs_points_at_origin)\n",
    "\n",
    "    cs_points = cs_points_at_origin + cs_points_center\n",
    "    return cs_points"
   ]
  },
  {
   "cell_type": "code",
   "execution_count": null,
   "id": "7ecbc619",
   "metadata": {
    "pycharm": {
     "name": "#%%\n"
    }
   },
   "outputs": [],
   "source": [
    "# Test rotation\n",
    "cs_points = np.array([[1, 0, 0], [0, 2, 0], [-1, 0, 0]])\n",
    "vec = np.array([[1, 1, 0], [2, 2, 0]])\n",
    "cs_points = bu.Extruder.transform_first_contour(vec, cs_points, adapt_dimensions=True)\n",
    "cs_points_rotated = rotate_points_around_vector(cs_points, vec[1, :] - vec[0, :], 90, center_of_rotation=(cs_points[0, :] + cs_points[2, :])/2)\n",
    "cs_points_rotated\n",
    "\n",
    "import k3d\n",
    "plot = k3d.plot()\n",
    "\n",
    "mesh = k3d.lines(cs_points.astype(np.float32), [[0, 1], [1, 2], [2, 0]], color=0x072aca, indices_type='segment', width=0.07)\n",
    "plot += mesh\n",
    "\n",
    "mesh = k3d.lines(cs_points_rotated.astype(np.float32), [[0, 1], [1, 2], [2, 0]], color=0xc73737, indices_type='segment', width=0.03)\n",
    "plot += mesh\n",
    "\n",
    "mesh = k3d.lines(vec, [[0, 1]], color=0, width=0.1)\n",
    "plot += mesh\n",
    "plot"
   ]
  },
  {
   "cell_type": "code",
   "execution_count": null,
   "id": "bde98c09",
   "metadata": {
    "pycharm": {
     "name": "#%%\n"
    }
   },
   "outputs": [],
   "source": [
    "diff_vec = path_2a[1, :] - path_2a[0, :]\n",
    "path_2a[0, :] = path_2a[0, :] - 0.001 * diff_vec\n",
    "path_2a[1, :] = path_2a[1, :] + 0.001 * diff_vec"
   ]
  },
  {
   "cell_type": "code",
   "execution_count": null,
   "id": "8b9739a3",
   "metadata": {
    "pycharm": {
     "name": "#%%\n"
    }
   },
   "outputs": [],
   "source": [
    "def create_creases(wbt, X_Ia, occ, mesh_size, thickness, fold_thickness, valley=True):\n",
    "    creases = []\n",
    "    \n",
    "    X_Lia = X_Ia[wbt.I_V_Li] if valley else X_Ia[wbt.I_M_Li]\n",
    "    lines_num = X_Lia.shape[0]\n",
    "\n",
    "    for l in range(lines_num):\n",
    "        path_2a = X_Lia[l, ...]\n",
    "\n",
    "        # Pipe cross-section\n",
    "        if valley:\n",
    "            cs_points = np.array([[thickness-fold_thickness, 0, 0], [0, thickness - fold_thickness, 0], [-(thickness - fold_thickness), 0, 0]])\n",
    "        else:\n",
    "            cs_points = np.array([[thickness-fold_thickness, thickness, 0], [0, fold_thickness, 0], [-(thickness - fold_thickness), thickness, 0]])\n",
    "        cs_points = bu.Extruder.transform_first_contour(path_2a, cs_points, adapt_dimensions=True)\n",
    "\n",
    "        # Rotate the triangle around its base if it points down 90, 180 (90+90), 270 (180+90)\n",
    "        # (for a square or circle, this is not needed)\n",
    "        center_of_rotation = (cs_points[0, :] + cs_points[2, :])/2\n",
    "        for angle in range(3):\n",
    "            if np.any(cs_points[:, 2] < -0.001):\n",
    "                if valley:\n",
    "                    cs_points = rotate_points_around_vector(cs_points, path_2a[1, :] - path_2a[0, :], 90, center_of_rotation)\n",
    "                else:\n",
    "                    cs_points[:, 2] = -cs_points[:, 2]\n",
    "            else:\n",
    "                break\n",
    "\n",
    "        points = []\n",
    "        for point in cs_points:\n",
    "            points.append(occ.addPoint(*point, mesh_size))\n",
    "        lines = [occ.addLine(points[k], points[k + 1]) for k in range(len(points) - 1)] + [occ.addLine(points[-1], points[0])]\n",
    "        cl = occ.addCurveLoop(lines)\n",
    "        pl = occ.addPlaneSurface([cl])\n",
    "\n",
    "        # Pipe path (wire)\n",
    "        points = []\n",
    "        points.append(occ.addPoint(*path_2a[0, :], mesh_size))\n",
    "        points.append(occ.addPoint(*path_2a[1, :], mesh_size))\n",
    "        line = occ.addLine(points[0], points[1])\n",
    "        wire = occ.addWire(curveTags = [line])\n",
    "        creases.append(occ.addPipe(dimTags = [(2, pl)], wireTag=wire)[0])\n",
    "    return creases"
   ]
  },
  {
   "cell_type": "code",
   "execution_count": null,
   "id": "bd9287ef",
   "metadata": {
    "pycharm": {
     "name": "#%%\n"
    }
   },
   "outputs": [],
   "source": [
    "# See https://gitlab.onelab.info/gmsh/gmsh/-/blob/master/tutorials/python/t11.py\n",
    "# dimTag means tuple of (dimention, tag). Where tag is like an ID\n",
    "\n",
    "import gmsh\n",
    "import sys\n",
    "import numpy as np\n",
    "import bmcs_utils.api as bu\n",
    "from scipy.spatial.transform import Rotation\n",
    "\n",
    "# Each dimension Dim has Tags refering to objects starting from 1, \n",
    "#  (a point is dim=1, a line, surface or more is dim=2 and a volume is dim=3)\n",
    "\n",
    "gmsh.initialize()\n",
    "gmsh.model.add(\"t11\")\n",
    "mesh_size = 0\n",
    "\n",
    "thickness = 2\n",
    "fold_thickness = 0.6\n",
    "\n",
    "X_Ia = wbt.X_Ia\n",
    "I_Fi = wbt.I_Fi\n",
    "width = np.max(X_Ia[I_Fi][:, :, 0]) - np.min(X_Ia[I_Fi][:, :, 0])\n",
    "length = np.max(X_Ia[I_Fi][:, :, 1]) - np.min(X_Ia[I_Fi][:, :, 1])\n",
    "model_max_dim = 200\n",
    "pattern_max_dim = max(width, length)\n",
    "scale_factor = model_max_dim/pattern_max_dim\n",
    "X_Ia = np.copy(wbt.X_Ia) * scale_factor\n",
    "X_Ia[:, 2] = 0\n",
    "I_Fi = wbt.I_Fi\n",
    "\n",
    "# Adding creases to subtract later: ---------------------------------------------------------------\n",
    "# creases_valley = create_creases(wbt, X_Ia, gmsh.model.occ, mesh_size, thickness, fold_thickness, valley=True)\n",
    "# gmsh.model.occ.remove(dimTags=gmsh.model.occ.getEntities(dim=2), recursive=True)\n",
    "# gmsh.model.occ.fuse(creases_valley, creases_valley)\n",
    "\n",
    "creases_mountain = create_creases(wbt, X_Ia, gmsh.model.occ, mesh_size, thickness, fold_thickness, valley=False)\n",
    "gmsh.model.occ.remove(dimTags=gmsh.model.occ.getEntities(dim=2), recursive=True)\n",
    "gmsh.model.occ.fuse(creases_mountain, creases_mountain)[0]\n",
    "\n",
    "creases = gmsh.model.occ.getEntities(dim=3)\n",
    "\n",
    "# print('creases_valley', creases_valley)\n",
    "print('creases_mountain', creases_mountain)\n",
    "print('creases', creases)\n",
    "print('vols', gmsh.model.occ.getEntities(dim=3))\n",
    "\n",
    "# Adding outer area of the pattern with extrusion: ------------------------------------------------\n",
    "\n",
    "# xpoints = np.array([gmsh.model.occ.addPoint(*X_a, mesh_size) for X_a in X_Ia])\n",
    "# wb_facets = []\n",
    "# for I_i in I_Fi:\n",
    "#     xpoints1 = xpoints[I_i]\n",
    "#     curves = [gmsh.model.occ.addLine(xpoints1[k], xpoints1[k + 1]) for k in range(len(xpoints1) - 1)] + [gmsh.model.occ.addLine(xpoints1[-1], xpoints1[0])]\n",
    "\n",
    "#     cl = gmsh.model.occ.addCurveLoop(curves)\n",
    "#     pl = gmsh.model.occ.addPlaneSurface([cl])\n",
    "#     wb_facets.append(pl)\n",
    "    \n",
    "# # #     To generate quadrangles instead of triangles, we can simply add\n",
    "# #     gmsh.model.mesh.setRecombine(1, pl)\n",
    "\n",
    "# # pg = gmsh.model.addPhysicalGroup(dim = 3, tags=wb_facets, name='pg')\n",
    "# # print(pg)\n",
    "\n",
    "# # Extrude (extrude is already a volume or CAD object)\n",
    "# ext_facets = []\n",
    "# for wb_facet in wb_facets:\n",
    "#     ext_vol = gmsh.model.occ.extrude(dimTags=[(2, wb_facet)], dx=0, dy=0, dz=thickness, \n",
    "#                                  numElements=[], heights=[], recombine=True)[1]\n",
    "#     ext_facets.append(ext_vol)\n",
    "# ext_tessel = gmsh.model.occ.fuse(ext_facets, ext_facets)[0]\n",
    "# print('ext_tessel', ext_tessel)\n",
    "\n",
    "# # tess_block = [vol for vol in vols if vol not in creases]\n",
    "\n",
    "# vols = gmsh.model.occ.getEntities(dim=3)\n",
    "# print('vols', vols)\n",
    "\n",
    "# # gmsh.model.occ.cut(ext_tessel, creases)\n",
    "# gmsh.model.occ.remove(dimTags=gmsh.model.occ.getEntities(dim=2), recursive=True)\n",
    "\n",
    "# print('cutted')\n",
    "# # max3DTag = gmsh.model.occ.getMaxTag(3)\n",
    "\n",
    "# Meshing ---------------------------------------------------- ------------------------------------------------\n",
    "\n",
    "gmsh.model.occ.synchronize()\n",
    "\n",
    "# field = gmsh.model.mesh.field\n",
    "# field.add(\"MathEval\", 1)\n",
    "# field.setString(1, \"F\", \"1\")\n",
    "# field.setAsBackgroundMesh(1)\n",
    "\n",
    "# # To generate quadrangles instead of triangles, we can simply add\n",
    "# gmsh.model.mesh.setRecombine(2, pl)\n",
    "\n",
    "# If we'd had several surfaces, we could have used the global option\n",
    "# \"Mesh.RecombineAll\":\n",
    "#\n",
    "# gmsh.option.setNumber(\"Mesh.RecombineAll\", 1)\n",
    "\n",
    "# You can also set the subdivision step alone, with\n",
    "#\n",
    "# gmsh.option.setNumber(\"Mesh.SubdivisionAlgorithm\", 1)\n",
    "\n",
    "# gmsh.model.mesh.generate(2)\n",
    "\n",
    "# Note that you could also apply the recombination algorithm and/or the\n",
    "# subdivision step explicitly after meshing, as follows:\n",
    "#\n",
    "print('before generate')\n",
    "# gmsh.model.mesh.generate(2)\n",
    "print('mesh generated')\n",
    "# gmsh.model.mesh.recombine()\n",
    "print('mesh recombine')\n",
    "# gmsh.option.setNumber(\"Mesh.SubdivisionAlgorithm\", 1)\n",
    "# gmsh.model.mesh.refine()\n",
    "\n",
    "# Launch the GUI to see the results:\n",
    "if '-nopopup' not in sys.argv:\n",
    "    gmsh.fltk.run()\n",
    "    \n",
    "# gmsh.write('test_wb.stl')\n",
    "# gmsh.write('test_wb.step')\n",
    "\n",
    "gmsh.finalize()"
   ]
  },
  {
   "cell_type": "code",
   "execution_count": null,
   "id": "45e039f3",
   "metadata": {
    "pycharm": {
     "name": "#%%\n"
    }
   },
   "outputs": [],
   "source": [
    "# Volumes created from faces doesn't perform well for CAD boolean operations,\n",
    "#  bettwer create CAD object, such as extrude or ready to use objects like box, sphere...\n",
    "import gmsh\n",
    "import math\n",
    "import sys\n",
    "\n",
    "gmsh.initialize()\n",
    "\n",
    "gmsh.model.add(\"t16\")\n",
    "\n",
    "# Let's build the same model as in `t5.py', but using constructive solid\n",
    "# geometry.\n",
    "\n",
    "# We can log all messages for further processing with:\n",
    "gmsh.logger.start()\n",
    "\n",
    "# We first create two cubes:\n",
    "# gmsh.model.occ.addBox(0, 0, 0, 1, 1, 1, 1)\n",
    "# tunnels_vol = gmsh.model.occ.addBox(0.3, 0.3, 0.3, 0.5, 0.5, 0.5, 2)\n",
    "# tunnels_vol = gmsh.model.occ.addSphere(1.3, 0, 0, 0.5)\n",
    "\n",
    "\n",
    "points = []\n",
    "points.append(gmsh.model.occ.addPoint(0, 0, 0))\n",
    "points.append(gmsh.model.occ.addPoint(1, 0, 0))\n",
    "points.append(gmsh.model.occ.addPoint(1, 1, 0))\n",
    "points.append(gmsh.model.occ.addPoint(0, 1, 0))\n",
    "lines = [gmsh.model.occ.addLine(points[k], points[k + 1]) for k in range(len(points) - 1)] + [gmsh.model.occ.addLine(points[-1], points[0])]\n",
    "cl = gmsh.model.occ.addCurveLoop(lines)\n",
    "pl = gmsh.model.occ.addPlaneSurface([cl])\n",
    "gmsh.model.occ.extrude(dimTags=[(2, pl)], dx=0, dy=0, dz=2, numElements=[], heights=[], recombine=True)\n",
    "\n",
    "\n",
    "points = []\n",
    "points.append(gmsh.model.occ.addPoint(1, 0, 0))\n",
    "points.append(gmsh.model.occ.addPoint(2, 0, 0))\n",
    "points.append(gmsh.model.occ.addPoint(2, 1, 0))\n",
    "points.append(gmsh.model.occ.addPoint(1, 0.5, 0))\n",
    "lines = [gmsh.model.occ.addLine(points[k], points[k + 1]) for k in range(len(points) - 1)] + [gmsh.model.occ.addLine(points[-1], points[0])]\n",
    "cl = gmsh.model.occ.addCurveLoop(lines)\n",
    "pl = gmsh.model.occ.addPlaneSurface([cl])\n",
    "gmsh.model.occ.extrude(dimTags=[(2, pl)], dx=0, dy=0, dz=2, numElements=[], heights=[], recombine=True)\n",
    "\n",
    "points = []\n",
    "points.append(gmsh.model.occ.addPoint(-0.2, 0.2, 0.2))\n",
    "points.append(gmsh.model.occ.addPoint(0.5, 0.2, 0.2))\n",
    "points.append(gmsh.model.occ.addPoint(0.5, 0.5, 0.2))\n",
    "points.append(gmsh.model.occ.addPoint(-0.2, 0.5, 0.2))\n",
    "lines = [gmsh.model.occ.addLine(points[k], points[k + 1]) for k in range(len(points) - 1)] + [gmsh.model.occ.addLine(points[-1], points[0])]\n",
    "cl = gmsh.model.occ.addCurveLoop(lines)\n",
    "pl = gmsh.model.occ.addPlaneSurface([cl])\n",
    "gmsh.model.occ.extrude(dimTags=[(2, pl)], dx=0, dy=0, dz=0.5, numElements=[], heights=[], recombine=True)\n",
    "\n",
    "# Pipe:\n",
    "#-------\n",
    "# Pipe cross-section\n",
    "points = []\n",
    "points.append(gmsh.model.occ.addPoint(0, 0, 0))\n",
    "points.append(gmsh.model.occ.addPoint(0.1, 0, 0))\n",
    "points.append(gmsh.model.occ.addPoint(0.1, 0.3, 0))\n",
    "points.append(gmsh.model.occ.addPoint(0, 0.3, 0))\n",
    "lines = [gmsh.model.occ.addLine(points[k], points[k + 1]) for k in range(len(points) - 1)] + [gmsh.model.occ.addLine(points[-1], points[0])]\n",
    "cl = gmsh.model.occ.addCurveLoop(lines)\n",
    "pl = gmsh.model.occ.addPlaneSurface([cl])\n",
    "\n",
    "# Pipe path (wire)\n",
    "points = []\n",
    "points.append(gmsh.model.occ.addPoint(0, 0, 0))\n",
    "points.append(gmsh.model.occ.addPoint(1, 1, 1))\n",
    "line = gmsh.model.occ.addLine(points[0], points[1])\n",
    "wire = gmsh.model.occ.addWire(curveTags = [line])\n",
    "pipe = gmsh.model.occ.addPipe(dimTags = [(2, cl)], wireTag=wire)\n",
    "\n",
    "# We apply a boolean difference to create the \"cube minus one eigth\" shape:\n",
    "gmsh.model.occ.cut([(3, 1)], [(3, 3)])\n",
    "\n",
    "# There's still following boolean:\n",
    "# intersect (cut opposite) and fragment (union with keeping intersecting parts) and fuse (union)\n",
    "\n",
    "gmsh.model.occ.synchronize()\n",
    "\n",
    "gmsh.model.mesh.generate(3)\n",
    "\n",
    "gmsh.write(\"t16.msh\")\n",
    "\n",
    "# Additional examples created with the OpenCASCADE geometry kernel are available\n",
    "# in `t18.py', `t19.py' and `t20.py', as well as in the `examples/api'\n",
    "# directory.\n",
    "\n",
    "# Inspect the log:\n",
    "log = gmsh.logger.get()\n",
    "print(\"Logger has recorded \" + str(len(log)) + \" lines\")\n",
    "gmsh.logger.stop()\n",
    "\n",
    "# Launch the GUI to see the results:\n",
    "if '-nopopup' not in sys.argv:\n",
    "    gmsh.fltk.run()\n",
    "\n",
    "gmsh.finalize()\n"
   ]
  },
  {
   "cell_type": "code",
   "execution_count": null,
   "id": "48b87535",
   "metadata": {
    "pycharm": {
     "name": "#%%\n"
    }
   },
   "outputs": [],
   "source": [
    "wbt = WBTessellation5PBeta(wb_cell = WBCell5ParamBeta(a = 50, eta=1, zeta=1, gamma = np.pi/2-1e-3), n_x=2, n_y=2, wireframe_width=1)\n",
    "wbt.interact()"
   ]
  },
  {
   "cell_type": "code",
   "execution_count": null,
   "id": "eaf9f933",
   "metadata": {
    "pycharm": {
     "name": "#%%\n"
    }
   },
   "outputs": [],
   "source": [
    "wb = WBCell4Param()\n",
    "wb.interact()"
   ]
  },
  {
   "cell_type": "code",
   "execution_count": null,
   "id": "5cac4a14",
   "metadata": {
    "pycharm": {
     "name": "#%%\n"
    }
   },
   "outputs": [],
   "source": [
    "wb.X_Ia"
   ]
  },
  {
   "cell_type": "code",
   "execution_count": null,
   "id": "62393cfd",
   "metadata": {
    "pycharm": {
     "name": "#%%\n"
    }
   },
   "outputs": [],
   "source": [
    "wb.I_Fi"
   ]
  },
  {
   "cell_type": "code",
   "execution_count": null,
   "id": "9c3cfd6f",
   "metadata": {
    "pycharm": {
     "name": "#%%\n"
    }
   },
   "outputs": [],
   "source": [
    "X_Ia[:, -1]+100"
   ]
  },
  {
   "cell_type": "code",
   "execution_count": null,
   "id": "e5d18901",
   "metadata": {
    "pycharm": {
     "name": "#%%\n"
    }
   },
   "outputs": [],
   "source": [
    "vertices"
   ]
  },
  {
   "cell_type": "code",
   "execution_count": null,
   "id": "208beb73",
   "metadata": {
    "pycharm": {
     "name": "#%%\n"
    }
   },
   "outputs": [],
   "source": [
    "import k3d\n",
    "\n",
    "thickness = 100\n",
    "X_Ia = wb.X_Ia\n",
    "I_Fi = wb.I_Fi\n",
    "\n",
    "plot = k3d.plot()\n",
    "\n",
    "mesh1 = k3d.mesh(X_Ia, I_Fi, side='double', color=0x999999)\n",
    "plot+= mesh1\n",
    "mesh1 = k3d.mesh(X_Ia, I_Fi, side='double', wireframe=True, color=0)\n",
    "plot+= mesh1\n",
    "\n",
    "# z_X_Ia = np.copy(X_Ia)\n",
    "# z_X_Ia[:, -1] += thickness\n",
    "# mesh2 = k3d.mesh(z_X_Ia, I_Fi, side='double', color=0x999999)\n",
    "# plot+= mesh2\n",
    "\n",
    "plot"
   ]
  },
  {
   "cell_type": "code",
   "execution_count": null,
   "id": "ac549a51",
   "metadata": {
    "pycharm": {
     "name": "#%%\n"
    }
   },
   "outputs": [],
   "source": [
    "# Write to obj file\n",
    "f = open('wb_3d_print.obj', 'w')\n",
    "f.write('# Vertices: (' + str(len(vertices)) + ')\\n')\n",
    "for v in X_Ia:\n",
    "    f.write('v ' + str(v)[1:-1] + '\\n')\n",
    "f.write('\\n# Tri Facets: (' + str(len(indices)) + ')\\n')\n",
    "for ind in I_Fi + 1:\n",
    "    f.write('f ' + str(ind)[1:-1] + '\\n')\n",
    "f.close()"
   ]
  }
 ],
 "metadata": {
  "kernelspec": {
   "display_name": "Python 3 (ipykernel)",
   "language": "python",
   "name": "python3"
  },
  "language_info": {
   "codemirror_mode": {
    "name": "ipython",
    "version": 3
   },
   "file_extension": ".py",
   "mimetype": "text/x-python",
   "name": "python",
   "nbconvert_exporter": "python",
   "pygments_lexer": "ipython3"
  }
 },
 "nbformat": 4,
 "nbformat_minor": 5
}
