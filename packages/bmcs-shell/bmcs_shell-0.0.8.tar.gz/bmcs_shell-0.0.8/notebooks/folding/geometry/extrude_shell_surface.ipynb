{
 "cells": [
  {
   "cell_type": "code",
   "execution_count": null,
   "id": "20a1086b",
   "metadata": {
    "pycharm": {
     "name": "#%%\n"
    }
   },
   "outputs": [],
   "source": [
    "%matplotlib widget\n",
    "from bmcs_shell.api import WBNumTessellation, WBNumTessellationInvest, WBTessellationBase, WBNumTessellationBase, WBTessellation4P, WBCell4Param\n",
    "import numpy as np\n",
    "import matplotlib.pyplot as plt\n",
    "import gmsh\n",
    "import pygmsh\n",
    "import k3d"
   ]
  },
  {
   "cell_type": "code",
   "execution_count": null,
   "id": "aa9fa2ed",
   "metadata": {
    "pycharm": {
     "name": "#%%\n"
    }
   },
   "outputs": [],
   "source": [
    "params = valid_params_2_cells_span_1800_height_300_width_500= {'a': 100.0, 'b': 493.47789764898204, 'c': 188.08268555670807, 'gamma': 0.9231728219305352, 'n_phi_plus': 3}\n",
    "\n",
    "wbt4p = WBTessellation4P(\n",
    "                        **params,\n",
    "                         n_x_plus=2,\n",
    "                         wireframe_width=5,\n",
    "                         trim_half_cells_along_y=True,\n",
    "                         trim_half_cells_along_x=True,\n",
    "                         align_outer_nodes_along_x=True,\n",
    ")\n",
    "wbt4p.interact()"
   ]
  },
  {
   "cell_type": "code",
   "execution_count": null,
   "id": "26f25d59",
   "metadata": {
    "pycharm": {
     "name": "#%%\n"
    }
   },
   "outputs": [],
   "source": [
    "\n",
    "tmodel = MATS2DElastic(E=28000, nu=0.2)\n",
    "n_phi_plus=1\n",
    "n_x_plus=1\n",
    "wbm = WBShellAnalysis(h=10, tmodel=tmodel)\n",
    "data = dict(gamma=0.33, a=500, a_high=3000, b=900, b_high=3000, c=400, c_high=2000,\n",
    "            n_phi_plus=n_phi_plus, n_x_plus=n_x_plus, show_nodes=False)\n",
    "wbm.geo.trait_set(**data)"
   ]
  },
  {
   "cell_type": "code",
   "execution_count": null,
   "id": "7f210814",
   "metadata": {
    "pycharm": {
     "name": "#%%\n"
    }
   },
   "outputs": [],
   "source": [
    "wbm.xdomain.mesh.direct_mesh = False\n",
    "wbm.xdomain.mesh.subdivision = 2"
   ]
  },
  {
   "cell_type": "code",
   "execution_count": null,
   "id": "1614bcee",
   "metadata": {
    "pycharm": {
     "name": "#%%\n"
    }
   },
   "outputs": [],
   "source": [
    "mesh = wbm.xdomain.mesh.mesh\n",
    "mesh"
   ]
  },
  {
   "cell_type": "code",
   "execution_count": null,
   "id": "a0cadb27",
   "metadata": {
    "pycharm": {
     "name": "#%%\n"
    }
   },
   "outputs": [],
   "source": [
    "X_Ia = wbt4p.X_Ia_trimmed\n",
    "X_Ia"
   ]
  },
  {
   "cell_type": "code",
   "execution_count": null,
   "id": "30c89df5",
   "metadata": {
    "pycharm": {
     "name": "#%%\n"
    }
   },
   "outputs": [],
   "source": [
    "I_Fi = wbt4p.I_Fi_trimmed\n",
    "I_Fi"
   ]
  },
  {
   "cell_type": "code",
   "execution_count": null,
   "id": "1c41e436",
   "metadata": {
    "pycharm": {
     "name": "#%%\n"
    }
   },
   "outputs": [],
   "source": [
    "wb = WBCell4Param(gamma = 1)\n",
    "wb.interact()"
   ]
  },
  {
   "cell_type": "code",
   "execution_count": null,
   "id": "afe6af4b",
   "metadata": {
    "pycharm": {
     "name": "#%%\n"
    }
   },
   "outputs": [],
   "source": [
    "X_Ia = wb.X_Ia / 2000\n",
    "I_Fi = wb.I_Fi\n",
    "X_Ia"
   ]
  },
  {
   "cell_type": "markdown",
   "id": "d2d91077",
   "metadata": {
    "pycharm": {
     "name": "#%% md\n"
    }
   },
   "source": [
    "### Flipping negative normals to unite all normals point (upwards)"
   ]
  },
  {
   "cell_type": "code",
   "execution_count": null,
   "id": "e3885e9b",
   "metadata": {
    "pycharm": {
     "name": "#%%\n"
    }
   },
   "outputs": [],
   "source": [
    "X_Fia = X_Ia[I_Fi]\n",
    "To_flip_F = np.cross(X_Fia[:, 1, :] - X_Fia[:, 0, :], X_Fia[:, 2, :] - X_Fia[:, 0, :])[:, 2] < 0 # all items where z of normal is negative\n",
    "I_Fi[To_flip_F] = np.flip(I_Fi[To_flip_F], axis=1)\n",
    "I_Fi"
   ]
  },
  {
   "cell_type": "code",
   "execution_count": null,
   "id": "ae2881fe",
   "metadata": {
    "pycharm": {
     "name": "#%%\n"
    }
   },
   "outputs": [],
   "source": [
    "np.sin(np.pi/4)"
   ]
  },
  {
   "cell_type": "code",
   "execution_count": null,
   "id": "5459d71d",
   "metadata": {
    "pycharm": {
     "name": "#%%\n"
    }
   },
   "outputs": [],
   "source": [
    "np.sqrt(2)/2"
   ]
  },
  {
   "cell_type": "code",
   "execution_count": null,
   "id": "d1be038f",
   "metadata": {
    "pycharm": {
     "name": "#%%\n"
    }
   },
   "outputs": [],
   "source": [
    "X_Ia = np.copy(X_Ia)\n",
    "I_Fi = np.copy(I_Fi)\n",
    "\n",
    "# Flip normals to have same direction\n",
    "X_Fia = X_Ia[I_Fi]\n",
    "normals_Fi = np.cross(X_Fia[:, 1, :] - X_Fia[:, 0, :], X_Fia[:, 2, :] - X_Fia[:, 0, :])\n",
    "To_flip_F = normals_Fi[:, 2] < 0  # all items where z of normal is negative\n",
    "I_Fi[To_flip_F] = np.flip(I_Fi[To_flip_F], axis=1)\n",
    "# Update X_Fia\n",
    "X_Fia = X_Ia[I_Fi]\n",
    "normals_Fi = np.cross(X_Fia[:, 1, :] - X_Fia[:, 0, :], X_Fia[:, 2, :] - X_Fia[:, 0, :])\n",
    "normals_Fi_norm = normals_Fi / np.sqrt(np.sum(normals_Fi*normals_Fi, axis=1))[:, np.newaxis]\n",
    "normals_Fi_norm"
   ]
  },
  {
   "cell_type": "code",
   "execution_count": null,
   "id": "35c763b7",
   "metadata": {
    "pycharm": {
     "name": "#%%\n"
    }
   },
   "outputs": [],
   "source": [
    "# See https://gitlab.onelab.info/gmsh/gmsh/-/blob/master/tutorials/python/t11.py\n",
    "# dimTag means tuple of (dimention, tag). Where tag is like an ID\n",
    "\n",
    "import gmsh\n",
    "import sys\n",
    "import numpy as np\n",
    "import bmcs_utils.api as bu\n",
    "from scipy.spatial.transform import Rotation\n",
    "\n",
    "thickness = 10\n",
    "# thickness = 10 * normals_Fi_norm\n",
    "\n",
    "# Each dimension Dim has Tags refering to objects starting from 1, \n",
    "#  (a point is dim=1, a line, surface or more is dim=2 and a volume is dim=3)\n",
    "\n",
    "gmsh.initialize()\n",
    "gmsh.model.add(\"wb_extrude\")\n",
    "mesh_size = 0.1\n",
    "\n",
    "# Adding outer area of the pattern with extrusion: ------------------------------------------------\n",
    "\n",
    "xpoints = np.array([gmsh.model.occ.addPoint(*X_a, mesh_size) for X_a in X_Ia])\n",
    "\n",
    "wb_facets = []\n",
    "\n",
    "for I_i in I_Fi:\n",
    "    xpoints1 = xpoints[I_i]\n",
    "    curves = [gmsh.model.occ.addLine(xpoints1[k], xpoints1[k + 1]) for k in range(len(xpoints1) - 1)] + [gmsh.model.occ.addLine(xpoints1[-1], xpoints1[0])]\n",
    "\n",
    "    cl = gmsh.model.occ.addCurveLoop(curves)\n",
    "    pl = gmsh.model.occ.addPlaneSurface([cl])\n",
    "    wb_facets.append(pl)\n",
    "    \n",
    "# #     To generate quadrangles instead of triangles, we can simply add\n",
    "#     gmsh.model.mesh.setRecombine(1, pl)\n",
    "\n",
    "# pg = gmsh.model.addPhysicalGroup(dim = 3, tags=wb_facets, name='pg')\n",
    "# print(pg)\n",
    "\n",
    "# Extrude (extrude is already a volume or CAD object)\n",
    "for i, wb_facet in enumerate(wb_facets):\n",
    "#     ext = gmsh.model.occ.extrude(dimTags=[(2, wb_facet)], dx=thickness[i, 0], dy=thickness[i, 1], \n",
    "#                                  dz=thickness[i, 2], numElements=[], heights=[], recombine=True)\n",
    "    ext = gmsh.model.occ.extrude(dimTags=[(2, wb_facet)], dx=0, dy=0, \n",
    "                             dz=1, numElements=[], heights=[], recombine=True)\n",
    "\n",
    "vols = gmsh.model.occ.getEntities(dim=3)\n",
    "# tess_block = gmsh.model.occ.fuse(vols[len(creases):], vols[len(creases):])\n",
    "tess_block = gmsh.model.occ.fuse(vols, vols)\n",
    "\n",
    "print('vols=', gmsh.model.occ.getEntities(dim=3))\n",
    "print('vols.size=', len(gmsh.model.occ.getEntities(dim=3)))\n",
    "\n",
    "vols = gmsh.model.occ.getEntities(dim=3)\n",
    "\n",
    "# gmsh.model.occ.cut([vols[1]], [vols[0]])\n",
    "\n",
    "# gmsh.model.occ.remove(dimTags=gmsh.model.occ.getEntities(dim=2), recursive=True)\n",
    "\n",
    "# max3DTag = gmsh.model.occ.getMaxTag(3)\n",
    "\n",
    "# Meshing ---------------------------------------------------- ------------------------------------------------\n",
    "\n",
    "gmsh.model.occ.synchronize()\n",
    "\n",
    "# field = gmsh.model.mesh.field\n",
    "# field.add(\"MathEval\", 1)\n",
    "# field.setString(1, \"F\", \"1\")\n",
    "# field.setAsBackgroundMesh(1)\n",
    "\n",
    "# # To generate quadrangles instead of triangles, we can simply add\n",
    "# gmsh.model.mesh.setRecombine(2, pl)\n",
    "\n",
    "# If we'd had several surfaces, we could have used the global option\n",
    "# \"Mesh.RecombineAll\":\n",
    "#\n",
    "# gmsh.option.setNumber(\"Mesh.RecombineAll\", 1)\n",
    "\n",
    "# You can also set the subdivision step alone, with\n",
    "#\n",
    "# gmsh.option.setNumber(\"Mesh.SubdivisionAlgorithm\", 1)\n",
    "\n",
    "# gmsh.model.mesh.generate(2)\n",
    "\n",
    "# Note that you could also apply the recombination algorithm and/or the\n",
    "# subdivision step explicitly after meshing, as follows:\n",
    "#\n",
    "print('before generate')\n",
    "# gmsh.model.mesh.generate(2)\n",
    "print('mesh generated')\n",
    "# gmsh.model.mesh.recombine()\n",
    "print('mesh recombine')\n",
    "# gmsh.option.setNumber(\"Mesh.SubdivisionAlgorithm\", 1)\n",
    "# gmsh.model.mesh.refine()\n",
    "\n",
    "# Launch the GUI to see the results:\n",
    "if '-nopopup' not in sys.argv:\n",
    "    gmsh.fltk.run()\n",
    "\n",
    "gmsh.finalize()"
   ]
  },
  {
   "cell_type": "code",
   "execution_count": null,
   "id": "2d1523a8",
   "metadata": {
    "pycharm": {
     "name": "#%%\n"
    }
   },
   "outputs": [],
   "source": [
    "import gmsh\n",
    "import sys\n",
    "import numpy as np\n",
    "\n",
    "gmsh.initialize()\n",
    "\n",
    "gmsh.model.add(\"t11\")\n",
    "\n",
    "# We have seen in tutorials `t3.py' and `t6.py' that extruded and transfinite\n",
    "# meshes can be \"recombined\" into quads, prisms or hexahedra. Unstructured\n",
    "# meshes can be recombined in the same way. Let's define a simple geometry with\n",
    "# an analytical mesh size field:\n",
    "\n",
    "X_Id = np.array([[0, 0, 0], \n",
    "                [1, 0, 0], \n",
    "                [1, 1, 0],\n",
    "                 [1, 1, 1]])\n",
    "# I_Fi = np.array([[0, 1, 2], [0, 1, 3]])\n",
    "I_Fi = np.array([[0, 1, 2]])\n",
    "mesh_size = 0.5\n",
    "\n",
    "\n",
    "# geom.extrude()\n",
    "xpoints = np.array([gmsh.model.geo.addPoint(*X_d) for X_d in X_Id])\n",
    "print(xpoints)\n",
    "\n",
    "for I_i in I_Fi:\n",
    "    xpoints1 = xpoints[I_i]\n",
    "    curves = [gmsh.model.geo.addLine(xpoints1[k], xpoints1[k + 1]) for k in range(len(xpoints1) - 1)] + [gmsh.model.geo.addLine(xpoints1[-1], xpoints1[0])]\n",
    "\n",
    "    cl = gmsh.model.geo.addCurveLoop(curves)\n",
    "    pl = gmsh.model.geo.addPlaneSurface([cl])\n",
    "    \n",
    "    print('pl=', pl)\n",
    "    \n",
    "    # To generate quadrangles instead of triangles, we can simply add\n",
    "#     gmsh.model.mesh.setRecombine(1, pl)\n",
    "pg = gmsh.model.addPhysicalGroup(3, tags=[1, 2])\n",
    "gmsh.model.geo.extrude(dimTags=[(2, pg)], dx=0, dy=0, dz=0.1, numElements=[1], heights=[], recombine=False)\n",
    "# gmsh.model.geo.extrude(dimTags=[(2, 1)], dx=0, dy=0, dz=0.1, numElements=[1], heights=[], recombine=True)\n",
    "# gmsh.model.geo.extrude(dimTags=[(2, 2)], dx=0, dy=0.1, dz=-0.1, numElements=[3], heights=[], recombine=True)\n",
    "\n",
    "gmsh.model.geo.synchronize()\n",
    "\n",
    "# field = gmsh.model.mesh.field\n",
    "# field.add(\"MathEval\", 1)\n",
    "# field.setString(1, \"F\", \"1\")\n",
    "# field.setAsBackgroundMesh(1)\n",
    "\n",
    "# # To generate quadrangles instead of triangles, we can simply add\n",
    "# gmsh.model.mesh.setRecombine(2, pl)\n",
    "\n",
    "# If we'd had several surfaces, we could have used the global option\n",
    "# \"Mesh.RecombineAll\":\n",
    "#\n",
    "# gmsh.option.setNumber(\"Mesh.RecombineAll\", 1)\n",
    "\n",
    "# The default recombination algorithm is called \"Blossom\": it uses a minimum\n",
    "# cost perfect matching algorithm to generate fully quadrilateral meshes from\n",
    "# triangulations. More details about the algorithm can be found in the\n",
    "# following paper: J.-F. Remacle, J. Lambrechts, B. Seny, E. Marchandise,\n",
    "# A. Johnen and C. Geuzaine, \"Blossom-Quad: a non-uniform quadrilateral mesh\n",
    "# generator using a minimum cost perfect matching algorithm\", International\n",
    "# Journal for Numerical Methods in Engineering 89, pp. 1102-1119, 2012.\n",
    "\n",
    "# For even better 2D (planar) quadrilateral meshes, you can try the\n",
    "# experimental \"Frontal-Delaunay for quads\" meshing algorithm, which is a\n",
    "# triangulation algorithm that enables to create right triangles almost\n",
    "# everywhere: J.-F. Remacle, F. Henrotte, T. Carrier-Baudouin, E. Bechet,\n",
    "# E. Marchandise, C. Geuzaine and T. Mouton. A frontal Delaunay quad mesh\n",
    "# generator using the L^inf norm. International Journal for Numerical Methods\n",
    "# in Engineering, 94, pp. 494-512, 2013. Uncomment the following line to try\n",
    "# the Frontal-Delaunay algorithms for quads:\n",
    "#\n",
    "# gmsh.option.setNumber(\"Mesh.Algorithm\", 8)\n",
    "\n",
    "# The default recombination algorithm might leave some triangles in the mesh, if\n",
    "# recombining all the triangles leads to badly shaped quads. In such cases, to\n",
    "# generate full-quad meshes, you can either subdivide the resulting hybrid mesh\n",
    "# (with `Mesh.SubdivisionAlgorithm' set to 1), or use the full-quad\n",
    "# recombination algorithm, which will automatically perform a coarser mesh\n",
    "# followed by recombination, smoothing and subdivision. Uncomment the following\n",
    "# line to try the full-quad algorithm:\n",
    "#\n",
    "# gmsh.option.setNumber(\"Mesh.RecombinationAlgorithm\", 2) # or 3\n",
    "\n",
    "# You can also set the subdivision step alone, with\n",
    "#\n",
    "# gmsh.option.setNumber(\"Mesh.SubdivisionAlgorithm\", 1)\n",
    "\n",
    "gmsh.model.mesh.generate(2)\n",
    "\n",
    "# Note that you could also apply the recombination algorithm and/or the\n",
    "# subdivision step explicitly after meshing, as follows:\n",
    "#\n",
    "# gmsh.model.mesh.generate(2)\n",
    "gmsh.model.mesh.recombine()\n",
    "gmsh.option.setNumber(\"Mesh.SubdivisionAlgorithm\", 1)\n",
    "gmsh.model.mesh.refine()\n",
    "\n",
    "# Launch the GUI to see the results:\n",
    "if '-nopopup' not in sys.argv:\n",
    "    gmsh.fltk.run()\n",
    "\n",
    "gmsh.finalize()\n"
   ]
  },
  {
   "cell_type": "code",
   "execution_count": null,
   "id": "55c80591",
   "metadata": {
    "pycharm": {
     "name": "#%%\n"
    }
   },
   "outputs": [],
   "source": [
    "X_Id = np.array([[0, 0, 0], \n",
    "                [1, 0, 0], \n",
    "                [1, 1, 0],\n",
    "                 [1, 0, 1]])\n",
    "I_Fi = np.array([[0, 1, 2], [0, 1, 3]])\n",
    "mesh_size = 0.5\n",
    "\n",
    "with pygmsh.geo.Geometry() as geom:\n",
    "    # geom.extrude()\n",
    "    xpoints = np.array([\n",
    "        geom.add_point(X_d, mesh_size=mesh_size) for X_d in X_Id\n",
    "    ])\n",
    "    print(xpoints)\n",
    "    surfaces = []\n",
    "    for I_i in I_Fi:\n",
    "        xpoints1 = xpoints[I_i]\n",
    "        curves = [\n",
    "                          geom.add_line(xpoints1[k], xpoints1[k + 1])\n",
    "                          for k in range(len(xpoints1) - 1)\n",
    "                      ] + [geom.add_line(xpoints1[-1], xpoints1[0])]\n",
    "\n",
    "        curve_loop = geom.add_curve_loop(curves)\n",
    "        # self.surface = geom.add_plane_surface(ll, holes) if make_surface else None\n",
    "        surfaces.append(geom.add_plane_surface(curve_loop))\n",
    "        \n",
    "#         self.dim_tag = self.surface.dim_tag\n",
    "#         self.dim_tags = self.surface.dim_tags\n",
    "#         self._id = self.surface._id\n",
    "\n",
    "    sl1 = geom.add_surface_loop(surfaces)\n",
    "#     v1 = geom.add_volume([sl1])\n",
    "#     ext = geom.extrude(sl1, (0, 0.1, 0.1))\n",
    "#     ext = geom.extrude(surface, (0, 0, 0.1))\n",
    "\n",
    "    #                geom.add_polygon(X_id, mesh_size=mesh_size)\n",
    "    # gmsh.model.geo.remove_all_duplicates()\n",
    "    \n",
    "    # To create quads + tri instead of tri\n",
    "    geom.set_recombined_surfaces(surfaces)\n",
    "    \n",
    "    mesh1 = geom.generate_mesh()\n",
    "ext"
   ]
  },
  {
   "cell_type": "code",
   "execution_count": null,
   "id": "53989946",
   "metadata": {
    "pycharm": {
     "name": "#%%\n"
    }
   },
   "outputs": [],
   "source": [
    "mesh1.points"
   ]
  },
  {
   "cell_type": "code",
   "execution_count": null,
   "id": "a18cde45",
   "metadata": {
    "pycharm": {
     "name": "#%%\n"
    }
   },
   "outputs": [],
   "source": [
    "mesh1.cells[2][1]"
   ]
  },
  {
   "cell_type": "code",
   "execution_count": null,
   "id": "9439b45c",
   "metadata": {
    "pycharm": {
     "name": "#%%\n"
    }
   },
   "outputs": [],
   "source": [
    "mesh1.points"
   ]
  },
  {
   "cell_type": "code",
   "execution_count": null,
   "id": "8707c081",
   "metadata": {
    "pycharm": {
     "name": "#%%\n"
    }
   },
   "outputs": [],
   "source": [
    "mesh1.cells[2][1][:, [0, 3]]"
   ]
  },
  {
   "cell_type": "code",
   "execution_count": null,
   "id": "46a99e79",
   "metadata": {
    "pycharm": {
     "name": "#%%\n"
    }
   },
   "outputs": [],
   "source": [
    "plot = k3d.plot()\n",
    "\n",
    "for l in mesh1.cells[2][1][:, [0, 1]]:\n",
    "    mesh = k3d.line(mesh1.points[l], dtype=np.float_)\n",
    "    plot += mesh\n",
    "for l in mesh1.cells[2][1][:, [1, 2]]:\n",
    "    mesh = k3d.line(mesh1.points[l], dtype=np.float_)\n",
    "    plot += mesh\n",
    "for l in mesh1.cells[2][1][:, [2, 3]]:\n",
    "    mesh = k3d.line(mesh1.points[l], dtype=np.float_)\n",
    "    plot += mesh\n",
    "mesh = k3d.mesh(mesh1.points, mesh1.cells[1][1], wireframe=True)\n",
    "plot += mesh\n",
    "plot"
   ]
  },
  {
   "cell_type": "code",
   "execution_count": null,
   "id": "a68e763a",
   "metadata": {
    "pycharm": {
     "name": "#%%\n"
    }
   },
   "outputs": [],
   "source": [
    "plot = k3d.plot()\n",
    "mesh = k3d.mesh(mesh1.points, mesh1.cells[1][1], wireframe=True)\n",
    "plot += mesh\n",
    "plot"
   ]
  }
 ],
 "metadata": {
  "kernelspec": {
   "display_name": "Python 3 (ipykernel)",
   "language": "python",
   "name": "python3"
  },
  "language_info": {
   "codemirror_mode": {
    "name": "ipython",
    "version": 3
   },
   "file_extension": ".py",
   "mimetype": "text/x-python",
   "name": "python",
   "nbconvert_exporter": "python",
   "pygments_lexer": "ipython3"
  }
 },
 "nbformat": 4,
 "nbformat_minor": 5
}
