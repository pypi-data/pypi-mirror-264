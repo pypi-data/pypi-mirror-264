{
 "cells": [
  {
   "cell_type": "markdown",
   "id": "d535c171-285d-4b4a-9b95-d796f4eb226b",
   "metadata": {},
   "source": [
    "# Hybrid analytical-numerical waterbomb tessellation model"
   ]
  },
  {
   "cell_type": "markdown",
   "id": "3d236503-c544-4797-aa94-6bcfdb96b751",
   "metadata": {},
   "source": [
    "Consider a solved waterbomb molecule $m$ consisting of 5 nodes.\n",
    "The folding state of the molecule is described by the parameters $\\gamma, \\beta$."
   ]
  },
  {
   "cell_type": "markdown",
   "id": "c6d11517-cc11-4bf1-9ec6-73875545a8b7",
   "metadata": {},
   "source": [
    "The nodes of a a rigid foldable molecule with the folding state controlled by the two parameters $\\gamma$ and $\\beta$ we can determine the local positions as \n",
    "$$\n",
    "x_{ja}^\\mathrm{RF}(\\gamma, \\beta)\n",
    "$$"
   ]
  },
  {
   "cell_type": "markdown",
   "id": "6221150b-5203-4ec6-8228-90493b09d979",
   "metadata": {},
   "source": [
    "To construct a tessellation, we need to embed this cell in the Euclidian space by providing the translation and rotation as\n",
    "$$\n",
    "X_{Ijb} = X_{Ib} +  x_{ja}^\\mathrm{RF}(\\gamma_I, \\beta_I) T_{Iab}(\\Xi_{Ic})\n",
    "$$"
   ]
  },
  {
   "cell_type": "markdown",
   "id": "a96d14a6-4c8b-4bf4-a40a-1ff69456b306",
   "metadata": {},
   "source": [
    "Introduce a tessellation by requiring that the nodes of adjacent cells are identical"
   ]
  },
  {
   "cell_type": "markdown",
   "id": "3ef0d457-2874-4863-b464-a9b36617dea2",
   "metadata": {},
   "source": [
    "How to handle"
   ]
  },
  {
   "cell_type": "code",
   "execution_count": null,
   "id": "424132c7-3afc-43c3-887a-a5f528d0b37a",
   "metadata": {},
   "outputs": [],
   "source": []
  },
  {
   "cell_type": "code",
   "execution_count": null,
   "id": "fbe994d4",
   "metadata": {},
   "outputs": [],
   "source": []
  }
 ],
 "metadata": {
  "kernelspec": {
   "display_name": "bmcs_env2",
   "language": "python",
   "name": "bmcs_env2"
  },
  "language_info": {
   "codemirror_mode": {
    "name": "ipython",
    "version": 3
   },
   "file_extension": ".py",
   "mimetype": "text/x-python",
   "name": "python",
   "nbconvert_exporter": "python",
   "pygments_lexer": "ipython3"
  }
 },
 "nbformat": 4,
 "nbformat_minor": 5
}
