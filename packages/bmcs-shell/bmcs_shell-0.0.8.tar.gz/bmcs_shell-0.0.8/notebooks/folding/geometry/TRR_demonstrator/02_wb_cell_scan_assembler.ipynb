{
 "cells": [
  {
   "cell_type": "markdown",
   "id": "2e85963e",
   "metadata": {},
   "source": [
    "# Assembling the imperfect waterbomb elements\n",
    "\n",
    "Prototyping notebook -- that was used to formulate the processing of the \n",
    "assembly algorithm and misfit analysis step by step. The methods were then \n",
    "included in the class WBAssembler "
   ]
  },
  {
   "cell_type": "code",
   "execution_count": null,
   "id": "3a428099",
   "metadata": {},
   "outputs": [],
   "source": [
    "import k3d\n",
    "import sympy as sp\n",
    "sp.init_printing()\n",
    "import numpy as np\n",
    "import matplotlib.pylab as plt\n",
    "from bmcs_shell.folding.assembly.wb_scanned_cell import WBScannedCell, cache_solve"
   ]
  },
  {
   "cell_type": "markdown",
   "id": "94689040",
   "metadata": {},
   "source": [
    "# Modules 3"
   ]
  },
  {
   "attachments": {
    "image-2.png": {
     "image/png": "[encoded data removed]"
    }
   },
   "cell_type": "markdown",
   "id": "b145043c",
   "metadata": {},
   "source": [
    "![image-2.png](attachment:image-2.png)"
   ]
  },
  {
   "cell_type": "markdown",
   "id": "bbc7b0fd",
   "metadata": {},
   "source": [
    "There are two cells positioned in a 2D Euclidian space indexed $C$ and $D$.\n",
    "In the following, an index $a$ denotes the spatial coordinate index in 2D with the values 0 and 1. Both cells $C$ and $D$ have two reference points provided in the local coordinate system of the cells as $x_{C0a}$, $x_{C1a} and $x_{D0a}$, $x_{D1a}$, respectively. Each reference point is associated with a vector defined in the local coordinates of the cells, i.e., $n_{C0a}$, $n_{C1a}$ and $n_{D0a}$, $n_{D1a}$. Each cell is embedded in the global 2D coordinate system via the position of the origin of the local coordinate system of the cell $X_{Ca}$ and $X_{Da}$ and the rotations of the local coordinate systems $\\alpha_C$ and $\\alpha_D$.\n",
    "\n",
    "The position of the reference points in local coordinate systems of the respective shells and the associated vectors are known as input parameters. Also the global position $X_{Ca}$ and the rotation angle $\\alpha_C$ are input parameters. The global position $X_{Da}$ and the rotation $\\alpha_D$ are unknown. The task is to identify these three unknown based on the following three criteria:\n",
    "\n",
    " - First criterion: The angle between vectors $n_{C1a}$ and $n_{D2a}$ transformed to the global coordinated system using the respective angles $\\alpha_C$ and $\\alpha_D$ must be zero. This condition might be formulated as \n",
    " $ \\| T_{Cab}(\\alpha_C) n_{C2a}$ $T_{Dcd}(\\alpha_D) n_{D1c} \\epsilon_{ebd} \\| = 0, where $T_{Cab}$ is the rotation matrix depending on the angle $\\alpha_C$, $T_{Dcd}$ is the rotation matrix depending on the angle $\\alpha_D$, and $\\epsilon_{ebd}$ represents the cross-product operator, sometimes referred to as Levi-Civita. But a simpler criterion using dot product and quantified angles is also possible.  \n",
    "\n",
    " - Second criterion: Introducing the vector $v_{D1a} = (X_{Ca} + T_{Cab}(\\alpha_C) x_{C2a} ) - (X_{Da} + T_{Dab}(\\alpha_D) x_{D1a})$ in the global coordinate system, the second criterion says that its projected length on the associated vector must be equal to a specified distance $d$, i.e. $\\| v_{D1b} T_{Dab}(\\alpha) n_{D1b} \\| = d$. \n",
    "\n",
    " - Third criterion: The third criterion is similar to the second criterion, but it takes into account the cell $C$. Given the vector $v_{C1a} = (X_{Da} + T_{Dab}(\\alpha_D) x_{D2a} ) - (X_{Ca} + T_{Cab}(\\alpha_C) x_{C1a})$, we require that the projected length of the associated vector is equal to the specified parameter $d$, i.e. $\\| v_{C1b} T_{Cab}(\\alpha_C) n_{Ca} \\| = d$.\n",
    "\n",
    "The task is to resolve these criteria to deliver the closed-form solution for $X_{D0}, $X_{D1}$, and $\\alpha_{D}$.\n",
    "  \n"
   ]
  },
  {
   "cell_type": "markdown",
   "id": "5ffa231f",
   "metadata": {},
   "source": [
    "The three necessary conditions are stated as \n",
    " - angle between $n_{C1a}$ and $n_{D2a}$ must be zero,\n",
    " - the size of the vector $X_{D2a} - X_{C1a}$ projected to $n_{C2a}$ must be equal to $d$\n",
    " - the size of the vector $X_{C2a} - X_{D1a}$ projected to $n_{C2a}$ must be equal to $d$\n",
    " "
   ]
  },
  {
   "cell_type": "markdown",
   "id": "c7512414",
   "metadata": {},
   "source": [
    "This means\n",
    " -  $ \\| T_{Cab}(\\alpha_C) n_{C2a}$ $T_{Dcd}(\\alpha_D) n_{D1c} \\epsilon_{ebd} \\| = 0$\n",
    " - $v_{D1a} = (X_{Ca} + T_{Cab}(\\alpha_C) x_{C2a} ) - (X_{Da} + T_{Dab}(\\alpha_D) x_{D1a})$, and $\\| v_{D1b} T_{Dab} n_{Da} \\| = d$\n",
    " - $v_{C1a} = (X_{Da} + T_{Dab}(\\alpha_D) x_{D2a} ) - (X_{Ca} + T_{Cab}(\\alpha_C) x_{C1a})$, and $\\| v_{C1b} T_{Cab} n_{Ca} \\| = d$\n",
    "\n",
    "   "
   ]
  },
  {
   "cell_type": "markdown",
   "id": "46016844",
   "metadata": {},
   "source": [
    "A simpler expression is\n",
    "Define the line vectors based on the normals as\n",
    "$$\n",
    "v_{Cfa} = [n_{Cf1}, -n_{Cf0}]\n",
    "$$\n",
    "$$\n",
    " T_{Ca} + s_C v_{C2a}\n",
    "$$"
   ]
  },
  {
   "cell_type": "markdown",
   "id": "17a522de",
   "metadata": {},
   "source": [
    "## Derive the translation and rotation of a neighbor cell \n",
    "\n",
    "Introduce the variables"
   ]
  },
  {
   "cell_type": "code",
   "execution_count": null,
   "id": "0015256e",
   "metadata": {},
   "outputs": [],
   "source": [
    "from sympy import symbols, Matrix, cos, sin, solve, Eq\n",
    "\n",
    "# Define symbols\n",
    "alpha_C, d_alpha_D = symbols('alpha_C d_alpha_D')\n",
    "alpha_D = alpha_C + d_alpha_D\n",
    "\n",
    "X_C = Matrix(symbols('X_C1, X_C2'))\n",
    "X_D = Matrix(symbols('X_D1, X_D2'))\n",
    "x_Cb = Matrix(symbols('x_Cb1, x_Cb2'))\n",
    "x_Ct = Matrix(symbols('x_Ct1, x_Ct2'))\n",
    "x_Db = Matrix(symbols('x_Db1, x_Db2'))\n",
    "x_Dt = Matrix(symbols('x_Dt1, x_Dt2'))\n",
    "n_Cb = Matrix(symbols('n_Cb1, n_Cb2'))\n",
    "n_Ct = Matrix(symbols('n_Ct1, n_Ct2'))\n",
    "n_Db = Matrix(symbols('n_Db1, n_Db2'))\n",
    "n_Dt = Matrix(symbols('n_Dt1, n_Dt2'))\n",
    "\n",
    "sp_vars = (alpha_C, X_C, x_Cb, x_Ct, x_Db, x_Dt, n_Cb, n_Ct, n_Db, n_Dt)\n",
    "\n",
    "X_C1, X_C2 = X_C\n",
    "X_D1, X_D2 = X_D"
   ]
  },
  {
   "cell_type": "markdown",
   "id": "4b2e5b56",
   "metadata": {},
   "source": [
    "Symbols needed to determine the position in $x$ direction"
   ]
  },
  {
   "cell_type": "code",
   "execution_count": null,
   "id": "cee73ebf",
   "metadata": {},
   "outputs": [],
   "source": [
    "X_C0 = symbols('X_C0')\n",
    "X_D0 = symbols('X_D0')\n",
    "X3_C = Matrix([X_C0, X_C1, X_C2])\n",
    "X3_D = Matrix([X_D0, X_D1, X_D2])"
   ]
  },
  {
   "cell_type": "code",
   "execution_count": null,
   "id": "3b17ff37",
   "metadata": {},
   "outputs": [],
   "source": [
    "# Rotation matrices\n",
    "T_C = Matrix([[cos(alpha_C), -sin(alpha_C)], [sin(alpha_C), cos(alpha_C)]]).T\n",
    "T_D = Matrix([[cos(alpha_D), -sin(alpha_D)], [sin(alpha_D), cos(alpha_D)]]).T\n"
   ]
  },
  {
   "cell_type": "markdown",
   "id": "bdf63e8b",
   "metadata": {},
   "source": [
    "### Criterion 1:\n",
    "\n",
    "Rotation between the neighbor cells\n",
    "Calculate the angle between the normal vectors on the planes that interlock. This means the opposite planes"
   ]
  },
  {
   "cell_type": "code",
   "execution_count": null,
   "id": "e4af4cb6",
   "metadata": {},
   "outputs": [],
   "source": [
    "n_Cb_unit = n_Cb / n_Cb.norm()\n",
    "n_Dt_unit = n_Dt / n_Dt.norm()\n",
    "\n",
    "# Calculate dot product of n_Cb_global and n_Db_global\n",
    "dot_product = n_Cb_unit.dot(n_Dt_unit)\n",
    "\n",
    "# Check if dot product is equal to product of magnitudes\n",
    "d_alpha_D_solved = sp.simplify(sp.acos(dot_product))\n",
    "d_alpha_D_solved"
   ]
  },
  {
   "cell_type": "markdown",
   "id": "5a90260a",
   "metadata": {},
   "source": [
    "### Criterion 2: \n",
    "\n",
    "The point X_D1 must be on the line running through X_C2 orthogonal to n_Ct"
   ]
  },
  {
   "cell_type": "code",
   "execution_count": null,
   "id": "5b3824ed",
   "metadata": {},
   "outputs": [],
   "source": [
    "X_Ct = X_C + T_C * x_Ct\n",
    "X_Db = X_D + T_D * x_Db\n",
    "V_C2 = X_Ct - X_Db \n",
    "N_C2 = T_C * n_Ct\n",
    "misfit_Ct = sp.simplify(V_C2.dot(N_C2))\n",
    "criterion2 = sp.Eq( misfit_Ct, 0)\n",
    "criterion2"
   ]
  },
  {
   "cell_type": "markdown",
   "id": "12e1c7e4",
   "metadata": {},
   "source": [
    "### Criterion 3: \n",
    "\n",
    "The point X_Dt must be on the line given by the point X_Cb and \n",
    "a line perpendicular to N_Cb"
   ]
  },
  {
   "cell_type": "code",
   "execution_count": null,
   "id": "0b89a912",
   "metadata": {},
   "outputs": [],
   "source": [
    "X_Cb = X_C + T_C * x_Cb\n",
    "X_Dt = X_D + T_D * x_Dt\n",
    "V_C1 = X_Dt - X_Cb\n",
    "N_C1 = T_C * n_Cb\n",
    "misfit_Cb = sp.simplify(V_C1.dot(N_C1))\n",
    "criterion3 = sp.Eq( misfit_Cb, 0)\n",
    "criterion3\n"
   ]
  },
  {
   "cell_type": "code",
   "execution_count": null,
   "id": "2a52ebf8",
   "metadata": {},
   "outputs": [],
   "source": [
    "# Solve the system of equations\n",
    "X_D_solved = cache_solve((criterion2, criterion3), [X_D1, X_D2], \"X_D_solved\") # , recalculate=True, simplify=True)\n",
    "X_D_solved"
   ]
  },
  {
   "cell_type": "code",
   "execution_count": null,
   "id": "c16ee57d",
   "metadata": {},
   "outputs": [],
   "source": [
    "# get_d_alpha_D = sp.lambdify(sp_vars, d_alpha_D_solved)\n",
    "get_d_alpha_D = sp.lambdify((alpha_C, X_C, n_Cb, n_Dt), d_alpha_D_solved)\n",
    "get_X_D1 = sp.lambdify(sp_vars + (d_alpha_D,), X_D_solved[X_D1])\n",
    "get_X_D2 = sp.lambdify(sp_vars + (d_alpha_D,), X_D_solved[X_D2])\n",
    "get_misfit_Ct = sp.lambdify(sp_vars + (d_alpha_D, X_D), misfit_Ct)\n",
    "get_misfit_Cb = sp.lambdify(sp_vars + (d_alpha_D, X_D), misfit_Cb)\n"
   ]
  },
  {
   "cell_type": "markdown",
   "id": "54d9678e",
   "metadata": {},
   "source": [
    "## Facets points from 3D scan"
   ]
  },
  {
   "cell_type": "code",
   "execution_count": null,
   "id": "9ccd1f06",
   "metadata": {},
   "outputs": [],
   "source": [
    "colors = [0xff0000, 0x00ff00, 0x0000ff, 0xffff00, 0xff00ff, 0x00ffff,\n",
    "          0xff0099, 0xff9900, 0x99ff00, 0x00ff99, 0x9900ff, 0x0099ff,\n",
    "          0xff9999, 0x99ff99, 0x9999ff, 0xffff99, 0xff99ff, 0x99ffff]"
   ]
  },
  {
   "cell_type": "markdown",
   "id": "cb0ee680",
   "metadata": {},
   "source": [
    "### Define the corner map"
   ]
  },
  {
   "cell_type": "markdown",
   "id": "516f236f",
   "metadata": {},
   "source": [
    "Define an index array with the shape (2,2,2) where first two dimensions denote corners  and the last dimension stands for bottom and top facet  "
   ]
  },
  {
   "cell_type": "code",
   "execution_count": null,
   "id": "a3e52087",
   "metadata": {},
   "outputs": [],
   "source": [
    "corner_map = np.array([[[17, 10],[15, 3], ], [[16, 10],[14, 3]]], dtype=np.int_)\n",
    "diag_corner_map = np.array([[(0, 0), (0, 1)], [(1, 0), (1, 1)]])\n",
    "\n",
    "def get_corner_f(diag_dir, y_dir):\n",
    "    diag_index = 0 if diag_dir == -1 else 1\n",
    "    y_index = 0 if y_dir == -1 else 1\n",
    "    return corner_map[tuple(diag_corner_map[diag_index][y_index])]"
   ]
  },
  {
   "cell_type": "code",
   "execution_count": null,
   "id": "715467d6",
   "metadata": {},
   "outputs": [],
   "source": [
    "x_dir_ = np.array([[1, -1],[-1, 1]])\n",
    "def get_x_dir( diag_dir, y_dir):\n",
    "    return diag_dir * y_dir\n",
    "get_x_dir(-1, -1)"
   ]
  },
  {
   "cell_type": "code",
   "execution_count": null,
   "id": "7c0fd5a7",
   "metadata": {},
   "outputs": [],
   "source": [
    "def plug_D_into_C(wb_plugged, wb_fixed, diag_dir, y_dir, d_X_0=565):\n",
    "    \"\"\"\n",
    "    Plug wb_D into wb_C along the selected diagonal.\n",
    "    \"\"\"\n",
    "    side_fixed, side_plugged = np.array([1, -1]) * y_dir\n",
    "    x_Cfa = wb_fixed.O_centroids_Fa[get_corner_f(diag_dir,side_fixed),1:]\n",
    "    n_Cfa = wb_fixed.O_normals_Fa[get_corner_f(diag_dir,side_fixed),1:]\n",
    "    x_Dfa = wb_plugged.O_centroids_Fa[get_corner_f(diag_dir,side_plugged),1:]\n",
    "    n_Dfa = wb_plugged.O_normals_Fa[get_corner_f(diag_dir,side_plugged),1:]\n",
    "\n",
    "    alpha_C_ = wb_fixed.alpha\n",
    "    X_C_ = wb_fixed.X_a[1:]\n",
    "\n",
    "    d_alpha_D_n_ = y_dir * get_d_alpha_D(alpha_C_, X_C_, n_Cfa[0], n_Dfa[1])\n",
    "    X_D1_ = get_X_D1(alpha_C_, X_C_, x_Cfa[0], x_Cfa[1], x_Dfa[0], x_Dfa[1], n_Cfa[0], n_Cfa[1], n_Dfa[0], n_Dfa[1], d_alpha_D_n_)\n",
    "    X_D2_ = get_X_D2(alpha_C_, X_C_, x_Cfa[0], x_Cfa[1], x_Dfa[0], x_Dfa[1], n_Cfa[0], n_Cfa[1], n_Dfa[0], n_Dfa[1], d_alpha_D_n_)\n",
    "\n",
    "    X_D0_ = wb_fixed.X_a[0] + d_X_0 * get_x_dir(diag_dir, y_dir)\n",
    "    wb_plugged.alpha = alpha_C_ + d_alpha_D_n_\n",
    "    wb_plugged.X_a = [X_D0_, X_D1_, X_D2_]"
   ]
  },
  {
   "cell_type": "code",
   "execution_count": null,
   "id": "6cfd7791",
   "metadata": {},
   "outputs": [],
   "source": [
    "def get_misfit(wb_D, wb_C, diag_dir, y_dir=1):\n",
    "    \"\"\"\n",
    "    Plug wb_D into wb_C along the diagonal diag.\n",
    "    \"\"\"\n",
    "    side_fixed, side_plugged = np.array([1, -1]) * y_dir\n",
    "    x_Cfa = wb_C.O_centroids_Fa[get_corner_f(diag_dir,side_fixed),1:]\n",
    "    n_Cfa = wb_C.O_normals_Fa[get_corner_f(diag_dir,side_fixed),1:]\n",
    "    x_Dfa = wb_D.O_centroids_Fa[get_corner_f(diag_dir,side_plugged),1:]\n",
    "    n_Dfa = wb_D.O_normals_Fa[get_corner_f(diag_dir,side_plugged),1:]\n",
    "\n",
    "    alpha_C_ = wb_C.alpha\n",
    "    d_alpha_D_ = wb_D.alpha - alpha_C_\n",
    "    X_C_ = wb_C.X_a[1:]\n",
    "    X_D_ = wb_D.X_a[1:]\n",
    "\n",
    "    misfit_Cb = get_misfit_Cb(alpha_C_, X_C_, x_Cfa[0], x_Cfa[1], x_Dfa[0], x_Dfa[1], n_Cfa[0], \n",
    "                          n_Cfa[1], n_Dfa[0], n_Dfa[1], d_alpha_D_, X_D_)\n",
    "    misfit_Ct = get_misfit_Ct(alpha_C_, X_C_, x_Cfa[0], x_Cfa[1], x_Dfa[0], x_Dfa[1], n_Cfa[0], \n",
    "                          n_Cfa[1], n_Dfa[0], n_Dfa[1], d_alpha_D_, X_D_)\n",
    "\n",
    "    return misfit_Cb, misfit_Ct\n"
   ]
  },
  {
   "cell_type": "code",
   "execution_count": null,
   "id": "fc80ef79",
   "metadata": {},
   "outputs": [],
   "source": [
    "def plot_plugged_neighbors_yz(wb_fixed, wb_plugged, diag_dir, y_dir, ax):\n",
    "\n",
    "    side_fixed, side_plugged = np.array([1, -1]) * y_dir\n",
    "\n",
    "    x_Cfa = wb_fixed.O_centroids_Fa[get_corner_f(diag_dir,side_fixed),1:]\n",
    "    n_Cfa = wb_fixed.O_normals_Fa[get_corner_f(diag_dir,side_fixed),1:]\n",
    "    x_Dfa = wb_plugged.O_centroids_Fa[get_corner_f(diag_dir,side_plugged),1:]\n",
    "    n_Dfa = wb_plugged.O_normals_Fa[get_corner_f(diag_dir,side_plugged),1:]\n",
    "\n",
    "    scale = 50\n",
    "    x2_Cfa = x_Cfa + n_Cfa * scale\n",
    "    x2_Dfa = x_Dfa + n_Dfa * scale\n",
    "\n",
    "    nC_alf = np.einsum('lfa->alf', np.array([x_Cfa, x2_Cfa]))\n",
    "    nD_alf = np.einsum('lfa->alf', np.array([x_Dfa, x2_Dfa]))\n",
    "\n",
    "    ax.plot(*x_Cfa.T, 'o', color='blue')\n",
    "    ax.plot(*x_Dfa.T, 'o', color='green')\n",
    "\n",
    "    ax.plot(*nC_alf[:,:,0], color='orange')\n",
    "    ax.plot(*nD_alf[:,:,1], color='orange')\n",
    "\n",
    "    O_crease_lines_X_aLi = np.einsum('Lia->aiL', wb_fixed.O_crease_lines_X_Lia)\n",
    "    ax.plot(*O_crease_lines_X_aLi[1:,...], color='blue')\n",
    "    O_crease_lines_X_aLi = np.einsum('Lia->aiL', wb_plugged.O_crease_lines_X_Lia)\n",
    "    ax.plot(*O_crease_lines_X_aLi[1:,...], color='green')\n",
    "\n",
    "    ax.set_aspect('equal')\n"
   ]
  },
  {
   "cell_type": "code",
   "execution_count": null,
   "id": "646398d5",
   "metadata": {},
   "outputs": [],
   "source": [
    "cell_enum = np.arange(1,13)\n",
    "\n",
    "plug_pi = np.array([\n",
    "    [0, 8, 1, 1],\n",
    "    [0, 2, -1, 1],\n",
    "    [2, 1, 1, -1],\n",
    "    [2, 3, 1, 1],\n",
    "    [3, 9, 1, 1],\n",
    "    [3, 5, -1, 1],\n",
    "    [5, 4, 1, -1],\n",
    "    [4, 10, 1, -1],\n",
    "    [5, 6, 1, 1],\n",
    "    [5, 7, -1, 1],\n",
    "    [7, 11, 1, -1]\n",
    "], dtype=np.int_)\n",
    "\n",
    "misfit_pi = np.array([\n",
    "    [8, 3, -1, 1],\n",
    "    [1, 10, -1, 1],\n",
    "    [2, 4, -1, 1],\n",
    "    [9, 6, -1, 1],\n",
    "    [4, 11, -1, 1]\n",
    "])\n",
    "\n",
    "def get_slit_seq(slit_Si):\n",
    "    cell_pair_pC = cell_enum[slit_Si[:,:2]] - 1\n",
    "    from_slit_diag_p = slit_Si[:, 2]\n",
    "    from_slit_dir_p = slit_Si[:, 3]\n",
    "    return cell_pair_pC, from_slit_diag_p, from_slit_dir_p\n"
   ]
  },
  {
   "cell_type": "code",
   "execution_count": null,
   "id": "2b45a561",
   "metadata": {},
   "outputs": [],
   "source": [
    "def plug_modules(wbs, plug_pi):\n",
    "    for wb_link, diag, dir in zip(*get_slit_seq(plug_pi)):\n",
    "        wb_fixed, wb_plugged = wbs[wb_link]\n",
    "        plug_D_into_C(wb_plugged, wb_fixed, diag, dir)\n",
    "\n",
    "def reset_modules(wbs):\n",
    "    for wb in wbs:\n",
    "        wb.alpha = 0\n",
    "        wb.X_a = [0,0,0]\n",
    "        wb.O_flip = 1\n",
    "\n",
    "def plot_modules_3D(wbs, plot, module_numbers=True, facet_numbers=False):\n",
    "    for i, wb in enumerate(wbs):\n",
    "        color = colors[i % len(colors)]\n",
    "        wb.plot_points(plot, wb.G_centroids_Fa[[14,15,16,17]], point_size=8, plot_numbers=facet_numbers)\n",
    "        wb.plot_G_facets(plot, color=color, module_numbers=module_numbers)\n",
    "\n",
    "def plot_modules_yz(wbs, ax):\n",
    "    for i, wb in enumerate(wbs):\n",
    "        G_crease_lines_X_aLi = np.einsum('Lia->aiL', wb.G_crease_lines_X_Lia)\n",
    "        ax.plot(*G_crease_lines_X_aLi[1:,...], color='black')\n",
    "    ax.set_aspect('equal')\n",
    "\n",
    "def plot_modules_xz(wbs, ax):\n",
    "    for i, wb in enumerate(wbs):\n",
    "        G_crease_lines_X_aLi = np.einsum('Lia->aiL', wb.G_crease_lines_X_Lia)\n",
    "        ax.plot(*G_crease_lines_X_aLi[[0,2],...], color='black')\n",
    "    ax.set_aspect('equal')\n"
   ]
  },
  {
   "cell_type": "markdown",
   "id": "b21bb6ad",
   "metadata": {},
   "source": [
    "### Read the scanned files for individual cells"
   ]
  },
  {
   "cell_type": "markdown",
   "id": "9690a347",
   "metadata": {},
   "source": [
    "Demonstrator series"
   ]
  },
  {
   "cell_type": "code",
   "execution_count": null,
   "id": "dc4b4114",
   "metadata": {},
   "outputs": [],
   "source": [
    "modules = {'WB305': ('WB305_facets_points.obj', [[1, 0], [np.pi/2, np.pi/2]]),\n",
    "           'WB306': ('WB306_facets_points.obj', [[1, 0], [np.pi/2, -np.pi/2]]),\n",
    "           'WB307': ('WB307_facets_points.obj', [[1], [np.pi/2]]),\n",
    "           'WB308': ('WB308_facets_points.obj', [[1, 2], [np.pi/2, np.pi]]),\n",
    "           'WB309': ('WB309_facets_points.obj', [[0, 2], [np.pi/2, -np.pi/2]]),\n",
    "           'WB310': ('WB310_facets_points.obj', [[1, 2], [np.pi/2, np.pi]]),\n",
    "           'WB311': ('WB311_facets_points.obj', [[1], [np.pi/2]]),\n",
    "           'WB312': ('WB312_facets_points.obj', [[1], [-np.pi/2]]),\n",
    "           'WB313': ('WB307_facets_points.obj', [[1], [np.pi/2]]),\n",
    "           'WB314': ('WB310_facets_points.obj', [[1, 2], [np.pi/2, np.pi]]),\n",
    "           'WB315': ('WB311_facets_points.obj', [[1], [np.pi/2]]),\n",
    "           'WB316': ('WB311_facets_points.obj', [[1], [np.pi/2]]),\n",
    "           }\n",
    "\n",
    "\n",
    "modules_list = [(k, *v, c) for (k, v), c in zip(sorted(modules.items()), colors) ]"
   ]
  },
  {
   "cell_type": "code",
   "execution_count": null,
   "id": "b20d46dd",
   "metadata": {},
   "outputs": [],
   "source": [
    "# modules = {key: ('WB305_facets_points.obj', [[1, 0, 2], [np.pi/2, np.pi/2, 0]]) for key in \n",
    "#            ['WB305', \n",
    "#             'WB306', 'WB307', 'WB308', 'WB309', 'WB310', 'WB311', 'WB312', 'WB313', 'WB314', 'WB315', 'WB316'\n",
    "#             ]}\n",
    "# modules_list = [(k, *v, c) for (k, v), c in zip(sorted(modules.items()), colors) ]"
   ]
  },
  {
   "cell_type": "code",
   "execution_count": null,
   "id": "b7748d11",
   "metadata": {},
   "outputs": [],
   "source": [
    "def read_modules(modules):\n",
    "    return np.array([WBScannedCell(file_path=file, label=key,\n",
    "                                         rotate_system=rotate_system) \n",
    "        for key, file, rotate_system, _ in modules_list ], dtype=np.object_)\n",
    "\n",
    "wbs = read_modules(modules)\n",
    "wbs.shape"
   ]
  },
  {
   "cell_type": "code",
   "execution_count": null,
   "id": "d415eade",
   "metadata": {},
   "outputs": [],
   "source": [
    "wb = wbs[4]\n",
    "plot = k3d.plot(name='Vectors')\n",
    "wb.plot_groups_of_points(plot, wb.wb_scan_X_Fia)\n",
    "wb.plot_points(plot, wb.centroids_Fa, point_size=20, \n",
    "                      color=0x000000, plot_numbers=True)\n",
    "# wb.plot_points(plot, wb.isc_points_Li, point_size=20, \n",
    "#                      color=0x0000ff, plot_numbers=False)\n",
    "# wb.plot_intersection_lines(plot)\n",
    "plot.display()"
   ]
  },
  {
   "cell_type": "code",
   "execution_count": null,
   "id": "f09ff01d",
   "metadata": {},
   "outputs": [],
   "source": [
    "\n",
    "plot = k3d.plot(name='Vectors')\n",
    "#wb.plot_points(plot, wb.O_centroids_Fa, plot_numbers=True)\n",
    "plot_modules_3D(wbs[4:5], plot, facet_numbers=False, module_numbers=False)\n",
    "plot.display()"
   ]
  },
  {
   "cell_type": "code",
   "execution_count": null,
   "id": "6062d6ae",
   "metadata": {},
   "outputs": [],
   "source": [
    "plot = k3d.plot(name='Vectors')\n",
    "wbs = read_modules(modules)\n",
    "plug_modules(wbs, plug_pi[:])\n",
    "plot_modules_3D(wbs, plot)\n",
    "# Display the plot and the legend side by side\n",
    "plot.display()"
   ]
  },
  {
   "cell_type": "code",
   "execution_count": null,
   "id": "cfca7d78",
   "metadata": {},
   "outputs": [],
   "source": [
    "%matplotlib widget\n",
    "\n",
    "\n",
    "wb_C = wbs[8]\n",
    "wb_D = wbs[8]\n",
    "diag_dir = 1\n",
    "y_dir = 1\n",
    "fig, ax = plt.subplots(1,1, figsize=(8,2))\n",
    "plot_plugged_neighbors_yz(wb_C, wb_D, diag_dir, y_dir, ax)\n",
    "\n"
   ]
  },
  {
   "cell_type": "code",
   "execution_count": null,
   "id": "d387d899",
   "metadata": {},
   "outputs": [],
   "source": [
    "fig, ax = plt.subplots(1,1,figsize=(12,2))\n",
    "plot_modules_yz(wbs, ax)"
   ]
  },
  {
   "cell_type": "markdown",
   "id": "6a190d7f",
   "metadata": {},
   "source": [
    "## Quantification of misfit"
   ]
  },
  {
   "cell_type": "code",
   "execution_count": null,
   "id": "ea094637",
   "metadata": {},
   "outputs": [],
   "source": [
    "def get_module_misfits(wbs, slit_pi):\n",
    "    misfits_ = []\n",
    "    for wb_link, diag, dir in zip(*get_slit_seq(slit_pi)):\n",
    "        wb_fixed, wb_plugged = wbs[wb_link]\n",
    "        m1 = get_misfit(wb_plugged, wb_fixed, diag, dir)\n",
    "        misfits_.append(m1)\n",
    "\n",
    "    misfits = np.array(misfits_)\n",
    "    return misfits"
   ]
  },
  {
   "cell_type": "code",
   "execution_count": null,
   "id": "b6969f44",
   "metadata": {},
   "outputs": [],
   "source": [
    "get_module_misfits(wbs, plug_pi)"
   ]
  },
  {
   "cell_type": "code",
   "execution_count": null,
   "id": "0ce1854f",
   "metadata": {},
   "outputs": [],
   "source": [
    "get_module_misfits(wbs, misfit_pi)"
   ]
  },
  {
   "cell_type": "markdown",
   "id": "17ed8250",
   "metadata": {},
   "source": [
    "## All possible cell arrangements"
   ]
  },
  {
   "cell_type": "markdown",
   "id": "a3bffe41",
   "metadata": {},
   "source": [
    "Combine 8 entities of type A and four entities of type B in all possible ordered sequences of 12 entities. While the type A entities go to the first 8 slots, the type B entities go to the last 4 slots. The entities are identified by integers starting from 1 ... 8 for type A and 9 ... 12 for type B. Further, the type A entities are assumed to have either positive or negative sign. However, their combinations are not assumed arbitrary. The signs in the slots [0, 1, 3, 4, 6, 7] are assumed always opposite to the slots [2, 5]. "
   ]
  },
  {
   "cell_type": "code",
   "execution_count": null,
   "id": "a50bd886",
   "metadata": {},
   "outputs": [],
   "source": [
    "import itertools\n",
    "\n",
    "# Create arrays of entities\n",
    "entities_A = np.arange(1, 9)  # Entities of type A\n",
    "entities_B = np.arange(9, 13)  # Entities of type B\n",
    "\n",
    "# Generate all permutations for both types\n",
    "perms_A = np.array(list(itertools.permutations(entities_A)))\n",
    "perms_B = np.array(list(itertools.permutations(entities_B)))\n",
    "\n",
    "# Create sign arrays\n",
    "signs_1 = np.array([1, 1, -1, 1, 1, -1, 1, 1])\n",
    "signs_2 = -signs_1\n",
    "alter_signs = np.array([signs_1, signs_2])\n",
    "\n",
    "perms_A_signed = perms_A[:, np.newaxis, :8] * alter_signs[np.newaxis, :, :]\n",
    "perms_A = perms_A_signed.reshape(-1, 8)\n",
    "\n",
    "# Combine permutations of A and B in all possible sequences\n",
    "all_perms = np.array([np.concatenate((pa, pb)) for pa in perms_A for pb in perms_B])\n"
   ]
  },
  {
   "cell_type": "code",
   "execution_count": null,
   "id": "8f994d2e",
   "metadata": {},
   "outputs": [],
   "source": [
    "all_perms.shape"
   ]
  },
  {
   "cell_type": "markdown",
   "id": "26b4126b",
   "metadata": {},
   "source": [
    "## Run over several combinations and evaluate the misfit"
   ]
  },
  {
   "cell_type": "code",
   "execution_count": null,
   "id": "ebeb50cd",
   "metadata": {},
   "outputs": [],
   "source": [
    "def assembly_flip(wbs, flip_map):\n",
    "    for wb, O_flip in zip(wbs, flip_map):\n",
    "        wb.O_flip = O_flip\n",
    "\n",
    "wbs = read_modules(modules)\n",
    "combination_choice = np.random.choice(all_perms.shape[0], 5000, replace=False)\n",
    "misfit_tC_ = []\n",
    "for wb_perm in all_perms[combination_choice]:\n",
    "    O_flip_map = np.sign(wb_perm)\n",
    "    wb_C = np.abs(wb_perm) - 1\n",
    "    wbs_t = wbs[wb_C]\n",
    "    assembly_flip(wbs_t, O_flip_map)\n",
    "    plug_modules(wbs_t, plug_pi)\n",
    "    misfit_C = get_module_misfits(wbs_t, misfit_pi)\n",
    "    misfit_tC_.append(misfit_C)\n",
    "    reset_modules(wbs_t)\n",
    "misfit_tC = np.array(misfit_tC_)"
   ]
  },
  {
   "cell_type": "markdown",
   "id": "6d0d9264",
   "metadata": {},
   "source": [
    "Choose the best assembly and plot it"
   ]
  },
  {
   "cell_type": "code",
   "execution_count": null,
   "id": "415bba73",
   "metadata": {},
   "outputs": [],
   "source": [
    "best_t = np.argmin(np.max(np.fabs(misfit_tC), axis=(1,2)))\n",
    "misfit_tC[best_t]"
   ]
  },
  {
   "cell_type": "code",
   "execution_count": null,
   "id": "c82ba19c",
   "metadata": {},
   "outputs": [],
   "source": [
    "reset_modules(wbs)\n",
    "O_flip_map = np.sign(all_perms[combination_choice[best_t]])\n",
    "wbs_t = wbs[np.abs(all_perms[combination_choice[best_t]]) - 1]\n",
    "assembly_flip(wbs_t, O_flip_map)\n",
    "\n",
    "plot = k3d.plot(name='Vectors')\n",
    "plug_modules(wbs_t, plug_pi)\n",
    "plot_modules_3D(wbs_t, plot, module_numbers=False, facet_numbers=False)\n",
    "plot.display()"
   ]
  },
  {
   "cell_type": "code",
   "execution_count": null,
   "id": "b5b2a0f8",
   "metadata": {},
   "outputs": [],
   "source": [
    "fig, ax = plt.subplots()\n",
    "plot_modules_yz(wbs_t, ax)"
   ]
  },
  {
   "cell_type": "markdown",
   "id": "2741145e",
   "metadata": {},
   "source": [
    "## Extract the plugin support heights"
   ]
  },
  {
   "cell_type": "code",
   "execution_count": null,
   "id": "c9ace550",
   "metadata": {},
   "outputs": [],
   "source": [
    "wb_row_map = [[0, 1], [2, 8, 10], [3, 4], [5, 9, 11], [6, 7]]\n",
    "def get_support_geometry(wbs_t, rows = wb_row_map):\n",
    "    YZ_rows_, alpha_rows_ = [], []\n",
    "    for row in rows:\n",
    "        YZ_row = []\n",
    "        alpha_row = []\n",
    "        cells = wbs_t[row]\n",
    "        for cell in cells:\n",
    "            YZ_row.append(cell.X_a[1:])\n",
    "            alpha_row.append(cell.alpha)\n",
    "        YZ_rows_.append( np.average(np.array(YZ_row, dtype=np.float_), axis=0 ) )\n",
    "        alpha_rows_.append( np.average(np.array(alpha_row, dtype=np.float_), axis=0 ) )\n",
    "    return np.array(YZ_rows_, dtype=np.float_), np.array(alpha_rows_, dtype=np.float_)                "
   ]
  },
  {
   "cell_type": "code",
   "execution_count": null,
   "id": "645629fd",
   "metadata": {},
   "outputs": [],
   "source": [
    "wb_X_Ca, wb_alpha_C = get_support_geometry(wbs_t)\n",
    "wb_X_Ca"
   ]
  },
  {
   "cell_type": "markdown",
   "id": "cc735da7",
   "metadata": {},
   "source": [
    "Plot a vertical column of a width W and height H which denotes the distance from the floor at the level zero to a saddle point in the located at the height H in the middle of the column. There are two lines starting from the saddle towards the vertical boundaries of the column symmetrically at an angle $\\gamma < \\pi/2$. The intersections of these two lines with the vertical boundaries of the columns are higher than the saddle point. The column is filled with color `c`. The upper boundary of the column has a V-shape. An additional feature of the function is the possibility to tilt the V-shape by an angle $\\alpha < \\pi / 4$.    \n",
    " "
   ]
  },
  {
   "cell_type": "code",
   "execution_count": null,
   "id": "b42e2603",
   "metadata": {},
   "outputs": [],
   "source": [
    "from matplotlib.patches import Arc\n",
    "\n",
    "def plot_support_vshape(ax, X, D, H, W, G, alpha, gamma, c, dist_dimline):\n",
    "    # Calculate coordinates of the V-shape\n",
    "    x_middle = X\n",
    "    W2 = W / 2\n",
    "    G2 = G / 2\n",
    "    x_left = X - W2\n",
    "    x_mid_left = X - G2\n",
    "    x_right = X + W2\n",
    "    x_mid_right = X + G2\n",
    "    y_middle = H + D\n",
    "    y_top_left = y_middle + np.tan(np.pi/2-gamma/2+alpha) * W2\n",
    "    y_top_right = y_middle + np.tan(np.pi/2-gamma/2-alpha) * W2\n",
    "    y_mid_left = y_middle + np.tan(np.pi/2-gamma/2+alpha) * G2\n",
    "    y_mid_right = y_middle + np.tan(np.pi/2-gamma/2-alpha) * G2\n",
    "\n",
    "    x = [x_left, x_mid_left, x_mid_left, x_left, x_left]\n",
    "    y = [D, D, y_mid_left, y_top_left, D]\n",
    "    ax.fill(x, y, c)\n",
    "    ax.plot(x, y, color='black')\n",
    "\n",
    "    x = [x_mid_right, x_right, x_right, x_mid_right, x_mid_right]\n",
    "    y = [D, D, y_top_right, y_mid_right, D]\n",
    "    ax.fill(x, y, c)\n",
    "    ax.plot(x, y, color='black')\n",
    "\n",
    "    # Create dimension lines\n",
    "    ax.annotate(\"\", xy=(x_left-dist_dimline, D), xytext=(x_left-dist_dimline, y_top_left), arrowprops=dict(arrowstyle='<->'))\n",
    "    ax.text(x_left-dist_dimline, (y_top_left+D)/2, f\"{y_top_left-D:.0f}\", ha='right', va='center', rotation=90)\n",
    "\n",
    "    ax.annotate(\"\", xy=(x_right+dist_dimline, D), xytext=(x_right+dist_dimline, y_top_right), arrowprops=dict(arrowstyle='<->'))\n",
    "    ax.text(x_right+dist_dimline, (y_top_right+D)/2, f\"{y_top_right-D:.0f}\", ha='left', va='center', rotation=90)\n",
    "\n",
    "    ax.annotate(\"\", xy=(x_middle, D), xytext=(x_middle, y_middle), arrowprops=dict(arrowstyle='<->'))\n",
    "    ax.text(x_middle+dist_dimline/2, (y_middle+D)/2, f\"{y_middle-D:.0f}\", ha='center', va='center', rotation=90)\n",
    "\n",
    "    ax.annotate(\"\", xy=(x_middle, 0), xytext=(x_middle, D), arrowprops=dict(arrowstyle='<->'))\n",
    "    ax.text(x_middle-dist_dimline, D/2, f\"{D:.0f}\", ha='center', va='center', rotation=90)\n",
    "\n",
    "    ax.annotate(\"\", xy=(x_left, D+dist_dimline), xytext=(x_right, D+dist_dimline), \n",
    "                arrowprops=dict(arrowstyle='<->'))\n",
    "    ax.text(x_left, D+dist_dimline, f\"{W:.0f}\", ha='left', va='bottom', rotation=0)\n",
    "\n",
    "    # Plot horizontal line\n",
    "    ax.plot([x_middle-W/4, x_middle+W/4], [y_middle, y_middle], color='black')\n",
    "    \n",
    "    # Plot angles\n",
    "    angle_left = np.degrees(np.pi/2-gamma/2+alpha)\n",
    "    angle_right = np.degrees(np.pi/2-gamma/2-alpha)\n",
    "    ax.add_patch(Arc((x_middle, y_middle), W/4, W/4, theta1=0, theta2=angle_left, \n",
    "                     edgecolor='black', linestyle='dashed'))\n",
    "    ax.add_patch(Arc((x_middle, y_middle), W/4, W/4, theta1=180-angle_right, theta2=180,  \n",
    "                     edgecolor='black', linestyle='dashed'))\n",
    "    \n",
    "    ax.text(x_middle+W/8, y_middle+30, f\"{angle_right:.1f}$^\\circ$\", va='bottom', ha='left')\n",
    "    ax.text(x_middle-W/8, y_middle+30, f\"{angle_left:.1f}$^\\circ$\", va='bottom', ha='right')\n",
    "\n",
    "    ax.set_aspect('equal')\n",
    "\n",
    "    # switch off the axes\n",
    "    ax.axis('off')"
   ]
  },
  {
   "cell_type": "markdown",
   "id": "b992f4b4",
   "metadata": {},
   "source": [
    "### Get the average angle of the middle opposite facets [3, 10] "
   ]
  },
  {
   "cell_type": "code",
   "execution_count": null,
   "id": "423e92ec",
   "metadata": {},
   "outputs": [],
   "source": [
    "def get_gamma_support(wbs_t):\n",
    "    \"\"\"Get the average dihedral angle between the supported middle facets    \n",
    "    \"\"\"\n",
    "    gammas_ = []\n",
    "    for wb in wbs_t:\n",
    "        n1, n2 = wb.normals_Fa[[3,10]]\n",
    "        gamma_ = np.pi - np.arccos(np.einsum('i,i->', n1, n2))\n",
    "        gammas_.append(gamma_)\n",
    "    gamma = np.average(np.array(gammas_))\n",
    "    return gamma"
   ]
  },
  {
   "cell_type": "code",
   "execution_count": null,
   "id": "eacf61a0",
   "metadata": {},
   "outputs": [],
   "source": [
    "def get_bounding_box(wbs_t):\n",
    "    \"\"\"Get the deepest node of the supplied cells\n",
    "    \"\"\"\n",
    "    X_FNa_ = []\n",
    "    for wb in wbs_t:\n",
    "        X_Na = wb.G_crease_nodes_X_Na\n",
    "        X_FNa_.append(X_Na)\n",
    "    X_min = np.min(np.array(X_FNa_), axis=(0,1))\n",
    "    X_max = np.max(np.array(X_FNa_), axis=(0,1))\n",
    "    return X_min, X_max"
   ]
  },
  {
   "cell_type": "code",
   "execution_count": null,
   "id": "5d8c8a82",
   "metadata": {},
   "outputs": [],
   "source": [
    "fig, ax = plt.subplots(1,1, figsize=(12, 3))\n",
    "fig.canvas.header_visible = False\n",
    "\n",
    "D = 136\n",
    "\n",
    "wb_X_Ca, wb_alpha_C = get_support_geometry(wbs_t)\n",
    "\n",
    "min_y = np.min(wb_X_Ca[:,1])\n",
    "base_height = 78\n",
    "y_shift = base_height - min_y\n",
    "\n",
    "y_values = [wb.X_a[2] for wb in wbs_t]\n",
    "\n",
    "for X_Ca, alpha_C in zip(wb_X_Ca, wb_alpha_C):\n",
    "    plot_support_vshape(ax, X=X_Ca[0], D=D, H=X_Ca[1]+y_shift, W=300, G=0, alpha=alpha_C, \n",
    "                gamma=get_gamma_support(wbs_t), c='lightgray', dist_dimline=-50)\n",
    "\n",
    "\n",
    "for wb, y_value in zip(wbs_t, y_values):\n",
    "    X_a = np.copy(wb.X_a)\n",
    "    X_a[2] += D + y_shift\n",
    "    wb.X_a = X_a\n",
    "\n",
    "show_modules_yz = False\n",
    "if show_modules_yz:\n",
    "    plot_modules_yz(wbs_t, ax)\n",
    "\n",
    "X_min, X_max = get_bounding_box(wbs_t[[6,7]])\n",
    "y_arg = X_min[2]\n",
    "x_max = X_max[1]\n",
    "ax.annotate(\"\", xy=(x_max, 0), xytext=(x_max, y_arg), arrowprops=dict(arrowstyle='<->'))\n",
    "ax.text(x_max-50, (y_arg)/2, f\"{y_arg:.0f}\", ha='center', va='center', rotation=90)\n",
    "ax.plot([x_max-100, x_max+100], [y_arg, y_arg], linestyle='dashed', color='black')\n",
    "\n",
    "X_min, X_max = get_bounding_box(wbs_t[[0,1]])\n",
    "y_arg = X_min[2]\n",
    "x_min = X_min[1]\n",
    "ax.annotate(\"\", xy=(x_min, 0), xytext=(x_min, y_arg), arrowprops=dict(arrowstyle='<->'))\n",
    "ax.text(x_min-50, (y_arg)/2, f\"{y_arg:.0f}\", ha='center', va='center', rotation=90)\n",
    "ax.plot([x_min-100, x_min+100], [y_arg, y_arg], linestyle='dashed', color='black')\n",
    "\n",
    "# Plot floor and its annotation\n",
    "ax.plot([x_min, x_max], [0, 0], color='black')\n",
    "ax.text((x_min+x_max)/2, 0, \"floor\", ha='center', va='top')\n",
    "\n",
    "for wb, y_value in zip(wbs_t, y_values):\n",
    "    X_a = np.copy(wb.X_a)\n",
    "    X_a[2] = y_value\n",
    "    wb.X_a = X_a\n",
    "\n",
    "fig.savefig(fname='trolleys_longitudinal.pdf')    "
   ]
  },
  {
   "cell_type": "code",
   "execution_count": null,
   "id": "1a1a8c1a",
   "metadata": {},
   "outputs": [],
   "source": [
    "%matplotlib widget\n",
    "fig, ax = plt.subplots(1,1, figsize=(16, 4))\n",
    "fig.canvas.header_visible = False\n",
    "\n",
    "delta_x = 1200\n",
    "z_gap = 15\n",
    "\n",
    "wb_X_Ca, wb_alpha_C = get_support_geometry(wbs_t)\n",
    "\n",
    "min_y = np.min(wb_X_Ca[:,1])\n",
    "base_height = 78\n",
    "y_shift = base_height - min_y\n",
    "\n",
    "x_values = [wb.X_a[0] for wb in wbs_t]\n",
    "y_values = [wb.X_a[2] for wb in wbs_t]\n",
    "\n",
    "for wb, y_value in zip(wbs_t, y_values):\n",
    "    X_a = np.copy(wb.X_a)\n",
    "    X_a[2] += D + y_shift\n",
    "    wb.X_a = X_a\n",
    "\n",
    "wb_row_map = [[0, 1], [2, 8, 10], [3, 4], [5, 9, 11], [6, 7]]\n",
    "for i, row in enumerate(wb_row_map):\n",
    "    x_shift = i * delta_x\n",
    "    cells = wbs_t[row]\n",
    "\n",
    "    for cell in cells:\n",
    "        X_a = np.copy(cell.X_a)\n",
    "        X_a[0] = x_shift\n",
    "        cell.X_a = X_a\n",
    "        X_Lia = cell.G_crease_lines_X_Lia[[17,18]]\n",
    "        z_mountain = np.average(X_Lia[...,2]) - z_gap\n",
    "    plot_modules_xz(cells, ax)\n",
    "    ax.plot([x_shift-300, x_shift-300],[D,z_mountain])\n",
    "    ax.annotate(\"\", xy=(x_shift-550, D), xytext=(x_shift-550, z_mountain), arrowprops=dict(arrowstyle='<->'))\n",
    "    ax.text(x_shift-550-50, D+z_mountain / 2, f\"{z_mountain-D:.0f}\", ha='center', va='center', rotation=90)\n",
    "\n",
    "for wb, x_value in zip(wbs_t, x_values):\n",
    "    X_a = np.copy(wb.X_a)\n",
    "    X_a[0] = x_value\n",
    "    wb.X_a = X_a\n",
    "\n",
    "ax.annotate(\"\", xy=(0, 0), xytext=(0, D), arrowprops=dict(arrowstyle='<->'))\n",
    "ax.text(50, D/2, f\"{D:.0f}\", ha='center', va='center', rotation=90)\n",
    "\n",
    "X_min, X_max = get_bounding_box(wbs_t[[6,7]])\n",
    "y_arg = X_min[2]\n",
    "x_max = (delta_x * 5 - 400)\n",
    "ax.annotate(\"\", xy=(x_max, 0), xytext=(x_max, y_arg), arrowprops=dict(arrowstyle='<->'))\n",
    "ax.text(x_max-50, (y_arg)/2, f\"{y_arg:.0f}\", ha='center', va='center', rotation=90)\n",
    "ax.plot([x_max-100, x_max+100], [y_arg, y_arg], linestyle='dashed', color='black')\n",
    "\n",
    "X_min, X_max = get_bounding_box(wbs_t[[0,1]])\n",
    "y_arg = X_min[2]\n",
    "x_min = -1000\n",
    "ax.annotate(\"\", xy=(x_min, 0), xytext=(x_min, y_arg), arrowprops=dict(arrowstyle='<->'))\n",
    "ax.text(x_min-50, (y_arg)/2, f\"{y_arg:.0f}\", ha='center', va='center', rotation=90)\n",
    "ax.plot([x_min-100, x_min+100], [y_arg, y_arg], linestyle='dashed', color='black')\n",
    "\n",
    "# Plot floor and its annotation\n",
    "ax.plot([x_min, x_max], [D, D], linestyle='dashed', color='black')\n",
    "\n",
    "# Plot floor and its annotation\n",
    "ax.plot([x_min, x_max], [0, 0], color='black')\n",
    "ax.text((x_min+x_max)/2, 0, \"floor\", ha='center', va='top')\n",
    "\n",
    "ax.set_aspect('equal')\n",
    "ax.axis('off');\n",
    "\n",
    "fig.savefig(fname='trolleys_transverse.pdf')    "
   ]
  }
 ],
 "metadata": {
  "kernelspec": {
   "display_name": "Python 3 (ipykernel)",
   "language": "python",
   "name": "python3"
  },
  "language_info": {
   "codemirror_mode": {
    "name": "ipython",
    "version": 3
   },
   "file_extension": ".py",
   "mimetype": "text/x-python",
   "name": "python",
   "nbconvert_exporter": "python",
   "pygments_lexer": "ipython3"
  },
  "toc": {
   "base_numbering": 1,
   "nav_menu": {},
   "number_sections": true,
   "sideBar": true,
   "skip_h1_title": false,
   "title_cell": "Table of Contents",
   "title_sidebar": "Contents",
   "toc_cell": false,
   "toc_position": {},
   "toc_section_display": true,
   "toc_window_display": false
  }
 },
 "nbformat": 4,
 "nbformat_minor": 5
}
