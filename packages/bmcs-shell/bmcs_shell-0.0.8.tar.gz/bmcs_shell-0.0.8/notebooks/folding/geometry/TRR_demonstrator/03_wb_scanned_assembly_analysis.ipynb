{
 "cells": [
  {
   "cell_type": "markdown",
   "id": "2e85963e",
   "metadata": {},
   "source": [
    "# Assembling the imperfect waterbomb elements"
   ]
  },
  {
   "cell_type": "markdown",
   "id": "99db02dc",
   "metadata": {},
   "source": [
    "Show the structure of implementation with distributed responsibilities:\n",
    "\n",
    "**WBCell:** individual cell related operations.\n",
    "\n",
    "**WBAssembly:** responsible for assembling the cells. It can use classes like CellCombinator and CellEvaluator to get the job done.\n",
    "\n",
    "**WBCombinator:** take care of generating all possible permutations of cells."
   ]
  },
  {
   "cell_type": "code",
   "execution_count": null,
   "id": "3a428099",
   "metadata": {},
   "outputs": [],
   "source": [
    "import k3d\n",
    "import numpy as np\n",
    "import matplotlib.pylab as plt\n",
    "from bmcs_shell.folding.assembly.wb_assembler import WBAssembler"
   ]
  },
  {
   "cell_type": "markdown",
   "id": "94689040",
   "metadata": {},
   "source": [
    "# Modules 3"
   ]
  },
  {
   "cell_type": "markdown",
   "id": "b21bb6ad",
   "metadata": {},
   "source": [
    "### Read the scanned files for individual cells"
   ]
  },
  {
   "cell_type": "markdown",
   "id": "9690a347",
   "metadata": {},
   "source": [
    "Demonstrator series"
   ]
  },
  {
   "cell_type": "code",
   "execution_count": null,
   "id": "dc4b4114",
   "metadata": {},
   "outputs": [],
   "source": [
    "modules = {'WB305': ('WB305_facets_points.obj', [[1, 0], [np.pi/2, np.pi/2]]),\n",
    "           'WB306': ('WB306_facets_points.obj', [[1, 0], [np.pi/2, -np.pi/2]]),\n",
    "           'WB307': ('WB307_facets_points.obj', [[1], [np.pi/2]]),\n",
    "           'WB308': ('WB308_facets_points.obj', [[1, 2], [np.pi/2, np.pi]]),\n",
    "           'WB309': ('WB309_facets_points.obj', [[0, 2], [np.pi/2, -np.pi/2]]),\n",
    "           'WB310': ('WB310_facets_points.obj', [[1, 2], [np.pi/2, np.pi]]),\n",
    "           'WB311': ('WB311_facets_points.obj', [[1], [np.pi/2]]),\n",
    "           'WB312': ('WB312_facets_points.obj', [[1], [-np.pi/2]]),\n",
    "           'WB313': ('WB307_facets_points.obj', [[1], [np.pi/2]]),\n",
    "           'WB314': ('WB310_facets_points.obj', [[1, 2], [np.pi/2, np.pi]]),\n",
    "           'WB315': ('WB311_facets_points.obj', [[1], [np.pi/2]]),\n",
    "           'WB316': ('WB311_facets_points.obj', [[1], [np.pi/2]]),\n",
    "           }\n",
    "\n",
    "assembly = WBAssembler(modules=modules)"
   ]
  },
  {
   "cell_type": "markdown",
   "id": "6a8e1a2f",
   "metadata": {},
   "source": [
    "### Check the orientation of the individual cells\n",
    "\n",
    "To ensure a link to the real cells check to see that the cell is defined\n",
    "in the $x-y$ plane and its marker is on the bottom right corner."
   ]
  },
  {
   "cell_type": "code",
   "execution_count": null,
   "id": "d415eade",
   "metadata": {},
   "outputs": [],
   "source": [
    "wb = assembly.wbs[4]\n",
    "plot = k3d.plot(name='Vectors')\n",
    "wb.plot_groups_of_points(plot, wb.wb_scan_X_Fia)\n",
    "wb.plot_points(plot, wb.centroids_Fa, point_size=20, \n",
    "                      color=0x000000, plot_numbers=True)\n",
    "plot.display()"
   ]
  },
  {
   "cell_type": "markdown",
   "id": "7fee90ce",
   "metadata": {},
   "source": [
    "### Show geometrical deviations\n",
    "\n",
    "Plot all cells in a local coordinate system located in the center of the cell one over the other to see the amount of the deviations between individual cells."
   ]
  },
  {
   "cell_type": "code",
   "execution_count": null,
   "id": "f09ff01d",
   "metadata": {},
   "outputs": [],
   "source": [
    "\n",
    "plot = k3d.plot(name='Vectors')\n",
    "#wb.plot_points(plot, wb.O_centroids_Fa, plot_numbers=True)\n",
    "assembly.plot_modules_3D(plot, facet_numbers=False, module_numbers=False)\n",
    "plot.display()"
   ]
  },
  {
   "cell_type": "markdown",
   "id": "f57cb2ea",
   "metadata": {},
   "source": [
    "### Apply the assembly scenario\n",
    "\n",
    "The position of the cells is defined by running the assembly sequence. Due to imperfections, each plug step means a deviation from the ideal geometry. To avoid cumulation of imprecisions, the order and orientation of cells will be varied with the goal to compensate for the imprecision within such that the misfit between cells is minimized."
   ]
  },
  {
   "cell_type": "code",
   "execution_count": null,
   "id": "6062d6ae",
   "metadata": {},
   "outputs": [],
   "source": [
    "plot = k3d.plot(name='Vectors')\n",
    "assembly.plug_modules()\n",
    "assembly.plot_modules_3D(plot)\n",
    "plot.display()"
   ]
  },
  {
   "cell_type": "markdown",
   "id": "4350920a",
   "metadata": {},
   "source": [
    "### Verify the contact conditions\n",
    "\n",
    "Show the contact points of two cells in local coordinate system. Calculation of rotation\n",
    "and translation in horizontal and vertical directions requires that the marked points are \n",
    "lie on the plane of the facet that is indicated by the indicated normal vector."
   ]
  },
  {
   "cell_type": "code",
   "execution_count": null,
   "id": "cfca7d78",
   "metadata": {},
   "outputs": [],
   "source": [
    "%matplotlib widget\n",
    "wb_C = assembly.wbs[8]\n",
    "wb_D = assembly.wbs[8]\n",
    "fig, ax = plt.subplots(1,1, figsize=(8,2))\n",
    "wb_C.plot_plugged_neighbors_yz(wb_D, diag_dir=1, y_dir=1, ax=ax)"
   ]
  },
  {
   "cell_type": "markdown",
   "id": "9250470f",
   "metadata": {},
   "source": [
    "### Plot the longitudinal view of the assembly"
   ]
  },
  {
   "cell_type": "code",
   "execution_count": null,
   "id": "d387d899",
   "metadata": {},
   "outputs": [],
   "source": [
    "fig, ax = plt.subplots(1,1,figsize=(12,2))\n",
    "assembly.plot_modules_yz(ax)"
   ]
  },
  {
   "cell_type": "markdown",
   "id": "51cf87e0",
   "metadata": {},
   "source": [
    "###  Plot transverse view of the assembly"
   ]
  },
  {
   "cell_type": "code",
   "execution_count": null,
   "id": "721127f5",
   "metadata": {},
   "outputs": [],
   "source": [
    "fig, ax = plt.subplots(1,1,figsize=(12,2))\n",
    "assembly.plot_modules_xz(ax)"
   ]
  },
  {
   "cell_type": "markdown",
   "id": "6a190d7f",
   "metadata": {},
   "source": [
    "### Quantification of misfit\n",
    "\n",
    "In inter-module contacts which were not included in the plugin scenario, quantify the gaps or penetrations as a basis for minimization of the misfit. "
   ]
  },
  {
   "cell_type": "code",
   "execution_count": null,
   "id": "b6969f44",
   "metadata": {},
   "outputs": [],
   "source": [
    "assembly.get_module_misfits()"
   ]
  },
  {
   "cell_type": "markdown",
   "id": "f7bee933",
   "metadata": {},
   "source": [
    "## Identify the best assembly"
   ]
  },
  {
   "cell_type": "markdown",
   "id": "17ed8250",
   "metadata": {},
   "source": [
    "### All possible cell arrangements"
   ]
  },
  {
   "cell_type": "markdown",
   "id": "a3bffe41",
   "metadata": {},
   "source": [
    "Combine 8 entities of type A and four entities of type B in all possible ordered sequences of 12 entities. While the type A entities go to the first 8 slots, the type B entities go to the last 4 slots. The entities are identified by integers starting from 1 ... 8 for type A and 9 ... 12 for type B. Further, the type A entities are assumed to have either positive or negative sign. However, their combinations are not assumed arbitrary. The signs in the slots [0, 1, 3, 4, 6, 7] are assumed always opposite to the slots [2, 5]. "
   ]
  },
  {
   "cell_type": "code",
   "execution_count": null,
   "id": "f9dfb624",
   "metadata": {},
   "outputs": [],
   "source": [
    "assembly.all_perms"
   ]
  },
  {
   "cell_type": "markdown",
   "id": "26b4126b",
   "metadata": {},
   "source": [
    "### Evaluate misfit for random combinations"
   ]
  },
  {
   "cell_type": "markdown",
   "id": "7327e6a5",
   "metadata": {},
   "source": [
    "If only whole cells are subject to the permutation, alternating orientation is prescribed, and the boundary cells are not permuted, the total number combinations is 1.9 millions."
   ]
  },
  {
   "cell_type": "markdown",
   "id": "92a17a41",
   "metadata": {},
   "source": [
    "To reduce the computation time for debugging, the random choice from all combinations is used to find assembly arrangement with low amount of misfit."
   ]
  },
  {
   "cell_type": "code",
   "execution_count": null,
   "id": "6ca1c73b",
   "metadata": {},
   "outputs": [],
   "source": [
    "assembly.n_samples = 100"
   ]
  },
  {
   "cell_type": "markdown",
   "id": "6d0d9264",
   "metadata": {},
   "source": [
    "### Choose the best assembly and plot it"
   ]
  },
  {
   "cell_type": "code",
   "execution_count": null,
   "id": "662ee32d",
   "metadata": {},
   "outputs": [],
   "source": [
    "assembly.best_combination_index"
   ]
  },
  {
   "cell_type": "markdown",
   "id": "f79c11ab",
   "metadata": {},
   "source": [
    "### Show the misfit of the best combination obtained"
   ]
  },
  {
   "cell_type": "code",
   "execution_count": null,
   "id": "415bba73",
   "metadata": {},
   "outputs": [],
   "source": [
    "assembly.misfit_of_best_combination"
   ]
  },
  {
   "cell_type": "code",
   "execution_count": null,
   "id": "eb3a3ae1",
   "metadata": {},
   "outputs": [],
   "source": [
    "plot = k3d.plot(name='Vectors')\n",
    "assembly.plot_best_combination_3D(plot)\n",
    "plot.display()"
   ]
  },
  {
   "cell_type": "code",
   "execution_count": null,
   "id": "b5b2a0f8",
   "metadata": {},
   "outputs": [],
   "source": [
    "fig, ax = plt.subplots(figsize=(8,2))\n",
    "fig.canvas.header_visible=False\n",
    "assembly.plot_best_combination_yz(ax)"
   ]
  },
  {
   "cell_type": "markdown",
   "id": "2741145e",
   "metadata": {},
   "source": [
    "## Extract the plugin support heights"
   ]
  },
  {
   "cell_type": "code",
   "execution_count": null,
   "id": "d27fe1ca",
   "metadata": {},
   "outputs": [],
   "source": [
    "assembly.activate_best_combination\n",
    "assembly.cell_enum[assembly.module_x_rows[0]]\n",
    "assembly.module_x_rows\n"
   ]
  },
  {
   "cell_type": "code",
   "execution_count": null,
   "id": "00a2a4ad",
   "metadata": {},
   "outputs": [],
   "source": [
    "assembly.get_support_geometry()"
   ]
  },
  {
   "cell_type": "markdown",
   "id": "cc735da7",
   "metadata": {},
   "source": [
    "Plot a vertical column of a width W and height H which denotes the distance from the floor at the level zero to a saddle point in the located at the height H in the middle of the column. There are two lines starting from the saddle towards the vertical boundaries of the column symmetrically at an angle $\\gamma < \\pi/2$. The intersections of these two lines with the vertical boundaries of the columns are higher than the saddle point. The column is filled with color `c`. The upper boundary of the column has a V-shape. An additional feature of the function is the possibility to tilt the V-shape by an angle $\\alpha < \\pi / 4$.    \n",
    " "
   ]
  },
  {
   "cell_type": "code",
   "execution_count": null,
   "id": "dddd9677",
   "metadata": {},
   "outputs": [],
   "source": [
    "fig, ax = plt.subplots(figsize=(10,2))\n",
    "fig.canvas.header_visible=False\n",
    "assembly.plot_longitudinal_supports(ax)"
   ]
  },
  {
   "cell_type": "code",
   "execution_count": null,
   "id": "f0ab090b",
   "metadata": {},
   "outputs": [],
   "source": [
    "fig, ax = plt.subplots(figsize=(10,2))\n",
    "fig.canvas.header_visible=False\n",
    "assembly.plot_transverse_supports(ax)\n",
    "ax.set_axis_on()"
   ]
  },
  {
   "cell_type": "markdown",
   "id": "b992f4b4",
   "metadata": {},
   "source": [
    "### Get the average angle of the middle opposite facets [3, 10] "
   ]
  },
  {
   "cell_type": "code",
   "execution_count": null,
   "id": "50150c1e",
   "metadata": {},
   "outputs": [],
   "source": [
    "assembly.gamma_support"
   ]
  },
  {
   "cell_type": "code",
   "execution_count": null,
   "id": "1a1c41a3",
   "metadata": {},
   "outputs": [],
   "source": [
    "assembly.get_bounding_box()"
   ]
  }
 ],
 "metadata": {
  "kernelspec": {
   "display_name": "Python 3 (ipykernel)",
   "language": "python",
   "name": "python3"
  },
  "language_info": {
   "codemirror_mode": {
    "name": "ipython",
    "version": 3
   },
   "file_extension": ".py",
   "mimetype": "text/x-python",
   "name": "python",
   "nbconvert_exporter": "python",
   "pygments_lexer": "ipython3"
  },
  "toc": {
   "base_numbering": 1,
   "nav_menu": {},
   "number_sections": true,
   "sideBar": true,
   "skip_h1_title": false,
   "title_cell": "Table of Contents",
   "title_sidebar": "Contents",
   "toc_cell": false,
   "toc_position": {},
   "toc_section_display": true,
   "toc_window_display": false
  }
 },
 "nbformat": 4,
 "nbformat_minor": 5
}
