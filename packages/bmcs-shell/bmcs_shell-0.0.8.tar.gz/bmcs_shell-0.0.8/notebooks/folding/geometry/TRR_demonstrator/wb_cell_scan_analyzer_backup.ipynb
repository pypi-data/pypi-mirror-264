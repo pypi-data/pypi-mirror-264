{
 "cells": [
  {
   "cell_type": "markdown",
   "metadata": {},
   "source": [
    "# Analyzing a 3D scan of a waterbomb element"
   ]
  },
  {
   "cell_type": "markdown",
   "metadata": {},
   "source": [
    "## Facets points from 3D scan\n",
    "\n",
    "The facets are numbered from the center of the cell in anti-clockwise sense, first the lower surface facets from 1 to 14, then the upper plastic parts from 15 to 22, see"
   ]
  },
  {
   "cell_type": "code",
   "execution_count": null,
   "metadata": {},
   "outputs": [],
   "source": [
    "import k3d\n",
    "import numpy as np\n",
    "from wb_cell_scan_to_creases import WBCellScanToCreases"
   ]
  },
  {
   "cell_type": "code",
   "execution_count": null,
   "metadata": {},
   "outputs": [],
   "source": [
    "analysis = WBCellScanToCreases(file_path='wb9_facets_points.obj', flip_vertically=True)"
   ]
  },
  {
   "cell_type": "markdown",
   "metadata": {},
   "source": [
    "## Read the scanned files for individual cells\n",
    "The individual variables are lists of facets with $i$ nodes that can vary per facet and spatial coordinates"
   ]
  },
  {
   "cell_type": "code",
   "execution_count": null,
   "metadata": {},
   "outputs": [],
   "source": [
    "plot = k3d.plot(name='Nodes')\n",
    "analysis.plot_groups_of_points(plot, analysis.wb_scan_X_Fia)\n",
    "plot.display()"
   ]
  },
  {
   "cell_type": "markdown",
   "metadata": {},
   "source": [
    "## Derive the facet planes\n",
    "For each facet plane, identify the coefficients $a,b,c,d$ defining the equation of a plane in the form\n",
    "$$\n",
    " a x + b y + c z + d = 0\n",
    "$$\n",
    "The result are the attributes `planes_Fi`, and `cetroids_Fa`"
   ]
  },
  {
   "cell_type": "code",
   "execution_count": null,
   "metadata": {},
   "outputs": [],
   "source": [
    "analysis.planes_Fi;\n",
    "analysis.centroids_Fa;"
   ]
  },
  {
   "cell_type": "code",
   "execution_count": null,
   "metadata": {},
   "outputs": [],
   "source": [
    "plot = k3d.plot(name='Vectors')\n",
    "analysis.plot_groups_of_points(plot, analysis.wb_scan_X_Fia)\n",
    "analysis.plot_planes(plot)\n",
    "plot.display()"
   ]
  },
  {
   "cell_type": "markdown",
   "metadata": {},
   "source": [
    "## Intersection lines\n",
    "\n",
    "Find all intersection lines between all facets\n"
   ]
  },
  {
   "cell_type": "code",
   "execution_count": null,
   "metadata": {},
   "outputs": [],
   "source": [
    "plot = k3d.plot(name='Vectors')\n",
    "#analysis.plot_groups_of_points(plot, analysis.wb_scan_X_Fia)\n",
    "#analysis.plot_points(plot, analysis.centroids_Fa, point_size=20, color=0x000000, plot_numbers=False)\n",
    "analysis.plot_points(plot, analysis.isc_points_Li, point_size=20, color=0x0000ff, plot_numbers=False)\n",
    "analysis.plot_intersection_lines(plot)\n",
    "plot.display()"
   ]
  },
  {
   "cell_type": "markdown",
   "metadata": {},
   "source": [
    "## Intersection nodes\n",
    "\n",
    "Specify indexes of lines for which a common intersection point is to be identified. "
   ]
  },
  {
   "cell_type": "code",
   "execution_count": null,
   "metadata": {},
   "outputs": [],
   "source": [
    "plot = k3d.plot(name='Vectors')\n",
    "analysis.plot_points(plot, analysis.icrease_nodes_X_Na, point_size=5, \n",
    "                     color=0x0000ff, plot_numbers=True)\n",
    "analysis.plot_intersection_lines(plot, isc_vec_scale=300, \n",
    "           color=0x000000, plot_labels=True)\n",
    "plot.display()"
   ]
  },
  {
   "cell_type": "markdown",
   "metadata": {},
   "source": [
    "## Crease nodes and lines identified"
   ]
  },
  {
   "cell_type": "code",
   "execution_count": null,
   "metadata": {},
   "outputs": [],
   "source": [
    "plot = k3d.plot(name='Vectors')\n",
    "analysis.plot_icrease_nodes(plot, node_numbers=True)\n",
    "analysis.plot_icrease_lines(plot, line_numbers=True)\n",
    "analysis.plot_O_basis(plot)\n",
    "plot.display()"
   ]
  },
  {
   "cell_type": "markdown",
   "metadata": {},
   "source": [
    "# Transform the cell to the local coordinates"
   ]
  },
  {
   "cell_type": "code",
   "execution_count": null,
   "metadata": {},
   "outputs": [],
   "source": [
    "plot = k3d.plot(name='Vectors')\n",
    "analysis.plot_O_icrease_nodes(plot, node_numbers=True)\n",
    "analysis.plot_O_icrease_lines(plot, line_numbers=True)\n",
    "plot.display()"
   ]
  },
  {
   "cell_type": "markdown",
   "metadata": {},
   "source": [
    "## Derive the boundary nodes"
   ]
  },
  {
   "cell_type": "markdown",
   "metadata": {},
   "source": [
    "The variables starting with O_ are related to the origin base\n",
    "The crease nodes derived using intersection of the planes are \n",
    "denoted as `icrease_nodes`. the boundary nodes are denoted as `bcrease_nodes`.\n",
    "The connecting lines are analogously `icrease_lines` and `bcrease_lines`.\n",
    "They are stacked in `crease_nodes`` and `crease_lines``"
   ]
  },
  {
   "cell_type": "code",
   "execution_count": null,
   "metadata": {},
   "outputs": [],
   "source": [
    "self = analysis\n",
    "length_valley = np.average(self.lengths_icrease_lines_L[[5,9,11,7]])\n",
    "valley_Ca = self.O_icrease_nodes_X_Na[[2,3,3,2]]\n",
    "vec_valley_Ca = self.O_isc_vectors_Li[[0,5,7,12]]\n",
    "valley_node_X_Ca = valley_Ca + vec_valley_Ca * length_valley\n",
    "\n",
    "length_mountain = np.average(self.lengths_icrease_lines_L[[13,14]])\n",
    "mountain_Ca = self.O_icrease_nodes_X_Na[[0,1]]\n",
    "vec_mountain_Ca = self.O_isc_vectors_Li[[13,6]]\n",
    "mountain_node_X_Ca = mountain_Ca + vec_mountain_Ca * length_mountain / 2\n",
    "\n",
    "corner_node_X_Ca = np.copy(valley_node_X_Ca)\n",
    "corner_node_X_Ca[:,0] = mountain_node_X_Ca[[0,1,1,0],0] \n",
    "\n",
    "O_bcrease_nodes_X_Ca = np.vstack([valley_node_X_Ca, mountain_node_X_Ca, corner_node_X_Ca])"
   ]
  },
  {
   "cell_type": "code",
   "execution_count": null,
   "metadata": {},
   "outputs": [],
   "source": [
    "vec_valley_Ca"
   ]
  },
  {
   "cell_type": "code",
   "execution_count": null,
   "metadata": {},
   "outputs": [],
   "source": [
    "plot = k3d.plot(name='Vectors')\n",
    "analysis.plot_O_crease_lines(plot)\n",
    "#analysis.plot_O_crease_lines(plot, line_numbers=False)\n",
    "analysis.plot_points(plot, analysis.O_crease_nodes_X_Na, point_size=40, color=0x007777, plot_numbers=True)\n",
    "plot.display()"
   ]
  },
  {
   "cell_type": "markdown",
   "metadata": {},
   "source": [
    "## Quantify the thickness of the contact facets"
   ]
  },
  {
   "cell_type": "code",
   "execution_count": null,
   "metadata": {},
   "outputs": [],
   "source": [
    "analysis.O_thickness_Fi"
   ]
  },
  {
   "cell_type": "code",
   "execution_count": null,
   "metadata": {},
   "outputs": [],
   "source": [
    "plot = k3d.plot(name='Vectors')\n",
    "analysis.plot_points(plot, analysis.O_crease_nodes_X_Na, plot_numbers=False)\n",
    "analysis.plot_O_crease_lines(plot, line_numbers=False)\n",
    "analysis.plot_points(plot, analysis.O_centroids_Fa[[14,17,18,21]], point_size=30, plot_numbers=True)\n",
    "plot.display()"
   ]
  },
  {
   "cell_type": "markdown",
   "metadata": {},
   "source": [
    "# Quantify the geometrical cell differences"
   ]
  },
  {
   "cell_type": "code",
   "execution_count": null,
   "metadata": {},
   "outputs": [],
   "source": [
    "analysis.sym_crease_length_diff_S"
   ]
  },
  {
   "cell_type": "markdown",
   "metadata": {},
   "source": [
    "## Determination of the folding angle $\\gamma$ from 3d scan"
   ]
  },
  {
   "cell_type": "code",
   "execution_count": null,
   "metadata": {},
   "outputs": [],
   "source": [
    "analysis.sym_crease_angles_S"
   ]
  },
  {
   "cell_type": "markdown",
   "metadata": {},
   "source": [
    "## Compare the geometry of all cells"
   ]
  },
  {
   "cell_type": "code",
   "execution_count": null,
   "metadata": {},
   "outputs": [],
   "source": [
    "# files = ('wb5_facets_points.obj', 'wb7_facets_points.obj', 'wb8_facets_points.obj')\n",
    "files = (#'wb7_facets_points.obj', \n",
    "         #'wb8_facets_points.obj', \n",
    "         'wb9_facets_points.obj',\n",
    "         'wb10_facets_points.obj', \n",
    "        'wb11_facets_points.obj'\n",
    ")\n",
    "flips = [\n",
    "#     False, \n",
    "#     False, \n",
    "    True, \n",
    "    True, \n",
    "    False\n",
    "    ]\n",
    "analyses = [ WBCellScanToCreases(file_path=file, flip_vertically=flip) \n",
    "            for flip, file in zip(flips, files)]"
   ]
  },
  {
   "cell_type": "code",
   "execution_count": null,
   "metadata": {},
   "outputs": [],
   "source": [
    "sym_crease_length_diffs_WS = np.array([analysis.sym_crease_length_diff_S \n",
    "                                       for analysis in analyses ])\n",
    "sym_crease_length_diffs_WS"
   ]
  },
  {
   "cell_type": "code",
   "execution_count": null,
   "metadata": {},
   "outputs": [],
   "source": [
    "sym_crease_angles_WS = np.array([analysis.sym_crease_angles_S \n",
    "                                       for analysis in analyses ])\n",
    "\n",
    "sym_crease_angles_WS"
   ]
  },
  {
   "cell_type": "markdown",
   "metadata": {},
   "source": [
    "# Evaluate the differences between individual cells\n",
    "\n",
    "- quantify the distance between the intersection points\n",
    "- quantify the difference between normals that should be compatible"
   ]
  },
  {
   "cell_type": "code",
   "execution_count": null,
   "metadata": {},
   "outputs": [],
   "source": [
    "plot = k3d.plot(name='Vectors')\n",
    "colors = [0xff0000, 0x00ff00, 0x0000ff, 0xffff00, 0xff00ff, 0x00ffff]\n",
    "\n",
    "for i, analysis in enumerate(analyses):\n",
    "    color = colors[i % len(colors)]\n",
    "    analysis.plot_O_crease_lines(plot, color=color)\n",
    "    analysis.plot_points(plot, analysis.O_centroids_Fa[[14,17,18,21]], point_size=30, plot_numbers=True)\n",
    "\n",
    "plot.display()"
   ]
  },
  {
   "cell_type": "code",
   "execution_count": null,
   "metadata": {},
   "outputs": [],
   "source": []
  }
 ],
 "metadata": {
  "kernelspec": {
   "display_name": "bmcs_env2",
   "language": "python",
   "name": "python3"
  },
  "language_info": {
   "codemirror_mode": {
    "name": "ipython",
    "version": 3
   },
   "file_extension": ".py",
   "mimetype": "text/x-python",
   "name": "python",
   "nbconvert_exporter": "python",
   "pygments_lexer": "ipython3"
  }
 },
 "nbformat": 4,
 "nbformat_minor": 2
}
