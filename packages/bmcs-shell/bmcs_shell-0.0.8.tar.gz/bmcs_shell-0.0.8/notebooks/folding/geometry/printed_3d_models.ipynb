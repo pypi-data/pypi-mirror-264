{
 "cells": [
  {
   "cell_type": "code",
   "execution_count": null,
   "id": "61e1bf5b",
   "metadata": {
    "pycharm": {
     "name": "#%%\n"
    }
   },
   "outputs": [],
   "source": [
    "%matplotlib widget\n",
    "from bmcs_shell.api import WBCell4Param\n",
    "import numpy as np"
   ]
  },
  {
   "cell_type": "markdown",
   "id": "ab58cf9e",
   "metadata": {
    "pycharm": {
     "name": "#%% md\n"
    }
   },
   "source": [
    "# Printed models\n",
    "\n",
    "Note: all dimensions are printed with 1:1 scale in [mm]"
   ]
  },
  {
   "cell_type": "markdown",
   "id": "9c53dcd5",
   "metadata": {
    "pycharm": {
     "name": "#%% md\n"
    }
   },
   "source": [
    "### 1. Printed on 24.05.2022"
   ]
  },
  {
   "cell_type": "code",
   "execution_count": null,
   "id": "50299097",
   "metadata": {
    "pycharm": {
     "name": "#%%\n"
    }
   },
   "outputs": [],
   "source": [
    "wb = WBCell4Param(a=40, b=50, c=40, gamma = np.pi/2, wireframe_width = 0.5)\n",
    "# wb.X_Ia, wb.I_Fi\n",
    "wb.interact()"
   ]
  }
 ],
 "metadata": {
  "kernelspec": {
   "display_name": "Python 3 (ipykernel)",
   "language": "python",
   "name": "python3"
  },
  "language_info": {
   "codemirror_mode": {
    "name": "ipython",
    "version": 3
   },
   "file_extension": ".py",
   "mimetype": "text/x-python",
   "name": "python",
   "nbconvert_exporter": "python",
   "pygments_lexer": "ipython3"
  }
 },
 "nbformat": 4,
 "nbformat_minor": 5
}
