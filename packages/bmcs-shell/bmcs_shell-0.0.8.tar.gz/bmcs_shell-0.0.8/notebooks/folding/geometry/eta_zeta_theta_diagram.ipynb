{
 "cells": [
  {
   "cell_type": "markdown",
   "metadata": {
    "pycharm": {
     "name": "#%% md\n"
    }
   },
   "source": [
    "# Waterbomb tessellation demo"
   ]
  },
  {
   "cell_type": "code",
   "execution_count": null,
   "metadata": {
    "pycharm": {
     "name": "#%%\n"
    }
   },
   "outputs": [],
   "source": [
    "%matplotlib widget\n",
    "from bmcs_shell.api import *\n",
    "import matplotlib.pyplot as plt\n",
    "from mpl_toolkits.mplot3d import Axes3D\n",
    "from bmcs_utils.api import *\n",
    "import numpy as np"
   ]
  },
  {
   "cell_type": "markdown",
   "metadata": {
    "pycharm": {
     "name": "#%% md\n"
    }
   },
   "source": [
    "# Analytical tessellations"
   ]
  },
  {
   "cell_type": "markdown",
   "metadata": {
    "pycharm": {
     "name": "#%% md\n"
    }
   },
   "source": [
    "## Symmetric 4P waterbomb cell"
   ]
  },
  {
   "cell_type": "code",
   "execution_count": null,
   "metadata": {
    "pycharm": {
     "name": "#%%\n"
    }
   },
   "outputs": [],
   "source": [
    "a = 1000\n",
    "n_eta = 20\n",
    "n_zeta = 20\n",
    "etas = np.linspace(0.7, 3, n_eta)   # 0.48, 1.5\n",
    "zetas = np.linspace(0.2, 1, n_zeta)\n",
    "thetas = np.zeros((n_zeta, n_eta))\n",
    "\n",
    "for i_zeta, zeta in enumerate(zetas):\n",
    "    for j_eta, eta in enumerate(etas):   \n",
    "        wbt4p = WBTessellation4P(a = a, b=eta * a, c = zeta * a, gamma=np.pi/4)\n",
    "        thetas[i_zeta, j_eta] = wbt4p.wb_cell.symb.get_theta_sol()"
   ]
  },
  {
   "cell_type": "code",
   "execution_count": null,
   "metadata": {
    "pycharm": {
     "name": "#%%\n"
    }
   },
   "outputs": [],
   "source": [
    "fig = plt.figure(figsize=(8, 6))\n",
    "ax = fig.add_subplot(111, projection='3d')\n",
    "\n",
    "etas_grid, zetas_grid = np.meshgrid(etas, zetas)\n",
    "\n",
    "ax.plot_surface(etas_grid, zetas_grid, thetas, cmap='viridis')\n",
    "\n",
    "contour = ax.contour(etas_grid, zetas_grid, thetas, levels=[-0.75, -0.25, 0, 0.25, 0.75], colors='black', linewidths=2)\n",
    "\n",
    "# ax.plot(contour.allsegs[1][0][:, 0], contour.allsegs[1][0][:, 1])\n",
    "\n",
    "# ax.invert_xaxis()\n",
    "# ax.invert_yaxis()\n",
    "\n",
    "ax.set_xlabel(r'$\\eta [-]$')\n",
    "ax.set_ylabel(r'$\\zeta [-]$')\n",
    "ax.set_zlabel(r'$\\theta [\\mathrm{rad}]$')\n",
    "\n",
    "plt.show()"
   ]
  },
  {
   "cell_type": "code",
   "execution_count": null,
   "metadata": {
    "pycharm": {
     "name": "#%%\n"
    }
   },
   "outputs": [],
   "source": [
    "fig.savefig('3d_etas_zetas_thetas.svg')"
   ]
  },
  {
   "cell_type": "code",
   "execution_count": null,
   "metadata": {
    "pycharm": {
     "name": "#%%\n"
    }
   },
   "outputs": [],
   "source": [
    "etas_zetas = contour.allsegs[1][0]\n",
    "etas_list = etas_zetas[:, 0]\n",
    "zetas_list = etas_zetas[:, 1]\n",
    "etas_zetas"
   ]
  },
  {
   "cell_type": "code",
   "execution_count": null,
   "metadata": {
    "pycharm": {
     "name": "#%%\n"
    }
   },
   "outputs": [],
   "source": [
    "wb = WBTessellation4P(gamma=np.pi/4, a=1000, b= etas_list[-1]* 1000, c=zetas_list[-1]* 1000)\n",
    "wb.interact()\n",
    "k3d_plot = wb.pb.plot_fig\n",
    "k3d_plot.screenshot_scale = 5.5\n",
    "k3d_plot.grid_visible = False\n",
    "k3d_plot.camera = [16538.7608945059,\n",
    " 18416.754850286212,\n",
    " 6668.558949898217,\n",
    " -541.8815416486052,\n",
    " 690.6947856269203,\n",
    " -2890.347115011586,\n",
    " -0.2186371159604114,\n",
    " -0.2195354464308322,\n",
    " 0.9507901973016587]"
   ]
  },
  {
   "cell_type": "code",
   "execution_count": null,
   "metadata": {
    "pycharm": {
     "name": "#%%\n"
    }
   },
   "outputs": [],
   "source": [
    "fig_pattern, _ = wb.plot_folding_pattern()\n",
    "fig_pattern.savefig('fig.svg')"
   ]
  },
  {
   "cell_type": "markdown",
   "metadata": {
    "pycharm": {
     "name": "#%% md\n"
    }
   },
   "source": [
    "## Semi-symmetric 5P cell (beta)"
   ]
  },
  {
   "cell_type": "code",
   "execution_count": null,
   "metadata": {
    "pycharm": {
     "name": "#%%\n"
    }
   },
   "outputs": [],
   "source": [
    "wbttpv2 = WBTessellation5PBeta(wb_cell_=WBCell5ParamBeta(gamma = 0.9, beta_1= 0), sol_num=4)\n",
    "wbttpv2.interact()\n",
    "\n",
    "# Quick fix to activate interactivity \n",
    "wbttpv2.wb_cell_.callback_fun = wbttpv2.update_plot_"
   ]
  }
 ],
 "metadata": {
  "kernelspec": {
   "display_name": "Python 3 (ipykernel)",
   "language": "python",
   "name": "python3"
  },
  "language_info": {
   "codemirror_mode": {
    "name": "ipython",
    "version": 3
   },
   "file_extension": ".py",
   "mimetype": "text/x-python",
   "name": "python",
   "nbconvert_exporter": "python",
   "pygments_lexer": "ipython3"
  },
  "toc": {
   "base_numbering": 1,
   "nav_menu": {},
   "number_sections": true,
   "sideBar": true,
   "skip_h1_title": true,
   "title_cell": "Table of Contents",
   "title_sidebar": "Contents",
   "toc_cell": false,
   "toc_position": {},
   "toc_section_display": true,
   "toc_window_display": false
  }
 },
 "nbformat": 4,
 "nbformat_minor": 4
}
