{
 "cells": [
  {
   "cell_type": "code",
   "execution_count": null,
   "metadata": {},
   "outputs": [],
   "source": [
    "%matplotlib widget\n",
    "from bmcs_shell.api import WBGeoUtils, WBTessellation4P\n",
    "import numpy as np\n",
    "import matplotlib.pyplot as plt\n",
    "import sympy as sp"
   ]
  },
  {
   "cell_type": "code",
   "execution_count": null,
   "metadata": {},
   "outputs": [],
   "source": [
    "a = 100\n",
    "wbt4p = WBTessellation4P(\n",
    "                         a=a,\n",
    "                         b = 5.492 * a, \n",
    "                         c = 1.8466 * a, \n",
    "                         gamma=np.deg2rad(54.53), \n",
    "                         n_phi_plus=3, \n",
    "                         n_x_plus=2, \n",
    "                         wireframe_width=5, trim_ext_facets=False,\n",
    "                                 trim_half_cells_along_y=True,\n",
    "                                 trim_half_cells_along_x=True,\n",
    "                                 align_outer_nodes_along_x=True)\n",
    "wbt4p.interact()"
   ]
  },
  {
   "cell_type": "code",
   "execution_count": null,
   "metadata": {},
   "outputs": [],
   "source": [
    "x_of_side_vertices"
   ]
  },
  {
   "cell_type": "code",
   "execution_count": null,
   "metadata": {},
   "outputs": [],
   "source": [
    "x_of_corner_vertices"
   ]
  },
  {
   "cell_type": "code",
   "execution_count": null,
   "metadata": {},
   "outputs": [],
   "source": [
    "c = wbt4p.wb_cell.symb.c\n",
    "gamma = wbt4p.wb_cell.symb.gamma\n",
    "a = wbt4p.wb_cell.symb.a\n",
    "\n",
    "x_of_corner_vertices = a\n",
    "x_of_side_vertices = c * sp.sin(gamma)\n",
    "c_straight_edges_wb_shell = sp.solve(x_of_corner_vertices - x_of_side_vertices, c)\n",
    "c_straight_edges_wb_shell[0]\n",
    "# str(c_flat_wb_shell[0])"
   ]
  },
  {
   "cell_type": "code",
   "execution_count": null,
   "metadata": {},
   "outputs": [],
   "source": [
    "def get_c_straight_edges(gamma, a):\n",
    "    return a/np.sin(gamma)\n",
    "get_c_straight_edges(0.95, 100)"
   ]
  }
 ],
 "metadata": {
  "kernelspec": {
   "display_name": "Python 3 (ipykernel)",
   "language": "python",
   "name": "python3"
  },
  "language_info": {
   "codemirror_mode": {
    "name": "ipython",
    "version": 3
   },
   "file_extension": ".py",
   "mimetype": "text/x-python",
   "name": "python",
   "nbconvert_exporter": "python",
   "pygments_lexer": "ipython3"
  },
  "toc": {
   "base_numbering": 1,
   "nav_menu": {},
   "number_sections": true,
   "sideBar": true,
   "skip_h1_title": true,
   "title_cell": "Table of Contents",
   "title_sidebar": "Contents",
   "toc_cell": false,
   "toc_position": {},
   "toc_section_display": true,
   "toc_window_display": false
  }
 },
 "nbformat": 4,
 "nbformat_minor": 4
}
