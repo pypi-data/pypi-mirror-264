{
 "cells": [
  {
   "cell_type": "markdown",
   "metadata": {},
   "source": [
    "# TODO"
   ]
  },
  {
   "cell_type": "code",
   "execution_count": null,
   "metadata": {},
   "outputs": [],
   "source": [
    "%matplotlib widget\n",
    "from bmcs_shell.api import WBCell4Param\n",
    "import numpy as np\n",
    "import sympy as sp\n",
    "sp.init_printing()"
   ]
  },
  {
   "cell_type": "markdown",
   "metadata": {},
   "source": [
    "## Solving symbolically"
   ]
  },
  {
   "cell_type": "code",
   "execution_count": null,
   "metadata": {},
   "outputs": [],
   "source": [
    "# 5 Params with phi\n",
    "\n",
    "# Define coordinates\n",
    "xl, yl, zl = sp.symbols('x_l y_l z_l', real=True)\n",
    "xr, yr, zr = sp.symbols('x_r y_r z_r', real=True)\n",
    "a, b, c, gamma, phi = sp.symbols('a b c gamma, phi', real=True, nonnegative=True)\n",
    "\n",
    "O = sp.Matrix([0, 0, 0])\n",
    "Ul_flat = sp.Matrix([-a, b, 0])\n",
    "Ur_flat = sp.Matrix([a, b, 0])\n",
    "Vl_flat = sp.Matrix([-c, 0, 0])\n",
    "Vr_flat = sp.Matrix([c, 0, 0])\n",
    "\n",
    "# Define vectors\n",
    "Ul = sp.Matrix([xl, yl, zl])\n",
    "Ur = sp.Matrix([xr, yr, zr])\n",
    "Vl = sp.Matrix([-c * sp.sin(gamma), 0, c * sp.cos(gamma)])\n",
    "Vr = sp.Matrix([c * sp.sin(gamma), 0, c * sp.cos(gamma)])\n",
    "\n",
    "z = sp.Matrix([0, 0, 1])\n",
    "y = sp.Matrix([0, 1, 0])\n",
    "yz_plane_n = y.cross(z)\n",
    "OUu_plane_n = ((Ur + Ul)/2).cross(z)\n",
    "\n",
    "# Define unknowns\n",
    "unknowns = [xl, yl, zl, xr, yr, zr]\n",
    "\n",
    "# Define equations\n",
    "eq1 = sp.simplify(Ur.norm()**2 - Ur_flat.norm()**2)\n",
    "eq2 = sp.simplify(Ul.norm()**2 - Ul_flat.norm()**2)\n",
    "eq3 = sp.simplify(Ul.dot(Ur) - Ul_flat.dot(Ur_flat)) # denominator was eleminated Ul.dot(Ur) / (Ul_flat.norm() * Ur_flat.norm()) as it's equal before and after folding\n",
    "eq4 = sp.simplify(Ur.dot(Vr) - Ur_flat.dot(Vr_flat)) \n",
    "eq5 = sp.simplify(Ul.dot(Vl) - Ul_flat.dot(Vl_flat))\n",
    "eq6 = sp.simplify(yz_plane_n.dot(OUu_plane_n)/(yz_plane_n.norm() * OUu_plane_n.norm()) - sp.cos(phi)) \n",
    "\n",
    "# sol = sp.solve([eq1, eq2, eq3, eq4, eq5, eq6], unknowns)\n",
    "# sol"
   ]
  },
  {
   "cell_type": "code",
   "execution_count": null,
   "metadata": {},
   "outputs": [],
   "source": [
    "eq1, eq2, eq3, eq4, eq5, eq6"
   ]
  },
  {
   "cell_type": "markdown",
   "metadata": {},
   "source": [
    "## Solving numerically"
   ]
  },
  {
   "cell_type": "code",
   "execution_count": null,
   "metadata": {},
   "outputs": [],
   "source": [
    "from scipy.optimize import fsolve\n",
    "\n",
    "# Define the values\n",
    "a = 1000\n",
    "b = 1000\n",
    "c = 1000\n",
    "gamma = np.pi/4\n",
    "phi = np.pi/6\n",
    "\n",
    "\n",
    "# Define a function that takes the unknowns as input and returns the equations as a numpy array\n",
    "def equations(vars):\n",
    "    xr, yr, zr, xl, yl, zl = vars\n",
    "\n",
    "    z = np.array([0, 0, 1])\n",
    "\n",
    "    Ur_flat = np.array([a, b, 0])\n",
    "    Ul_flat = np.array([-a, b, 0])\n",
    "    Vr_flat = np.array([c, 0, 0])\n",
    "    Vl_flat = np.array([-c, 0, 0])\n",
    "\n",
    "    Ul = np.array([xl, yl, zl])\n",
    "    Ur = np.array([xr, yr, zr])\n",
    "    Vl = np.array([-c * np.sin(gamma), 0, c * np.cos(gamma)])\n",
    "    Vr = np.array([c * np.sin(gamma), 0, c * np.cos(gamma)])\n",
    "\n",
    "    yz_plane_n = np.array([1, 0, 0])\n",
    "    OUu_plane_n = np.cross((Ur + Ul) / 2, z)\n",
    "\n",
    "    eq1 = np.linalg.norm(Ur) ** 2 - np.linalg.norm(Ur_flat) ** 2 # OU_ur is constant\n",
    "    eq2 = np.linalg.norm(Ul) ** 2 - np.linalg.norm(Ul_flat) ** 2 # OU_ul is constant\n",
    "    eq3 = np.dot(Ul, Ur) - np.dot(Ul_flat, Ur_flat) # angle (OU_ur, OU_ul) is constant\n",
    "    eq4 = np.dot(Ur, Vr) - np.dot(Ur_flat, Vr_flat) # angle (OU_ur, OVr) is constant\n",
    "    eq5 = np.dot(Ul, Vl) - np.dot(Ul_flat, Vl_flat) # angle (OU_ul, OVl) is constant\n",
    "    # eq6: angle between plane yz and plane spanned with [0, 0, 1] with O((U_ur + U_ul)/2) is phi\n",
    "    eq6 = np.dot(yz_plane_n, OUu_plane_n)/ (np.linalg.norm(yz_plane_n) * np.linalg.norm(OUu_plane_n)) - np.cos(phi)\n",
    "\n",
    "    return np.array([eq1, eq2, eq3, eq4, eq5, eq6])\n",
    "\n",
    "# Define initial guesses for the unknowns\n",
    "x0 = np.array([a, a, a, -a, a, a])\n",
    "\n",
    "# Call fsolve to solve the equations\n",
    "sol = fsolve(equations, x0)\n",
    "\n",
    "x_ur, y_ur, z_ur, x_ul, y_ul, z_ul = sol\n",
    "\n",
    "if (phi > 0 and (x_ur + x_ul) / 2 < 0) or (phi < 0 and (x_ur + x_ul) / 2 > 0):\n",
    "    x_ur, y_ur, z_ur, x_ul, y_ul, z_ul = -x_ul, y_ul, z_ul, -x_ur, y_ur, z_ur\n",
    "\n",
    "# Print the solution\n",
    "print('[xr,   yr,   zr, xl,   yl,   zl]')\n",
    "print(x_ur, y_ur, z_ur, x_ul, y_ul, z_ul)"
   ]
  }
 ],
 "metadata": {
  "kernelspec": {
   "display_name": "Python 3 (ipykernel)",
   "language": "python",
   "name": "python3"
  },
  "language_info": {
   "codemirror_mode": {
    "name": "ipython",
    "version": 3
   },
   "file_extension": ".py",
   "mimetype": "text/x-python",
   "name": "python",
   "nbconvert_exporter": "python",
   "pygments_lexer": "ipython3"
  }
 },
 "nbformat": 4,
 "nbformat_minor": 1
}
