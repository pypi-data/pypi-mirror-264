{
 "cells": [
  {
   "cell_type": "code",
   "execution_count": null,
   "metadata": {
    "pycharm": {
     "name": "#%%\n"
    }
   },
   "outputs": [],
   "source": [
    "%matplotlib widget\n",
    "from bmcs_shell.api import WBCell5ParamV3\n",
    "import numpy as np\n",
    "import sympy as sp\n",
    "sp.init_printing()"
   ]
  },
  {
   "cell_type": "code",
   "execution_count": null,
   "metadata": {},
   "outputs": [],
   "source": [
    "a, b, c, d, e, l1, l2, m, gamma = sp.symbols('a, b, c, d, e, l1, l2, m, gamma', real=True, nonnegative=True)"
   ]
  },
  {
   "cell_type": "markdown",
   "metadata": {},
   "source": [
    "## Finding l1_max requiring ylo = 0"
   ]
  },
  {
   "cell_type": "code",
   "execution_count": null,
   "metadata": {},
   "outputs": [],
   "source": [
    "d = sp.sqrt(b ** 2 + (a-c) ** 2)\n",
    "k = sp.sqrt(c ** 2 - m ** 2)\n",
    "\n",
    "xlo = (d ** 2 - l1 ** 2) / (4 * m)\n",
    "zlo = (a * c + m * xlo) / k\n",
    "\n",
    "# ylo = sqrt(d ** 2 - (zlo - k) ** 2 - (xlo + m) ** 2)\n",
    "ylo = d ** 2 - (zlo - k) ** 2 - (xlo + m) ** 2\n",
    "\n",
    "l1_max_min_sol = sp.solve(ylo, l1)\n",
    "l1_max_min_sol"
   ]
  },
  {
   "cell_type": "code",
   "execution_count": null,
   "metadata": {},
   "outputs": [],
   "source": [
    "print(l1_max_min_sol)"
   ]
  },
  {
   "cell_type": "markdown",
   "metadata": {},
   "source": [
    "## Finding l1_max requiring yro = 0"
   ]
  },
  {
   "cell_type": "code",
   "execution_count": null,
   "metadata": {},
   "outputs": [],
   "source": [
    "e = a - c\n",
    "d = sp.sqrt(b ** 2 + e ** 2)\n",
    "\n",
    "l2_ana_sols = [sp.sqrt((\n",
    "                                    a ** 6 + 3 * a ** 4 * b ** 2 - a ** 4 * c ** 2 - 2 * a ** 4 * l1 ** 2 - 8 * a ** 4 * m ** 2 - 16 * a ** 3 * c * m ** 2 + 3 * a ** 2 * b ** 4 - 6 * a ** 2 * b ** 2 * c ** 2 - 4 * a ** 2 * b ** 2 * l1 ** 2 - a ** 2 * c ** 4 - 4 * a ** 2 * c ** 2 * l1 ** 2 - 8 * a ** 2 * c ** 2 * m ** 2 + a ** 2 * l1 ** 4 + 8 * a ** 2 * l1 ** 2 * m ** 2 + 16 * a * b ** 2 * c ** 3 - 16 * a * b ** 2 * c * m ** 2 + b ** 6 - 5 * b ** 4 * c ** 2 - 2 * b ** 4 * l1 ** 2 + 8 * b ** 4 * m ** 2 - 5 * b ** 2 * c ** 4 + 8 * b ** 2 * c ** 2 * m ** 2 + b ** 2 * l1 ** 4 - 8 * b ** 2 * l1 ** 2 * m ** 2 + c ** 6 - 2 * c ** 4 * l1 ** 2 + c ** 2 * l1 ** 4 - 2 * sp.sqrt(\n",
    "                                a ** 10 * c ** 2 + 8 * a ** 9 * c * m ** 2 + 5 * a ** 8 * b ** 2 * c ** 2 - 4 * a ** 8 * c ** 4 - 4 * a ** 8 * c ** 2 * l1 ** 2 + 16 * a ** 8 * c ** 2 * m ** 2 + 16 * a ** 8 * m ** 4 - 8 * a ** 7 * b ** 2 * c ** 3 + 32 * a ** 7 * b ** 2 * c * m ** 2 - 8 * a ** 7 * c ** 3 * m ** 2 - 24 * a ** 7 * c * l1 ** 2 * m ** 2 + 64 * a ** 7 * c * m ** 4 + 10 * a ** 6 * b ** 4 * c ** 2 + 8 * a ** 6 * b ** 2 * c ** 4 - 16 * a ** 6 * b ** 2 * c ** 2 * l1 ** 2 - 32 * a ** 6 * b ** 2 * c ** 2 * m ** 2 + 64 * a ** 6 * b ** 2 * m ** 4 + 6 * a ** 6 * c ** 6 + 4 * a ** 6 * c ** 4 * l1 ** 2 - 32 * a ** 6 * c ** 4 * m ** 2 + 6 * a ** 6 * c ** 2 * l1 ** 4 - 32 * a ** 6 * c ** 2 * l1 ** 2 * m ** 2 + 96 * a ** 6 * c ** 2 * m ** 4 - 32 * a ** 6 * l1 ** 2 * m ** 4 - 24 * a ** 5 * b ** 4 * c ** 3 + 48 * a ** 5 * b ** 4 * c * m ** 2 + 8 * a ** 5 * b ** 2 * c ** 5 + 24 * a ** 5 * b ** 2 * c ** 3 * l1 ** 2 - 56 * a ** 5 * b ** 2 * c ** 3 * m ** 2 - 72 * a ** 5 * b ** 2 * c * l1 ** 2 * m ** 2 + 64 * a ** 5 * b ** 2 * c * m ** 4 - 8 * a ** 5 * c ** 5 * m ** 2 - 16 * a ** 5 * c ** 3 * l1 ** 2 * m ** 2 + 64 * a ** 5 * c ** 3 * m ** 4 + 24 * a ** 5 * c * l1 ** 4 * m ** 2 - 64 * a ** 5 * c * l1 ** 2 * m ** 4 + 10 * a ** 4 * b ** 6 * c ** 2 + 32 * a ** 4 * b ** 4 * c ** 4 - 24 * a ** 4 * b ** 4 * c ** 2 * l1 ** 2 - 128 * a ** 4 * b ** 4 * c ** 2 * m ** 2 + 96 * a ** 4 * b ** 4 * m ** 4 - 30 * a ** 4 * b ** 2 * c ** 6 - 36 * a ** 4 * b ** 2 * c ** 4 * l1 ** 2 + 32 * a ** 4 * b ** 2 * c ** 4 * m ** 2 + 18 * a ** 4 * b ** 2 * c ** 2 * l1 ** 4 + 96 * a ** 4 * b ** 2 * c ** 2 * l1 ** 2 * m ** 2 - 32 * a ** 4 * b ** 2 * c ** 2 * m ** 4 - 96 * a ** 4 * b ** 2 * l1 ** 2 * m ** 4 - 4 * a ** 4 * c ** 8 + 4 * a ** 4 * c ** 6 * l1 ** 2 + 16 * a ** 4 * c ** 6 * m ** 2 + 4 * a ** 4 * c ** 4 * l1 ** 4 - 32 * a ** 4 * c ** 4 * l1 ** 2 * m ** 2 + 16 * a ** 4 * c ** 4 * m ** 4 - 4 * a ** 4 * c ** 2 * l1 ** 6 + 16 * a ** 4 * c ** 2 * l1 ** 4 * m ** 2 - 32 * a ** 4 * c ** 2 * l1 ** 2 * m ** 4 + 16 * a ** 4 * l1 ** 4 * m ** 4 - 24 * a ** 3 * b ** 6 * c ** 3 + 32 * a ** 3 * b ** 6 * c * m ** 2 - 16 * a ** 3 * b ** 4 * c ** 5 + 48 * a ** 3 * b ** 4 * c ** 3 * l1 ** 2 + 40 * a ** 3 * b ** 4 * c ** 3 * m ** 2 - 72 * a ** 3 * b ** 4 * c * l1 ** 2 * m ** 2 - 64 * a ** 3 * b ** 4 * c * m ** 4 + 8 * a ** 3 * b ** 2 * c ** 7 + 16 * a ** 3 * b ** 2 * c ** 5 * l1 ** 2 - 48 * a ** 3 * b ** 2 * c ** 5 * m ** 2 - 24 * a ** 3 * b ** 2 * c ** 3 * l1 ** 4 + 48 * a ** 3 * b ** 2 * c * l1 ** 4 * m ** 2 + 8 * a ** 3 * c ** 7 * m ** 2 - 24 * a ** 3 * c ** 5 * l1 ** 2 * m ** 2 + 24 * a ** 3 * c ** 3 * l1 ** 4 * m ** 2 - 8 * a ** 3 * c * l1 ** 6 * m ** 2 + 5 * a ** 2 * b ** 8 * c ** 2 + 24 * a ** 2 * b ** 6 * c ** 4 - 16 * a ** 2 * b ** 6 * c ** 2 * l1 ** 2 - 96 * a ** 2 * b ** 6 * c ** 2 * m ** 2 + 64 * a ** 2 * b ** 6 * m ** 4 + 34 * a ** 2 * b ** 4 * c ** 6 - 52 * a ** 2 * b ** 4 * c ** 4 * l1 ** 2 + 32 * a ** 2 * b ** 4 * c ** 4 * m ** 2 + 18 * a ** 2 * b ** 4 * c ** 2 * l1 ** 4 + 160 * a ** 2 * b ** 4 * c ** 2 * l1 ** 2 * m ** 2 - 96 * a ** 2 * b ** 4 * c ** 2 * m ** 4 - 96 * a ** 2 * b ** 4 * l1 ** 2 * m ** 4 + 16 * a ** 2 * b ** 2 * c ** 8 - 40 * a ** 2 * b ** 2 * c ** 6 * l1 ** 2 - 64 * a ** 2 * b ** 2 * c ** 6 * m ** 2 + 32 * a ** 2 * b ** 2 * c ** 4 * l1 ** 4 + 128 * a ** 2 * b ** 2 * c ** 4 * l1 ** 2 * m ** 2 + 32 * a ** 2 * b ** 2 * c ** 4 * m ** 4 - 8 * a ** 2 * b ** 2 * c ** 2 * l1 ** 6 - 64 * a ** 2 * b ** 2 * c ** 2 * l1 ** 4 * m ** 2 - 64 * a ** 2 * b ** 2 * c ** 2 * l1 ** 2 * m ** 4 + 32 * a ** 2 * b ** 2 * l1 ** 4 * m ** 4 + a ** 2 * c ** 10 - 4 * a ** 2 * c ** 8 * l1 ** 2 + 6 * a ** 2 * c ** 6 * l1 ** 4 - 4 * a ** 2 * c ** 4 * l1 ** 6 + a ** 2 * c ** 2 * l1 ** 8 - 8 * a * b ** 8 * c ** 3 + 8 * a * b ** 8 * c * m ** 2 - 24 * a * b ** 6 * c ** 5 + 24 * a * b ** 6 * c ** 3 * l1 ** 2 + 88 * a * b ** 6 * c ** 3 * m ** 2 - 24 * a * b ** 6 * c * l1 ** 2 * m ** 2 - 64 * a * b ** 6 * c * m ** 4 - 24 * a * b ** 4 * c ** 7 + 48 * a * b ** 4 * c ** 5 * l1 ** 2 + 88 * a * b ** 4 * c ** 5 * m ** 2 - 24 * a * b ** 4 * c ** 3 * l1 ** 4 - 112 * a * b ** 4 * c ** 3 * l1 ** 2 * m ** 2 - 64 * a * b ** 4 * c ** 3 * m ** 4 + 24 * a * b ** 4 * c * l1 ** 4 * m ** 2 + 64 * a * b ** 4 * c * l1 ** 2 * m ** 4 - 8 * a * b ** 2 * c ** 9 + 24 * a * b ** 2 * c ** 7 * l1 ** 2 + 8 * a * b ** 2 * c ** 7 * m ** 2 - 24 * a * b ** 2 * c ** 5 * l1 ** 4 - 24 * a * b ** 2 * c ** 5 * l1 ** 2 * m ** 2 + 8 * a * b ** 2 * c ** 3 * l1 ** 6 + 24 * a * b ** 2 * c ** 3 * l1 ** 4 * m ** 2 - 8 * a * b ** 2 * c * l1 ** 6 * m ** 2 + b ** 10 * c ** 2 + 4 * b ** 8 * c ** 4 - 4 * b ** 8 * c ** 2 * l1 ** 2 - 16 * b ** 8 * c ** 2 * m ** 2 + 16 * b ** 8 * m ** 4 + 6 * b ** 6 * c ** 6 - 12 * b ** 6 * c ** 4 * l1 ** 2 - 32 * b ** 6 * c ** 4 * m ** 2 + 6 * b ** 6 * c ** 2 * l1 ** 4 + 32 * b ** 6 * c ** 2 * l1 ** 2 * m ** 2 + 32 * b ** 6 * c ** 2 * m ** 4 - 32 * b ** 6 * l1 ** 2 * m ** 4 + 4 * b ** 4 * c ** 8 - 12 * b ** 4 * c ** 6 * l1 ** 2 - 16 * b ** 4 * c ** 6 * m ** 2 + 12 * b ** 4 * c ** 4 * l1 ** 4 + 32 * b ** 4 * c ** 4 * l1 ** 2 * m ** 2 + 16 * b ** 4 * c ** 4 * m ** 4 - 4 * b ** 4 * c ** 2 * l1 ** 6 - 16 * b ** 4 * c ** 2 * l1 ** 4 * m ** 2 - 32 * b ** 4 * c ** 2 * l1 ** 2 * m ** 4 + 16 * b ** 4 * l1 ** 4 * m ** 4 + b ** 2 * c ** 10 - 4 * b ** 2 * c ** 8 * l1 ** 2 + 6 * b ** 2 * c ** 6 * l1 ** 4 - 4 * b ** 2 * c ** 4 * l1 ** 6 + b ** 2 * c ** 2 * l1 ** 8)) / (\n",
    "                                    a ** 4 + 2 * a ** 2 * b ** 2 - 2 * a ** 2 * c ** 2 - 2 * a ** 2 * l1 ** 2 + b ** 4 - 2 * b ** 2 * c ** 2 - 2 * b ** 2 * l1 ** 2 + c ** 4 - 2 * c ** 2 * l1 ** 2 + l1 ** 4)),\n",
    "                       sp.sqrt((\n",
    "                                    a ** 6 + 3 * a ** 4 * b ** 2 - a ** 4 * c ** 2 - 2 * a ** 4 * l1 ** 2 - 8 * a ** 4 * m ** 2 - 16 * a ** 3 * c * m ** 2 + 3 * a ** 2 * b ** 4 - 6 * a ** 2 * b ** 2 * c ** 2 - 4 * a ** 2 * b ** 2 * l1 ** 2 - a ** 2 * c ** 4 - 4 * a ** 2 * c ** 2 * l1 ** 2 - 8 * a ** 2 * c ** 2 * m ** 2 + a ** 2 * l1 ** 4 + 8 * a ** 2 * l1 ** 2 * m ** 2 + 16 * a * b ** 2 * c ** 3 - 16 * a * b ** 2 * c * m ** 2 + b ** 6 - 5 * b ** 4 * c ** 2 - 2 * b ** 4 * l1 ** 2 + 8 * b ** 4 * m ** 2 - 5 * b ** 2 * c ** 4 + 8 * b ** 2 * c ** 2 * m ** 2 + b ** 2 * l1 ** 4 - 8 * b ** 2 * l1 ** 2 * m ** 2 + c ** 6 - 2 * c ** 4 * l1 ** 2 + c ** 2 * l1 ** 4 + 2 * sp.sqrt(\n",
    "                                a ** 10 * c ** 2 + 8 * a ** 9 * c * m ** 2 + 5 * a ** 8 * b ** 2 * c ** 2 - 4 * a ** 8 * c ** 4 - 4 * a ** 8 * c ** 2 * l1 ** 2 + 16 * a ** 8 * c ** 2 * m ** 2 + 16 * a ** 8 * m ** 4 - 8 * a ** 7 * b ** 2 * c ** 3 + 32 * a ** 7 * b ** 2 * c * m ** 2 - 8 * a ** 7 * c ** 3 * m ** 2 - 24 * a ** 7 * c * l1 ** 2 * m ** 2 + 64 * a ** 7 * c * m ** 4 + 10 * a ** 6 * b ** 4 * c ** 2 + 8 * a ** 6 * b ** 2 * c ** 4 - 16 * a ** 6 * b ** 2 * c ** 2 * l1 ** 2 - 32 * a ** 6 * b ** 2 * c ** 2 * m ** 2 + 64 * a ** 6 * b ** 2 * m ** 4 + 6 * a ** 6 * c ** 6 + 4 * a ** 6 * c ** 4 * l1 ** 2 - 32 * a ** 6 * c ** 4 * m ** 2 + 6 * a ** 6 * c ** 2 * l1 ** 4 - 32 * a ** 6 * c ** 2 * l1 ** 2 * m ** 2 + 96 * a ** 6 * c ** 2 * m ** 4 - 32 * a ** 6 * l1 ** 2 * m ** 4 - 24 * a ** 5 * b ** 4 * c ** 3 + 48 * a ** 5 * b ** 4 * c * m ** 2 + 8 * a ** 5 * b ** 2 * c ** 5 + 24 * a ** 5 * b ** 2 * c ** 3 * l1 ** 2 - 56 * a ** 5 * b ** 2 * c ** 3 * m ** 2 - 72 * a ** 5 * b ** 2 * c * l1 ** 2 * m ** 2 + 64 * a ** 5 * b ** 2 * c * m ** 4 - 8 * a ** 5 * c ** 5 * m ** 2 - 16 * a ** 5 * c ** 3 * l1 ** 2 * m ** 2 + 64 * a ** 5 * c ** 3 * m ** 4 + 24 * a ** 5 * c * l1 ** 4 * m ** 2 - 64 * a ** 5 * c * l1 ** 2 * m ** 4 + 10 * a ** 4 * b ** 6 * c ** 2 + 32 * a ** 4 * b ** 4 * c ** 4 - 24 * a ** 4 * b ** 4 * c ** 2 * l1 ** 2 - 128 * a ** 4 * b ** 4 * c ** 2 * m ** 2 + 96 * a ** 4 * b ** 4 * m ** 4 - 30 * a ** 4 * b ** 2 * c ** 6 - 36 * a ** 4 * b ** 2 * c ** 4 * l1 ** 2 + 32 * a ** 4 * b ** 2 * c ** 4 * m ** 2 + 18 * a ** 4 * b ** 2 * c ** 2 * l1 ** 4 + 96 * a ** 4 * b ** 2 * c ** 2 * l1 ** 2 * m ** 2 - 32 * a ** 4 * b ** 2 * c ** 2 * m ** 4 - 96 * a ** 4 * b ** 2 * l1 ** 2 * m ** 4 - 4 * a ** 4 * c ** 8 + 4 * a ** 4 * c ** 6 * l1 ** 2 + 16 * a ** 4 * c ** 6 * m ** 2 + 4 * a ** 4 * c ** 4 * l1 ** 4 - 32 * a ** 4 * c ** 4 * l1 ** 2 * m ** 2 + 16 * a ** 4 * c ** 4 * m ** 4 - 4 * a ** 4 * c ** 2 * l1 ** 6 + 16 * a ** 4 * c ** 2 * l1 ** 4 * m ** 2 - 32 * a ** 4 * c ** 2 * l1 ** 2 * m ** 4 + 16 * a ** 4 * l1 ** 4 * m ** 4 - 24 * a ** 3 * b ** 6 * c ** 3 + 32 * a ** 3 * b ** 6 * c * m ** 2 - 16 * a ** 3 * b ** 4 * c ** 5 + 48 * a ** 3 * b ** 4 * c ** 3 * l1 ** 2 + 40 * a ** 3 * b ** 4 * c ** 3 * m ** 2 - 72 * a ** 3 * b ** 4 * c * l1 ** 2 * m ** 2 - 64 * a ** 3 * b ** 4 * c * m ** 4 + 8 * a ** 3 * b ** 2 * c ** 7 + 16 * a ** 3 * b ** 2 * c ** 5 * l1 ** 2 - 48 * a ** 3 * b ** 2 * c ** 5 * m ** 2 - 24 * a ** 3 * b ** 2 * c ** 3 * l1 ** 4 + 48 * a ** 3 * b ** 2 * c * l1 ** 4 * m ** 2 + 8 * a ** 3 * c ** 7 * m ** 2 - 24 * a ** 3 * c ** 5 * l1 ** 2 * m ** 2 + 24 * a ** 3 * c ** 3 * l1 ** 4 * m ** 2 - 8 * a ** 3 * c * l1 ** 6 * m ** 2 + 5 * a ** 2 * b ** 8 * c ** 2 + 24 * a ** 2 * b ** 6 * c ** 4 - 16 * a ** 2 * b ** 6 * c ** 2 * l1 ** 2 - 96 * a ** 2 * b ** 6 * c ** 2 * m ** 2 + 64 * a ** 2 * b ** 6 * m ** 4 + 34 * a ** 2 * b ** 4 * c ** 6 - 52 * a ** 2 * b ** 4 * c ** 4 * l1 ** 2 + 32 * a ** 2 * b ** 4 * c ** 4 * m ** 2 + 18 * a ** 2 * b ** 4 * c ** 2 * l1 ** 4 + 160 * a ** 2 * b ** 4 * c ** 2 * l1 ** 2 * m ** 2 - 96 * a ** 2 * b ** 4 * c ** 2 * m ** 4 - 96 * a ** 2 * b ** 4 * l1 ** 2 * m ** 4 + 16 * a ** 2 * b ** 2 * c ** 8 - 40 * a ** 2 * b ** 2 * c ** 6 * l1 ** 2 - 64 * a ** 2 * b ** 2 * c ** 6 * m ** 2 + 32 * a ** 2 * b ** 2 * c ** 4 * l1 ** 4 + 128 * a ** 2 * b ** 2 * c ** 4 * l1 ** 2 * m ** 2 + 32 * a ** 2 * b ** 2 * c ** 4 * m ** 4 - 8 * a ** 2 * b ** 2 * c ** 2 * l1 ** 6 - 64 * a ** 2 * b ** 2 * c ** 2 * l1 ** 4 * m ** 2 - 64 * a ** 2 * b ** 2 * c ** 2 * l1 ** 2 * m ** 4 + 32 * a ** 2 * b ** 2 * l1 ** 4 * m ** 4 + a ** 2 * c ** 10 - 4 * a ** 2 * c ** 8 * l1 ** 2 + 6 * a ** 2 * c ** 6 * l1 ** 4 - 4 * a ** 2 * c ** 4 * l1 ** 6 + a ** 2 * c ** 2 * l1 ** 8 - 8 * a * b ** 8 * c ** 3 + 8 * a * b ** 8 * c * m ** 2 - 24 * a * b ** 6 * c ** 5 + 24 * a * b ** 6 * c ** 3 * l1 ** 2 + 88 * a * b ** 6 * c ** 3 * m ** 2 - 24 * a * b ** 6 * c * l1 ** 2 * m ** 2 - 64 * a * b ** 6 * c * m ** 4 - 24 * a * b ** 4 * c ** 7 + 48 * a * b ** 4 * c ** 5 * l1 ** 2 + 88 * a * b ** 4 * c ** 5 * m ** 2 - 24 * a * b ** 4 * c ** 3 * l1 ** 4 - 112 * a * b ** 4 * c ** 3 * l1 ** 2 * m ** 2 - 64 * a * b ** 4 * c ** 3 * m ** 4 + 24 * a * b ** 4 * c * l1 ** 4 * m ** 2 + 64 * a * b ** 4 * c * l1 ** 2 * m ** 4 - 8 * a * b ** 2 * c ** 9 + 24 * a * b ** 2 * c ** 7 * l1 ** 2 + 8 * a * b ** 2 * c ** 7 * m ** 2 - 24 * a * b ** 2 * c ** 5 * l1 ** 4 - 24 * a * b ** 2 * c ** 5 * l1 ** 2 * m ** 2 + 8 * a * b ** 2 * c ** 3 * l1 ** 6 + 24 * a * b ** 2 * c ** 3 * l1 ** 4 * m ** 2 - 8 * a * b ** 2 * c * l1 ** 6 * m ** 2 + b ** 10 * c ** 2 + 4 * b ** 8 * c ** 4 - 4 * b ** 8 * c ** 2 * l1 ** 2 - 16 * b ** 8 * c ** 2 * m ** 2 + 16 * b ** 8 * m ** 4 + 6 * b ** 6 * c ** 6 - 12 * b ** 6 * c ** 4 * l1 ** 2 - 32 * b ** 6 * c ** 4 * m ** 2 + 6 * b ** 6 * c ** 2 * l1 ** 4 + 32 * b ** 6 * c ** 2 * l1 ** 2 * m ** 2 + 32 * b ** 6 * c ** 2 * m ** 4 - 32 * b ** 6 * l1 ** 2 * m ** 4 + 4 * b ** 4 * c ** 8 - 12 * b ** 4 * c ** 6 * l1 ** 2 - 16 * b ** 4 * c ** 6 * m ** 2 + 12 * b ** 4 * c ** 4 * l1 ** 4 + 32 * b ** 4 * c ** 4 * l1 ** 2 * m ** 2 + 16 * b ** 4 * c ** 4 * m ** 4 - 4 * b ** 4 * c ** 2 * l1 ** 6 - 16 * b ** 4 * c ** 2 * l1 ** 4 * m ** 2 - 32 * b ** 4 * c ** 2 * l1 ** 2 * m ** 4 + 16 * b ** 4 * l1 ** 4 * m ** 4 + b ** 2 * c ** 10 - 4 * b ** 2 * c ** 8 * l1 ** 2 + 6 * b ** 2 * c ** 6 * l1 ** 4 - 4 * b ** 2 * c ** 4 * l1 ** 6 + b ** 2 * c ** 2 * l1 ** 8)) / (\n",
    "                                    a ** 4 + 2 * a ** 2 * b ** 2 - 2 * a ** 2 * c ** 2 - 2 * a ** 2 * l1 ** 2 + b ** 4 - 2 * b ** 2 * c ** 2 - 2 * b ** 2 * l1 ** 2 + c ** 4 - 2 * c ** 2 * l1 ** 2 + l1 ** 4))]\n",
    "\n",
    "l2 = l2_ana_sols[0]\n",
    "xro = (l2 ** 2 - d ** 2) / (4 * m)\n",
    "zro = (a * c - m * xro) / k\n",
    "\n",
    "\n",
    "# yro = sqrt(d ** 2 - (zro - k) ** 2 - (xro - m) ** 2)\n",
    "yro =  d ** 2 - (zro - k) ** 2 - (xro - m) ** 2\n",
    "\n",
    "l1_max_min_sol = sp.solve(yro, l1)\n",
    "l1_max_min_sol"
   ]
  },
  {
   "cell_type": "code",
   "execution_count": null,
   "metadata": {},
   "outputs": [],
   "source": [
    "print(l1_max_min_sol)"
   ]
  },
  {
   "cell_type": "code",
   "execution_count": null,
   "metadata": {},
   "outputs": [],
   "source": [
    "wb = WBCell5ParamV3(debug=True)\n",
    "wb.interact()"
   ]
  },
  {
   "cell_type": "markdown",
   "metadata": {},
   "source": [
    "## Solve l2 analytically"
   ]
  },
  {
   "cell_type": "code",
   "execution_count": null,
   "metadata": {},
   "outputs": [],
   "source": [
    "# solutions of l2 where yro, ylo are negative are all the same, only 2 positive solutions are valid\n",
    "\n",
    "e = a - c\n",
    "d = sp.sqrt(b ** 2 + e ** 2) # checked\n",
    "k = sp.sqrt(c ** 2 - m ** 2) # checked\n",
    "M = sp.Matrix([0, 0, -k]) # checked\n",
    "\n",
    "xro = (l2 ** 2 - d ** 2) / (4 * m) # checked\n",
    "zro = (a * c - k ** 2 - m * xro) / k # checked\n",
    "yro = sp.sqrt(d ** 2 - zro ** 2 - (xro - m) ** 2) # checked\n",
    "\n",
    "xlo = (d ** 2 - l1 ** 2) / (4 * m) # checked\n",
    "zlo = (a * c - k ** 2 + m * xlo) / k # checked\n",
    "ylo = sp.sqrt(d ** 2 - zlo ** 2 - (xlo + m) ** 2) # checked\n",
    "# ylo = yro + sp.sqrt(4*a**2-(zro-zlo)**2-(xro-xlo)**2) # checked\n",
    "\n",
    "G = xro * xlo + yro * ylo + (zro +k)* (zlo+k) + (a**2-b**2) # checked\n",
    "l2_sol = sp.solve(G, l2, simplify=False)\n",
    "l2_sol"
   ]
  },
  {
   "cell_type": "code",
   "execution_count": null,
   "metadata": {},
   "outputs": [],
   "source": [
    "l2_sol = sp.simplify(l2_sol)\n",
    "l2_sol"
   ]
  },
  {
   "cell_type": "code",
   "execution_count": null,
   "metadata": {},
   "outputs": [],
   "source": [
    "l2_sol[1].subs([(a, 500), (b, 500), (c, 500), (m, 250), (l1, 750)]).evalf()"
   ]
  },
  {
   "cell_type": "markdown",
   "metadata": {},
   "source": [
    "## Solve l2 numerically"
   ]
  },
  {
   "cell_type": "code",
   "execution_count": null,
   "metadata": {},
   "outputs": [],
   "source": [
    "from scipy.optimize import root\n",
    "a = 500\n",
    "b = 500\n",
    "c = 500\n",
    "m = 250\n",
    "l1 = 750\n",
    "\n",
    "e = a - c\n",
    "d = np.sqrt(b ** 2 + e ** 2) # checked\n",
    "k = np.sqrt(c ** 2 - m ** 2) # checked\n",
    "M = np.array([0, 0, -k]) # checked\n",
    "\n",
    "def get_G(l2, yro_positive=True, ylo_positive=True):\n",
    "    print(l2, yro_positive, ylo_positive)\n",
    "    xro = (l2 ** 2 - d ** 2) / (4 * m)  # checked\n",
    "    zro = (a * c - k ** 2 - m * xro) / k  # checked\n",
    "\n",
    "    yro_quad = d ** 2 - zro ** 2 - (xro - m) ** 2  # checked\n",
    "    if yro_quad < 0:\n",
    "        return np.nan\n",
    "    yro = np.sqrt(yro_quad) if yro_positive else -np.sqrt(yro_quad) # using np.abs(yro_quad) like before would introduce new wrong solutions\n",
    "\n",
    "    xlo = (d ** 2 - l1 ** 2) / (4 * m)  # checked\n",
    "    zlo = (a * c - k ** 2 + m * xlo) / k  # checked\n",
    "\n",
    "    ylo_quad = d ** 2 - zlo ** 2 - (xlo + m) ** 2  # checked\n",
    "    if ylo_quad < 0:\n",
    "        return np.nan\n",
    "    ylo = np.sqrt(ylo_quad) if ylo_positive else -np.sqrt(ylo_quad) # using np.abs(yro_quad) like before would introduce new wrong solutions\n",
    "\n",
    "    G = xro * xlo + yro * ylo + (zro + k) * (zlo + k) + (a ** 2 - b ** 2)  # checked\n",
    "\n",
    "    return G\n",
    "\n",
    "# l2 = root(lambda l2: get_coords(l2), 0, tol=1e-6).x # gives negative solution\n",
    "l2_max = 2000\n",
    "l2 = np.nan\n",
    "for l2_i in np.linspace(0, l2_max, 100):\n",
    "    sol = root(get_G, l2_i, tol=1e-6, args=(True, True))\n",
    "    if sol.success and sol.x[0] >= 0:\n",
    "        l2 = sol.x\n",
    "        break\n",
    "if l2 == np.nan:\n",
    "    for l2_i in np.linspace(0, l2_max, 100):\n",
    "        sol = root(get_G, l2_i, tol=1e-6, args=(True, False))\n",
    "        if sol.success and sol.x[0] >= 0:\n",
    "            l2 = sol.x\n",
    "            break\n",
    "if l2 == np.nan:\n",
    "    for l2_i in np.linspace(0, l2_max, 100):\n",
    "        sol = root(get_G, l2_i, tol=1e-6, args=(False, True))\n",
    "        if sol.success and sol.x[0] >= 0:\n",
    "            l2 = sol.x\n",
    "            break\n",
    "if l2 == np.nan:\n",
    "    for l2_i in np.linspace(0, l2_max, 100):\n",
    "        sol = root(get_G, l2_i, tol=1e-6, args=(False, False))\n",
    "        if sol.success and sol.x[0] >= 0:\n",
    "            l2 = sol.x\n",
    "            break\n",
    "l2\n",
    "# right l2 sol should be l2 = 940.25"
   ]
  }
 ],
 "metadata": {
  "kernelspec": {
   "display_name": "Python 3 (ipykernel)",
   "language": "python",
   "name": "python3"
  },
  "language_info": {
   "codemirror_mode": {
    "name": "ipython",
    "version": 3
   },
   "file_extension": ".py",
   "mimetype": "text/x-python",
   "name": "python",
   "nbconvert_exporter": "python",
   "pygments_lexer": "ipython3"
  }
 },
 "nbformat": 4,
 "nbformat_minor": 1
}
