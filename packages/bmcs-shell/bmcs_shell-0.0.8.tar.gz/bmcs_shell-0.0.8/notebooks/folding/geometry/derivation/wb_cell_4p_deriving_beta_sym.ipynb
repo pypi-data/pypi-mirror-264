{
 "cells": [
  {
   "cell_type": "code",
   "execution_count": null,
   "metadata": {},
   "outputs": [],
   "source": [
    "%matplotlib widget\n",
    "from bmcs_shell.api import *\n",
    "import numpy as np\n",
    "import sympy as sp"
   ]
  },
  {
   "cell_type": "code",
   "execution_count": null,
   "metadata": {},
   "outputs": [],
   "source": [
    "wb_cell = WBCell4Param(a = 500, b = 1000, c = 500, gamma = 1.0, show_node_labels=False)\n",
    "wb_cell.interact()"
   ]
  },
  {
   "cell_type": "markdown",
   "metadata": {},
   "source": [
    "**$\\beta$ is the angle between vector connecting 0 and 5 and vector connecting 0 and 2**\n",
    "\n",
    "That means.."
   ]
  },
  {
   "cell_type": "code",
   "execution_count": null,
   "metadata": {},
   "outputs": [],
   "source": [
    "X_Ia = wb_cell.X_Ia\n",
    "v05 = X_Ia[5] - X_Ia[0]\n",
    "v02 = X_Ia[2] - X_Ia[0]\n",
    "cos_beta = (v05 @ v02) / (np.sqrt(v05 @ v05) * np.sqrt(v02 @ v02)) # @ is dot product in numpy\n",
    "beta = np.arccos(cos_beta)\n",
    "beta"
   ]
  },
  {
   "cell_type": "markdown",
   "metadata": {},
   "source": [
    "**To derive it analytically..**\n",
    "\n",
    "We notice that we can use `X_Ia[5]` instead of `(X_Ia[5] - X_Ia[0])` and `X_Ia[2]` instead of `(X_Ia[2] - X_Ia[0])` as `X_Ia[0]` is zeros!"
   ]
  },
  {
   "cell_type": "code",
   "execution_count": null,
   "metadata": {},
   "outputs": [],
   "source": [
    "a, b, c, gamma = sp.symbols('a, b, c, gamma', positive=True)"
   ]
  },
  {
   "cell_type": "code",
   "execution_count": null,
   "metadata": {},
   "outputs": [],
   "source": [
    "wb_4p = WBCell4Param()"
   ]
  },
  {
   "cell_type": "code",
   "execution_count": null,
   "metadata": {},
   "outputs": [],
   "source": [
    "u_2_ = wb_4p.symb.u_2_\n",
    "u_2_"
   ]
  },
  {
   "cell_type": "code",
   "execution_count": null,
   "metadata": {},
   "outputs": [],
   "source": [
    "u_3_ = wb_4p.symb.u_3_\n",
    "u_3_"
   ]
  },
  {
   "cell_type": "code",
   "execution_count": null,
   "metadata": {},
   "outputs": [],
   "source": [
    "U_ul = sp.Matrix([-a, u_2_, u_3_])\n",
    "U_ul"
   ]
  },
  {
   "cell_type": "code",
   "execution_count": null,
   "metadata": {},
   "outputs": [],
   "source": [
    "V_r = sp.Matrix([c * sp.sin(gamma), 0, c * sp.cos(gamma)])\n",
    "V_r"
   ]
  },
  {
   "cell_type": "code",
   "execution_count": null,
   "metadata": {},
   "outputs": [],
   "source": [
    "cos_beta = (sp.Transpose(U_ul)*V_r)[0] / (sp.sqrt(sp.Transpose(U_ul)*U_ul) * sp.sqrt(sp.Transpose(V_r)*V_r))[0]\n",
    "sp.simplify(cos_beta)"
   ]
  },
  {
   "cell_type": "code",
   "execution_count": null,
   "metadata": {},
   "outputs": [],
   "source": [
    "sp.simplify(cos_beta).subs({gamma:sp.pi/2})"
   ]
  },
  {
   "cell_type": "markdown",
   "metadata": {},
   "source": [
    "### Or in one cell.."
   ]
  },
  {
   "cell_type": "code",
   "execution_count": null,
   "metadata": {},
   "outputs": [],
   "source": [
    "a, b, c, gamma = sp.symbols('a, b, c, gamma', positive=True)\n",
    "wb_4p = WBCell4Param()\n",
    "u_2_ = wb_4p.symb.u_2_\n",
    "u_3_ = wb_4p.symb.u_3_\n",
    "U_ul = sp.Matrix([-a, u_2_, u_3_])\n",
    "V_r = sp.Matrix([c * sp.sin(gamma), 0, c * sp.cos(gamma)])\n",
    "cos_beta = (sp.Transpose(U_ul)*V_r)[0] / (sp.sqrt(sp.Transpose(U_ul)*U_ul) * sp.sqrt(sp.Transpose(V_r)*V_r))[0]\n",
    "cos_beta = sp.simplify(cos_beta)\n",
    "cos_beta\n",
    "# str(cos_beta)"
   ]
  }
 ],
 "metadata": {
  "kernelspec": {
   "display_name": "Python 3 (ipykernel)",
   "language": "python",
   "name": "python3"
  },
  "language_info": {
   "codemirror_mode": {
    "name": "ipython",
    "version": 3
   },
   "file_extension": ".py",
   "mimetype": "text/x-python",
   "name": "python",
   "nbconvert_exporter": "python",
   "pygments_lexer": "ipython3"
<<<<<<< HEAD
  },
  "toc": {
   "base_numbering": 1,
   "nav_menu": {},
   "number_sections": true,
   "sideBar": true,
   "skip_h1_title": false,
   "title_cell": "Table of Contents",
   "title_sidebar": "Contents",
   "toc_cell": false,
   "toc_position": {},
   "toc_section_display": true,
   "toc_window_display": false
=======
>>>>>>> 2066157 (notebook executions)
  }
 },
 "nbformat": 4,
 "nbformat_minor": 1
}
