{
 "cells": [
  {
   "cell_type": "markdown",
   "metadata": {},
   "source": [
    "# WB cell with 5 Parameters (gamma_l + gamma_r)"
   ]
  },
  {
   "cell_type": "code",
   "execution_count": null,
   "metadata": {},
   "outputs": [],
   "source": [
    "%matplotlib widget\n",
    "from bmcs_shell.api import WBCell2Gammas, WBCell4Param\n",
    "import numpy as np\n",
    "import sympy as sp\n",
    "sp.init_printing()"
   ]
  },
  {
   "cell_type": "code",
   "execution_count": null,
   "metadata": {},
   "outputs": [],
   "source": [
    "wb_cell = WBCell2Gammas()\n",
    "wb_cell.interact()"
   ]
  },
  {
   "cell_type": "code",
   "execution_count": null,
   "metadata": {},
   "outputs": [],
   "source": [
    "# 2 gammas cell\n",
    "\n",
    "# Define coordinates\n",
    "xl, yl, zl = sp.symbols('x_l y_l z_l', real=True)\n",
    "xr, yr, zr = sp.symbols('x_r y_r z_r', real=True)\n",
    "a, b, c, gamma_l, gamma_r = sp.symbols('a b c gamma_l, gamma_r', real=True, nonnegative=True)\n",
    "\n",
    "O = sp.Matrix([0, 0, 0])\n",
    "Ul_flat = sp.Matrix([-a, b, 0])\n",
    "Ur_flat = sp.Matrix([a, b, 0])\n",
    "Vl_flat = sp.Matrix([-c, 0, 0])\n",
    "Vr_flat = sp.Matrix([c, 0, 0])\n",
    "\n",
    "# Define vectors\n",
    "Ul = sp.Matrix([xl, yl, zl])\n",
    "Ur = sp.Matrix([xr, yr, zr])\n",
    "Vl = sp.Matrix([-c * sp.sin(gamma_l), 0, c * sp.cos(gamma_l)])\n",
    "Vr = sp.Matrix([c * sp.sin(gamma_r), 0, c * sp.cos(gamma_r)])\n",
    "\n",
    "# Define unknowns\n",
    "unknowns = [xl, yl, zl, xr, yr, zr]\n",
    "\n",
    "# Define equations\n",
    "eq1 = sp.simplify(Ur.norm()**2 - Ur_flat.norm()**2)\n",
    "eq2 = sp.simplify(Ul.norm()**2 - Ul_flat.norm()**2)\n",
    "eq3 = sp.simplify(Ul.dot(Ur) - Ul_flat.dot(Ur_flat)) # denominator was eleminated Ul.dot(Ur) / (Ul_flat.norm() * Ur_flat.norm()) as it's equal before and after folding\n",
    "eq4 = sp.simplify(Ur.dot(Vr) - Ur_flat.dot(Vr_flat)) \n",
    "eq5 = sp.simplify(Ul.dot(Vl) - Ul_flat.dot(Vl_flat))\n",
    "eq6 = sp.simplify((Ur+Ul/2)[0])\n",
    "\n",
    "# eq6 = sp.simplify((Ul-Vl).norm()**2 - (Ul_flat-Vl_flat).norm()**2)\n",
    "# eq7 = sp.simplify((Ur-Vr).norm()**2 - (Ur_flat-Vr_flat).norm()**2)\n",
    "# eq8 = sp.simplify(Vr.norm()**2 - Vr_flat.norm()**2)\n",
    "# eq9 = sp.simplify(Vl.norm()**2 - Vl_flat.norm()**2)\n",
    "\n",
    "# sol = sp.solve([eq1, eq2, eq3, eq4, eq5, eq6], unknowns)\n",
    "# sol"
   ]
  },
  {
   "cell_type": "code",
   "execution_count": null,
   "metadata": {},
   "outputs": [],
   "source": [
    "eq1, eq2, eq3, eq4, eq5, eq6"
   ]
  },
  {
   "cell_type": "code",
   "execution_count": null,
   "metadata": {},
   "outputs": [],
   "source": [
    "from scipy.optimize import fsolve\n",
    "\n",
    "# Define the values\n",
    "a = 1\n",
    "b = 1\n",
    "c = 1\n",
    "gamma_l = np.pi/4\n",
    "gamma_r = np.pi/4\n",
    "\n",
    "\n",
    "# Define a function that takes the unknowns as input and returns the equations as a numpy array\n",
    "def equations(vars):\n",
    "    xl, yl, zl, xr, yr, zr = vars\n",
    "    \n",
    "    Ur_flat = np.array([a, b, 0])\n",
    "    Ul_flat = np.array([-a, b, 0])\n",
    "    Vr_flat = np.array([c, 0, 0])\n",
    "    Vl_flat = np.array([-c, 0, 0])\n",
    "    \n",
    "    Ul = np.array([xl, yl, zl])\n",
    "    Ur = np.array([xr, yr, zr])\n",
    "    Vl = np.array([-c * np.sin(gamma_l), 0, c * np.cos(gamma_l)])\n",
    "    Vr = np.array([c * np.sin(gamma_r), 0, c * np.cos(gamma_r)])\n",
    "    \n",
    "    eq1 = np.linalg.norm(Ur)**2 - np.linalg.norm(Ur_flat)**2\n",
    "    eq2 = np.linalg.norm(Ul)**2 - np.linalg.norm(Ul_flat)**2\n",
    "    eq3 = np.dot(Ul, Ur) - np.dot(Ul_flat, Ur_flat)\n",
    "    eq4 = np.dot(Ur, Vr) - np.dot(Ur_flat, Vr_flat)\n",
    "    eq5 = np.dot(Ul, Vl) - np.dot(Ul_flat, Vl_flat)\n",
    "#     eq6 = np.linalg.norm(Ul-Vl)**2 - np.linalg.norm(Ul_flat-Vl_flat)**2\n",
    "#     eq7 = np.linalg.norm(Ur-Vr)**2 - np.linalg.norm(Ur_flat-Vr_flat)**2\n",
    "    eq8 = np.linalg.norm(Vr)**2 - np.linalg.norm(Vr_flat)**2\n",
    "#     eq9 = np.linalg.norm(Vl)**2 - np.linalg.norm(Vl_flat)**2\n",
    "    \n",
    "    return np.array([eq1, eq2, eq3, eq4, eq5, eq8])\n",
    "\n",
    "# Define initial guesses for the unknowns\n",
    "x0 = np.array([1, 1, 1, 1, 1, 1])\n",
    "\n",
    "# Call fsolve to solve the equations\n",
    "sol = fsolve(equations, x0)\n",
    "\n",
    "# Print the solution\n",
    "print('[xl,   yl,   zl,   xr,   yr,   zr]')\n",
    "print(sol)"
   ]
  },
  {
   "cell_type": "code",
   "execution_count": null,
   "metadata": {},
   "outputs": [],
   "source": [
    "# Test\n",
    "a= wb_cell.a\n",
    "b= wb_cell.b\n",
    "c= wb_cell.c\n",
    "gamma= wb_cell.gamma\n",
    "phi= wb_cell.phi\n",
    "\n",
    "xr, yr, zr = wb_cell.X_Ia[3]\n",
    "xl, yl, zl = wb_cell.X_Ia[4]\n",
    "\n",
    "z = np.array([0, 0, 1])\n",
    "y = np.array([0, 1, 0])\n",
    "\n",
    "Ul = np.array([xl, yl, zl])\n",
    "Ur = np.array([xr, yr, zr])\n",
    "\n",
    "\n",
    "print((Ur + Ul) / 2)\n",
    "\n",
    "yz_plane_n = np.cross(y, z)\n",
    "OUu_plane_n = np.cross((Ur + Ul) / 2, z)\n",
    "#     OUu_plane_n = OUu_plane_n/np.linalg.norm(OUu_plane_n)\n",
    "\n",
    "print(yz_plane_n)\n",
    "print(OUu_plane_n)\n",
    "\n",
    "print(yz_plane_n.dot(OUu_plane_n) / (np.linalg.norm(yz_plane_n) * np.linalg.norm(OUu_plane_n)))\n",
    "np.arccos(yz_plane_n.dot(OUu_plane_n) / (np.linalg.norm(yz_plane_n) * np.linalg.norm(OUu_plane_n)))\n",
    "# yz_plane_n.dot(OUu_plane_n) / (np.linalg.norm(yz_plane_n) * np.linalg.norm(OUu_plane_n))"
   ]
  }
 ],
 "metadata": {
  "kernelspec": {
   "display_name": "Python 3 (ipykernel)",
   "language": "python",
   "name": "python3"
  },
  "language_info": {
   "codemirror_mode": {
    "name": "ipython",
    "version": 3
   },
   "file_extension": ".py",
   "mimetype": "text/x-python",
   "name": "python",
   "nbconvert_exporter": "python",
   "pygments_lexer": "ipython3"
  }
 },
 "nbformat": 4,
 "nbformat_minor": 1
}
