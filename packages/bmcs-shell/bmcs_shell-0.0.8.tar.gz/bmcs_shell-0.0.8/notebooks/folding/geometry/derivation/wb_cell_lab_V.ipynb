{
 "cells": [
  {
   "cell_type": "markdown",
   "metadata": {},
   "source": [
    "# Waterbomb cell - 5 parameter folding controlled by $\\Delta V$"
   ]
  },
  {
   "cell_type": "code",
   "execution_count": null,
   "metadata": {},
   "outputs": [],
   "source": [
    "import sympy as sp\n",
    "sp.init_printing()\n",
    "import numpy as np"
   ]
  },
  {
   "cell_type": "markdown",
   "metadata": {},
   "source": [
    "## Upper right corner node"
   ]
  },
  {
   "cell_type": "markdown",
   "metadata": {},
   "source": [
    "Control parameters $a, b, c$ and angle $\\alpha$"
   ]
  },
  {
   "cell_type": "code",
   "execution_count": null,
   "metadata": {},
   "outputs": [],
   "source": [
    "a, b, c = sp.symbols('a, b, c', positive=True)\n",
    "alpha_ur = sp.symbols(r'alpha^\\urcorner')\n",
    "beta = sp.symbols(r'beta')\n",
    "gamma_ur = sp.symbols(r'gamma^\\urcorner')\n",
    "alpha_ul = sp.symbols(r'alpha^\\ulcorner')\n",
    "beta = sp.symbols(r'beta')\n",
    "gamma_ul = sp.symbols(r'gamma^\\ulcorner')"
   ]
  },
  {
   "cell_type": "markdown",
   "metadata": {},
   "source": [
    "Position variables to be determined for the above control parameters"
   ]
  },
  {
   "cell_type": "code",
   "execution_count": null,
   "metadata": {},
   "outputs": [],
   "source": [
    "U_ur_0 = sp.Matrix([a, b, 0])\n",
    "U_ul_0 = sp.Matrix([-a, b, 0])\n",
    "V_r_0 = sp.Matrix([c, 0, 0])\n",
    "V_l_0 = sp.Matrix([-c, 0, 0])\n",
    "U_ul_0, V_l_0, U_ur_0, V_r_0"
   ]
  },
  {
   "cell_type": "code",
   "execution_count": null,
   "metadata": {},
   "outputs": [],
   "source": [
    "q_alpha_ur = sp.Quaternion.from_axis_angle([1, 0, 0], alpha_ur)\n",
    "q_beta_r = sp.Quaternion.from_axis_angle([0, 1, 0], beta)\n",
    "q_gamma_ur = sp.Quaternion.from_axis_angle([0, 0, 1], gamma_ur)\n",
    "q_alpha_ur, q_beta_r, q_gamma_ur"
   ]
  },
  {
   "cell_type": "code",
   "execution_count": null,
   "metadata": {},
   "outputs": [],
   "source": [
    "q_alpha_ul = sp.Quaternion.from_axis_angle([1, 0, 0], alpha_ul)\n",
    "q_beta_l = sp.Quaternion.from_axis_angle([0, 1, 0], -beta)\n",
    "q_gamma_ul = sp.Quaternion.from_axis_angle([0, 0, 1], gamma_ul)\n",
    "q_alpha_ul, q_beta_l, q_gamma_ul"
   ]
  },
  {
   "cell_type": "code",
   "execution_count": null,
   "metadata": {},
   "outputs": [],
   "source": [
    "V_r_1_beta = q_beta_r.rotate_point(V_r_0,q_beta_r)\n",
    "V_l_1_beta = q_beta_l.rotate_point(V_l_0,q_beta_l)\n",
    "V_r_1_beta, V_l_1_beta"
   ]
  },
  {
   "cell_type": "code",
   "execution_count": null,
   "metadata": {},
   "outputs": [],
   "source": [
    "V_r_1 = sp.Matrix(sp.trigsimp(V_r_1_beta))\n",
    "V_l_1 = sp.Matrix(sp.trigsimp(V_l_1_beta))\n",
    "V_r_1, V_l_1"
   ]
  },
  {
   "cell_type": "code",
   "execution_count": null,
   "metadata": {},
   "outputs": [],
   "source": [
    "U_ur_1_alpha = sp.trigsimp(q_alpha_ur.rotate_point(U_ur_0,q_alpha_ur))\n",
    "U_ur_1_gamma = sp.trigsimp(q_gamma_ur.rotate_point(U_ur_1_alpha,q_gamma_ur))\n",
    "U_ur_1 = sp.Matrix(U_ur_1_gamma)\n",
    "U_ur_1.subs(gamma_ur,0)"
   ]
  },
  {
   "cell_type": "code",
   "execution_count": null,
   "metadata": {},
   "outputs": [],
   "source": [
    "U_ul_1_alpha = sp.trigsimp(q_alpha_ul.rotate_point(U_ul_0,q_alpha_ul))\n",
    "U_ul_1_gamma = sp.trigsimp(q_gamma_ul.rotate_point(U_ul_1_alpha,q_gamma_ul))\n",
    "U_ul_1 = sp.Matrix(U_ul_1_gamma)\n",
    "U_ul_1.subs(gamma_ul,0)"
   ]
  },
  {
   "cell_type": "markdown",
   "metadata": {},
   "source": [
    "# Solution based on constant sector angles"
   ]
  },
  {
   "cell_type": "markdown",
   "metadata": {},
   "source": [
    "## Scalar products $OU^\\urcorner \\cdot OV^\\dashv$ and $OU^\\ulcorner \\cdot OV^\\vdash$ "
   ]
  },
  {
   "cell_type": "code",
   "execution_count": null,
   "metadata": {},
   "outputs": [],
   "source": [
    "X_UOV_r_0 = (U_ur_0.T * V_r_0)[0]\n",
    "X_VOU_l_0 = (U_ul_0.T * V_l_0)[0]\n",
    "X_UOV_r_0, X_VOU_l_0"
   ]
  },
  {
   "cell_type": "code",
   "execution_count": null,
   "metadata": {},
   "outputs": [],
   "source": [
    "X_UOV_r_1 = sp.trigsimp((U_ur_1.T * V_r_1)[0])\n",
    "X_VOU_l_1 = sp.trigsimp((U_ul_1.T * V_l_1)[0])\n",
    "X_UOV_r_1, X_VOU_l_1"
   ]
  },
  {
   "cell_type": "code",
   "execution_count": null,
   "metadata": {},
   "outputs": [],
   "source": [
    "Eq_UOV_r = sp.Eq( X_UOV_r_0, X_UOV_r_1)\n",
    "Eq_UOV_l = sp.Eq( X_VOU_l_0, X_VOU_l_1)\n",
    "Eq_UOV_r, Eq_UOV_l"
   ]
  },
  {
   "cell_type": "markdown",
   "metadata": {},
   "source": [
    "## Scalar product between $OU^\\ulcorner$ and $OU^\\urcorner$"
   ]
  },
  {
   "cell_type": "code",
   "execution_count": null,
   "metadata": {},
   "outputs": [],
   "source": [
    "X_UOU_0 = ((U_ul_0).T * (U_ur_0))[0]\n",
    "X_UOU_0"
   ]
  },
  {
   "cell_type": "code",
   "execution_count": null,
   "metadata": {},
   "outputs": [],
   "source": [
    "X_UOU_1 = sp.simplify(sp.trigsimp(((U_ul_1).T * (U_ur_1))[0]))\n",
    "X_UOU_1"
   ]
  },
  {
   "cell_type": "code",
   "execution_count": null,
   "metadata": {},
   "outputs": [],
   "source": [
    "Eq_UOU = sp.Eq(X_UOU_0, X_UOU_1)\n",
    "Eq_UOU"
   ]
  },
  {
   "cell_type": "markdown",
   "metadata": {},
   "source": [
    "## Solve for $U^\\urcorner(\\alpha^\\urcorner)$ and $U^\\ulcorner(\\alpha^\\ulcorner)$"
   ]
  },
  {
   "cell_type": "code",
   "execution_count": null,
   "metadata": {},
   "outputs": [],
   "source": [
    "subs_alpha_gamma = {alpha_ur:'alpha_ur',gamma_ur:'gamma_ur',\n",
    "                   alpha_ul:'alpha_ul',gamma_ul:'gamma_ul'}"
   ]
  },
  {
   "cell_type": "code",
   "execution_count": null,
   "metadata": {},
   "outputs": [],
   "source": [
    "sp.printing.maple.print_maple_code(Eq_UOV_r.subs(subs_alpha_gamma))"
   ]
  },
  {
   "cell_type": "code",
   "execution_count": null,
   "metadata": {},
   "outputs": [],
   "source": [
    "math = sp\n",
    "alpha_ur_sol1 = math.atan2((math.sqrt((-1 + 2 * math.cos(beta / 2) ** 2) ** 2 * (2 * math.cos(beta / 2) ** 2 * math.cos(gamma_ur) - math.cos(gamma_ur) - 1) * (2 * math.cos(gamma_ur) * math.cos(beta / 2) ** 2 * a ** 2 + 2 * math.cos(beta / 2) ** 2 * math.cos(gamma_ur) * b ** 2 - math.cos(gamma_ur) * a ** 2 - math.cos(gamma_ur) * b ** 2 - a ** 2 + b ** 2) * (math.cos(gamma_ur) ** 2 - 1)) - 4 * math.cos(gamma_ur) * math.sin(beta / 2) * math.cos(beta / 2) ** 3 * a + (2 * a * math.cos(gamma_ur) + 2 * a) * math.sin(beta / 2) * math.cos(beta / 2)) / b / (4 * math.cos(gamma_ur) ** 2 * math.cos(beta / 2) ** 4 - 4 * math.cos(gamma_ur) ** 2 * math.cos(beta / 2) ** 2 + math.cos(gamma_ur) ** 2 - 1), (-2 * math.sin(beta / 2) * math.cos(beta / 2) * math.sqrt((-1 + 2 * math.cos(beta / 2) ** 2) ** 2 * (2 * math.cos(beta / 2) ** 2 * math.cos(gamma_ur) - math.cos(gamma_ur) - 1) * (2 * math.cos(gamma_ur) * math.cos(beta / 2) ** 2 * a ** 2 + 2 * math.cos(beta / 2) ** 2 * math.cos(gamma_ur) * b ** 2 - math.cos(gamma_ur) * a ** 2 - math.cos(gamma_ur) * b ** 2 - a ** 2 + b ** 2) * (math.cos(gamma_ur) ** 2 - 1)) + 8 * (math.cos(beta / 2) ** 2 * math.cos(gamma_ur) - math.cos(gamma_ur) / 2 - 0.1e1 / 0.2e1) * (math.cos(beta / 2) ** 2 - 0.1e1 / 0.2e1) ** 2 * a * (math.cos(gamma_ur) + 1) * (math.cos(gamma_ur) - 1)) / b / math.sin(gamma_ur) / (-1 + 2 * math.cos(beta / 2) ** 2) / (2 * math.cos(beta / 2) ** 2 * math.cos(gamma_ur) - math.cos(gamma_ur) + 1) / (2 * math.cos(beta / 2) ** 2 * math.cos(gamma_ur) - math.cos(gamma_ur) - 1))\n",
    "alpha_ur_sol2 = math.atan2((-math.sqrt((-1 + 2 * math.cos(beta / 2) ** 2) ** 2 * (2 * math.cos(beta / 2) ** 2 * math.cos(gamma_ur) - math.cos(gamma_ur) - 1) * (2 * math.cos(gamma_ur) * math.cos(beta / 2) ** 2 * a ** 2 + 2 * math.cos(beta / 2) ** 2 * math.cos(gamma_ur) * b ** 2 - math.cos(gamma_ur) * a ** 2 - math.cos(gamma_ur) * b ** 2 - a ** 2 + b ** 2) * (math.cos(gamma_ur) ** 2 - 1)) - 4 * math.cos(gamma_ur) * math.sin(beta / 2) * math.cos(beta / 2) ** 3 * a + (2 * a * math.cos(gamma_ur) + 2 * a) * math.sin(beta / 2) * math.cos(beta / 2)) / b / (4 * math.cos(gamma_ur) ** 2 * math.cos(beta / 2) ** 4 - 4 * math.cos(gamma_ur) ** 2 * math.cos(beta / 2) ** 2 + math.cos(gamma_ur) ** 2 - 1), (2 * math.sin(beta / 2) * math.cos(beta / 2) * math.sqrt((-1 + 2 * math.cos(beta / 2) ** 2) ** 2 * (2 * math.cos(beta / 2) ** 2 * math.cos(gamma_ur) - math.cos(gamma_ur) - 1) * (2 * math.cos(gamma_ur) * math.cos(beta / 2) ** 2 * a ** 2 + 2 * math.cos(beta / 2) ** 2 * math.cos(gamma_ur) * b ** 2 - math.cos(gamma_ur) * a ** 2 - math.cos(gamma_ur) * b ** 2 - a ** 2 + b ** 2) * (math.cos(gamma_ur) ** 2 - 1)) + 8 * (math.cos(beta / 2) ** 2 * math.cos(gamma_ur) - math.cos(gamma_ur) / 2 - 0.1e1 / 0.2e1) * (math.cos(beta / 2) ** 2 - 0.1e1 / 0.2e1) ** 2 * a * (math.cos(gamma_ur) + 1) * (math.cos(gamma_ur) - 1)) / b / math.sin(gamma_ur) / (-1 + 2 * math.cos(beta / 2) ** 2) / (2 * math.cos(beta / 2) ** 2 * math.cos(gamma_ur) - math.cos(gamma_ur) + 1) / (2 * math.cos(beta / 2) ** 2 * math.cos(gamma_ur) - math.cos(gamma_ur) - 1))"
   ]
  },
  {
   "cell_type": "code",
   "execution_count": null,
   "metadata": {},
   "outputs": [],
   "source": [
    "sp.printing.maple.print_maple_code(Eq_UOV_l.subs(subs_alpha_gamma))"
   ]
  },
  {
   "cell_type": "code",
   "execution_count": null,
   "metadata": {},
   "outputs": [],
   "source": [
    "alpha_ul_sol1 = math.atan2((math.sin(gamma_ul) * math.cos(beta) * math.sqrt((math.cos(gamma_ul) * (a ** 2 + b ** 2) * math.cos(beta) - a ** 2 + b ** 2) * (math.cos(beta) * math.cos(gamma_ul) - 1) * (math.cos(beta) - 1) * (math.cos(beta) + 1)) + a * (math.cos(beta) - 1) * (math.cos(beta) + 1) * (math.cos(beta) * math.cos(gamma_ul) - 1)) / b / (math.cos(gamma_ul) ** 2 * math.cos(beta) ** 2 - 1) / math.sin(beta), (math.cos(gamma_ul) * math.cos(beta) ** 2 * a * math.sin(gamma_ul) - math.cos(beta) * a * math.sin(gamma_ul) + math.sqrt((math.cos(gamma_ul) * (a ** 2 + b ** 2) * math.cos(beta) - a ** 2 + b ** 2) * (math.cos(beta) * math.cos(gamma_ul) - 1) * (math.cos(beta) - 1) * (math.cos(beta) + 1))) / (math.cos(gamma_ul) ** 2 * math.cos(beta) ** 2 - 1) / b)\n",
    "alpha_ul_sol2 = math.atan2((-math.sin(gamma_ul) * math.cos(beta) * math.sqrt((math.cos(gamma_ul) * (a ** 2 + b ** 2) * math.cos(beta) - a ** 2 + b ** 2) * (math.cos(beta) * math.cos(gamma_ul) - 1) * (math.cos(beta) - 1) * (math.cos(beta) + 1)) + a * (math.cos(beta) - 1) * (math.cos(beta) + 1) * (math.cos(beta) * math.cos(gamma_ul) - 1)) / b / (math.cos(gamma_ul) ** 2 * math.cos(beta) ** 2 - 1) / math.sin(beta), (math.cos(gamma_ul) * math.cos(beta) ** 2 * a * math.sin(gamma_ul) - math.cos(beta) * a * math.sin(gamma_ul) - math.sqrt((math.cos(gamma_ul) * (a ** 2 + b ** 2) * math.cos(beta) - a ** 2 + b ** 2) * (math.cos(beta) * math.cos(gamma_ul) - 1) * (math.cos(beta) - 1) * (math.cos(beta) + 1))) / (math.cos(gamma_ul) ** 2 * math.cos(beta) ** 2 - 1) / b)"
   ]
  },
  {
   "cell_type": "code",
   "execution_count": null,
   "metadata": {},
   "outputs": [],
   "source": [
    "sp.printing.maple.print_maple_code(Eq_UOU.subs(subs_alpha_gamma))"
   ]
  },
  {
   "cell_type": "code",
   "execution_count": null,
   "metadata": {},
   "outputs": [],
   "source": [
    "gamma_ul_sol1 = math.atan2(((math.cos(alpha_ul) * math.cos(alpha_ur) * b ** 2 - a ** 2) * math.sqrt((math.cos(alpha_ul) + math.cos(alpha_ur)) ** 2 * b ** 4 * a ** 2 * ((a ** 2 + b ** 2) * math.cos(alpha_ul) ** 2 + (a ** 2 + b ** 2) * math.cos(alpha_ur) ** 2 - 2 * (a - b) * (a + b) * (math.sin(alpha_ul) * math.sin(alpha_ur) - 1))) + a ** 2 * b ** 2 * (math.cos(alpha_ul) + math.cos(alpha_ur)) ** 2 * (b ** 2 * math.sin(alpha_ul) * math.sin(alpha_ur) + a ** 2 - b ** 2)) / a / b / (math.cos(alpha_ur) ** 2 * b ** 2 + a ** 2) / (math.cos(alpha_ul) ** 2 * b ** 2 + a ** 2) / (math.cos(alpha_ul) + math.cos(alpha_ur)), (math.sqrt((math.cos(alpha_ul) + math.cos(alpha_ur)) ** 2 * b ** 4 * a ** 2 * ((a ** 2 + b ** 2) * math.cos(alpha_ul) ** 2 + (a ** 2 + b ** 2) * math.cos(alpha_ur) ** 2 - 2 * (a - b) * (a + b) * (math.sin(alpha_ul) * math.sin(alpha_ur) - 1))) + (-b ** 4 * math.sin(alpha_ur) * math.sin(alpha_ul) - a ** 2 * b ** 2 + b ** 4) * math.cos(alpha_ur) * math.cos(alpha_ul) + a ** 2 * b ** 2 * math.sin(alpha_ur) * math.sin(alpha_ul) + a ** 4 - a ** 2 * b ** 2) / (math.cos(alpha_ur) ** 2 * b ** 2 + a ** 2) / (math.cos(alpha_ul) ** 2 * b ** 2 + a ** 2)) + gamma_ur\n",
    "gamma_ul_sol2 = math.atan2(((-math.cos(alpha_ul) * math.cos(alpha_ur) * b ** 2 + a ** 2) * math.sqrt((math.cos(alpha_ul) + math.cos(alpha_ur)) ** 2 * b ** 4 * a ** 2 * ((a ** 2 + b ** 2) * math.cos(alpha_ul) ** 2 + (a ** 2 + b ** 2) * math.cos(alpha_ur) ** 2 - 2 * (a - b) * (a + b) * (math.sin(alpha_ul) * math.sin(alpha_ur) - 1))) + a ** 2 * b ** 2 * (math.cos(alpha_ul) + math.cos(alpha_ur)) ** 2 * (b ** 2 * math.sin(alpha_ul) * math.sin(alpha_ur) + a ** 2 - b ** 2)) / a / b / (math.cos(alpha_ur) ** 2 * b ** 2 + a ** 2) / (math.cos(alpha_ul) ** 2 * b ** 2 + a ** 2) / (math.cos(alpha_ul) + math.cos(alpha_ur)), (-math.sqrt((math.cos(alpha_ul) + math.cos(alpha_ur)) ** 2 * b ** 4 * a ** 2 * ((a ** 2 + b ** 2) * math.cos(alpha_ul) ** 2 + (a ** 2 + b ** 2) * math.cos(alpha_ur) ** 2 - 2 * (a - b) * (a + b) * (math.sin(alpha_ul) * math.sin(alpha_ur) - 1))) + (-b ** 4 * math.sin(alpha_ur) * math.sin(alpha_ul) - a ** 2 * b ** 2 + b ** 4) * math.cos(alpha_ur) * math.cos(alpha_ul) + a ** 2 * b ** 2 * math.sin(alpha_ur) * math.sin(alpha_ul) + a ** 4 - a ** 2 * b ** 2) / (math.cos(alpha_ur) ** 2 * b ** 2 + a ** 2) / (math.cos(alpha_ul) ** 2 * b ** 2 + a ** 2)) + gamma_ur"
   ]
  },
  {
   "cell_type": "code",
   "execution_count": null,
   "metadata": {},
   "outputs": [],
   "source": [
    "alpha_sol"
   ]
  },
  {
   "cell_type": "code",
   "execution_count": null,
   "metadata": {},
   "outputs": [],
   "source": [
    "sp.trigsimp(U_ur_1.subs(alpha_ur, alpha_sol[0]))"
   ]
  },
  {
   "cell_type": "code",
   "execution_count": null,
   "metadata": {},
   "outputs": [],
   "source": [
    "sp.trigsimp(U_ul_1.subs(alpha_ul, alpha_sol[0]))"
   ]
  },
  {
   "cell_type": "code",
   "execution_count": null,
   "metadata": {},
   "outputs": [],
   "source": [
    "subs_yz = {y_ur:y_ur_sol, z_ur:z_ur_sol,\n",
    "           y_ul:y_ul_sol, z_ul:z_ul_sol}"
   ]
  },
  {
   "cell_type": "code",
   "execution_count": null,
   "metadata": {},
   "outputs": [],
   "source": [
    "sp.trigsimp(Eq_OVU_r.subs(subs_yz))"
   ]
  },
  {
   "cell_type": "markdown",
   "metadata": {},
   "source": [
    "### Solutions $U^\\urcorner(x^\\urcorner)$ and $U^\\ulcorner(x^\\ulcorner)$"
   ]
  },
  {
   "cell_type": "code",
   "execution_count": null,
   "metadata": {},
   "outputs": [],
   "source": [
    "Eq_UOU_x = Eq_UOU.subs(subs_yz)\n",
    "Eq_UOU_x"
   ]
  },
  {
   "cell_type": "markdown",
   "metadata": {},
   "source": [
    "This equation has a form\n",
    "\\begin{align}\n",
    "C = x + \\sqrt{Ax} + Bx\n",
    "\\end{align}\n",
    "To get rid of the square root let it rearranged to\n",
    "\\begin{align}\n",
    "-\\sqrt{Ax}  = -C + x + Bx\n",
    "\\end{align}\n",
    "to obtain"
   ]
  },
  {
   "cell_type": "code",
   "execution_count": null,
   "metadata": {},
   "outputs": [],
   "source": [
    "Eq_UOU_x_rearr = sp.Eq( -Eq_UOU_x.args[1].args[1], -Eq_UOU_x.args[0] + Eq_UOU_x.args[1].args[0] + Eq_UOU_x.args[1].args[2] )\n",
    "Eq_UOU_x_rearr"
   ]
  },
  {
   "cell_type": "markdown",
   "metadata": {},
   "source": [
    "The square of the left and right hand side renders\n",
    "\\begin{align}\n",
    "-Ax = (-C + x + Bx)^2 \\implies (-C + x + Bx)^2+Ax = 0.\n",
    "\\end{align}\n",
    "After expanding the terms in the squared paranthesis and collecting terms associated to the individual powers of $x$\n",
    "we obtain a quadratic equation for $x^\\ulcorner$"
   ]
  },
  {
   "cell_type": "code",
   "execution_count": null,
   "metadata": {},
   "outputs": [],
   "source": [
    "Eq_UOU_x_rhs = Eq_UOU_x_rearr.args[1]**2 - Eq_UOU_x_rearr.args[0]**2\n",
    "Eq_UOU_x_rhs_collect = sp.collect( sp.expand(Eq_UOU_x_rhs), x_ul )\n",
    "Eq_UOU_x_rhs_collect"
   ]
  },
  {
   "cell_type": "markdown",
   "metadata": {},
   "source": [
    "Collection of coefficients $A, B, C$ corresponding to the powers of $x^\\ulcorner$, i.e. $A (x^\\ulcorner)^2 + B x^\\ulcorner + C$\n",
    "is done using the list comprehension available in Pythin which delivers. For example, \n",
    "`[i for i in [2,1,0]]` renders a list `[2,1,0]`. At the place of `i` we apply the `expr.coeff(x_ul,i)` function\n",
    "delivering the coefficient associated with $(x^\\ulcorner)^i$"
   ]
  },
  {
   "cell_type": "code",
   "execution_count": null,
   "metadata": {},
   "outputs": [],
   "source": [
    "A_, B_, C_ = [ Eq_UOU_x_rhs_collect.coeff(x_ul,i) for i in [2,1,0]]"
   ]
  },
  {
   "cell_type": "code",
   "execution_count": null,
   "metadata": {},
   "outputs": [],
   "source": [
    "A_"
   ]
  },
  {
   "cell_type": "code",
   "execution_count": null,
   "metadata": {},
   "outputs": [],
   "source": [
    "B_"
   ]
  },
  {
   "cell_type": "code",
   "execution_count": null,
   "metadata": {},
   "outputs": [],
   "source": [
    "C_"
   ]
  },
  {
   "cell_type": "markdown",
   "metadata": {},
   "source": [
    "Prepare the two solutions of a quadratic equation as an expression with $A, B, C$ as parameters"
   ]
  },
  {
   "cell_type": "code",
   "execution_count": null,
   "metadata": {},
   "outputs": [],
   "source": [
    "A, B, C = sp.symbols('A, B, C')\n",
    "x_ul_sol1, x_ul_sol2 = sp.solve( A * x_ul**2 + B * x_ul + C, x_ul )\n",
    "x_ul_sol1, x_ul_sol2"
   ]
  },
  {
   "cell_type": "markdown",
   "metadata": {},
   "source": [
    "Substitute for the parameters $A, B, C$ to obtain the solution.\n",
    "\n",
    "**Remark**: the second solution is relevant for the mountain/valley distribution\n",
    "considered in the waterbomb shells. Nevertheless, it would be interesting to \n",
    "combine the two solutions to get a complete kinematics of the cell regardlessly\n",
    "of the mountain/valley distribution within the cell."
   ]
  },
  {
   "cell_type": "code",
   "execution_count": null,
   "metadata": {},
   "outputs": [],
   "source": [
    "x_ul_sol2_ = x_ul_sol2.subs({A: A_, B: B_, C: C_})"
   ]
  },
  {
   "cell_type": "markdown",
   "metadata": {},
   "source": [
    "Verify that the condition for constant scalar product $UOU$ is fulfilled"
   ]
  },
  {
   "cell_type": "code",
   "execution_count": null,
   "metadata": {},
   "outputs": [],
   "source": [
    "#sp.simplify(Eq_UOU_x_rhs_collect.subs(x_ul, x_ul_sol2_))"
   ]
  },
  {
   "cell_type": "markdown",
   "metadata": {},
   "source": [
    "**Remark:** Solution `x_ul_sol1_` does not satisfy the constant sector angle condition. This is due to the square applied at both sides of the condition that allows for a second solution with alternating signs on left and right hand side."
   ]
  },
  {
   "cell_type": "markdown",
   "metadata": {},
   "source": [
    "Further, verify that for $x^\\urcorner = a$ and $\\gamma = 0$ (fully folded state), $x^\\ulcorner = -a$"
   ]
  },
  {
   "cell_type": "code",
   "execution_count": null,
   "metadata": {},
   "outputs": [],
   "source": [
    "sp.simplify(x_ul_sol2_.subs(x_ur,a).subs(gamma,0))"
   ]
  },
  {
   "cell_type": "code",
   "execution_count": null,
   "metadata": {},
   "outputs": [],
   "source": [
    "sp.limit(x_ul_sol2_.subs(x_ur,a).subs(b,a), gamma, sp.pi/2)"
   ]
  },
  {
   "cell_type": "markdown",
   "metadata": {},
   "source": [
    "**TODO**: Consider the control of folding using a dimensionless parameter $\\eta, \\zeta$ representing the \n",
    "    unfolded and folded states instead of fold angle $\\gamma$. "
   ]
  },
  {
   "cell_type": "markdown",
   "metadata": {},
   "source": [
    "### Find a solution for $\\gamma = \\pi/3$"
   ]
  },
  {
   "cell_type": "code",
   "execution_count": null,
   "metadata": {},
   "outputs": [],
   "source": [
    "y_ul_sol1_pi3, y_ul_sol2_pi3 = sp.solve(Eq_UOU_x.subs(gamma,sp.pi/3), x_ul)"
   ]
  },
  {
   "cell_type": "code",
   "execution_count": null,
   "metadata": {},
   "outputs": [],
   "source": [
    "y_ul_sol1_pi3"
   ]
  },
  {
   "cell_type": "code",
   "execution_count": null,
   "metadata": {},
   "outputs": [],
   "source": [
    "y_ul_sol2_pi3"
   ]
  },
  {
   "cell_type": "code",
   "execution_count": null,
   "metadata": {},
   "outputs": [],
   "source": [
    "x_ul_sol1_pi6, x_ul_sol2_pi6 = sp.solve( Eq_UOU_x.subs( gamma, sp.pi/6 ), x_ul)"
   ]
  },
  {
   "cell_type": "code",
   "execution_count": null,
   "metadata": {},
   "outputs": [],
   "source": [
    "x_ul_sol1_pi6"
   ]
  },
  {
   "cell_type": "code",
   "execution_count": null,
   "metadata": {},
   "outputs": [],
   "source": [
    "x_ul_sol2_pi6"
   ]
  },
  {
   "cell_type": "markdown",
   "metadata": {},
   "source": [
    "## Solve for $U^\\urcorner(y^\\urcorner)$ and $U^\\ulcorner(y^\\ulcorner)$"
   ]
  },
  {
   "cell_type": "code",
   "execution_count": null,
   "metadata": {},
   "outputs": [],
   "source": [
    "xz_ur_sol1, yz_ur_sol2 = sp.solve({Eq_UOV_r, Eq_VUO_r}, [x_ur, z_ur])\n",
    "xz_ul_sol1, yz_ul_sol2 = sp.solve({Eq_UOV_l, Eq_VUO_l}, [x_ul, z_ul])"
   ]
  },
  {
   "cell_type": "markdown",
   "metadata": {},
   "source": [
    "first solution for $x^\\urcorner$ and $z^\\urcorner$"
   ]
  },
  {
   "cell_type": "code",
   "execution_count": null,
   "metadata": {},
   "outputs": [],
   "source": [
    "xz_ur_sol1"
   ]
  },
  {
   "cell_type": "code",
   "execution_count": null,
   "metadata": {},
   "outputs": [],
   "source": [
    "x_ur_sol, z_ur_sol = xz_ur_sol1"
   ]
  },
  {
   "cell_type": "markdown",
   "metadata": {},
   "source": [
    "first solution for $x^\\ulcorner$ and $z^\\ulcorner$"
   ]
  },
  {
   "cell_type": "code",
   "execution_count": null,
   "metadata": {},
   "outputs": [],
   "source": [
    "xz_ul_sol1"
   ]
  },
  {
   "cell_type": "code",
   "execution_count": null,
   "metadata": {},
   "outputs": [],
   "source": [
    "x_ul_sol, z_ul_sol = xz_ul_sol1"
   ]
  },
  {
   "cell_type": "code",
   "execution_count": null,
   "metadata": {},
   "outputs": [],
   "source": [
    "subs_xz = {x_ur:x_ur_sol, z_ur:z_ur_sol,\n",
    "           x_ul:x_ul_sol, z_ul:z_ul_sol}\n",
    "subs_xz"
   ]
  },
  {
   "cell_type": "markdown",
   "metadata": {},
   "source": [
    "### Solutions $U^\\urcorner(y^\\urcorner)$ and $U^\\ulcorner(y^\\ulcorner)$"
   ]
  },
  {
   "cell_type": "code",
   "execution_count": null,
   "metadata": {},
   "outputs": [],
   "source": [
    "U_ur_y = U_ur_1.subs(subs_xz)\n",
    "U_ul_y = U_ul_1.subs(subs_xz)\n",
    "U_ul_y, U_ur_y"
   ]
  },
  {
   "cell_type": "markdown",
   "metadata": {},
   "source": [
    "Verify the unfolded - flat state with $\\gamma = \\frac{\\pi}{2}$"
   ]
  },
  {
   "cell_type": "code",
   "execution_count": null,
   "metadata": {},
   "outputs": [],
   "source": [
    "U_ul_y.subs(gamma,sp.pi/2).subs(y_ul,b), U_ur_y.subs(gamma, sp.pi/2).subs(y_ur,b)"
   ]
  },
  {
   "cell_type": "code",
   "execution_count": null,
   "metadata": {},
   "outputs": [],
   "source": [
    "Eq_UOU_y = Eq_UOU.subs(subs_xz)\n",
    "Eq_UOU_y"
   ]
  },
  {
   "cell_type": "code",
   "execution_count": null,
   "metadata": {},
   "outputs": [],
   "source": [
    "dy_ul, dy_ur = sp.symbols(r'\\Delta{y}^\\ulcorner, \\Delta{y}^\\urcorner')\n",
    "dy_ul, dy_ur"
   ]
  },
  {
   "cell_type": "code",
   "execution_count": null,
   "metadata": {},
   "outputs": [],
   "source": [
    "dy_ul_, dy_ur_ = [sp.Eq(dy_u, sp.sqrt( b**2 - y_u**2 )) for dy_u, y_u in zip([dy_ul, dy_ur],[y_ul, y_ur])]\n",
    "dy_ul_, dy_ur_"
   ]
  },
  {
   "cell_type": "code",
   "execution_count": null,
   "metadata": {},
   "outputs": [],
   "source": [
    "subs_y_u = {y_u: sp.solve(dy_u_, y_u)[1] for dy_u_, y_u in zip([dy_ul_, dy_ur_],[y_ul, y_ur])}\n",
    "subs_y_u"
   ]
  },
  {
   "cell_type": "code",
   "execution_count": null,
   "metadata": {},
   "outputs": [],
   "source": [
    "sp.simplify(Eq_UOU_y.subs(subs_y_u))"
   ]
  },
  {
   "cell_type": "markdown",
   "metadata": {},
   "source": [
    "This equation can be solved for $y^\\urcorner$ in `maple`. However it is very long.\n",
    "Attempting further simplifications."
   ]
  },
  {
   "cell_type": "markdown",
   "metadata": {},
   "source": [
    "## Solve for $U^\\urcorner(z^\\urcorner)$ and $U^\\ulcorner(z^\\ulcorner)$"
   ]
  },
  {
   "cell_type": "code",
   "execution_count": null,
   "metadata": {},
   "outputs": [],
   "source": [
    "xy_ur_sol1, xy_ur_sol2 = sp.solve({Eq_UOV_r, Eq_VUO_r}, [x_ur, y_ur])\n",
    "xy_ul_sol1, xy_ul_sol2 = sp.solve({Eq_UOV_l, Eq_VUO_l}, [x_ul, y_ul])"
   ]
  },
  {
   "cell_type": "code",
   "execution_count": null,
   "metadata": {},
   "outputs": [],
   "source": [
    "x_ur_sol, y_ur_sol = xy_ur_sol1\n",
    "x_ul_sol, y_ul_sol = xy_ul_sol1"
   ]
  },
  {
   "cell_type": "code",
   "execution_count": null,
   "metadata": {},
   "outputs": [],
   "source": [
    "x_ur_sol, x_ul_sol"
   ]
  },
  {
   "cell_type": "code",
   "execution_count": null,
   "metadata": {},
   "outputs": [],
   "source": [
    "y_ur_sol, y_ul_sol"
   ]
  },
  {
   "cell_type": "code",
   "execution_count": null,
   "metadata": {},
   "outputs": [],
   "source": [
    "subs_xy = {x_ur:x_ur_sol, y_ur:y_ur_sol,\n",
    "           x_ul:x_ul_sol, y_ul:y_ul_sol}"
   ]
  },
  {
   "cell_type": "code",
   "execution_count": null,
   "metadata": {},
   "outputs": [],
   "source": [
    "Eq_UOU_z = Eq_UOU.subs(subs_xy)\n",
    "sp.solve(Eq_UOU_z.subs(z_ul,0).subs(z_ur,0), gamma)"
   ]
  },
  {
   "cell_type": "code",
   "execution_count": null,
   "metadata": {},
   "outputs": [],
   "source": [
    "sp.solve(Eq_UOU_z.subs(gamma,sp.pi/3), z_ul)"
   ]
  },
  {
   "cell_type": "markdown",
   "metadata": {},
   "source": [
    "# Solution with constant edge lengths "
   ]
  },
  {
   "cell_type": "code",
   "execution_count": null,
   "metadata": {},
   "outputs": [],
   "source": [
    "L2_UO_ur_0 = (U_ur_0.T * U_ur_0)[0]\n",
    "L2_UV_r_0 = ((U_ur_0-V_r_0).T * (U_ur_0-V_r_0))[0]\n",
    "L2_UO_ul_0 = (U_ul_0.T * U_ul_0)[0]\n",
    "L2_UV_l_0 = ((U_ul_0-V_l_0).T * (U_ul_0-V_l_0))[0]\n",
    "L2_UU_0 = ((U_ul_0-U_ur_0).T * (U_ul_0-U_ur_0))[0]\n",
    "L2_UO_ur_0, L2_UV_r_0, L2_UO_ul_0, L2_UV_l_0, L2_UU_0"
   ]
  },
  {
   "cell_type": "markdown",
   "metadata": {},
   "source": [
    "And in a general state of folding"
   ]
  },
  {
   "cell_type": "code",
   "execution_count": null,
   "metadata": {},
   "outputs": [],
   "source": [
    "L2_UO_ur_1 = (U_ur_1.T * U_ur_1)[0]\n",
    "L2_UV_r_1 = ((U_ur_1-V_r_1).T * (U_ur_1-V_r_1))[0]\n",
    "L2_UO_ul_1 = (U_ul_1.T * U_ul_1)[0]\n",
    "L2_UV_l_1 = ((U_ul_1-V_r_1).T * (U_ul_1-V_l_1))[0]\n",
    "L2_UU_1 = ((U_ul_1-U_ur_1).T * (U_ul_1-U_ur_1))[0]\n",
    "L2_UO_ur_1, L2_UV_r_1, L2_UO_ul_1, L2_UV_l_1, L2_UU_1"
   ]
  },
  {
   "cell_type": "code",
   "execution_count": null,
   "metadata": {},
   "outputs": [],
   "source": [
    "Eq_L2_UO_ur = sp.Eq( L2_UO_ur_0, L2_UO_ur_1 ) #\n",
    "Eq_L2_UV_r = sp.Eq( L2_UV_r_0, L2_UV_r_1 )\n",
    "Eq_L2_UO_ul = sp.Eq( L2_UO_ul_0, L2_UO_ul_1 ) #\n",
    "Eq_L2_UV_l = sp.Eq( L2_UV_l_0, L2_UV_l_1 )\n",
    "Eq_L2_UU = sp.Eq( L2_UU_0, L2_UU_1 ) #"
   ]
  },
  {
   "cell_type": "code",
   "execution_count": null,
   "metadata": {},
   "outputs": [],
   "source": [
    "y_ur_sol, z_ur_sol = sp.solve({Eq_L2_UO_ur, Eq_L2_UV_r}, [y_ur, z_ur])[0]\n",
    "y_ul_sol, z_ul_sol = sp.solve({Eq_L2_UO_ul, Eq_L2_UV_l}, [y_ul, z_ul])[0]"
   ]
  },
  {
   "cell_type": "code",
   "execution_count": null,
   "metadata": {},
   "outputs": [],
   "source": [
    "subs_yz_L = {y_ur:y_ur_sol, z_ur:z_ur_sol, y_ul:y_ul_sol, z_ul:z_ul_sol}"
   ]
  },
  {
   "cell_type": "code",
   "execution_count": null,
   "metadata": {},
   "outputs": [],
   "source": [
    "Eq_L2_UU_x = Eq_L2_UU.subs(subs_yz_L)\n",
    "Eq_L2_UU_x"
   ]
  },
  {
   "cell_type": "code",
   "execution_count": null,
   "metadata": {},
   "outputs": [],
   "source": [
    "eta = sp.symbols('eta')"
   ]
  },
  {
   "cell_type": "markdown",
   "metadata": {},
   "source": [
    "To control the twist of the non-symmetric fold mode of the waterbomb base, let us link $x^\\ulcorner$ with \n",
    "$x^\\urcorner$ by setting\n",
    "\\begin{align}\n",
    " x^\\ulcorner = - \\eta \\, x^\\urcorner\n",
    "\\end{align}"
   ]
  },
  {
   "cell_type": "code",
   "execution_count": null,
   "metadata": {},
   "outputs": [],
   "source": [
    "x_ul_ = - eta * x_ur"
   ]
  },
  {
   "cell_type": "markdown",
   "metadata": {},
   "source": [
    "Finally, require that the length $|U^{\\ulcorner\\urcorner}| = 2a$ is equal to the original length\n",
    "at any state of folding"
   ]
  },
  {
   "cell_type": "code",
   "execution_count": null,
   "metadata": {},
   "outputs": [],
   "source": [
    "Eq_L2_UU_eta = Eq_L2_UU_x.subs(x_ul, x_ul_)\n",
    "Eq_L2_UU_eta"
   ]
  },
  {
   "cell_type": "code",
   "execution_count": null,
   "metadata": {},
   "outputs": [],
   "source": [
    "x_ur_sol_1, x_ur_sol_2 = sp.solve(Eq_L2_UU_eta.subs(gamma,0), x_ur)\n",
    "x_ur_sol_1, x_ur_sol_2"
   ]
  },
  {
   "cell_type": "markdown",
   "metadata": {},
   "source": [
    "$\\eta = 1$ recovers the symmetric case"
   ]
  },
  {
   "cell_type": "code",
   "execution_count": null,
   "metadata": {},
   "outputs": [],
   "source": [
    "sp.simplify(x_ur_sol_1.subs(eta,1))"
   ]
  },
  {
   "cell_type": "code",
   "execution_count": null,
   "metadata": {},
   "outputs": [],
   "source": []
  }
 ],
 "metadata": {
  "kernelspec": {
   "display_name": "Python 3",
   "language": "python",
   "name": "python3"
  },
  "language_info": {
   "codemirror_mode": {
    "name": "ipython",
    "version": 3
   },
   "file_extension": ".py",
   "mimetype": "text/x-python",
   "name": "python",
   "nbconvert_exporter": "python",
   "pygments_lexer": "ipython3"
  },
  "toc": {
   "base_numbering": 1,
   "nav_menu": {},
   "number_sections": true,
   "sideBar": true,
   "skip_h1_title": true,
   "title_cell": "Table of Contents",
   "title_sidebar": "Contents",
   "toc_cell": false,
   "toc_position": {},
   "toc_section_display": true,
   "toc_window_display": false
  }
 },
 "nbformat": 4,
 "nbformat_minor": 4
}
