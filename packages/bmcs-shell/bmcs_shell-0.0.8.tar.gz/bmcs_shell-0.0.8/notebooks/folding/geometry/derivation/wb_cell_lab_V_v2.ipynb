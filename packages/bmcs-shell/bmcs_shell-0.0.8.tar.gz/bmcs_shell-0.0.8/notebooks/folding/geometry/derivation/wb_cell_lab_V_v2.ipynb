{
 "cells": [
  {
   "cell_type": "markdown",
   "metadata": {},
   "source": [
    "# Waterbomb cell - 5 parameter folding controlled by $\\Delta V$"
   ]
  },
  {
   "cell_type": "code",
   "execution_count": null,
   "metadata": {},
   "outputs": [],
   "source": [
    "import sympy as sp\n",
    "sp.init_printing()\n",
    "import numpy as np\n",
    "from numpy import sin, cos, sqrt\n",
    "import k3d"
   ]
  },
  {
   "cell_type": "code",
   "execution_count": null,
   "metadata": {},
   "outputs": [],
   "source": [
    "def get_cell_vertices(a = 1/2, b = 0.866, c = 2/5, gamma = np.pi/6, beta= np.pi/3):\n",
    "    # phi1 is angle between OU_ur line and z axis\n",
    "    cos_psi1 = ((b**2-a**2) - a*sqrt(a**2+b**2)*cos(beta)) / (b*sqrt(a**2+b**2)*sin(beta))\n",
    "    sin_psi1 = sqrt(a**2*(3*b**2-a**2) + 2*a*(b**2-a**2)*sqrt(a**2+b**2)*cos(beta) - (a**2+b**2)**2*cos(beta)**2)/(b*sqrt(a**2+b**2)*sin(beta))\n",
    "    cos_psi5 = (sqrt(a**2+b**2)*cos(beta) - a*cos(2*gamma))/(b*sin(2*gamma))\n",
    "    sin_psi5 = sqrt(b**2 + 2*a*sqrt(a**2+b**2)*cos(beta)*cos(2*gamma) - (a**2+b**2)*(cos(beta)**2+cos(2*gamma)**2))/(b*sin(2*gamma))\n",
    "    cos_psi6 = (a - sqrt(a**2+b**2)*cos(beta)*cos(2*gamma))/(sqrt(a**2+b**2)*sin(beta)*sin(2*gamma))\n",
    "    sin_psi6 = sqrt(b**2 + 2*a*sqrt(a**2+b**2)*cos(beta)*cos(2*gamma) - (a**2+b**2)*(cos(beta)**2+cos(2*gamma)**2)) / (sqrt(a**2+b**2)*sin(beta)*sin(2*gamma))\n",
    "    cos_psi1plus6 = cos_psi1 * cos_psi6 - sin_psi1 * sin_psi6\n",
    "    sin_psi1plus6 = sin_psi1 * cos_psi6 + cos_psi1 * sin_psi6\n",
    "\n",
    "    cos_phi1 = cos_psi1plus6\n",
    "    cos_phi2 = cos_psi5\n",
    "    cos_phi3 = cos_psi5\n",
    "    cos_phi4 = cos_psi1plus6\n",
    "    sin_phi1 = sin_psi1plus6\n",
    "    sin_phi2 = sin_psi5\n",
    "    sin_phi3 = sin_psi5\n",
    "    sin_phi4 = sin_psi1plus6\n",
    "\n",
    "    U_ur = np.array([a*sin(gamma) - b*cos_phi1*cos(gamma), b*sin_phi1, a*cos(gamma) + b*cos_phi1*sin(gamma)])\n",
    "    U_ul = np.array([-a*sin(gamma) + b*cos_phi2*cos(gamma), b*sin_phi2, a*cos(gamma) + b*cos_phi2*sin(gamma)])\n",
    "    U_lr = np.array([a*sin(gamma) - b*cos_phi2*cos(gamma), -b*sin_phi2, a*cos(gamma) + b*cos_phi2*sin(gamma)])\n",
    "    U_ll = np.array([-a*sin(gamma) + b*cos_phi4*cos(gamma), -b*sin_phi4, a*cos(gamma) + b*cos_phi4*sin(gamma)])\n",
    "    V_r = np.array([c*sin(gamma), 0, c*cos(gamma)])\n",
    "    V_l = np.array([-c*sin(gamma), 0, c*cos(gamma)])\n",
    "    \n",
    "    X_Ia = np.vstack((np.zeros(3), U_lr, U_ll, U_ur, U_ul, V_r, V_l)).astype(np.float32)\n",
    "    return X_Ia"
   ]
  },
  {
   "cell_type": "code",
   "execution_count": null,
   "metadata": {},
   "outputs": [],
   "source": [
    "X_Ia = get_cell_vertices(gamma = 1.3, beta=3.14/2)"
   ]
  },
  {
   "cell_type": "code",
   "execution_count": null,
   "metadata": {},
   "outputs": [],
   "source": [
    "I_Fi = np.array([[0, 1, 2], [0, 3, 4], [0, 1, 5], [0, 5, 3], [0, 2, 6], [0, 6, 4]]).astype(np.int32)"
   ]
  },
  {
   "cell_type": "code",
   "execution_count": null,
   "metadata": {},
   "outputs": [],
   "source": [
    "plot = k3d.plot()\n",
    "mesh = k3d.mesh(X_Ia, I_Fi, side='double', wireframe=True, color=0)\n",
    "plot += mesh\n",
    "mesh = k3d.mesh(X_Ia, I_Fi, side='double', color=0xcccccc)\n",
    "plot += mesh\n",
    "plot"
   ]
  },
  {
   "cell_type": "code",
   "execution_count": null,
   "metadata": {},
   "outputs": [],
   "source": []
  }
 ],
 "metadata": {
  "kernelspec": {
   "display_name": "Python 3 (ipykernel)",
   "language": "python",
   "name": "python3"
  },
  "language_info": {
   "codemirror_mode": {
    "name": "ipython",
    "version": 3
   },
   "file_extension": ".py",
   "mimetype": "text/x-python",
   "name": "python",
   "nbconvert_exporter": "python",
   "pygments_lexer": "ipython3"
  },
  "toc": {
   "base_numbering": 1,
   "nav_menu": {},
   "number_sections": true,
   "sideBar": true,
   "skip_h1_title": true,
   "title_cell": "Table of Contents",
   "title_sidebar": "Contents",
   "toc_cell": false,
   "toc_position": {},
   "toc_section_display": true,
   "toc_window_display": false
  }
 },
 "nbformat": 4,
 "nbformat_minor": 4
}
