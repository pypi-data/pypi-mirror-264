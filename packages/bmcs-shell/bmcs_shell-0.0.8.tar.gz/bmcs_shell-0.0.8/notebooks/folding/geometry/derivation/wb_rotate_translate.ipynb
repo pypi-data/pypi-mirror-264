{
 "cells": [
  {
   "cell_type": "markdown",
   "id": "adjacent-parish",
   "metadata": {},
   "source": [
    "# Waterbomb cell translation and rotation"
   ]
  },
  {
   "cell_type": "code",
   "execution_count": null,
   "id": "atomic-input",
   "metadata": {},
   "outputs": [],
   "source": [
    "import sympy as sp"
   ]
  },
  {
   "cell_type": "code",
   "execution_count": null,
   "id": "sophisticated-enzyme",
   "metadata": {},
   "outputs": [],
   "source": [
    "x_ll, y_ll, z_ll = sp.symbols(r'x^{\\llcorner}, y^{\\llcorner}, z^{\\llcorner}')"
   ]
  },
  {
   "cell_type": "code",
   "execution_count": null,
   "id": "reasonable-firmware",
   "metadata": {},
   "outputs": [],
   "source": [
    "phi, v_x, v_y, v_z = sp.symbols(r'\\varphi, v_x, v_y, v_z' )"
   ]
  },
  {
   "cell_type": "code",
   "execution_count": null,
   "id": "roman-magnitude",
   "metadata": {},
   "outputs": [],
   "source": [
    "from sympy.algebras.quaternion import Quaternion "
   ]
  },
  {
   "cell_type": "code",
   "execution_count": null,
   "id": "coupled-banking",
   "metadata": {},
   "outputs": [],
   "source": [
    "subs_unit = {sp.sqrt(v_x**2+v_y**2+v_z**2):1}"
   ]
  },
  {
   "cell_type": "code",
   "execution_count": null,
   "id": "radical-fancy",
   "metadata": {},
   "outputs": [],
   "source": [
    "q_rot = Quaternion.from_axis_angle((v_x,v_y,v_z), phi)"
   ]
  },
  {
   "cell_type": "code",
   "execution_count": null,
   "id": "foreign-refrigerator",
   "metadata": {},
   "outputs": [],
   "source": [
    "q_rot_normalized = q_rot.subs(subs_unit)\n",
    "q_rot_normalized"
   ]
  },
  {
   "cell_type": "code",
   "execution_count": null,
   "id": "prostate-convert",
   "metadata": {},
   "outputs": [],
   "source": []
  },
  {
   "cell_type": "markdown",
   "id": "modular-danish",
   "metadata": {},
   "source": [
    "Find the orientation of a vector $\\boldsymbol{v} = v_a$ and a rotation angle $\\varphi$"
   ]
  },
  {
   "cell_type": "markdown",
   "id": "hollywood-gateway",
   "metadata": {},
   "source": [
    "The rotation of a vector $U^{\\llcorner}$ around a unit vector $v_a$ by an angle $\\varphi$ is expressed as"
   ]
  },
  {
   "cell_type": "code",
   "execution_count": null,
   "id": "interpreted-catch",
   "metadata": {},
   "outputs": [],
   "source": [
    "q_U=Quaternion.rotate_point((x_ll, y_ll, z_ll), q_rot_normalized)\n",
    "sp.trigsimp(q_U)"
   ]
  },
  {
   "cell_type": "markdown",
   "id": "expected-paintball",
   "metadata": {},
   "source": [
    "The vector $V^\\dashv U^\\urcorner$ defines the rotation axis.  "
   ]
  },
  {
   "cell_type": "code",
   "execution_count": null,
   "id": "qualified-design",
   "metadata": {},
   "outputs": [],
   "source": []
  }
 ],
 "metadata": {
  "kernelspec": {
   "display_name": "bmcs_env",
   "language": "python",
   "name": "bmcs_env"
  },
  "language_info": {
   "codemirror_mode": {
    "name": "ipython",
    "version": 3
   },
   "file_extension": ".py",
   "mimetype": "text/x-python",
   "name": "python",
   "nbconvert_exporter": "python",
   "pygments_lexer": "ipython3"
  },
  "toc": {
   "base_numbering": 1,
   "nav_menu": {},
   "number_sections": true,
   "sideBar": true,
   "skip_h1_title": false,
   "title_cell": "Table of Contents",
   "title_sidebar": "Contents",
   "toc_cell": false,
   "toc_position": {},
   "toc_section_display": true,
   "toc_window_display": false
  }
 },
 "nbformat": 4,
 "nbformat_minor": 5
}
