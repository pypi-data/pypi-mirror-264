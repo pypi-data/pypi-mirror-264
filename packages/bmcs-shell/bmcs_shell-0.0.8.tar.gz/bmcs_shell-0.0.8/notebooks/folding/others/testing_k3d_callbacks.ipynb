{
 "cells": [
  {
   "cell_type": "code",
   "execution_count": null,
   "metadata": {},
   "outputs": [],
   "source": [
    "import k3d\n",
    "import numpy as np\n",
    "import ipywidgets as widgets"
   ]
  },
  {
   "cell_type": "code",
   "execution_count": null,
   "metadata": {},
   "outputs": [],
   "source": [
    "def closest_node(node, nodes):\n",
    "    nodes = np.asarray(nodes)\n",
    "    dist_2 = np.sum((nodes - node)**2, axis=1)\n",
    "    return np.argmin(dist_2)"
   ]
  },
  {
   "cell_type": "code",
   "execution_count": null,
   "metadata": {},
   "outputs": [],
   "source": [
    "plot = k3d.plot() # camera_auto_fit=False\n",
    "vertices = np.array([[0, 0, 0], [100, 0, 0], [100, 100, 0]])\n",
    "indices = np.array([[0, 1, 2]])\n",
    "mesh = k3d.mesh(vertices.astype(np.float32), indices.astype(np.uint32))\n",
    "plot += mesh\n",
    "plot.display()\n",
    "\n",
    "output = widgets.Textarea(value='touch coords')\n",
    "display(output)"
   ]
  },
  {
   "cell_type": "code",
   "execution_count": null,
   "metadata": {},
   "outputs": [],
   "source": [
    "def hover(params):\n",
    "    output.value = str(params)\n",
    "#     output.value = str(params['position'])"
   ]
  },
  {
   "cell_type": "code",
   "execution_count": null,
   "metadata": {},
   "outputs": [],
   "source": [
    "def click(params):\n",
    "    global plot\n",
    "    pos = np.array(params['position'])\n",
    "    point = k3d.points(vertices[closest_node(pos, vertices)], point_size=10, color=0xFF0000)\n",
    "    plot += point"
   ]
  },
  {
   "cell_type": "code",
   "execution_count": null,
   "metadata": {},
   "outputs": [],
   "source": [
    "plot.mode = 'callback'\n",
    "obj = plot.objects[0]\n",
    "obj.hover_callback = hover\n",
    "obj.click_callback = click"
   ]
  },
  {
   "cell_type": "code",
   "execution_count": null,
   "metadata": {},
   "outputs": [],
   "source": []
  }
 ],
 "metadata": {
  "kernelspec": {
   "display_name": "Python 3",
   "language": "python",
   "name": "python3"
  },
  "language_info": {
   "codemirror_mode": {
    "name": "ipython",
    "version": 3
   },
   "file_extension": ".py",
   "mimetype": "text/x-python",
   "name": "python",
   "nbconvert_exporter": "python",
   "pygments_lexer": "ipython3"
  },
  "nbTranslate": {
   "displayLangs": [
    "en",
    "pl"
   ],
   "hotkey": "alt-t",
   "langInMainMenu": true,
   "sourceLang": "pl",
   "targetLang": "en",
   "useGoogleTranslate": true
  }
 },
 "nbformat": 4,
 "nbformat_minor": 2
}
