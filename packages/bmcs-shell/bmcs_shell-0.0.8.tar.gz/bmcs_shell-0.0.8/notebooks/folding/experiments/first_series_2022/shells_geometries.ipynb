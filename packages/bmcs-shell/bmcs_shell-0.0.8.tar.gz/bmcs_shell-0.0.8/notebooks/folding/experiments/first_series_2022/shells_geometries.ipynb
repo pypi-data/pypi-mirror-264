{
 "cells": [
  {
   "cell_type": "code",
   "execution_count": null,
   "metadata": {
    "pycharm": {
     "name": "#%%\n"
    }
   },
   "outputs": [],
   "source": [
    "%matplotlib widget\n",
    "# %matplotlib qt\n",
    "from bmcs_shell.api import *\n",
    "import numpy as np\n",
    "import k3d\n",
    "import matplotlib.pyplot as plt"
   ]
  },
  {
   "cell_type": "markdown",
   "metadata": {
    "pycharm": {
     "name": "#%% md\n"
    }
   },
   "source": [
    "## Old tested WB shell"
   ]
  },
  {
   "cell_type": "code",
   "execution_count": null,
   "metadata": {
    "pycharm": {
     "name": "#%%\n"
    }
   },
   "outputs": [],
   "source": [
    "tested_wb_shell = dict(a =125,  b = 550, c = 175, gamma=np.deg2rad(46), n_phi_plus=3, n_x_plus=2, wireframe_width=5, \n",
    "                         trim_half_cells_along_y=True,\n",
    "                         trim_half_cells_along_x=True,\n",
    "                         align_outer_nodes_along_x=True)\n",
    "wbt4p = WBTessellation4P(**tested_wb_shell)\n",
    "wbt4p.interact()"
   ]
  },
  {
   "cell_type": "code",
   "execution_count": null,
   "metadata": {
    "pycharm": {
     "name": "#%%\n"
    }
   },
   "outputs": [],
   "source": [
    "wb_p.get_shell_height(wbt4p)"
   ]
  },
  {
   "cell_type": "code",
   "execution_count": null,
   "metadata": {
    "pycharm": {
     "name": "#%%\n"
    }
   },
   "outputs": [],
   "source": [
    "wb_p.get_shell_width(wbt4p)"
   ]
  },
  {
   "cell_type": "code",
   "execution_count": null,
   "metadata": {
    "pycharm": {
     "name": "#%%\n"
    }
   },
   "outputs": [],
   "source": [
    "wb_p.get_span(wbt4p)"
   ]
  },
  {
   "cell_type": "code",
   "execution_count": null,
   "metadata": {
    "pycharm": {
     "name": "#%%\n"
    }
   },
   "outputs": [],
   "source": [
    "wbt4p.wb_cell.R_0"
   ]
  },
  {
   "cell_type": "code",
   "execution_count": null,
   "metadata": {
    "pycharm": {
     "name": "#%%\n"
    }
   },
   "outputs": [],
   "source": [
    "WBGeoUtils.export_obj_file(wbt4p, 'wb_tested_3cells_mid_shifted.obj')"
   ]
  },
  {
   "cell_type": "markdown",
   "metadata": {
    "pycharm": {
     "name": "#%% md\n"
    }
   },
   "source": [
    "## Parametric study"
   ]
  },
  {
   "cell_type": "code",
   "execution_count": null,
   "metadata": {
    "pycharm": {
     "name": "#%%\n"
    }
   },
   "outputs": [],
   "source": [
    "wb_p = WbParamDesigner(n=100, \n",
    "         n_mid_cells=3,\n",
    "         a_range = [150, 175, 200],\n",
    "         gamma_range=np.linspace(10, 85, 50),\n",
    "         var1={'name':'span', 'value':1800},\n",
    "         var2={'name':'height', 'value':300}, # r/s = 1/4.5\n",
    "         var3={'name':'width', 'value':500})\n",
    "valid_params = wb_p.calc_valid_params()\n",
    "# wb_p.plot_eta_zeta_var1(a_i=0, gamma_i=0)"
   ]
  },
  {
   "cell_type": "code",
   "execution_count": null,
   "metadata": {
    "pycharm": {
     "name": "#%%\n"
    }
   },
   "outputs": [],
   "source": [
    "# Remove not valid solutions\n",
    "# fig, ax = plt.subplots()\n",
    "# no_nan_valid_params = []\n",
    "# for i, params in enumerate(valid_params):\n",
    "#     if not np.isnan(list(params.values())).any():\n",
    "#         no_nan_valid_params.append(params)\n",
    "# no_nan_valid_params"
   ]
  },
  {
   "cell_type": "code",
   "execution_count": null,
   "metadata": {
    "pycharm": {
     "name": "#%%\n"
    }
   },
   "outputs": [],
   "source": [
    "valid_params_3_cells_span_1800_height_300_width_500= [{'a': 50.0, 'b': 323.57020414338484, 'c': 203.9192890522306, 'gamma': 1.3743265742309068, 'n_phi_plus': 4}, \n",
    " {'a': 75.0, 'b': 324.1608857200621, 'c': 180.49944236370612, 'gamma': 1.3233110805408672, 'n_phi_plus': 4}, \n",
    " {'a': 100.0, 'b': 325.33872887313026, 'c': 158.69006461083, 'gamma': 1.2382830350132779, 'n_phi_plus': 4}, \n",
    " {'a': 125.0, 'b': 328.12276264060944, 'c': 141.44420701221793, 'gamma': 1.0837971138401712, 'n_phi_plus': 4},\n",
    " {'a': 150.0, 'b': 334.9625169740877, 'c': 138.40994828897482, 'gamma': 0.8074604501704515, 'n_phi_plus': 4}, \n",
    " {'a': 175.0, 'b': 350.5894897509128, 'c': 159.8911507701505, 'gamma': 0.4883166638254845, 'n_phi_plus': 4}, \n",
    " {'a': 200.0, 'b': 373.19740961906575, 'c': 197.3843628100437, 'gamma': 0.2561290337283894, 'n_phi_plus': 4}]\n",
    "\n",
    "valid_params_2_cells_span_1800_height_300_width_500= [{'a': 50.0, 'b': 488.7096992126691, 'c': 219.35035456988965, 'gamma': 1.1474627907495765, 'n_phi_plus': 3}, \n",
    " {'a': 75.0, 'b': 490.49365795443356, 'c': 201.23489828631506, 'gamma': 1.0544352782787323, 'n_phi_plus': 3}, \n",
    " {'a': 100.0, 'b': 493.47789764898204, 'c': 188.08268555670807, 'gamma': 0.9231728219305352, 'n_phi_plus': 3}, \n",
    " {'a': 125.0, 'b': 498.98924772523196, 'c': 184.16057467325248, 'gamma': 0.7460842175215365, 'n_phi_plus': 3}]"
   ]
  },
  {
   "cell_type": "markdown",
   "metadata": {
    "pycharm": {
     "name": "#%% md\n"
    }
   },
   "source": [
    "## Planned shell giving the best performance has width = 500, height = 300, span=1800, n_cells = 2,\n",
    "{'a': 100.0, 'b': 493.47789764898204, 'c': 188.08268555670807, 'gamma': 0.9231728219305352, 'n_phi_plus': 3}\n",
    "(second one in valid_params_2_cells_span_1800_height_300_width_500)"
   ]
  },
  {
   "cell_type": "code",
   "execution_count": null,
   "metadata": {
    "pycharm": {
     "name": "#%%\n"
    }
   },
   "outputs": [],
   "source": [
    "params = valid_params_2_cells_span_1800_height_300_width_500[2]"
   ]
  },
  {
   "cell_type": "code",
   "execution_count": null,
   "metadata": {
    "pycharm": {
     "name": "#%%\n"
    }
   },
   "outputs": [],
   "source": [
    "wbt4p = WBTessellation4P(\n",
    "#                          a=100,\n",
    "#                          b = 5.492 * a,\n",
    "#                          c = 1.8466 * a,\n",
    "#                          gamma=np.deg2rad(54.53),\n",
    "#                          n_phi_plus=3,\n",
    "                        **params,\n",
    "                         n_x_plus=2,\n",
    "                         wireframe_width=5,\n",
    "                         trim_half_cells_along_y=True,\n",
    "                         trim_half_cells_along_x=True,\n",
    "                         align_outer_nodes_along_x=True,\n",
    ")\n",
    "wbt4p.interact()"
   ]
  },
  {
   "cell_type": "code",
   "execution_count": null,
   "metadata": {},
   "outputs": [],
   "source": [
    "# WBGeoUtils.export_obj_file(wbt4p, 'wb_tested_3cells_mid_shifted.obj')"
   ]
  },
  {
   "cell_type": "markdown",
   "metadata": {
    "pycharm": {
     "name": "#%% md\n"
    }
   },
   "source": [
    "## Find max. dihedral angle for hinge design"
   ]
  },
  {
   "cell_type": "code",
   "execution_count": null,
   "metadata": {
    "pycharm": {
     "name": "#%%\n"
    }
   },
   "outputs": [],
   "source": [
    "dih_angles, _, _ = wbt4p.get_dih_angles()\n",
    "np.unique(dih_angles)"
   ]
  },
  {
   "cell_type": "markdown",
   "metadata": {
    "pycharm": {
     "name": "#%% md\n"
    }
   },
   "source": [
    "## Plot folded/unfolded pattern"
   ]
  },
  {
   "cell_type": "code",
   "execution_count": null,
   "metadata": {
    "pycharm": {
     "name": "#%%\n"
    }
   },
   "outputs": [],
   "source": [
    "gamma = params['gamma']"
   ]
  },
  {
   "cell_type": "code",
   "execution_count": null,
   "metadata": {
    "pycharm": {
     "name": "#%%\n"
    }
   },
   "outputs": [],
   "source": [
    "fig_pattern, _ = wbt4p.plot_formwork_plan(trimmed=True, gamma=np.pi/2-0.0001, type='folded')"
   ]
  },
  {
   "cell_type": "code",
   "execution_count": null,
   "metadata": {
    "pycharm": {
     "name": "#%%\n"
    }
   },
   "outputs": [],
   "source": [
    "fig_pattern, _ = wbt4p.plot_formwork_plan(trimmed=True, gamma=gamma, type='folded')"
   ]
  },
  {
   "cell_type": "code",
   "execution_count": null,
   "metadata": {
    "pycharm": {
     "name": "#%%\n"
    }
   },
   "outputs": [],
   "source": [
    "fig_fixed, _ = wbt4p.plot_formwork_plan(trimmed=True, gamma=gamma, type='fixed_base')"
   ]
  },
  {
   "cell_type": "code",
   "execution_count": null,
   "metadata": {
    "pycharm": {
     "name": "#%%\n"
    }
   },
   "outputs": [],
   "source": [
    "fig_moving, _ = wbt4p.plot_formwork_plan(trimmed=True, gamma=gamma, type='moving_top')"
   ]
  },
  {
   "cell_type": "code",
   "execution_count": null,
   "metadata": {
    "pycharm": {
     "name": "#%%\n"
    }
   },
   "outputs": [],
   "source": [
    "wbt4p.plot_folding_pattern(trimmed=True, gamma=np.pi/3, color='red')"
   ]
  },
  {
   "cell_type": "code",
   "execution_count": null,
   "metadata": {
    "pycharm": {
     "name": "#%%\n"
    }
   },
   "outputs": [],
   "source": [
    "fig_pattern.savefig('pattern.pdf')"
   ]
  },
  {
   "cell_type": "markdown",
   "metadata": {
    "pycharm": {
     "name": "#%% md\n"
    }
   },
   "source": [
    "## Plot points coords diff between flat and folded states"
   ]
  },
  {
   "cell_type": "code",
   "execution_count": null,
   "metadata": {
    "pycharm": {
     "name": "#%%\n"
    }
   },
   "outputs": [],
   "source": [
    "wbt4p.gamma = np.pi/2 - 0.0001\n",
    "X_Ia0 = wbt4p.X_Ia_trimmed\n",
    "wbt4p.gamma = gamma\n",
    "X_Ia1 = wbt4p.X_Ia_trimmed\n",
    "X_Ia_diff = X_Ia1 - X_Ia0\n",
    "print('Node num.: Coords. in folded state (x_diff, y_diff, z_diff)')\n",
    "for i, (x_i, y_i, z_i) in zip(np.arange(X_Ia_diff.shape[0]), X_Ia_diff):\n",
    "    x_ro = int(np.round(x_i))\n",
    "    y_ro = int(np.round(y_i))\n",
    "    z_ro = int(np.round(z_i))\n",
    "    print(str(i) + ' :\\t(' + str(x_ro) + ',\\t' + str(y_ro) + ',\\t' + str(z_ro) + ')')"
   ]
  },
  {
   "cell_type": "markdown",
   "metadata": {
    "pycharm": {
     "name": "#%% md\n"
    }
   },
   "source": [
    "## Plot folding tracks"
   ]
  },
  {
   "cell_type": "code",
   "execution_count": null,
   "metadata": {
    "pycharm": {
     "name": "#%%\n"
    }
   },
   "outputs": [],
   "source": [
    "n_gamma = 30\n",
    "X_gIa = np.zeros((n_gamma, *wbt4p.X_Ia_trimmed.shape))\n",
    "for i, gamma in enumerate(np.linspace(np.pi/2-0.001, params['gamma'], n_gamma)):\n",
    "    wbt4p.gamma = gamma\n",
    "    X_gIa[i, ...] = wbt4p.X_Ia_trimmed\n",
    "X_gIa.shape"
   ]
  },
  {
   "cell_type": "code",
   "execution_count": null,
   "metadata": {
    "pycharm": {
     "name": "#%%\n"
    }
   },
   "outputs": [],
   "source": [
    "diff = X_gIa[0, ...] - X_gIa[-1, ...]"
   ]
  },
  {
   "cell_type": "markdown",
   "metadata": {
    "pycharm": {
     "name": "#%% md\n"
    }
   },
   "source": [
    "### Optional: find the node with the least moving distance"
   ]
  },
  {
   "cell_type": "code",
   "execution_count": null,
   "metadata": {
    "pycharm": {
     "name": "#%%\n"
    }
   },
   "outputs": [],
   "source": [
    "start_end_diff_I = np.sqrt(np.sum(diff*diff, axis=1))\n",
    "print(start_end_diff_I)\n",
    "print(np.argmin(start_end_diff_I))\n",
    "np.min(start_end_diff_I)"
   ]
  },
  {
   "cell_type": "markdown",
   "metadata": {
    "pycharm": {
     "name": "#%% md\n"
    }
   },
   "source": [
    "### Optional: constraining specific nodes when folding"
   ]
  },
  {
   "cell_type": "code",
   "execution_count": null,
   "metadata": {
    "pycharm": {
     "name": "#%%\n"
    }
   },
   "outputs": [],
   "source": [
    "# Constraining nodes (5, 6, 10, 11, 13, 15, 18, 20) (which have the same z during folding)\n",
    "# by subtracting z_diff of node 5 from all points for each folding step (for each gamma)\n",
    "const_coord_idx = 0 # for z\n",
    "const_node_idx = 5\n",
    "diff_g = (X_gIa[:, const_node_idx, const_coord_idx] - X_gIa[0, const_node_idx, const_coord_idx])\n",
    "const_X_gIa = np.copy(X_gIa)\n",
    "const_X_gIa[:, :, const_coord_idx] = X_gIa[:, :, const_coord_idx] - diff_g[:, np.newaxis]\n",
    "\n",
    "X_gIa = const_X_gIa"
   ]
  },
  {
   "cell_type": "markdown",
   "metadata": {
    "pycharm": {
     "name": "#%% md\n"
    }
   },
   "source": [
    "### Visualizing"
   ]
  },
  {
   "cell_type": "code",
   "execution_count": null,
   "metadata": {
    "pycharm": {
     "name": "#%%\n"
    }
   },
   "outputs": [],
   "source": [
    "plot = k3d.plot()\n",
    "for i in range(X_gIa.shape[1]):\n",
    "    node_i_ga = np.copy(X_gIa[:, i, :])\n",
    "    node_i_ga[:, -1] = node_i_ga[:, -1]\n",
    "    plt_points = k3d.points(positions=node_i_ga,\n",
    "                            point_size=20,\n",
    "                            shader='3d',\n",
    "                            color=0x3f6bc5)\n",
    "    plot += plt_points\n",
    "    \n",
    "plt_points = k3d.lines(X_gIa[0, :, :], wbt4p.I_Fi_trimmed,\n",
    "                            shader='mesh', width=8,\n",
    "                            color=0xff0000)\n",
    "plot += plt_points\n",
    "plot"
   ]
  },
  {
   "cell_type": "code",
   "execution_count": null,
   "metadata": {
    "pycharm": {
     "name": "#%%\n"
    }
   },
   "outputs": [],
   "source": [
    "Areas = []\n",
    "for params in valid_params:\n",
    "    Areas.append((2*params['a'] + 2*params['c'])*(4*params['b'])*1e-6)\n",
    "Areas"
   ]
  },
  {
   "cell_type": "code",
   "execution_count": null,
   "metadata": {
    "pycharm": {
     "name": "#%%\n"
    }
   },
   "outputs": [],
   "source": [
    "# n_cells = wb_p.n_mid_cells\n",
    "n_cells = 3\n",
    "file_name = wb_p.var1['name'] + '_' + str(wb_p.var1['value']) + '_' + wb_p.var2['name'] + '_' + str(wb_p.var2['value']) + '_' + wb_p.var3['name'] + '_' + str(wb_p.var3['value'] ) +'_a_' + str(round(params['a'])) + '_' + str(n_cells) + '_cells.obj'\n",
    "WBGeoUtils.export_obj_file(wbt4p, file_name)\n",
    "file_name"
   ]
  },
  {
   "cell_type": "code",
   "execution_count": null,
   "metadata": {},
   "outputs": [],
   "source": []
  }
 ],
 "metadata": {
  "kernelspec": {
   "display_name": "Python 3 (ipykernel)",
   "language": "python",
   "name": "python3"
  },
  "language_info": {
   "codemirror_mode": {
    "name": "ipython",
    "version": 3
   },
   "file_extension": ".py",
   "mimetype": "text/x-python",
   "name": "python",
   "nbconvert_exporter": "python",
   "pygments_lexer": "ipython3"
  },
  "toc": {
   "base_numbering": 1,
   "nav_menu": {},
   "number_sections": true,
   "sideBar": true,
   "skip_h1_title": true,
   "title_cell": "Table of Contents",
   "title_sidebar": "Contents",
   "toc_cell": false,
   "toc_position": {},
   "toc_section_display": true,
   "toc_window_display": false
  }
 },
 "nbformat": 4,
 "nbformat_minor": 4
}
