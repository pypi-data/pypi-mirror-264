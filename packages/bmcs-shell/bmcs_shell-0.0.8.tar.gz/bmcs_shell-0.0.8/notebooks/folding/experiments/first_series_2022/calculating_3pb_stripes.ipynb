{
 "cells": [
  {
   "cell_type": "code",
   "execution_count": null,
   "id": "698bd325",
   "metadata": {},
   "outputs": [],
   "source": [
    "%matplotlib widget\n",
    "# %matplotlib qt\n",
    "import matplotlib.pyplot as plt\n",
    "import numpy as np\n",
    "import bmcs_utils.api as bu\n",
    "from bmcs_cross_section.api import MKappa, EC2, BarLayer, ReinfLayer\n",
    "from bmcs_beam.api import BoundaryConditions, BoundaryConfig, DeflectionProfile, LoadDeflectionParamsStudy, BeamDesign"
   ]
  },
  {
   "cell_type": "code",
   "execution_count": null,
   "id": "38ceafa8",
   "metadata": {},
   "outputs": [],
   "source": [
    "# Saertex 2 layers\n",
    "\n",
    "mc = MKappa(low_kappa = 0, high_kappa = 0.001, n_kappa=500)\n",
    "\n",
    "# E=90700; f_t=607\n",
    "E=110700; f_t=1607\n",
    "\n",
    "bl1 = ReinfLayer(name = 'Saertex', z=5, A=11 * 0.94, matmod='carbon')\n",
    "bl1.matmod_.trait_set(E=E, f_t=f_t)\n",
    "mc.cross_section_layout.add_layer(bl1)\n",
    "\n",
    "bl2 = ReinfLayer(name = 'Saertex2', z=15, A=11 * 0.94, matmod='carbon')\n",
    "bl2.matmod_.trait_set(E=E, f_t=f_t)\n",
    "mc.cross_section_layout.add_layer(bl2)\n",
    "\n",
    "mc.cs_design.matrix= 'EC2'\n",
    "# mc.cs_design.matrix= 'EC2 with plateau'\n",
    "E_cm = 25000\n",
    "mc.cs_design.matrix_.trait_set(f_cm = 67, factor=1, E_ct = E_cm, E_cc = E_cm, eps_cr = 4/E_cm, eps_tu = 4/E_cm)\n",
    "\n",
    "mc.cross_section_shape_.B = 120\n",
    "mc.cross_section_shape_.H = 20\n",
    "\n",
    "dp = DeflectionProfile(mc = mc, n_load_steps = 150)\n",
    "\n",
    "dp.beam_design.system = '3pb'\n",
    "\n",
    "dp.beam_design.system_.L = 250\n",
    "\n",
    "dp.interact()"
   ]
  },
  {
   "cell_type": "code",
   "execution_count": null,
   "id": "4168ce24",
   "metadata": {},
   "outputs": [],
   "source": [
    "# Saertex 1 layer\n",
    "\n",
    "mc = MKappa(low_kappa = 0, high_kappa = 0.002, n_kappa=500)\n",
    "\n",
    "bl2 = ReinfLayer(name = 'Saertex', z=5, A=11 * 0.94, matmod='carbon')\n",
    "bl2.matmod_.trait_set(E=110700, f_t=1607)\n",
    "# bl2.matmod_.trait_set(E=90700, f_t=607)\n",
    "mc.cross_section_layout.add_layer(bl2)\n",
    "\n",
    "mc.cs_design.matrix= 'EC2'\n",
    "# mc.cs_design.matrix= 'EC2 with plateau'\n",
    "E_cm = 25000\n",
    "mc.cs_design.matrix_.trait_set(f_cm = 67, factor=1, E_ct = E_cm, E_cc = E_cm, eps_cr = 4/E_cm, eps_tu = 4/E_cm)\n",
    "\n",
    "mc.cross_section_shape_.B = 120\n",
    "mc.cross_section_shape_.H = 10\n",
    "\n",
    "dp = DeflectionProfile(mc = mc, n_load_steps = 150)\n",
    "\n",
    "dp.beam_design.system = '3pb'\n",
    "\n",
    "dp.beam_design.system_.L = 250\n",
    "\n",
    "dp.interact()"
   ]
  }
 ],
 "metadata": {
  "kernelspec": {
   "display_name": "Python 3 (ipykernel)",
   "language": "python",
   "name": "python3"
  },
  "language_info": {
   "codemirror_mode": {
    "name": "ipython",
    "version": 3
   },
   "file_extension": ".py",
   "mimetype": "text/x-python",
   "name": "python",
   "nbconvert_exporter": "python",
   "pygments_lexer": "ipython3"
  }
 },
 "nbformat": 4,
 "nbformat_minor": 5
}
