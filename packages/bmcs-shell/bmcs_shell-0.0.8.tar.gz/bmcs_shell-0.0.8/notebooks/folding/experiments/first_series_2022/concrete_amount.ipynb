{
 "cells": [
  {
   "cell_type": "code",
   "execution_count": null,
   "id": "698bd325",
   "metadata": {},
   "outputs": [],
   "source": [
    "%matplotlib widget\n",
    "# from bmcs_shell.api import WBCell5Param, WBShellAnalysis, WBTessellation5PV2, WBNumTessellation, WBNumTessellationInvest, WBTessellationBase, WBNumTessellationBase, WBCell5ParamV2, WBTessellation4P, WBCell4Param\n",
    "# from bmcs_utils.api import Extruder\n",
    "import numpy as np\n",
    "import k3d\n",
    "import matplotlib.pyplot as plt\n",
    "from scipy.interpolate import interp1d"
   ]
  },
  {
   "cell_type": "markdown",
   "id": "680bad34",
   "metadata": {},
   "source": [
    "## Forces on middle line"
   ]
  },
  {
   "cell_type": "code",
   "execution_count": null,
   "id": "ea8149f7",
   "metadata": {},
   "outputs": [],
   "source": [
    "sides_angle = np.deg2rad(53)\n",
    "# Acting forces (Reactions * -1) from ATENA\n",
    "F_m_y = 111 # [kN]\n",
    "F_m_z = -28 # [kN]\n",
    "F_m_yl = F_m_y * np.cos(sides_angle) + F_m_z * np.sin(sides_angle) # Will push the L-profile up if positive\n",
    "F_m_zl = F_m_y * np.sin(sides_angle) - F_m_z * np.cos(sides_angle) # Will go directly to the supporting steel body\n",
    "F_m_yl, F_m_zl"
   ]
  },
  {
   "cell_type": "code",
   "execution_count": null,
   "id": "dd5608a5",
   "metadata": {},
   "outputs": [],
   "source": [
    "# Shell\n",
    "s = 70 * 200 * 1.3 / 1000 # [liter]\n",
    "s"
   ]
  },
  {
   "cell_type": "code",
   "execution_count": null,
   "id": "c1b838bc",
   "metadata": {},
   "outputs": [],
   "source": [
    "# f_cm/E_cm cylinders\n",
    "cylinder = np.pi * ((15/2)**2) * 30 / 1000 # [liter]\n",
    "cylinders = 3 * cylinder\n",
    "cylinders"
   ]
  },
  {
   "cell_type": "code",
   "execution_count": null,
   "id": "7b58f508",
   "metadata": {},
   "outputs": [],
   "source": [
    "# f_cm/E_cm cubes\n",
    "cube = 15 ** 3 / 1000 # [liter]\n",
    "cubes = 3 * cube\n",
    "cubes"
   ]
  },
  {
   "cell_type": "code",
   "execution_count": null,
   "id": "e7f9f995",
   "metadata": {},
   "outputs": [],
   "source": [
    "# f_ctm cylinders\n",
    "cylinder_sp = np.pi * ((15/2)**2) * 30 / 1000 # [liter]\n",
    "cylinders_sp = 3 * cylinder_sp\n",
    "cylinders_sp"
   ]
  },
  {
   "cell_type": "code",
   "execution_count": null,
   "id": "124f6c76",
   "metadata": {},
   "outputs": [],
   "source": [
    "# f_ctm, f_cm prisms:\n",
    "prisms = 3 * (4 * 4 * 16) / 1000 # [liter]\n",
    "prisms"
   ]
  },
  {
   "cell_type": "code",
   "execution_count": null,
   "id": "0ac13890",
   "metadata": {},
   "outputs": [],
   "source": [
    "total = s + cylinders + cubes + cylinders_sp + prisms\n",
    "print(np.round(total, 2), 'liter')"
   ]
  }
 ],
 "metadata": {
  "kernelspec": {
   "display_name": "Python 3 (ipykernel)",
   "language": "python",
   "name": "python3"
  },
  "language_info": {
   "codemirror_mode": {
    "name": "ipython",
    "version": 3
   },
   "file_extension": ".py",
   "mimetype": "text/x-python",
   "name": "python",
   "nbconvert_exporter": "python",
   "pygments_lexer": "ipython3"
  }
 },
 "nbformat": 4,
 "nbformat_minor": 5
}
