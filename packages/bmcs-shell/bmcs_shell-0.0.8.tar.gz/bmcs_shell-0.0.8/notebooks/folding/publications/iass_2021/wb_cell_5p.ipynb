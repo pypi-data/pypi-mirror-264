{
 "cells": [
  {
   "cell_type": "code",
   "execution_count": null,
   "id": "eligible-deficit",
   "metadata": {
    "pycharm": {
     "name": "#%%\n"
    }
   },
   "outputs": [],
   "source": [
    "%matplotlib widget"
   ]
  },
  {
   "cell_type": "code",
   "execution_count": null,
   "id": "specialized-smell",
   "metadata": {
    "pycharm": {
     "name": "#%%\n"
    }
   },
   "outputs": [],
   "source": [
    "from bmcs_shell.api import WBElem5Param, WBElemSymb5ParamXL\n",
    "from bmcs_utils.api import AppWindow\n",
    "import numpy as np"
   ]
  },
  {
   "cell_type": "code",
   "execution_count": null,
   "id": "rapid-northern",
   "metadata": {
    "pycharm": {
     "name": "#%%\n"
    }
   },
   "outputs": [],
   "source": [
    "data = dict(gamma=0.8, x_ur=1000, a=1000, b=2000, c=1000, show_wireframe=True)\n",
    "#data = dict(gamma=0.444, x_ur=1000, a=1000, b=2000, c=1000, show_wireframe=True)\n",
    "#data = dict(gamma=0.444, x_ur=1000, a=1000, b=1000, c=1000, show_wireframe=True)\n",
    "data = dict(gamma=np.pi/2*0, x_ur=1000, a=1000, b=1000, c=1000, show_wireframe=True)"
   ]
  },
  {
   "cell_type": "code",
   "execution_count": null,
   "id": "velvet-crowd",
   "metadata": {
    "pycharm": {
     "name": "#%%\n"
    }
   },
   "outputs": [],
   "source": [
    "wb = WBElem5Param(**data)"
   ]
  },
  {
   "cell_type": "code",
   "execution_count": null,
   "id": "disciplinary-event",
   "metadata": {
    "pycharm": {
     "name": "#%%\n"
    }
   },
   "outputs": [],
   "source": [
    "app_window = AppWindow(wb)\n",
    "app_window.interact()"
   ]
  },
  {
   "cell_type": "code",
   "execution_count": null,
   "id": "animated-zealand",
   "metadata": {
    "pycharm": {
     "name": "#%%\n"
    }
   },
   "outputs": [],
   "source": [
    "wb.trait_set(dict(gamma=0.1, x_ur=1100, a=1000, b=2000, c=989, show_wireframe=True))\n",
    "wb.state_changed = True"
   ]
  },
  {
   "cell_type": "code",
   "execution_count": null,
   "id": "related-idaho",
   "metadata": {
    "pycharm": {
     "name": "#%%\n"
    }
   },
   "outputs": [],
   "source": [
    "app_window.pb.plot_fig.grid_visible=False"
   ]
  },
  {
   "cell_type": "code",
   "execution_count": null,
   "id": "continuous-payday",
   "metadata": {
    "pycharm": {
     "name": "#%%\n"
    }
   },
   "outputs": [],
   "source": [
    "carray = app_window.pb.plot_fig.camera\n",
    "carray"
   ]
  },
  {
   "cell_type": "code",
   "execution_count": null,
   "id": "unlike-complement",
   "metadata": {
    "pycharm": {
     "name": "#%%\n"
    }
   },
   "outputs": [],
   "source": [
    "carray[0] = -50\n",
    "carray[1] = -4000\n",
    "carray[2] = 2000\n",
    "carray[5] = 450\n",
    "carray[6] = 0\n",
    "carray[7] = 0\n",
    "carray[8] = 0"
   ]
  },
  {
   "cell_type": "code",
   "execution_count": null,
   "id": "silent-worry",
   "metadata": {
    "pycharm": {
     "name": "#%%\n"
    }
   },
   "outputs": [],
   "source": [
    "app_window.pb.plot_fig.camera = carray"
   ]
  },
  {
   "cell_type": "code",
   "execution_count": null,
   "id": "informational-cooperation",
   "metadata": {
    "pycharm": {
     "name": "#%%\n"
    }
   },
   "outputs": [],
   "source": [
    "import sympy as sp\n",
    "sp.Rational(24, 40)"
   ]
  },
  {
   "cell_type": "code",
   "execution_count": null,
   "id": "shared-timer",
   "metadata": {
    "pycharm": {
     "name": "#%%\n"
    }
   },
   "outputs": [],
   "source": [
    "3/5"
   ]
  },
  {
   "cell_type": "code",
   "execution_count": null,
   "id": "legitimate-violation",
   "metadata": {
    "pycharm": {
     "name": "#%%\n"
    }
   },
   "outputs": [],
   "source": [
    "import os\n",
    "import time"
   ]
  },
  {
   "cell_type": "code",
   "execution_count": null,
   "id": "isolated-basin",
   "metadata": {
    "pycharm": {
     "name": "#%%\n"
    }
   },
   "outputs": [],
   "source": [
    "home_dir = os.path.expanduser('~')\n",
    "iass_dir = os.path.join(home_dir,'iass')\n",
    "if not os.path.exists(iass_dir):\n",
    "    os.makedirs(iass_dir)\n",
    "iass_file = os.path.join(iass_dir,'figure.png')"
   ]
  },
  {
   "cell_type": "code",
   "execution_count": null,
   "id": "suburban-handy",
   "metadata": {
    "pycharm": {
     "name": "#%%\n"
    }
   },
   "outputs": [],
   "source": [
    "app_window.pb.plot_fig.fetch_screenshot()\n",
    "time.sleep(1)\n",
    "with open(iass_file,'w') as fp:\n",
    "    fp.write(app_window.pb.plot_fig.screenshot)"
   ]
  },
  {
   "cell_type": "code",
   "execution_count": null,
   "id": "buried-narrative",
   "metadata": {
    "pycharm": {
     "name": "#%%\n"
    }
   },
   "outputs": [],
   "source": []
  }
 ],
 "metadata": {
  "kernelspec": {
   "display_name": "bmcs_env",
   "language": "python",
   "name": "bmcs_env"
  },
  "language_info": {
   "codemirror_mode": {
    "name": "ipython",
    "version": 3
   },
   "file_extension": ".py",
   "mimetype": "text/x-python",
   "name": "python",
   "nbconvert_exporter": "python",
   "pygments_lexer": "ipython3"
  },
  "toc": {
   "base_numbering": 1,
   "nav_menu": {},
   "number_sections": true,
   "sideBar": true,
   "skip_h1_title": false,
   "title_cell": "Table of Contents",
   "title_sidebar": "Contents",
   "toc_cell": false,
   "toc_position": {},
   "toc_section_display": true,
   "toc_window_display": false
  }
 },
 "nbformat": 4,
 "nbformat_minor": 5
}
