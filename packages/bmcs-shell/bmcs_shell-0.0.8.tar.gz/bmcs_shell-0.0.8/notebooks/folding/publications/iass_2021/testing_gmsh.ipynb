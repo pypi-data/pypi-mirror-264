{
 "cells": [
  {
   "cell_type": "markdown",
   "metadata": {
    "pycharm": {
     "name": "#%% md\n"
    }
   },
   "source": [
    "# pygmsh testing"
   ]
  },
  {
   "cell_type": "code",
   "execution_count": null,
   "metadata": {
    "pycharm": {
     "name": "#%%\n"
    }
   },
   "outputs": [],
   "source": [
    "%matplotlib widget"
   ]
  },
  {
   "cell_type": "code",
   "execution_count": null,
   "metadata": {
    "pycharm": {
     "name": "#%%\n"
    }
   },
   "outputs": [],
   "source": [
    "import gmsh\n",
    "import numpy as np"
   ]
  },
  {
   "cell_type": "code",
   "execution_count": null,
   "metadata": {
    "pycharm": {
     "name": "#%%\n"
    }
   },
   "outputs": [],
   "source": [
    "gmsh.initialize()\n",
    "gmsh.option.setNumber(\"General.Terminal\", 1)\n",
    "gmsh.option.setNumber(\"Mesh.Algorithm\", 5) # delquad\n",
    "gmsh.option.setNumber(\"Mesh.RecombineAll\", 1)\n",
    "\n",
    "gmsh.model.add(\"square\")\n",
    "gmsh.model.geo.addPoint(0, 0, 0, 1, 1)\n",
    "gmsh.model.geo.addPoint(1, 0, 0, 1, 2)\n",
    "gmsh.model.geo.addPoint(1, 1, 0, 1, 3)\n",
    "gmsh.model.geo.addPoint(0, 1, 0, 1, 4)\n",
    "gmsh.model.geo.addLine(1, 2, 1)\n",
    "gmsh.model.geo.addLine(2, 3, 2)\n",
    "gmsh.model.geo.addLine(3, 4, 3)"
   ]
  },
  {
   "cell_type": "code",
   "execution_count": null,
   "metadata": {
    "pycharm": {
     "name": "#%%\n"
    }
   },
   "outputs": [],
   "source": [
    "# try automatic assignement of tag\n",
    "line4 = gmsh.model.geo.addLine(4, 1)\n",
    "gmsh.model.geo.addCurveLoop([1, 2, 3, line4], 1)\n",
    "gmsh.model.geo.addPlaneSurface([1], 6)\n",
    "gmsh.model.geo.synchronize()\n",
    "gmsh.model.mesh.generate(2)\n",
    "#gmsh.write(\"square.unv\")"
   ]
  },
  {
   "cell_type": "code",
   "execution_count": null,
   "metadata": {
    "pycharm": {
     "name": "#%%\n"
    }
   },
   "outputs": [],
   "source": [
    "idx, x, _ = gmsh.model.mesh.get_nodes()"
   ]
  },
  {
   "cell_type": "code",
   "execution_count": null,
   "metadata": {
    "pycharm": {
     "name": "#%%\n"
    }
   },
   "outputs": [],
   "source": [
    "x.reshape(-1,3)"
   ]
  },
  {
   "cell_type": "code",
   "execution_count": null,
   "metadata": {
    "pycharm": {
     "name": "#%%\n"
    }
   },
   "outputs": [],
   "source": [
    "import k3d\n",
    "import pygmsh"
   ]
  },
  {
   "cell_type": "code",
   "execution_count": null,
   "metadata": {
    "pycharm": {
     "name": "#%%\n"
    }
   },
   "outputs": [],
   "source": [
    "X_Id = np.array([[0,0,0], [1,0,0], [1,1,0], [1, 0, 1]])\n",
    "I_Fi = np.array([[0,1,2], [0,1,3]])\n",
    "mesh_size = 2 * np.linalg.norm(X_Id[1]-X_Id[0])\n",
    "\n",
    "X_Fid = X_Id[I_Fi]\n",
    "with pygmsh.geo.Geometry() as geom:\n",
    "    for X_id in X_Fid:\n",
    "        geom.add_polygon(X_id, mesh_size=3)\n",
    "    mesh = geom.generate_mesh()\n",
    "\n",
    "X_Id_mesh = mesh.points.astype(np.float32)\n",
    "I_Fi_mesh = mesh.cells[1][1].astype(np.uint32)\n",
    "\n",
    "k3d_mesh = k3d.mesh(X_Id_mesh, I_Fi_mesh, side='double', color=0x75ade6)\n",
    "k3d_mesh += k3d.mesh(X_Id_mesh, I_Fi_mesh, side='double', color=0x000000, wireframe=True)\n",
    "k3d_mesh"
   ]
  },
  {
   "cell_type": "code",
   "execution_count": null,
   "metadata": {
    "pycharm": {
     "name": "#%%\n"
    }
   },
   "outputs": [],
   "source": [
    "import gmsh\n",
    "import numpy as np"
   ]
  },
  {
   "cell_type": "code",
   "execution_count": null,
   "metadata": {
    "pycharm": {
     "name": "#%%\n"
    }
   },
   "outputs": [],
   "source": [
    "X_Id = np.array([[0,0,0], [1,0,0], [1,1,0], [1, 0, 1]])\n",
    "I_Fi = np.array([[0,1,2], [0,1,3]])\n",
    "mesh_size = 2 * np.linalg.norm(X_Id[1]-X_Id[0])\n",
    "\n",
    "gmsh.initialize()\n",
    "gmsh.clear()\n",
    "gmsh.option.setNumber(\"General.Terminal\", 1)\n",
    "gmsh.option.setNumber(\"Mesh.Algorithm\", 5) # delquad\n",
    "gmsh.option.setNumber(\"Mesh.RecombineAll\", 1)\n",
    "\n",
    "\n",
    "X_Fid = X_Id[I_Fi]\n",
    "X_tag = np.arange(len(X_Id))\n",
    "points = np.array([\n",
    "    gmsh.model.geo.addPoint(X_d[0], X_d[1], X_d[2], 1, tag)\n",
    "    for tag, X_d in zip(X_tag, X_Id)\n",
    "])\n",
    "L_Fi = np.array([\n",
    "    [gmsh.model.geo.addLine(I_i[0], I_i[1]),\n",
    "     gmsh.model.geo.addLine(I_i[1], I_i[2]),\n",
    "     gmsh.model.geo.addLine(I_i[2], I_i[0])]\n",
    "    for I_i in I_Fi\n",
    "])\n",
    "loops = np.array([\n",
    "    gmsh.model.geo.addCurveLoop([loop[0],loop[1],loop[2]])\n",
    "    for loop in L_Fi\n",
    "])\n",
    "facets = np.array([\n",
    "    gmsh.model.geo.addPlaneSurface([loop], tag)\n",
    "    for tag, loop in enumerate(loops)\n",
    "])\n",
    "\n",
    "gmsh.model.geo.synchronize()\n",
    "mesh = gmsh.model.mesh.generate(2)\n"
   ]
  },
  {
   "cell_type": "code",
   "execution_count": null,
   "metadata": {
    "pycharm": {
     "name": "#%%\n"
    }
   },
   "outputs": [],
   "source": [
    "elem_types, elem_tags, node_tags = gmsh.model.mesh.get_elements()"
   ]
  },
  {
   "cell_type": "code",
   "execution_count": null,
   "metadata": {
    "pycharm": {
     "name": "#%%\n"
    }
   },
   "outputs": [],
   "source": [
    "node_tags"
   ]
  },
  {
   "cell_type": "code",
   "execution_count": null,
   "metadata": {
    "pycharm": {
     "name": "#%%\n"
    }
   },
   "outputs": [],
   "source": [
    "# extract cells\n",
    "elem_types, elem_tags, node_tags = gmsh.model.mesh.getElements()\n",
    "cells = []\n",
    "for elem_type, node_tags in zip(elem_types, node_tags):\n",
    "    # `elementName', `dim', `order', `numNodes', `localNodeCoord',\n",
    "    # `numPrimaryNodes'\n",
    "    num_nodes_per_cell = gmsh.model.mesh.getElementProperties(elem_type)[3]\n",
    "    cells.append(node_tags.reshape(-1,3))\n",
    "#     meshio.gmsh.gmsh_to_meshio_type\n",
    "#     cells.append(\n",
    "#         meshio.CellBlock(\n",
    "#             meshio.gmsh.gmsh_to_meshio_type[elem_type],\n",
    "#             np.asarray(node_tags).reshape(-1, num_nodes_per_cell) - 1,\n",
    "#         )\n",
    "#     )\n",
    "\n"
   ]
  },
  {
   "cell_type": "code",
   "execution_count": null,
   "metadata": {
    "pycharm": {
     "name": "#%%\n"
    }
   },
   "outputs": [],
   "source": [
    "cells"
   ]
  },
  {
   "cell_type": "code",
   "execution_count": null,
   "metadata": {
    "pycharm": {
     "name": "#%%\n"
    }
   },
   "outputs": [],
   "source": [
    "idx, x, _ = gmsh.model.mesh.get_nodes()"
   ]
  },
  {
   "cell_type": "code",
   "execution_count": null,
   "metadata": {
    "pycharm": {
     "name": "#%%\n"
    }
   },
   "outputs": [],
   "source": [
    "gmsh.model.mesh.get_elements(2)"
   ]
  },
  {
   "cell_type": "code",
   "execution_count": null,
   "metadata": {
    "pycharm": {
     "name": "#%%\n"
    }
   },
   "outputs": [],
   "source": [
    "x.reshape(-1,3)"
   ]
  },
  {
   "cell_type": "markdown",
   "metadata": {
    "pycharm": {
     "name": "#%% md\n"
    }
   },
   "source": [
    "**Note:** From the output of the last cell we see that pygmsh doesn't automatically merges the overlapping mesh (6 lines instead of 5)"
   ]
  },
  {
   "cell_type": "markdown",
   "metadata": {
    "pycharm": {
     "name": "#%% md\n"
    }
   },
   "source": [
    "## Obtaining lines mapping from facets mapping `I_Fi`"
   ]
  },
  {
   "cell_type": "code",
   "execution_count": null,
   "metadata": {
    "pycharm": {
     "name": "#%%\n"
    }
   },
   "outputs": [],
   "source": [
    "I_Fi"
   ]
  },
  {
   "cell_type": "code",
   "execution_count": null,
   "metadata": {
    "pycharm": {
     "name": "#%%\n"
    }
   },
   "outputs": [],
   "source": [
    "lines1 = I_Fi[:, [0, 1]]\n",
    "lines2 = I_Fi[:, [0, 2]]\n",
    "lines3 = I_Fi[:, [1, 2]]\n",
    "lines = np.vstack((lines1, lines2, lines3))\n",
    "lines"
   ]
  },
  {
   "cell_type": "code",
   "execution_count": null,
   "metadata": {
    "pycharm": {
     "name": "#%%\n"
    }
   },
   "outputs": [],
   "source": [
    "lines = np.sort(lines,axis=1)\n",
    "lines"
   ]
  },
  {
   "cell_type": "code",
   "execution_count": null,
   "metadata": {
    "pycharm": {
     "name": "#%%\n"
    }
   },
   "outputs": [],
   "source": [
    "lines = np.unique(lines, axis=0)\n",
    "lines"
   ]
  },
  {
   "cell_type": "markdown",
   "metadata": {
    "pycharm": {
     "name": "#%% md\n"
    }
   },
   "source": [
    "### All together"
   ]
  },
  {
   "cell_type": "code",
   "execution_count": null,
   "metadata": {
    "pycharm": {
     "name": "#%%\n"
    }
   },
   "outputs": [],
   "source": [
    "def get_lines(I_Fi):\n",
    "    lines1 = I_Fi[:, [0, 1]]\n",
    "    lines2 = I_Fi[:, [0, 2]]\n",
    "    lines3 = I_Fi[:, [1, 2]]\n",
    "    lines = np.vstack((lines1, lines2, lines3))\n",
    "    lines = np.sort(lines,axis=1)\n",
    "    lines = np.unique(lines, axis=0)\n",
    "    return lines"
   ]
  },
  {
   "cell_type": "code",
   "execution_count": null,
   "metadata": {
    "pycharm": {
     "name": "#%%\n"
    }
   },
   "outputs": [],
   "source": [
    "import gmsh\n",
    "import sys\n",
    "import numpy as np\n",
    "\n",
    "X_Id = np.array([[0,0,0], [1,0,0], [1,1,0], [1, 0, 1]])\n",
    "I_Fi = np.array([[0,1,2], [0,1,3]])\n",
    "\n",
    "gmsh.initialize()\n",
    "gmsh.model.add(\"t1\")\n",
    "\n",
    "mesh_size = np.full(X_Id.shape[0], 0.1)\n",
    "\n",
    "# TODO here, I'm taking only one surface, take all\n",
    "points_coords = X_Id[I_Fi][0]\n",
    "\n",
    "points = [gmsh.model.geo.add_point(*x, l) for x, l in zip(points_coords, mesh_size)]\n",
    "curves = [gmsh.model.geo.add_line(points[k], points[k + 1]) for k in range(len(points) - 1)] + [gmsh.model.geo.add_line(points[-1], points[0])]\n",
    "\n",
    "curve_loop = gmsh.model.geo.add_curve_loop(curves)\n",
    "surface = gmsh.model.geo.add_plane_surface([curve_loop])\n",
    "\n",
    "gmsh.model.geo.synchronize()\n",
    "\n",
    "# Adding BCs\n",
    "gmsh.model.add_physical_group(1, [1, 2], 555)\n",
    "gmsh.model.set_physical_name(2, 555, \"Fixed support\")\n",
    "\n",
    "gmsh.model.mesh.generate(3)\n",
    "\n",
    "if '-nopopup' not in sys.argv:\n",
    "    gmsh.fltk.run()\n",
    "\n",
    "gmsh.finalize()"
   ]
  },
  {
   "cell_type": "code",
   "execution_count": null,
   "metadata": {
    "pycharm": {
     "name": "#%%\n"
    }
   },
   "outputs": [],
   "source": [
    "# Old test\n",
    "import gmsh\n",
    "import sys\n",
    "\n",
    "X_Id = np.array([[0,0,0], [1,0,0], [1,1,0]])\n",
    "I_Fi = np.array([[0,1,2]])\n",
    "\n",
    "gmsh.initialize()\n",
    "gmsh.model.add(\"t1\")\n",
    "\n",
    "X_Fid = X_Id[I_Fi]\n",
    "for point in X_Id:\n",
    "    gmsh.model.geo.add_point(*point, 0.1)\n",
    "    \n",
    "# adding one because default points' tags start with 1\n",
    "lines = get_lines(I_Fi) + 1\n",
    "print(lines)\n",
    "for line in lines:\n",
    "    gmsh.model.geo.add_line(*line)\n",
    "\n",
    "gmsh.model.geo.add_curve_loop([1, -2, 3])\n",
    "gmsh.model.geo.add_plane_surface([1])\n",
    "gmsh.model.geo.synchronize()\n",
    "\n",
    "gmsh.model.mesh.generate(3)\n",
    "\n",
    "if '-nopopup' not in sys.argv:\n",
    "    gmsh.fltk.run()\n",
    "\n",
    "gmsh.finalize()"
   ]
  },
  {
   "cell_type": "markdown",
   "metadata": {
    "pycharm": {
     "name": "#%% md\n"
    }
   },
   "source": [
    "## Test with the wb shell"
   ]
  },
  {
   "cell_type": "code",
   "execution_count": null,
   "metadata": {
    "pycharm": {
     "name": "#%%\n"
    }
   },
   "outputs": [],
   "source": [
    "from bmcs_shell.folding.wb_shell_analysis import WBShellAnalysis\n",
    "from bmcs_shell.folding.vmats2D_elastic import MATS2DElastic\n",
    "# import bmcs_utils.api as bu\n",
    "import pygmsh\n",
    "import numpy as np"
   ]
  },
  {
   "cell_type": "code",
   "execution_count": null,
   "metadata": {
    "pycharm": {
     "name": "#%%\n"
    }
   },
   "outputs": [],
   "source": [
    "tmodel = MATS2DElastic(E=28000, nu=0.2)\n",
    "n_phi_plus=2\n",
    "n_x_plus=1\n",
    "wbm = WBShellAnalysis(F=-20000, h=10, tmodel=tmodel)\n",
    "data = dict(alpha=1., a=500, a_high=3000, b=900, b_high=3000, c=400, c_high=2000,\n",
    "            n_phi_plus=n_phi_plus, n_x_plus=n_x_plus, show_nodes=True)\n",
    "wbm.geo.trait_set(**data);"
   ]
  },
  {
   "cell_type": "code",
   "execution_count": null,
   "metadata": {
    "pycharm": {
     "name": "#%%\n"
    }
   },
   "outputs": [],
   "source": [
    "wbm.F = -700\n",
    "wbm.show_wireframe = True\n",
    "wbm.xdomain.mesh.direct_mesh = False\n",
    "wbm.xdomain.mesh.subdivision = 2"
   ]
  },
  {
   "cell_type": "code",
   "execution_count": null,
   "metadata": {
    "pycharm": {
     "name": "#%%\n"
    }
   },
   "outputs": [],
   "source": [
    "wbm.app()"
   ]
  },
  {
   "cell_type": "code",
   "execution_count": null,
   "metadata": {
    "pycharm": {
     "name": "#%%\n"
    }
   },
   "outputs": [],
   "source": [
    "wbm.xdomain.mesh.direct_mesh = False"
   ]
  },
  {
   "cell_type": "code",
   "execution_count": null,
   "metadata": {
    "pycharm": {
     "name": "#%%\n"
    }
   },
   "outputs": [],
   "source": [
    "X_Ia = wbm.geo.X_Ia  # nodal coordinates\n",
    "X_Ia, len(X_Ia)"
   ]
  },
  {
   "cell_type": "code",
   "execution_count": null,
   "metadata": {
    "pycharm": {
     "name": "#%%\n"
    }
   },
   "outputs": [],
   "source": [
    "I_Fi = wbm.geo.I_Fi  # elements"
   ]
  },
  {
   "cell_type": "code",
   "execution_count": null,
   "metadata": {
    "pycharm": {
     "name": "#%%\n"
    }
   },
   "outputs": [],
   "source": [
    "wbm.xdomain.mesh.X_Id.shape"
   ]
  },
  {
   "cell_type": "code",
   "execution_count": null,
   "metadata": {
    "pycharm": {
     "name": "#%%\n"
    }
   },
   "outputs": [],
   "source": [
    "X_Fid = X_Ia[I_Fi]"
   ]
  },
  {
   "cell_type": "code",
   "execution_count": null,
   "metadata": {
    "pycharm": {
     "name": "#%%\n"
    }
   },
   "outputs": [],
   "source": [
    "import numpy as np\n",
    "\n",
    "U_1 = wbm.hist.U_t[-1]\n",
    "# U_max = np.max(np.fabs(U_1))\n",
    "# U_max\n",
    "U_1 \n",
    "U_1.reshape(-1, 3) * 1\n",
    "# _, loaded_nodes, _ = wbm.bc_loaded\n",
    "# wbm.xdomain.I_Ei.astype(np.uint32)\n",
    "bc_fixed, fixed_nodes, fixed_dofs = wbm.bc_fixed\n",
    "bc_fixed[5]\n",
    "\n",
    "U_1 = wbm.hist.U_t[-1]\n",
    "np.max(np.fabs(U_1))"
   ]
  },
  {
   "cell_type": "code",
   "execution_count": null,
   "metadata": {
    "pycharm": {
     "name": "#%%\n"
    }
   },
   "outputs": [],
   "source": []
  }
 ],
 "metadata": {
  "kernelspec": {
   "display_name": "bmcs_env",
   "language": "python",
   "name": "bmcs_env"
  },
  "language_info": {
   "codemirror_mode": {
    "name": "ipython",
    "version": 3
   },
   "file_extension": ".py",
   "mimetype": "text/x-python",
   "name": "python",
   "nbconvert_exporter": "python",
   "pygments_lexer": "ipython3"
  },
  "toc": {
   "base_numbering": 1,
   "nav_menu": {},
   "number_sections": true,
   "sideBar": true,
   "skip_h1_title": true,
   "title_cell": "Table of Contents",
   "title_sidebar": "Contents",
   "toc_cell": false,
   "toc_position": {
    "height": "calc(100% - 180px)",
    "left": "10px",
    "top": "150px",
    "width": "165px"
   },
   "toc_section_display": true,
   "toc_window_display": false
  }
 },
 "nbformat": 4,
 "nbformat_minor": 4
}
