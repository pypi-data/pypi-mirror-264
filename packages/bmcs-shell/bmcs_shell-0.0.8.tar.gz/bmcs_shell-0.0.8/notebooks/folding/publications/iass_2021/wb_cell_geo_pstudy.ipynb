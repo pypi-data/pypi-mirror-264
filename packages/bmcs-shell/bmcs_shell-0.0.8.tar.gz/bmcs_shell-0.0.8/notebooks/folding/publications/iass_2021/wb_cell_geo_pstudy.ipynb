{
 "cells": [
  {
   "cell_type": "markdown",
   "metadata": {
    "pycharm": {
     "name": "#%% md\n"
    }
   },
   "source": [
    "# Kinematics of waterbomb folding and derived characteristics"
   ]
  },
  {
   "cell_type": "code",
   "execution_count": null,
   "metadata": {
    "pycharm": {
     "name": "#%%\n"
    }
   },
   "outputs": [],
   "source": [
    "%matplotlib widget"
   ]
  },
  {
   "cell_type": "markdown",
   "metadata": {
    "pycharm": {
     "name": "#%% md\n"
    }
   },
   "source": [
    "## Cell folding"
   ]
  },
  {
   "cell_type": "code",
   "execution_count": null,
   "metadata": {
    "pycharm": {
     "name": "#%%\n"
    }
   },
   "outputs": [],
   "source": [
    "import sympy as sp\n",
    "sp.init_printing()\n",
    "import numpy as np"
   ]
  },
  {
   "cell_type": "code",
   "execution_count": null,
   "metadata": {
    "pycharm": {
     "name": "#%%\n"
    }
   },
   "outputs": [],
   "source": [
    "L = sp.symbols('L', positive=True)\n",
    "eta,zeta = sp.symbols(r'eta, zeta', positive=True)\n",
    "u_2, u_3 = sp.symbols('u_2, u_3', positive=True)\n",
    "alpha = sp.symbols('alpha', positive=True)\n",
    "b = L\n",
    "a = eta*L\n",
    "c = zeta*a\n",
    "\n",
    "U0_a = sp.Matrix([a, b, 0])\n",
    "W0_a = sp.Matrix([c, 0, 0])\n",
    "UW0_a = W0_a - U0_a\n",
    "L2_U_0 = (U0_a.T * U0_a)[0]\n",
    "L2_UW_0 = (UW0_a.T * UW0_a)[0]\n",
    "\n",
    "U1_a = sp.Matrix([a, u_2, u_3])\n",
    "W1_a = sp.Matrix([c * sp.cos(alpha), 0, c * sp.sin(alpha)])\n",
    "UW1_a = U1_a - W1_a\n",
    "L2_U_1 = (U1_a.T * U1_a)[0]\n",
    "L2_UW_1 = (UW1_a.T * UW1_a)[0]\n",
    "L2_U_1, L2_UW_1"
   ]
  },
  {
   "cell_type": "code",
   "execution_count": null,
   "metadata": {
    "pycharm": {
     "name": "#%%\n"
    }
   },
   "outputs": [],
   "source": [
    "u2_sol = sp.solve(L2_U_1 - L2_U_0, u_2)[0]\n",
    "u3_sol = sp.solve((L2_UW_1 - L2_UW_0).subs(u_2, u2_sol), u_3)[0]\n",
    "u_3_ = u3_sol\n",
    "u_2_ = u2_sol.subs(u_3, u3_sol)\n",
    "u_3_, u_2_"
   ]
  },
  {
   "cell_type": "code",
   "execution_count": null,
   "metadata": {
    "pycharm": {
     "name": "#%%\n"
    }
   },
   "outputs": [],
   "source": [
    "U_pp_a = U1_a.subs({u_2: u_2_, u_3: u_3_})\n",
    "U_mm_a = sp.Matrix([-U_pp_a[0], -U_pp_a[1], U_pp_a[2]])\n",
    "U_mp_a = sp.Matrix([-U_pp_a[0], U_pp_a[1], U_pp_a[2]])\n",
    "U_pm_a = sp.Matrix([U_pp_a[0], -U_pp_a[1], U_pp_a[2]])\n",
    "W_p_a = W1_a.subs({u_2: u_2_, u_3: u_3_})\n",
    "W_m_a = sp.Matrix([-W_p_a[0], W_p_a[1], W_p_a[2]])"
   ]
  },
  {
   "cell_type": "code",
   "execution_count": null,
   "metadata": {
    "pycharm": {
     "name": "#%%\n"
    }
   },
   "outputs": [],
   "source": [
    "U_pp_a, W_p_a"
   ]
  },
  {
   "cell_type": "markdown",
   "metadata": {
    "pycharm": {
     "name": "#%% md\n"
    }
   },
   "source": [
    "## Compatible rotation of a cell around $x$ axis"
   ]
  },
  {
   "cell_type": "code",
   "execution_count": null,
   "metadata": {
    "pycharm": {
     "name": "#%%\n"
    }
   },
   "outputs": [],
   "source": [
    "V_UW = U_pp_a - W_p_a\n",
    "L_UW = sp.sqrt(V_UW[1] ** 2 + V_UW[2] ** 2)\n",
    "theta_sol = sp.simplify(2 * sp.asin( V_UW[2] / L_UW))"
   ]
  },
  {
   "cell_type": "code",
   "execution_count": null,
   "metadata": {
    "pycharm": {
     "name": "#%%\n"
    }
   },
   "outputs": [],
   "source": [
    "theta_sol"
   ]
  },
  {
   "cell_type": "code",
   "execution_count": null,
   "metadata": {
    "pycharm": {
     "name": "#%%\n"
    }
   },
   "outputs": [],
   "source": [
    "get_theta = sp.lambdify((alpha,L,eta,zeta), theta_sol)"
   ]
  },
  {
   "cell_type": "code",
   "execution_count": null,
   "metadata": {
    "pycharm": {
     "name": "#%%\n"
    }
   },
   "outputs": [],
   "source": [
    "## Rotation of a cell  of a shifted cell"
   ]
  },
  {
   "cell_type": "code",
   "execution_count": null,
   "metadata": {
    "pycharm": {
     "name": "#%%\n"
    }
   },
   "outputs": [],
   "source": [
    "from sympy.algebras.quaternion import Quaternion\n",
    "theta = sp.Symbol(r'theta')\n",
    "q_theta = Quaternion.from_axis_angle([1, 0, 0], theta)\n",
    "q_theta"
   ]
  },
  {
   "cell_type": "code",
   "execution_count": null,
   "metadata": {
    "pycharm": {
     "name": "#%%\n"
    }
   },
   "outputs": [],
   "source": [
    "d_1, d_2, d_3 = sp.symbols('d_1, d_2, d_3')\n",
    "D_a = sp.Matrix([d_1, d_2, d_3])"
   ]
  },
  {
   "cell_type": "code",
   "execution_count": null,
   "metadata": {
    "pycharm": {
     "name": "#%%\n"
    }
   },
   "outputs": [],
   "source": [
    "UD_pp_a = U_pp_a + D_a\n",
    "WD_p_a = W_p_a + D_a"
   ]
  },
  {
   "cell_type": "code",
   "execution_count": null,
   "metadata": {
    "pycharm": {
     "name": "#%%\n"
    }
   },
   "outputs": [],
   "source": [
    "UD_pp_a - W_m_a"
   ]
  },
  {
   "cell_type": "code",
   "execution_count": null,
   "metadata": {
    "pycharm": {
     "name": "#%%\n"
    }
   },
   "outputs": [],
   "source": [
    "d_subs = sp.solve(UD_pp_a - W_m_a, [d_1, d_2, d_3])\n",
    "d_subs"
   ]
  },
  {
   "cell_type": "markdown",
   "metadata": {
    "pycharm": {
     "name": "#%% md\n"
    }
   },
   "source": [
    "## Rotate by $\\theta$"
   ]
  },
  {
   "cell_type": "markdown",
   "metadata": {
    "pycharm": {
     "name": "#%% md\n"
    }
   },
   "source": [
    "Define the center of rotation"
   ]
  },
  {
   "cell_type": "code",
   "execution_count": null,
   "metadata": {
    "pycharm": {
     "name": "#%%\n"
    }
   },
   "outputs": [],
   "source": [
    "UD_pp_a_ = UD_pp_a.subs(d_subs)"
   ]
  },
  {
   "cell_type": "markdown",
   "metadata": {
    "pycharm": {
     "name": "#%% md\n"
    }
   },
   "source": [
    "Rostated point"
   ]
  },
  {
   "cell_type": "code",
   "execution_count": null,
   "metadata": {
    "pycharm": {
     "name": "#%%\n"
    }
   },
   "outputs": [],
   "source": [
    "WD_p_a_ = WD_p_a.subs(d_subs)"
   ]
  },
  {
   "cell_type": "markdown",
   "metadata": {
    "pycharm": {
     "name": "#%% md\n"
    }
   },
   "source": [
    "Pull back the point so that the center of rotation is at origin"
   ]
  },
  {
   "cell_type": "code",
   "execution_count": null,
   "metadata": {
    "pycharm": {
     "name": "#%%\n"
    }
   },
   "outputs": [],
   "source": [
    "WD_p_a_pb = WD_p_a_ - UD_pp_a_\n",
    "WD_p_a_pb.T"
   ]
  },
  {
   "cell_type": "markdown",
   "metadata": {
    "pycharm": {
     "name": "#%% md\n"
    }
   },
   "source": [
    "Rotate the point around the quaternion"
   ]
  },
  {
   "cell_type": "code",
   "execution_count": null,
   "metadata": {
    "pycharm": {
     "name": "#%%\n"
    }
   },
   "outputs": [],
   "source": [
    "WD_p_a_rot = q_theta.rotate_point(WD_p_a_pb.T, q_theta)"
   ]
  },
  {
   "cell_type": "markdown",
   "metadata": {
    "pycharm": {
     "name": "#%% md\n"
    }
   },
   "source": [
    "Push forward to the center of rotation"
   ]
  },
  {
   "cell_type": "code",
   "execution_count": null,
   "metadata": {
    "pycharm": {
     "name": "#%%\n"
    }
   },
   "outputs": [],
   "source": [
    "WD_p_a_pf = sp.Matrix(WD_p_a_rot) + UD_pp_a_\n",
    "WD_p_a_theta = WD_p_a_pf.subs(theta, -theta_sol)"
   ]
  },
  {
   "cell_type": "markdown",
   "metadata": {
    "pycharm": {
     "name": "#%% md\n"
    }
   },
   "source": [
    "Rotate also the midpoint"
   ]
  },
  {
   "cell_type": "code",
   "execution_count": null,
   "metadata": {
    "pycharm": {
     "name": "#%%\n"
    }
   },
   "outputs": [],
   "source": [
    "DD_a_pb = D_a.subs(d_subs) - UD_pp_a_\n",
    "DD_a_rot = q_theta.rotate_point(DD_a_pb.T, q_theta)\n",
    "DD_a_pf = sp.simplify(sp.Matrix(DD_a_rot) + UD_pp_a_)\n",
    "DD_a_theta = DD_a_pf.subs(theta, -theta_sol)"
   ]
  },
  {
   "cell_type": "code",
   "execution_count": null,
   "metadata": {
    "pycharm": {
     "name": "#%%\n"
    }
   },
   "outputs": [],
   "source": [
    "DD_a_theta"
   ]
  },
  {
   "cell_type": "code",
   "execution_count": null,
   "metadata": {
    "pycharm": {
     "name": "#%%\n"
    }
   },
   "outputs": [],
   "source": [
    "get_U_mm_a = sp.lambdify((alpha, L, eta, zeta), U_mm_a )\n",
    "get_WD_p_a_theta = sp.lambdify((alpha, L, eta, zeta), WD_p_a_theta)"
   ]
  },
  {
   "cell_type": "code",
   "execution_count": null,
   "metadata": {
    "pycharm": {
     "name": "#%%\n"
    }
   },
   "outputs": [],
   "source": [
    "get_U_mm_a(0.2, 3, 2, 0.4)"
   ]
  },
  {
   "cell_type": "code",
   "execution_count": null,
   "metadata": {
    "pycharm": {
     "name": "#%%\n"
    }
   },
   "outputs": [],
   "source": [
    "get_WD_p_a_theta(0.2, 3, 2, 0.4)"
   ]
  },
  {
   "cell_type": "code",
   "execution_count": null,
   "metadata": {
    "pycharm": {
     "name": "#%%\n"
    }
   },
   "outputs": [],
   "source": [
    "sp.simplify((WD_p_a_theta - U_mm_a)[0])"
   ]
  },
  {
   "cell_type": "markdown",
   "metadata": {
    "pycharm": {
     "name": "#%% md\n"
    }
   },
   "source": [
    "## Cross sectional height"
   ]
  },
  {
   "cell_type": "code",
   "execution_count": null,
   "metadata": {
    "pycharm": {
     "name": "#%%\n"
    }
   },
   "outputs": [],
   "source": [
    "H_sol = W_p_a[2]\n",
    "H_sol"
   ]
  },
  {
   "cell_type": "code",
   "execution_count": null,
   "metadata": {
    "pycharm": {
     "name": "#%%\n"
    }
   },
   "outputs": [],
   "source": [
    "get_H = sp.lambdify((alpha, L, eta, zeta), H_sol)"
   ]
  },
  {
   "cell_type": "code",
   "execution_count": null,
   "metadata": {
    "pycharm": {
     "name": "#%%\n"
    }
   },
   "outputs": [],
   "source": [
    "V_WD = (WD_p_a_theta - DD_a_theta)\n",
    "Vzy_WD = sp.Matrix([V_WD[1], V_WD[2]])"
   ]
  },
  {
   "cell_type": "code",
   "execution_count": null,
   "metadata": {
    "pycharm": {
     "name": "#%%\n"
    }
   },
   "outputs": [],
   "source": [
    "L_WD = Vzy_WD.T * Vzy_WD"
   ]
  },
  {
   "cell_type": "code",
   "execution_count": null,
   "metadata": {
    "pycharm": {
     "name": "#%%\n"
    }
   },
   "outputs": [],
   "source": [
    "get_L_WD = sp.lambdify((alpha, L, eta, zeta), L_WD, 'numpy')"
   ]
  },
  {
   "cell_type": "code",
   "execution_count": null,
   "metadata": {
    "pycharm": {
     "name": "#%%\n"
    }
   },
   "outputs": [],
   "source": [
    "np.sqrt(get_L_WD(np.pi/2,2,1,1.3))"
   ]
  },
  {
   "cell_type": "markdown",
   "metadata": {
    "pycharm": {
     "name": "#%% md\n"
    }
   },
   "source": [
    "## Symmetry axis of the cylinder"
   ]
  },
  {
   "cell_type": "code",
   "execution_count": null,
   "metadata": {
    "pycharm": {
     "name": "#%%\n"
    }
   },
   "outputs": [],
   "source": [
    "D0_a = sp.Matrix([0,0,0])"
   ]
  },
  {
   "cell_type": "code",
   "execution_count": null,
   "metadata": {
    "pycharm": {
     "name": "#%%\n"
    }
   },
   "outputs": [],
   "source": [
    "W_m_a[2]"
   ]
  },
  {
   "cell_type": "code",
   "execution_count": null,
   "metadata": {
    "pycharm": {
     "name": "#%%\n"
    }
   },
   "outputs": [],
   "source": [
    "U_mm_a[2]"
   ]
  },
  {
   "cell_type": "code",
   "execution_count": null,
   "metadata": {
    "pycharm": {
     "name": "#%%\n"
    }
   },
   "outputs": [],
   "source": [
    "DD_a_theta[2]"
   ]
  },
  {
   "cell_type": "markdown",
   "metadata": {
    "pycharm": {
     "name": "#%% md\n"
    }
   },
   "source": [
    "Find the point at which the line connection between\n",
    "\\begin{align}\n",
    " U_{mm} + \\rho (U_{mm} - D)\n",
    "\\end{align}\n",
    "intersects the vertical axis"
   ]
  },
  {
   "cell_type": "code",
   "execution_count": null,
   "metadata": {
    "pycharm": {
     "name": "#%%\n"
    }
   },
   "outputs": [],
   "source": [
    "rho = (U_mm_a[2] - DD_a_theta[2]) / (U_mm_a[1] - DD_a_theta[1]) * U_mm_a[1]\n",
    "R_0 = U_mm_a[2] - rho"
   ]
  },
  {
   "cell_type": "code",
   "execution_count": null,
   "metadata": {
    "pycharm": {
     "name": "#%%\n"
    }
   },
   "outputs": [],
   "source": [
    "get_U_mm_a = sp.lambdify((alpha, L, eta, zeta), U_mm_a, 'numpy')\n",
    "get_DD_a_theta = sp.lambdify((alpha, L, eta, zeta), DD_a_theta, 'numpy')\n",
    "get_rho = sp.lambdify((alpha, L, eta, zeta), rho, 'numpy')\n",
    "get_R_0 = sp.lambdify((alpha, L, eta, zeta), R_0, 'numpy')"
   ]
  },
  {
   "cell_type": "code",
   "execution_count": null,
   "metadata": {
    "pycharm": {
     "name": "#%%\n"
    }
   },
   "outputs": [],
   "source": [
    "data = dict(alpha=1, L=1, eta=1, zeta=1)\n",
    "get_U_mm_a(**data)"
   ]
  },
  {
   "cell_type": "code",
   "execution_count": null,
   "metadata": {
    "pycharm": {
     "name": "#%%\n"
    }
   },
   "outputs": [],
   "source": [
    "get_DD_a_theta(**data)"
   ]
  },
  {
   "cell_type": "code",
   "execution_count": null,
   "metadata": {
    "pycharm": {
     "name": "#%%\n"
    }
   },
   "outputs": [],
   "source": [
    "get_rho(**data)"
   ]
  },
  {
   "cell_type": "code",
   "execution_count": null,
   "metadata": {
    "pycharm": {
     "name": "#%%\n"
    }
   },
   "outputs": [],
   "source": [
    "get_theta(**data)"
   ]
  },
  {
   "cell_type": "code",
   "execution_count": null,
   "metadata": {
    "pycharm": {
     "name": "#%%\n"
    }
   },
   "outputs": [],
   "source": [
    "get_R_0(**data)"
   ]
  },
  {
   "cell_type": "code",
   "execution_count": null,
   "metadata": {
    "pycharm": {
     "name": "#%%\n"
    }
   },
   "outputs": [],
   "source": [
    "phi_0 = sp.asin( DD_a_theta[1] / R_0 )"
   ]
  },
  {
   "cell_type": "code",
   "execution_count": null,
   "metadata": {
    "pycharm": {
     "name": "#%%\n"
    }
   },
   "outputs": [],
   "source": [
    "get_phi_0 = sp.lambdify((alpha, L, eta, zeta), phi_0, 'numpy')"
   ]
  },
  {
   "cell_type": "code",
   "execution_count": null,
   "metadata": {
    "pycharm": {
     "name": "#%%\n"
    }
   },
   "outputs": [],
   "source": [
    "get_phi_0(**data)"
   ]
  },
  {
   "cell_type": "markdown",
   "metadata": {
    "pycharm": {
     "name": "#%% md\n"
    }
   },
   "source": [
    "# Curvature visualizaion"
   ]
  },
  {
   "cell_type": "markdown",
   "metadata": {
    "pycharm": {
     "name": "#%% md\n"
    }
   },
   "source": [
    "\\begin{align}\n",
    "\\eta &= \\frac{b}{a}, & \\zeta = \\frac{c}{b}\\\\[8pt]\n",
    "\\end{align}"
   ]
  },
  {
   "cell_type": "markdown",
   "metadata": {
    "pycharm": {
     "name": "#%% md\n"
    }
   },
   "source": [
    "Curvature can be set identical to the angle $\\theta$. "
   ]
  },
  {
   "cell_type": "markdown",
   "metadata": {
    "pycharm": {
     "name": "#%% md\n"
    }
   },
   "source": [
    "# Parametric Study"
   ]
  },
  {
   "cell_type": "code",
   "execution_count": null,
   "metadata": {
    "pycharm": {
     "name": "#%%\n"
    }
   },
   "outputs": [],
   "source": [
    "import numpy as np\n",
    "R_list = []\n",
    "theta_list = []\n",
    "H_list = []\n",
    "alpha_range = [np.pi/4]\n",
    "n = 50\n",
    "eta_range = np.linspace(0.3,0.9,n)\n",
    "zeta_range = np.linspace(0.4,1.1,n)\n",
    "L_ = 1\n",
    "eta_grid, zeta_grid = np.meshgrid(eta_range, zeta_range)\n",
    "for alpha_ in alpha_range:\n",
    "    radius_bc_list = []\n",
    "    R_grid = get_R_0(alpha=alpha_,L=L_,eta=eta_grid,zeta=zeta_grid)\n",
    "    R_list.append(R_grid/L_)\n",
    "    theta_grid = get_theta(alpha=alpha_,L=L_,eta=eta_grid,zeta=zeta_grid)\n",
    "    theta_list.append(theta_grid)\n",
    "    H_grid = get_H(alpha=alpha_,L=L_,eta=eta_grid,zeta=zeta_grid)\n",
    "    H_list.append(H_grid/L_)"
   ]
  },
  {
   "cell_type": "code",
   "execution_count": null,
   "metadata": {
    "code_folding": [],
    "pycharm": {
     "name": "#%%\n"
    }
   },
   "outputs": [],
   "source": [
    "from mpl_toolkits.mplot3d import Axes3D\n",
    "import matplotlib.pyplot as plt\n",
    "from matplotlib import cm\n",
    "from matplotlib.ticker import LinearLocator, FormatStrFormatter\n",
    "fig = plt.figure()\n",
    "ax = fig.gca(projection='3d')\n",
    "alpha_colors = ['green','blue','green','orange']\n",
    "for R_grid, theta_grid, H_grid, color in zip(R_list, theta_list, H_list, alpha_colors):\n",
    "    rho_grid = 1/R_grid\n",
    "#     cset = ax.contour(c_grid, b_grid, H_grid, zdir='z', offset=-1, \n",
    "#                       cmap=cm.coolwarm,alpha=1)\n",
    "#     ax.contour(zeta_grid, eta_grid, rho_grid, levels=[0] )\n",
    "#     surf = ax.plot_surface(zeta_grid, eta_grid, rho_grid, \n",
    "#                        color='green',\n",
    "#                        #linewidth=0, antialiased=False)\n",
    "#                     alpha=.6, linewidth=5,\n",
    "#                        #cmap=cm.gist_earth,antialiased=False, \n",
    "#                 shade=False,rstride=1, cstride=1)\n",
    "    surf = ax.plot_surface(zeta_grid, eta_grid, theta_grid, \n",
    "                       color='green',\n",
    "                       #linewidth=0, antialiased=False)\n",
    "                    alpha=.6, linewidth=5,\n",
    "                       #cmap=cm.gist_earth,antialiased=False, \n",
    "                shade=False,rstride=1, cstride=1)\n",
    "    ax.contour(zeta_grid, eta_grid, theta_grid, \n",
    "               levels=[-0.3,-0.2,-0.1,0,0.1], colors=['black'] )\n",
    "#     surf2 = ax.plot_surface(c_grid, b_grid, H_grid ,color='red', \n",
    "#                            #cmap=cm.copper,\n",
    "#                         alpha=.3, linewidth=3,\n",
    "#                            #cmap=cm.gist_earth,antialiased=False, \n",
    "#                     shade=False,rstride=1, cstride=1)\n",
    "#     cset = ax.contour(X, Y, Z, zdir='x', offset=-40, cmap=cm.coolwarm)\n",
    "#     cset = ax.contour(X, Y, Z, zdir='y', offset=40, cmap=cm.coolwarm)\n",
    "#ax.set_zlim(-1,1)\n",
    "ax.set_xlabel(r'$\\zeta~[-]$')\n",
    "ax.set_ylabel(r'$\\eta~[-]$')\n",
    "ax.set_zlabel(r'$\\theta~[-]$');"
   ]
  },
  {
   "cell_type": "code",
   "execution_count": null,
   "metadata": {
    "pycharm": {
     "name": "#%%\n"
    }
   },
   "outputs": [],
   "source": [
    "alpha_range"
   ]
  },
  {
   "cell_type": "code",
   "execution_count": null,
   "metadata": {
    "pycharm": {
     "name": "#%%\n"
    }
   },
   "outputs": [],
   "source": [
    "sp.simplify(theta_sol.subs({L:1}))"
   ]
  },
  {
   "cell_type": "code",
   "execution_count": null,
   "metadata": {
    "pycharm": {
     "name": "#%%\n"
    }
   },
   "outputs": [],
   "source": [
    "theta_normed = sp.simplify(theta_sol)\n",
    "theta_normed"
   ]
  },
  {
   "cell_type": "code",
   "execution_count": null,
   "metadata": {
    "pycharm": {
     "name": "#%%\n"
    }
   },
   "outputs": [],
   "source": [
    "zeta_flat_ = sp.solve(theta_normed.args[1].args[0].args[3],zeta)[0]\n",
    "zeta_flat_"
   ]
  },
  {
   "cell_type": "code",
   "execution_count": null,
   "metadata": {
    "pycharm": {
     "name": "#%%\n"
    }
   },
   "outputs": [],
   "source": [
    "get_zeta_flat = sp.lambdify(alpha, zeta_flat_)"
   ]
  },
  {
   "cell_type": "code",
   "execution_count": null,
   "metadata": {
    "pycharm": {
     "name": "#%%\n"
    }
   },
   "outputs": [],
   "source": [
    "zeta_0 = get_zeta_flat(alpha_range[0])"
   ]
  },
  {
   "cell_type": "code",
   "execution_count": null,
   "metadata": {
    "pycharm": {
     "name": "#%%\n"
    }
   },
   "outputs": [],
   "source": [
    "from bmcs_shell.folding.wb_cell_4p import WBElem4Param\n",
    "from bmcs_shell.folding.wb_tessellation import WBTessellation\n",
    "b_ = 1\n",
    "a_ = eta_range[-1] * b_\n",
    "#c_ = zeta_range[-1] * a_\n",
    "c_ = zeta_0 * a_ + 1e-3\n",
    "data = dict(alpha=alpha_range[0],a=a_, b=b_, c=c_) # c_range[0])\n",
    "wb = WBElem4Param(**data)\n",
    "ws = WBTessellation(wb_cell=wb, show_wireframe=True, show_nodes=False, **data)\n",
    "ws.interact()"
   ]
  },
  {
   "cell_type": "code",
   "execution_count": null,
   "metadata": {
    "pycharm": {
     "name": "#%%\n"
    }
   },
   "outputs": [],
   "source": [
    "import bmcs_utils.api as bu\n",
    "b_ = 1\n",
    "a_ = eta_range[-1] * b_\n",
    "c_ = zeta_range[-1] * a_\n",
    "c_ = zeta_0 * a_ + 1e-3\n",
    "data = dict(alpha=1e-4,a=a_, b=b_, c=c_) # c_range[0])\n",
    "wb = WBElem4Param(show_wireframe=True,**data)\n",
    "app_window = bu.AppWindow(wb)"
   ]
  },
  {
   "cell_type": "code",
   "execution_count": null,
   "metadata": {
    "pycharm": {
     "name": "#%%\n"
    }
   },
   "outputs": [],
   "source": [
    "def wb_plot_mpl(eta, zeta, b_=1):\n",
    "    a_ = eta * b_\n",
    "    c_ = zeta * a_\n",
    "    data = dict(alpha=1e-4,a=a_, b=b_, c=c_)\n",
    "    wb = WBElem4Param(show_wireframe=True,**data)\n",
    "    wb_X_Fia = wb.X_Ia[wb.I_Fi,:-1]\n",
    "    wb_X_aiF = np.einsum('Fia->aiF', wb_X_Fia)\n",
    "    wb_X_aLiF = wb_X_aiF[:,[[0,1],[1,2],[2,0]],:]\n",
    "    x_iLF, y_iLF = np.einsum('aLiF->aiLF', wb_X_aLiF)\n",
    "    return x_iLF.reshape(2,-1), y_iLF.reshape(2,-1)"
   ]
  },
  {
   "cell_type": "code",
   "execution_count": null,
   "metadata": {
    "pycharm": {
     "name": "#%%\n"
    }
   },
   "outputs": [],
   "source": [
    "wb_plot_mpl(eta_range[0], zeta_range[0])"
   ]
  },
  {
   "cell_type": "code",
   "execution_count": null,
   "metadata": {
    "pycharm": {
     "name": "#%%\n"
    }
   },
   "outputs": [],
   "source": [
    "_, axes = plt.subplots(2,3)\n",
    "((ax11,ax12,ax13), (ax21, ax22, ax23)) = axes\n",
    "ax11.plot(*wb_plot_mpl(eta_range[0], zeta_range[0]), color='black')\n",
    "ax12.plot(*wb_plot_mpl(eta_range[0], zeta_0), color='black')\n",
    "ax13.plot(*wb_plot_mpl(eta_range[0], zeta_range[-1]), color='black')\n",
    "ax21.plot(*wb_plot_mpl(eta_range[-1], zeta_range[0]), color='black')\n",
    "ax22.plot(*wb_plot_mpl(eta_range[-1], zeta_0), color='black')\n",
    "ax23.plot(*wb_plot_mpl(eta_range[-1], zeta_range[-1]), color='black')\n",
    "fig.tight_layout = True\n",
    "for ax_row in axes:\n",
    "    for ax in ax_row:\n",
    "        ax.set_aspect('equal', 'box')\n",
    "        ax.axis('off')\n",
    "        ax.set_xlim(-1.2,1.2)"
   ]
  },
  {
   "cell_type": "code",
   "execution_count": null,
   "metadata": {
    "pycharm": {
     "name": "#%%\n"
    }
   },
   "outputs": [],
   "source": [
    "app_window.interact()"
   ]
  },
  {
   "cell_type": "code",
   "execution_count": null,
   "metadata": {
    "pycharm": {
     "name": "#%%\n"
    }
   },
   "outputs": [],
   "source": [
    "app_window.pb.plot_fig.grid_visible=False"
   ]
  },
  {
   "cell_type": "code",
   "execution_count": null,
   "metadata": {
    "pycharm": {
     "name": "#%%\n"
    }
   },
   "outputs": [],
   "source": [
    "H_sol"
   ]
  },
  {
   "cell_type": "code",
   "execution_count": null,
   "metadata": {
    "pycharm": {
     "name": "#%%\n"
    }
   },
   "outputs": [],
   "source": [
    "h_normed = (H_sol).subs(c,zeta*a).subs(zeta, zeta_flat_)"
   ]
  },
  {
   "cell_type": "code",
   "execution_count": null,
   "metadata": {
    "pycharm": {
     "name": "#%%\n"
    }
   },
   "outputs": [],
   "source": [
    "h_normed"
   ]
  },
  {
   "cell_type": "code",
   "execution_count": null,
   "metadata": {
    "pycharm": {
     "name": "#%%\n"
    }
   },
   "outputs": [],
   "source": [
    "get_h_normed = sp.lambdify((alpha,eta,L), h_normed)"
   ]
  },
  {
   "cell_type": "code",
   "execution_count": null,
   "metadata": {
    "pycharm": {
     "name": "#%%\n"
    }
   },
   "outputs": [],
   "source": [
    "_, ax = plt.subplots(1,1)\n",
    "alpha_range = np.linspace(1e-5,np.pi/2,100)\n",
    "ax.plot(alpha_range, get_h_normed(alpha_range,0.5,1))"
   ]
  },
  {
   "cell_type": "markdown",
   "metadata": {
    "pycharm": {
     "name": "#%% md\n"
    }
   },
   "source": [
    "# "
   ]
  },
  {
   "cell_type": "code",
   "execution_count": null,
   "metadata": {
    "pycharm": {
     "name": "#%%\n"
    }
   },
   "outputs": [],
   "source": []
  }
 ],
 "metadata": {
  "kernelspec": {
   "display_name": "bmcs_env",
   "language": "python",
   "name": "bmcs_env"
  },
  "language_info": {
   "codemirror_mode": {
    "name": "ipython",
    "version": 3
   },
   "file_extension": ".py",
   "mimetype": "text/x-python",
   "name": "python",
   "nbconvert_exporter": "python",
   "pygments_lexer": "ipython3"
  },
  "toc": {
   "base_numbering": 1,
   "nav_menu": {},
   "number_sections": true,
   "sideBar": true,
   "skip_h1_title": true,
   "title_cell": "Table of Contents",
   "title_sidebar": "Contents",
   "toc_cell": false,
   "toc_position": {},
   "toc_section_display": true,
   "toc_window_display": false
  }
 },
 "nbformat": 4,
 "nbformat_minor": 4
}
