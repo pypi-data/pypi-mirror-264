{
 "cells": [
  {
   "cell_type": "code",
   "execution_count": null,
   "metadata": {
    "pycharm": {
     "name": "#%%\n"
    }
   },
   "outputs": [],
   "source": [
    "%matplotlib widget\n",
    "# %matplotlib qt\n",
    "from bmcs_shell.api import WBCell5Param, WBShellAnalysis, WBTessellation5PBeta, WBNumTessellation, WBNumTessellationInvest, WBTessellationBase, WBNumTessellationBase, WBCell5ParamBeta, WBTessellation4P, WBCell4Param\n",
    "from bmcs_utils.api import Extruder\n",
    "import numpy as np\n",
    "import k3d\n",
    "import matplotlib.pyplot as plt\n",
    "from scipy.interpolate import interp1d"
   ]
  },
  {
   "cell_type": "code",
   "execution_count": null,
   "metadata": {
    "pycharm": {
     "name": "#%%\n"
    }
   },
   "outputs": [],
   "source": [
    "def add_circle(plot, path, r, wireframe=False):\n",
    "    n = 100\n",
    "#     path = np.array([[-4000, 0, -4000], [4000, 0, -4000]])\n",
    "    first_contour = Extruder.get_circle_points(r = r, n=n)[int(n/2):,:]\n",
    "\n",
    "    extruder = Extruder(first_contour, path)\n",
    "    vertices, indices = extruder.get_triangulation_vertices_and_indices(with_ends=False)\n",
    "    \n",
    "    # extruder.show_in_k3d_as_surface(with_ends=False)\n",
    "    \n",
    "    mesh = k3d.mesh(vertices, \n",
    "                    indices,\n",
    "                    color=0xde2121,\n",
    "                    opacity=0.2,\n",
    "                    side='double')\n",
    "    if wireframe:\n",
    "        wf = k3d.lines(vertices, \n",
    "                          indices,\n",
    "                          width = 35,\n",
    "                          shader='mesh',\n",
    "                          color=0xde2121)\n",
    "        plot += wf\n",
    "    plot += mesh\n",
    "\n",
    "def add_ref_plane(plot):\n",
    "    z = -6000\n",
    "    size = 30000\n",
    "    ref_plane = k3d.mesh([[size, size, z], [-size, size, z], [-size, -size, z],[size, -size, z]],\n",
    "                         [[0, 1, 2], [2, 3, 0]],\n",
    "                        side='double',\n",
    "                        color = 0xe6e6e6)\n",
    "    plot += ref_plane\n",
    "    \n",
    "def export_obj_file(wb_shell, name='wb_3d_print.obj'):\n",
    "    I_Fi = wb_shell.I_Fi\n",
    "    X_Ia = wb_shell.X_Ia / 1000\n",
    "    \n",
    "    # Write to obj file\n",
    "    f = open(name, 'w')\n",
    "    f.write('# Vertices: (' + str(X_Ia.shape[0]) + ')\\n')\n",
    "    for v in X_Ia:\n",
    "        f.write('v ' + str(v)[1:-1] + '\\n')\n",
    "    f.write('\\n# Tri Facets: (' + str(I_Fi.shape[0]) + ')\\n')\n",
    "    for ind in I_Fi + 1:\n",
    "        f.write('f ' + str(ind)[1:-1] + '\\n')\n",
    "    f.close()\n",
    "\n",
    "def get_span(wb_shell, n_mid_cells = 2):\n",
    "    if n_mid_cells == 2:\n",
    "        span_v = wb_shell.X_Ia[8] - wb_shell.X_Ia[1]\n",
    "    elif n_mid_cells == 3:\n",
    "        span_v = wb_shell.X_Ia[13] - wb_shell.X_Ia[1]\n",
    "    elif n_mid_cells == 4:\n",
    "        span_v = wb_shell.X_Ia[18] - wb_shell.X_Ia[1]\n",
    "    elif n_mid_cells == 5:\n",
    "        span_v = wb_shell.X_Ia[23] - wb_shell.X_Ia[1]\n",
    "    return np.sqrt(span_v @ span_v)\n",
    "\n",
    "def get_shell_height(wb_shell, n_mid_cells = 2):\n",
    "    if n_mid_cells == 2:\n",
    "        return wb_shell.X_Ia[3][2] - wb_shell.X_Ia[8][2]\n",
    "    elif n_mid_cells == 3:\n",
    "        return wb_shell.X_Ia[10][2] - wb_shell.X_Ia[13][2]\n",
    "    elif n_mid_cells == 4:\n",
    "        return wb_shell.X_Ia[8][2] - wb_shell.X_Ia[18][2]\n",
    "    elif n_mid_cells == 5:\n",
    "        return wb_shell.X_Ia[15][2] - wb_shell.X_Ia[23][2]\n",
    "    \n",
    "def get_shell_width(wb_shell, n_mid_cells = 2):\n",
    "    # width of two cells (one cell in mid and two halves to sides)\n",
    "    span_v = wb_shell.X_Ia[32 + (n_mid_cells-2)*8] - wb_shell.X_Ia[20 + (n_mid_cells-2)*5]\n",
    "    return np.sqrt(span_v @ span_v)\n",
    "    \n",
    "def interp(interp_value, values, etas, zetas):\n",
    "    try:\n",
    "        f_eta = interp1d(values, etas, kind='linear')\n",
    "        f_zeta = interp1d(values, zetas, kind='linear') # maybe try 'cubic' but it doesn't work for few values\n",
    "        eta_inter = f_eta(interp_value)\n",
    "        zeta_inter = f_zeta(interp_value)\n",
    "    except:\n",
    "        eta_inter, zeta_inter = np.nan, np.nan\n",
    "    finally:\n",
    "        return eta_inter, zeta_inter\n",
    "    \n",
    "def interp1(interp_value, values, y):\n",
    "    try:\n",
    "        f_y = interp1d(values, y, kind='linear')\n",
    "        y_inter = f_y(interp_value)\n",
    "    except:\n",
    "        y_inter = np.nan\n",
    "    finally:\n",
    "        return y_inter\n",
    "    \n",
    "def round_to(value, base=5):\n",
    "    return base * round(value/base)\n",
    "\n",
    "def get_curv_angle(wb_cell):   \n",
    "    X_Ia = wb_cell.X_Ia\n",
    "    v_56 = (X_Ia[5] + X_Ia[6])/2\n",
    "    v_12 = (X_Ia[1] + X_Ia[2])/2\n",
    "    v_diff = v_12 - v_56\n",
    "    oy_n = np.array([0, 1, 0])\n",
    "    v_diff_n = v_diff / np.linalg.norm(v_diff)\n",
    "    dot_product = np.dot(oy_n, v_diff_n)\n",
    "    angle = np.arccos(dot_product)\n",
    "    return np.rad2deg(angle)\n",
    "\n",
    "#     r = 1000/angle # ra=s, radius*angle = curve\n",
    "#     k = 1/r\n",
    "#     return k\n",
    "# get_curv_angle(wbt4p.wb_cell)"
   ]
  },
  {
   "cell_type": "markdown",
   "metadata": {
    "pycharm": {
     "name": "#%% md\n"
    }
   },
   "source": [
    "## Tested WB shell"
   ]
  },
  {
   "cell_type": "code",
   "execution_count": null,
   "metadata": {
    "pycharm": {
     "name": "#%%\n"
    }
   },
   "outputs": [],
   "source": [
    "WBNumTessellation().interact()"
   ]
  },
  {
   "cell_type": "code",
   "execution_count": null,
   "metadata": {
    "pycharm": {
     "name": "#%%\n"
    }
   },
   "outputs": [],
   "source": [
    "tested_wb_shell = dict(a =125,  b = 550, c = 175, gamma=np.deg2rad(46), n_phi_plus=3, n_x_plus=2, wireframe_width=5)\n",
    "wbt4p = WBTessellation4P(**tested_wb_shell)\n",
    "wbt4p.interact()"
   ]
  },
  {
   "cell_type": "code",
   "execution_count": null,
   "metadata": {
    "pycharm": {
     "name": "#%%\n"
    }
   },
   "outputs": [],
   "source": [
    "get_shell_height(wbt4p, n_mid_cells=2)"
   ]
  },
  {
   "cell_type": "code",
   "execution_count": null,
   "metadata": {
    "pycharm": {
     "name": "#%%\n"
    }
   },
   "outputs": [],
   "source": [
    "get_shell_width(wbt4p, n_mid_cells=3)"
   ]
  },
  {
   "cell_type": "code",
   "execution_count": null,
   "metadata": {
    "pycharm": {
     "name": "#%%\n"
    }
   },
   "outputs": [],
   "source": [
    "get_span(wbt4p, n_mid_cells=2)"
   ]
  },
  {
   "cell_type": "code",
   "execution_count": null,
   "metadata": {
    "pycharm": {
     "name": "#%%\n"
    }
   },
   "outputs": [],
   "source": [
    "wbt4p.wb_cell.R_0"
   ]
  },
  {
   "cell_type": "code",
   "execution_count": null,
   "metadata": {
    "pycharm": {
     "name": "#%%\n"
    }
   },
   "outputs": [],
   "source": [
    "# export_obj_file(wbt4p, 'wb_tested2.obj')"
   ]
  },
  {
   "cell_type": "markdown",
   "metadata": {
    "pycharm": {
     "name": "#%% md\n"
    }
   },
   "source": [
    "## Parametric study"
   ]
  },
  {
   "cell_type": "markdown",
   "metadata": {
    "pycharm": {
     "name": "#%% md\n"
    }
   },
   "source": [
    "**We have: cross section height h, curvature k, span**\n",
    "\n",
    "Cross section height h, is affected by c and gamma \\\n",
    "Curvature R, is affected by c and gamma"
   ]
  },
  {
   "cell_type": "code",
   "execution_count": null,
   "metadata": {
    "pycharm": {
     "name": "#%%\n"
    }
   },
   "outputs": [],
   "source": [
    "# All eta, zeta combinations curves here give a span of 2118.16\n",
    "from matplotlib import cm\n",
    "\n",
    "def get_var_value(var, wbt4p, n_mid_cells):\n",
    "    if var['name'] == 'span':\n",
    "        return get_span(wbt4p, n_mid_cells=n_mid_cells) \n",
    "    elif var['name'] == 'height':\n",
    "        return get_shell_height(wbt4p, n_mid_cells=n_mid_cells)\n",
    "    elif var['name'] == 'width':\n",
    "        return get_shell_width(wbt4p, n_mid_cells=n_mid_cells)\n",
    "    elif var['name'] == 'R_0':\n",
    "        return -wb_cell.R_0\n",
    "    elif var['name'] == 'curv_angle':\n",
    "        # for cell!!\n",
    "        return get_curv_angle(wb_cell)\n",
    "\n",
    "def get_data(n=50, \n",
    "             n_mid_cells=2, \n",
    "             a_range = [125],\n",
    "             gamma_range=np.linspace(10, 85, 10), \n",
    "             var={'name':'span', 'value':2118.16},\n",
    "             var2={'name':'height', 'value':279.54},\n",
    "             var3={'name':'width', 'value':501.77},\n",
    "            ):\n",
    "    etas = np.concatenate((np.linspace(0, 1, int(n/2))[:-1], np.linspace(1, 10, int(n/2 + 1))))\n",
    "    zetas = np.copy(etas)\n",
    "\n",
    "    etas_grid, zetas_grid = np.meshgrid(etas, zetas)\n",
    "    var_grid = np.zeros_like(etas_grid)\n",
    "\n",
    "    z_angle = 7.39\n",
    "    z_R_0 = 1000\n",
    "    z_span = 2118.16\n",
    "\n",
    "    fig, ax = plt.subplots()\n",
    "    ax.set_title(var['name'] + '=' + str(var['value']) + ' contours')\n",
    "    ax.set_xlabel(r'eta', fontsize=10)\n",
    "    ax.set_ylabel(r'zeta', fontsize=10)\n",
    "\n",
    "    fig_h, ax_h = plt.subplots()\n",
    "    ax_h.set_title(var['name'] + '=' + str(var['value']))\n",
    "    ax_h.set_ylabel(var2['name'])\n",
    "    ax_h.set_xlabel('eta/zeta')\n",
    "    ax_h.set_ylim(-1000, 5000)\n",
    "\n",
    "    valid_params = []\n",
    "    wbt4p = WBTessellation4P(n_phi_plus=n_mid_cells + 1, n_x_plus=2, wireframe_width=5)\n",
    "\n",
    "    for i_a, a in enumerate(a_range):\n",
    "        wbt4p.trait_set(a=a)\n",
    "        \n",
    "        valid_var1_2_params = []\n",
    "        for i_gamma, gamma in enumerate(gamma_range):\n",
    "            print(np.round((i_gamma + 1)/len(gamma_range) * 100, 1), '%, ', end='')\n",
    "            \n",
    "            wbt4p.trait_set(gamma=np.deg2rad(gamma))\n",
    "\n",
    "            # Fill the grid of the variable\n",
    "            # -------------------------------------------------------\n",
    "            for i_eta in range(len(etas_grid)):\n",
    "                for j_zeta in range(len(zetas_grid)):\n",
    "                    eta = etas_grid[i_eta, j_zeta]\n",
    "                    zeta = zetas_grid[i_eta, j_zeta]\n",
    "\n",
    "                    wbt4p.trait_set(b = eta * a, c = zeta * a)\n",
    "\n",
    "                    var_grid[i_eta, j_zeta] = get_var_value(var, wbt4p, n_mid_cells)\n",
    "\n",
    "            # Plot 3d\n",
    "            # --------\n",
    "            if i_gamma == 0:\n",
    "                fig_3d, ax_3d = plt.subplots(subplot_kw={\"projection\": \"3d\"})\n",
    "                ax_3d.set_title('gamma = ' + str(round(gamma, 1)) + '°')\n",
    "                ax_3d.set_xlabel(r'eta', fontsize=10)\n",
    "                ax_3d.set_ylabel(r'zeta', fontsize=10)\n",
    "                ax_3d.plot_surface(etas_grid, zetas_grid, var_grid,\n",
    "                                       linewidth=0, antialiased=False, cmap=cm.coolwarm)\n",
    "\n",
    "            # Find contour line corresponding to the variable value\n",
    "            # -------------------------------------------------------\n",
    "            color = np.random.rand(3, )\n",
    "            # TODO: try scipy interp2d or interpn instead of getting data from contour \n",
    "            #  (however contour enables you to see if there are multiple solutions)\n",
    "            cs = ax.contour(etas_grid, zetas_grid, var_grid, levels=[var['value']], colors=[color])\n",
    "\n",
    "            for i, path in enumerate(cs.collections[0].get_paths()):\n",
    "                length = len(path.vertices)\n",
    "                if i==0:\n",
    "                    longest_path = path\n",
    "                elif length > len(longest_path.vertices):\n",
    "                    longest_path = path\n",
    "\n",
    "            path = longest_path # cs.collections[0].get_paths()[0] # longest_path\n",
    "            eta_of_var = path.vertices[:, 0]\n",
    "            zeta_of_var = path.vertices[:, 1]\n",
    "\n",
    "            # Label every other level using strings\n",
    "            ax.clabel(cs, inline=True, fmt={cs.levels[0]: '$\\gamma$=' + str(round(gamma, 1))}, fontsize=10)\n",
    "\n",
    "            print('path length=', len(path))\n",
    "\n",
    "            # Find the possible shell heights consiering the fixed var value \n",
    "            # --------------------------------------------------------------\n",
    "            var2_array = []\n",
    "            for eta, zeta in zip(eta_of_var, zeta_of_var):\n",
    "                wbt4p.trait_set(b = eta * a, c = zeta * a)\n",
    "                var2_array.append(get_var_value(var2, wbt4p, n_mid_cells))\n",
    "\n",
    "            ax_h.plot(eta_of_var, var2_array, '--', label='eta, $\\gamma$=' + str(round(gamma, 1)), color=color)\n",
    "            ax_h.plot(zeta_of_var, var2_array, label='zeta, $\\gamma$=' + str(round(gamma, 1)), color=color)\n",
    "\n",
    "            eta_inter, zeta_inter = interp(var2['value'], var2_array, eta_of_var, zeta_of_var)\n",
    "            valid_var1_2_params.append([a, gamma, eta_inter, zeta_inter])\n",
    "\n",
    "            ax_h.plot(eta_inter, var2['value'], 'o', color=color)\n",
    "            ax_h.plot(zeta_inter, var2['value'], 'x', color=color)\n",
    "    \n",
    "        valid_var1_2_params = np.array(valid_var1_2_params)\n",
    "        \n",
    "        var3_array = []\n",
    "        for params in valid_var1_2_params:\n",
    "            a, gamma, eta, zeta = params\n",
    "            wbt4p.trait_set(a=a, b=eta*a, c=zeta*a, gamma=np.deg2rad(gamma))\n",
    "            var3_array.append(get_var_value(var3, wbt4p, n_mid_cells))\n",
    "\n",
    "        gamma, eta, zeta = [interp1(var3['value'], var3_array, valid_var1_2_params[:, i]) for i in [1, 2, 3]]\n",
    "        valid_params.append(dict(a=a,  b=a * eta, c=a * zeta, gamma=np.deg2rad(gamma), n_phi_plus=n_mid_cells + 1))\n",
    "    \n",
    "    ax_h.legend()\n",
    "    fig_3d.show(), fig.show(), fig_h.show()\n",
    "    \n",
    "    print('valid_params=', valid_params)\n",
    "    \n",
    "    return valid_params"
   ]
  },
  {
   "cell_type": "code",
   "execution_count": null,
   "metadata": {
    "pycharm": {
     "name": "#%%\n"
    }
   },
   "outputs": [],
   "source": [
    "# For generating final results:\n",
    "valid_params = get_data(n=100, \n",
    "         n_mid_cells=4, \n",
    "         a_range = [100, 150],\n",
    "         gamma_range=np.linspace(10, 85, 50), \n",
    "         var={'name':'span', 'value':2000},\n",
    "         var2={'name':'height', 'value':300},\n",
    "         var3={'name':'width', 'value':500}\n",
    "        )"
   ]
  },
  {
   "cell_type": "code",
   "execution_count": null,
   "metadata": {
    "pycharm": {
     "name": "#%%\n"
    }
   },
   "outputs": [],
   "source": [
    "# For generating final results:\n",
    "valid_params = get_data(n=100, \n",
    "         n_mid_cells=4, \n",
    "         a_range = [100],\n",
    "         gamma_range=np.linspace(10, 85, 50), \n",
    "         var={'name':'span', 'value':2000},\n",
    "         var2={'name':'height', 'value':300},\n",
    "         var3={'name':'width', 'value':500}\n",
    "        )"
   ]
  },
  {
   "cell_type": "markdown",
   "metadata": {
    "pycharm": {
     "name": "#%% md\n"
    }
   },
   "source": [
    "### TODO: Pack ALL possible values in a up to 6 dimensions numpy array (design space array)"
   ]
  },
  {
   "cell_type": "code",
   "execution_count": null,
   "metadata": {
    "pycharm": {
     "name": "#%%\n"
    }
   },
   "outputs": [],
   "source": [
    "path = np.array([[-500., 0., -1000.], [500., 0., -1000.]])\n",
    "add_circle(wbt4p.pb.plot_fig, path = path, r=1000.)"
   ]
  },
  {
   "cell_type": "code",
   "execution_count": null,
   "metadata": {
    "pycharm": {
     "name": "#%%\n"
    }
   },
   "outputs": [],
   "source": [
    "a = 100\n",
    "wbt4p = WBTessellation4P(\n",
    "#                          a=100,\n",
    "#                          b = 5.492 * a, \n",
    "#                          c = 1.8466 * a, \n",
    "#                          gamma=np.deg2rad(54.53), \n",
    "#                          n_phi_plus=3, \n",
    "                        **valid_params_4[2],\n",
    "                         n_x_plus=2, \n",
    "                         wireframe_width=5)\n",
    "wbt4p.interact()"
   ]
  },
  {
   "cell_type": "code",
   "execution_count": null,
   "metadata": {
    "pycharm": {
     "name": "#%%\n"
    }
   },
   "outputs": [],
   "source": [
    "# export_obj_file(wbt4p, 'span_2000_w_500_h_300_a_150_4_cells.obj')"
   ]
  },
  {
   "cell_type": "code",
   "execution_count": null,
   "metadata": {
    "pycharm": {
     "name": "#%%\n"
    }
   },
   "outputs": [],
   "source": [
    "get_shell_height(wbt4p, n_mid_cells=4)"
   ]
  },
  {
   "cell_type": "code",
   "execution_count": null,
   "metadata": {
    "pycharm": {
     "name": "#%%\n"
    }
   },
   "outputs": [],
   "source": [
    "get_shell_width(wbt4p, n_mid_cells=4)"
   ]
  },
  {
   "cell_type": "code",
   "execution_count": null,
   "metadata": {
    "pycharm": {
     "name": "#%%\n"
    }
   },
   "outputs": [],
   "source": [
    "get_span(wbt4p, n_mid_cells=4)"
   ]
  },
  {
   "cell_type": "code",
   "execution_count": null,
   "metadata": {
    "pycharm": {
     "name": "#%%\n"
    }
   },
   "outputs": [],
   "source": [
    "wbt4p.wb_cell.R_0"
   ]
  },
  {
   "cell_type": "markdown",
   "metadata": {
    "pycharm": {
     "name": "#%% md\n"
    }
   },
   "source": [
    "## Generating graphics"
   ]
  },
  {
   "cell_type": "code",
   "execution_count": null,
   "metadata": {
    "pycharm": {
     "name": "#%%\n"
    }
   },
   "outputs": [],
   "source": [
    "# Cameras for k3d\n",
    "# [\n",
    "#  x1,y1,z1, # position of the camera in xyz space\n",
    "#  x2,y2,z2, # the point where camera is currently looking at\n",
    "#  x3,y3,z3  # orientation (up direction), this vector cannot be [0,0,0])\n",
    "# ]\n",
    "shell_perspective = [92989.64822524686, -70795.1623293042, 31459.457304330528,\n",
    "                     0, 0, -202.457763671875,\n",
    "                     -0.19436494432910192, 0.0869502251902479, 0.9770680256539523]\n",
    "shell_front_view = [140000, -3000, -1000,\n",
    "                    0,     0, -200,\n",
    "                    0,     0,   1]\n",
    "shell_top_view = [0, -10000, 140000, 0, 0, -200, -1, 0, 0]"
   ]
  },
  {
   "cell_type": "markdown",
   "metadata": {
    "pycharm": {
     "name": "#%% md\n"
    }
   },
   "source": [
    "### Tested WB shell"
   ]
  },
  {
   "cell_type": "code",
   "execution_count": null,
   "metadata": {
    "pycharm": {
     "name": "#%%\n"
    }
   },
   "outputs": [],
   "source": [
    "wbt4p = WBTessellation4P(a =125,  b = 550, c = 175, gamma=np.deg2rad(46), n_phi_plus=3, n_x_plus=2, wireframe_width=4)\n",
    "wbt4p.interact()\n",
    "k3d_plot = wbt4p.pb.plot_fig\n",
    "\n",
    "k3d_plot.camera_fov = 1\n",
    "k3d_plot.screenshot_scale = 5.5\n",
    "k3d_plot.grid_visible = False\n",
    "k3d_plot.camera = shell_perspective\n",
    "# k3d_plot.camera = shell_front_view\n",
    "# k3d_plot.camera = shell_top_view"
   ]
  },
  {
   "cell_type": "markdown",
   "metadata": {
    "pycharm": {
     "name": "#%% md\n"
    }
   },
   "source": [
    "### Parametric study shells"
   ]
  },
  {
   "cell_type": "code",
   "execution_count": null,
   "metadata": {
    "pycharm": {
     "name": "#%%\n"
    }
   },
   "outputs": [],
   "source": [
    "valid_params_2_4_cells = [\n",
    "{'a': 100.0, 'b': 523.0972790827252, 'c': 185.53831578999467, 'gamma': 0.941503562154671, 'n_phi_plus': 3}, \n",
    "{'a': 150.0, 'b': 528.9869047532335, 'c': 188.42964733716423, 'gamma': 0.559480433250358, 'n_phi_plus': 3},\n",
    "{'a': 100.0, 'b': 264.0443060812336, 'c': 152.74500755927858, 'gamma': 1.3808286675705175, 'n_phi_plus': 5},\n",
    "{'a': 150.0, 'b': 267.29565489071757, 'c': 117.65995940135527, 'gamma': 1.015897789314392, 'n_phi_plus': 5}\n",
    "]"
   ]
  },
  {
   "cell_type": "code",
   "execution_count": null,
   "metadata": {
    "pycharm": {
     "name": "#%%\n"
    }
   },
   "outputs": [],
   "source": [
    "wbt4p = WBTessellation4P(\n",
    "#                          a=100,\n",
    "#                          b = 5.492 * a, \n",
    "#                          c = 1.8466 * a, \n",
    "#                          gamma=np.deg2rad(54.53), \n",
    "#                          n_phi_plus=3, \n",
    "                        **valid_params_2_4_cells[0],\n",
    "                         n_x_plus=2, \n",
    "                         wireframe_width=4)\n",
    "wbt4p.interact()\n",
    "k3d_plot = wbt4p.pb.plot_fig\n",
    "\n",
    "k3d_plot.camera_fov = 1\n",
    "k3d_plot.screenshot_scale = 5.5\n",
    "k3d_plot.grid_visible = False\n",
    "# k3d_plot.camera = shell_perspective\n",
    "# k3d_plot.camera = shell_front_view\n",
    "k3d_plot.camera = shell_top_view\n",
    "\n",
    "# add_circle(k3d_plot, path = np.array([[-4500, 0, -4120], [4500, 0, -4120]]), r=4070, wireframe=False)"
   ]
  },
  {
   "cell_type": "markdown",
   "metadata": {
    "pycharm": {
     "name": "#%% md\n"
    }
   },
   "source": [
    "## Attempt to get params for target geometry using Minimization"
   ]
  },
  {
   "cell_type": "code",
   "execution_count": null,
   "metadata": {
    "pycharm": {
     "name": "#%%\n"
    }
   },
   "outputs": [],
   "source": [
    "tested_wb_shell = dict(a =a,  b = b, c = c, gamma=gamma, n_phi_plus=3, n_x_plus=2, wireframe_width=5)\n",
    "wbt4p = WBTessellation4P(**tested_wb_shell)\n",
    "wbt4p.interact()"
   ]
  },
  {
   "cell_type": "code",
   "execution_count": null,
   "metadata": {
    "pycharm": {
     "name": "#%%\n"
    }
   },
   "outputs": [],
   "source": [
    "path = np.array([[-4000, 0, -4000], [4000, 0, -4000]])\n",
    "add_circle(wbt4p.pb.plot_fig, path = path, r=4200)"
   ]
  },
  {
   "cell_type": "code",
   "execution_count": null,
   "metadata": {
    "pycharm": {
     "name": "#%%\n"
    }
   },
   "outputs": [],
   "source": [
    "# Cell h in generic way\n",
    "cell_X_Ia = wbt4p.wb_cell.X_Ia\n",
    "mid_56 = (cell_X_Ia[5] + cell_X_Ia[6])/2\n",
    "v_0_mid_56 = mid_56 - cell_X_Ia[0]\n",
    "cell_h = np.sqrt(np.sum(v_0_mid_56 * v_0_mid_56))\n",
    "cell_h"
   ]
  },
  {
   "cell_type": "code",
   "execution_count": null,
   "metadata": {
    "pycharm": {
     "name": "#%%\n"
    }
   },
   "outputs": [],
   "source": [
    "# Cell h for symmetric cell with parameterization with O is origin\n",
    "cell_h = wbt4p.wb_cell.X_Ia[5][2]\n",
    "cell_h"
   ]
  },
  {
   "cell_type": "code",
   "execution_count": null,
   "metadata": {
    "pycharm": {
     "name": "#%%\n"
    }
   },
   "outputs": [],
   "source": [
    "span = (wbt4p.X_Ia[1] - wbt4p.X_Ia[8])[1]\n",
    "span"
   ]
  },
  {
   "cell_type": "code",
   "execution_count": null,
   "metadata": {
    "pycharm": {
     "name": "#%%\n"
    }
   },
   "outputs": [],
   "source": [
    "print(wbt4p.wb_cell.symb.R_0)"
   ]
  },
  {
   "cell_type": "code",
   "execution_count": null,
   "metadata": {
    "pycharm": {
     "name": "#%%\n"
    }
   },
   "outputs": [],
   "source": [
    "h = self.c * np.cos(gamma)"
   ]
  },
  {
   "cell_type": "code",
   "execution_count": null,
   "metadata": {
    "pycharm": {
     "name": "#%%\n"
    }
   },
   "outputs": [],
   "source": [
    "get_structural_params_residual(125,  550, 175, np.deg2rad(46))"
   ]
  },
  {
   "cell_type": "code",
   "execution_count": null,
   "metadata": {
    "pycharm": {
     "name": "#%%\n"
    }
   },
   "outputs": [],
   "source": [
    "from scipy.optimize import minimize\n",
    "\n",
    "# def get_structural_params(wbt4p):\n",
    "#     h = wbt4p.wb_cell.X_Ia[5][2]\n",
    "#     k = 1/wbt4p.wb_cell.R_0\n",
    "#     span = (wbt4p.X_Ia[1] - wbt4p.X_Ia[8])[1]\n",
    "#     return h, k, span\n",
    "\n",
    "def get_structural_params_residual(params):\n",
    "    h_target = 121.5652 # mm\n",
    "    k_target = 1/-2024.44 # 1/mm # R_0 = -1/2024.44\n",
    "    span_target = 2118.1638 # mm\n",
    "    R_0_target = -2024.44\n",
    "\n",
    "    a, b, c, gamma = params\n",
    "    h = c * np.cos(gamma)\n",
    "    R_0 = a*(-tan(gamma) + 1/cos(gamma)) + sqrt(-a**2*(-tan(gamma) + 1/cos(gamma))**2 + b**2)*(-2*a*(-(a*tan(gamma) - a/cos(gamma) + c*cos(gamma))**2/(2*a*c*sin(gamma) - 2*a*c + b**2 + c**2*cos(gamma)**2) + 1)*tan(gamma) + 2*a*(-(a*tan(gamma) - a/cos(gamma) + c*cos(gamma))**2/(2*a*c*sin(gamma) - 2*a*c + b**2 + c**2*cos(gamma)**2) + 1)/cos(gamma) + a*(-tan(gamma) + 1/cos(gamma)) + a*tan(gamma) - a/cos(gamma) - c*cos(gamma) + sqrt(2*a**2*sin(gamma) + a**2*cos(gamma)**2 - 2*a**2 + b**2*cos(gamma)**2)*sin(2*np.arcsin((a*tan(gamma) - a/cos(gamma) + c*cos(gamma))/sqrt(2*a*c*sin(gamma) - 2*a*c + b**2 + c**2*cos(gamma)**2)))/np.abs(cos(gamma)))/(a*sin(2*np.arcsin((a*tan(gamma) - a/cos(gamma) + c*cos(gamma))/sqrt(2*a*c*sin(gamma) - 2*a*c + b**2 + c**2*cos(gamma)**2)))*tan(gamma) - a*sin(2*np.arcsin((a*tan(gamma) - a/cos(gamma) + c*cos(gamma))/sqrt(2*a*c*sin(gamma) - 2*a*c + b**2 + c**2*cos(gamma)**2)))/cos(gamma) - sqrt(-a**2*(-tan(gamma) + 1/cos(gamma))**2 + b**2) + sqrt(-a**2*sin(gamma)**2 + 2*a**2*sin(gamma) - a**2 - b**2*sin(gamma)**2 + b**2)*cos(2*np.arcsin((a*tan(gamma) - a/cos(gamma) + c*cos(gamma))/sqrt(2*a*c*sin(gamma) - 2*a*c + b**2 + c**2*cos(gamma)**2)))*np.abs(cos(gamma))/cos(gamma)**2)\n",
    "    print('h, R0: ', h , R_0)\n",
    "    print('Diff: ', h - h_target, R_0 - R_0_target)\n",
    "    print('Result = ', np.abs(h - h_target) + np.abs(R_0 - R_0_target))\n",
    "    return np.abs(h - h_target) + np.abs(R_0 - R_0_target)\n",
    "#     return np.abs(R_0 - R_0_target)\n",
    "\n",
    "def minimize_tesssel_params():\n",
    "#     x0 = np.array([125.0,  550.0, 175.0, np.deg2rad(46)])\n",
    "    x0 = np.array([500.0,  500.0, 100.0, np.deg2rad(20)])\n",
    "#     x0 = np.arange(4)\n",
    "#     try:\n",
    "    res = minimize(get_structural_params_residual, x0, method='Nelder-Mead', tol=1e-2, bounds=((0.01, 1e10), (0.01, 1e10), (0.01, 1e10), (0.01, np.pi/2 - 0.01)))\n",
    "#     except:\n",
    "#         print('Error while minimizing!')\n",
    "#         return np.array([0, 0])\n",
    "    sol = res.x\n",
    "    return sol\n",
    "\n",
    "a, b, c, gamma = minimize_tesssel_params()\n",
    "a, b, c, gamma"
   ]
  },
  {
   "cell_type": "code",
   "execution_count": null,
   "metadata": {
    "pycharm": {
     "name": "#%%\n"
    }
   },
   "outputs": [],
   "source": [
    "wbt4p.wb_cell.R_0"
   ]
  },
  {
   "cell_type": "markdown",
   "metadata": {
    "pycharm": {
     "name": "#%% md\n"
    }
   },
   "source": [
    "## Visualizing"
   ]
  },
  {
   "cell_type": "code",
   "execution_count": null,
   "metadata": {
    "pycharm": {
     "name": "#%%\n"
    }
   },
   "outputs": [],
   "source": [
    "# Cameras for k3d\n",
    "# [\n",
    "#  x1,y1,z1, # position of the camera in xyz space\n",
    "#  x2,y2,z2, # the point where camera is currently looking at\n",
    "#  x3,y3,z3  # orientation (up direction), this vector cannot be [0,0,0])\n",
    "# ]\n",
    "shell_side_view = [11206.956414346325, -9420.91749815528, 1858.3024602542291,\n",
    "                   0.000244140625, -0.00048828125, -2129.4488372802734,\n",
    "                  -0.20092161158887856, 0.08487577463430307, 0.9759234646614198]\n",
    "cell_front_view = [0, -2000, 2000,\n",
    "                   0,     0,   0,\n",
    "                   0,     0,   1]\n",
    "shell_front_view = [19000, 0, -1000,\n",
    "                    0,     0, -2500,\n",
    "                    0,     0,   1]\n",
    "shell_top_view = [0, 0, 900000, 0, 0, -2500, -1, 0, 0]"
   ]
  },
  {
   "cell_type": "code",
   "execution_count": null,
   "metadata": {
    "pycharm": {
     "name": "#%%\n"
    }
   },
   "outputs": [],
   "source": [
    "# FOV = 1\n",
    "# Cameras for k3d\n",
    "# [\n",
    "#  x1,y1,z1, # position of the camera in xyz space\n",
    "#  x2,y2,z2, # the point where camera is currently looking at\n",
    "#  x3,y3,z3  # orientation (up direction), this vector cannot be [0,0,0])\n",
    "# ]\n",
    "shell_side_view = [591365.2482393435, -497120.07834650716, 208294.99640853348,\n",
    " 0.000244140625, -0.00048828125, -2129.4488372802734, \n",
    " -0.20092161158887856, 0.08487577463430307, 0.9759234646614198]\n",
    "\n",
    "cell_front_view = [0, -2000, 2000,\n",
    "                   0,     0,   0,\n",
    "                   0,     0,   1]\n",
    "shell_front_view = [800000, 0, -2000, 0, 0, -2000, 0, 0, 1]\n",
    "shell_top_view = [0, 0, 900000, 0, 0, -2500, -1, 0, 0]"
   ]
  },
  {
   "cell_type": "code",
   "execution_count": null,
   "metadata": {
    "pycharm": {
     "name": "#%%\n"
    }
   },
   "outputs": [],
   "source": [
    "path = np.array([[-4000, 0, -4000], [4000, 0, -4000]])\n",
    "add_circle(wbt4p.pb.plot_fig, path = path, r=4200)"
   ]
  },
  {
   "cell_type": "code",
   "execution_count": null,
   "metadata": {
    "pycharm": {
     "name": "#%%\n"
    }
   },
   "outputs": [],
   "source": [
    "# wbt4p.pb.plot_fig.camera = shell_front_view\n",
    "wbt4p.pb.plot_fig.camera = shell_top_view\n",
    "# wbt4p.pb.plot_fig.camera = shell_side_view\n",
    "# wbt4p.pb.plot_fig.camera = cell_front_view"
   ]
  },
  {
   "cell_type": "code",
   "execution_count": null,
   "metadata": {
    "pycharm": {
     "name": "#%%\n"
    }
   },
   "outputs": [],
   "source": [
    "wbt4p = WBTessellation4P(a = 500, b = 1000, c = 500, gamma = 1.0, n_phi_plus=7, n_x_plus = 5, wireframe_width=10)\n",
    "wbt4p.interact()\n",
    "wbt4p.pb.plot_fig.screenshot_scale = 5.5\n",
    "wbt4p.pb.plot_fig.grid_visible = False\n",
    "wbt4p.pb.plot_fig.camera = shell_side_view"
   ]
  }
 ],
 "metadata": {
  "kernelspec": {
   "display_name": "Python 3 (ipykernel)",
   "language": "python",
   "name": "python3"
  },
  "language_info": {
   "codemirror_mode": {
    "name": "ipython",
    "version": 3
   },
   "file_extension": ".py",
   "mimetype": "text/x-python",
   "name": "python",
   "nbconvert_exporter": "python",
   "pygments_lexer": "ipython3"
  },
  "toc": {
   "base_numbering": 1,
   "nav_menu": {},
   "number_sections": true,
   "sideBar": true,
   "skip_h1_title": true,
   "title_cell": "Table of Contents",
   "title_sidebar": "Contents",
   "toc_cell": false,
   "toc_position": {},
   "toc_section_display": true,
   "toc_window_display": false
  }
 },
 "nbformat": 4,
 "nbformat_minor": 4
}
