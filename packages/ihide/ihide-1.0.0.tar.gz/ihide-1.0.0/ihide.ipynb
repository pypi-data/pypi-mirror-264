{
 "cells": [
  {
   "cell_type": "code",
   "execution_count": null,
   "id": "c0dffa0c-ebb9-43c6-a43d-3238aaac5610",
   "metadata": {},
   "outputs": [],
   "source": []
  },
  {
   "cell_type": "markdown",
   "id": "84d4b7be-bb4a-4450-a135-c2dba87c9664",
   "metadata": {},
   "source": [
    "This is a test file for the ihide jupyter lab/notebook extension"
   ]
  },
  {
   "cell_type": "code",
   "execution_count": null,
   "id": "fd4c7635-6a33-41c1-b435-75474f17407b",
   "metadata": {},
   "outputs": [],
   "source": []
  },
  {
   "cell_type": "code",
   "execution_count": 5,
   "id": "9de1818e-5609-4674-bddd-29cef21e6dfe",
   "metadata": {},
   "outputs": [
    {
     "name": "stdout",
     "output_type": "stream",
     "text": [
      "This cell will not be affected at all - check metadata\n"
     ]
    }
   ],
   "source": [
    "print(\"This cell will not be affected at all - check metadata\");"
   ]
  },
  {
   "cell_type": "code",
   "execution_count": null,
   "id": "61da48cb-263f-4314-a7f3-2a009d31a29b",
   "metadata": {},
   "outputs": [],
   "source": []
  },
  {
   "cell_type": "code",
   "execution_count": 6,
   "id": "0589c966-bc44-438a-86b8-51bcec07e38b",
   "metadata": {
    "editable": true,
    "ihide_cell": true,
    "slideshow": {
     "slide_type": ""
    },
    "tags": []
   },
   "outputs": [
    {
     "name": "stdout",
     "output_type": "stream",
     "text": [
      "Testing ihide_cell - check metadata\n"
     ]
    }
   ],
   "source": [
    "print(\"Testing ihide_cell - check metadata\");"
   ]
  },
  {
   "cell_type": "code",
   "execution_count": null,
   "id": "f8ba6898-2c99-449b-98a2-78d9e488a118",
   "metadata": {},
   "outputs": [],
   "source": []
  },
  {
   "cell_type": "code",
   "execution_count": 7,
   "id": "f6a80b76-ebbf-4349-88ce-9ae5f062da48",
   "metadata": {
    "ihide_source": true
   },
   "outputs": [
    {
     "name": "stdout",
     "output_type": "stream",
     "text": [
      "Testing ihide_source - check metadata\n"
     ]
    }
   ],
   "source": [
    "print(\"Testing ihide_source - check metadata\");"
   ]
  },
  {
   "cell_type": "code",
   "execution_count": null,
   "id": "446e3bfa-9f4e-4e63-bb27-b57946e9162c",
   "metadata": {},
   "outputs": [],
   "source": []
  },
  {
   "cell_type": "code",
   "execution_count": 8,
   "id": "f02471cd-9ef7-47f0-8c96-c75f82d0a20a",
   "metadata": {
    "ihide_output": true
   },
   "outputs": [],
   "source": [
    "print(\"Testing ihide_output - check metadata\");"
   ]
  },
  {
   "cell_type": "code",
   "execution_count": null,
   "id": "d7892201-9d2a-4edf-813b-0c15c13d4848",
   "metadata": {},
   "outputs": [],
   "source": []
  },
  {
   "cell_type": "code",
   "execution_count": null,
   "id": "a8418399-8079-4288-b7d6-413677f3c7b6",
   "metadata": {},
   "outputs": [],
   "source": []
  },
  {
   "cell_type": "code",
   "execution_count": null,
   "id": "909a1f2d-f0fb-409c-9d54-1980441398db",
   "metadata": {},
   "outputs": [],
   "source": []
  },
  {
   "cell_type": "code",
   "execution_count": null,
   "id": "ec8200d9-c552-473e-a174-970751370972",
   "metadata": {},
   "outputs": [],
   "source": []
  }
 ],
 "metadata": {
  "kernelspec": {
   "display_name": "Python 3 (ipykernel)",
   "language": "python",
   "name": "python3"
  },
  "language_info": {
   "codemirror_mode": {
    "name": "ipython",
    "version": 3
   },
   "file_extension": ".py",
   "mimetype": "text/x-python",
   "name": "python",
   "nbconvert_exporter": "python",
   "pygments_lexer": "ipython3",
   "version": "3.12.2"
  }
 },
 "nbformat": 4,
 "nbformat_minor": 5
}
