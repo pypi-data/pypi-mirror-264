{
 "cells": [
  {
   "cell_type": "code",
   "execution_count": 1,
   "id": "529f4422-5c3a-4bd6-abe0-a15edfc62abb",
   "metadata": {},
   "outputs": [],
   "source": [
    "import polars as pl\n",
    "import polars_istr  # noqa: F401"
   ]
  },
  {
   "cell_type": "markdown",
   "id": "069a796e",
   "metadata": {},
   "source": [
    "# IBAN"
   ]
  },
  {
   "cell_type": "code",
   "execution_count": 2,
   "id": "c324a101",
   "metadata": {},
   "outputs": [
    {
     "data": {
      "text/html": [
       "<div><style>\n",
       ".dataframe > thead > tr,\n",
       ".dataframe > tbody > tr {\n",
       "  text-align: right;\n",
       "  white-space: pre-wrap;\n",
       "}\n",
       "</style>\n",
       "<small>shape: (4, 1)</small><table border=\"1\" class=\"dataframe\"><thead><tr><th>iban</th></tr><tr><td>str</td></tr></thead><tbody><tr><td>&quot;AA110011123Z56…</td></tr><tr><td>&quot;DE445001051754…</td></tr><tr><td>&quot;AD120001203020…</td></tr><tr><td>&quot;MR000002000101…</td></tr></tbody></table></div>"
      ],
      "text/plain": [
       "shape: (4, 1)\n",
       "┌─────────────────────────────┐\n",
       "│ iban                        │\n",
       "│ ---                         │\n",
       "│ str                         │\n",
       "╞═════════════════════════════╡\n",
       "│ AA110011123Z5678            │\n",
       "│ DE44500105175407324931      │\n",
       "│ AD1200012030200359100100    │\n",
       "│ MR0000020001010000123456754 │\n",
       "└─────────────────────────────┘"
      ]
     },
     "execution_count": 2,
     "metadata": {},
     "output_type": "execute_result"
    }
   ],
   "source": [
    "# First str does not have a valid country code. So not an iban. Second and third are valid.\n",
    "# Last one has invalid checksum\n",
    "df = pl.DataFrame({\n",
    "    \"iban\": [\"AA110011123Z5678\", \"DE44500105175407324931\", \"AD1200012030200359100100\", \"MR0000020001010000123456754\"]\n",
    "})\n",
    "df.head()"
   ]
  },
  {
   "cell_type": "code",
   "execution_count": 3,
   "id": "32d3bedf",
   "metadata": {},
   "outputs": [
    {
     "data": {
      "text/html": [
       "<div><style>\n",
       ".dataframe > thead > tr,\n",
       ".dataframe > tbody > tr {\n",
       "  text-align: right;\n",
       "  white-space: pre-wrap;\n",
       "}\n",
       "</style>\n",
       "<small>shape: (4, 6)</small><table border=\"1\" class=\"dataframe\"><thead><tr><th>country_code</th><th>reason</th><th>is_valid</th><th>bban</th><th>bank_id</th><th>branch_id</th></tr><tr><td>str</td><td>str</td><td>bool</td><td>str</td><td>str</td><td>str</td></tr></thead><tbody><tr><td>null</td><td>&quot;Invalid countr…</td><td>false</td><td>null</td><td>null</td><td>null</td></tr><tr><td>&quot;DE&quot;</td><td>&quot;ok&quot;</td><td>true</td><td>&quot;50010517540732…</td><td>&quot;50010517&quot;</td><td>null</td></tr><tr><td>&quot;AD&quot;</td><td>&quot;ok&quot;</td><td>true</td><td>&quot;00012030200359…</td><td>&quot;0001&quot;</td><td>&quot;2030&quot;</td></tr><tr><td>null</td><td>&quot;Invalid checks…</td><td>false</td><td>null</td><td>null</td><td>null</td></tr></tbody></table></div>"
      ],
      "text/plain": [
       "shape: (4, 6)\n",
       "┌──────────────┬──────────────────────┬──────────┬──────────────────────┬──────────┬───────────┐\n",
       "│ country_code ┆ reason               ┆ is_valid ┆ bban                 ┆ bank_id  ┆ branch_id │\n",
       "│ ---          ┆ ---                  ┆ ---      ┆ ---                  ┆ ---      ┆ ---       │\n",
       "│ str          ┆ str                  ┆ bool     ┆ str                  ┆ str      ┆ str       │\n",
       "╞══════════════╪══════════════════════╪══════════╪══════════════════════╪══════════╪═══════════╡\n",
       "│ null         ┆ Invalid country code ┆ false    ┆ null                 ┆ null     ┆ null      │\n",
       "│ DE           ┆ ok                   ┆ true     ┆ 500105175407324931   ┆ 50010517 ┆ null      │\n",
       "│ AD           ┆ ok                   ┆ true     ┆ 00012030200359100100 ┆ 0001     ┆ 2030      │\n",
       "│ null         ┆ Invalid checksum     ┆ false    ┆ null                 ┆ null     ┆ null      │\n",
       "└──────────────┴──────────────────────┴──────────┴──────────────────────┴──────────┴───────────┘"
      ]
     },
     "execution_count": 3,
     "metadata": {},
     "output_type": "execute_result"
    }
   ],
   "source": [
    "df.select(\n",
    "    pl.col(\"iban\").iban.country_code().alias(\"country_code\"),\n",
    "    pl.col(\"iban\").iban.check().alias(\"reason\"),\n",
    "    pl.col(\"iban\").iban.is_valid().alias(\"is_valid\"),\n",
    "    pl.col(\"iban\").iban.bban().alias(\"bban\"),\n",
    "    pl.col(\"iban\").iban.bank_id().alias(\"bank_id\"),\n",
    "    pl.col(\"iban\").iban.branch_id().alias(\"branch_id\"),\n",
    ") "
   ]
  },
  {
   "cell_type": "code",
   "execution_count": 4,
   "id": "4b92b4a3",
   "metadata": {},
   "outputs": [
    {
     "data": {
      "text/html": [
       "<div><style>\n",
       ".dataframe > thead > tr,\n",
       ".dataframe > tbody > tr {\n",
       "  text-align: right;\n",
       "  white-space: pre-wrap;\n",
       "}\n",
       "</style>\n",
       "<small>shape: (4, 5)</small><table border=\"1\" class=\"dataframe\"><thead><tr><th>country_code</th><th>check_digits</th><th>bban</th><th>bank_id</th><th>branch_id</th></tr><tr><td>str</td><td>str</td><td>str</td><td>str</td><td>str</td></tr></thead><tbody><tr><td>null</td><td>null</td><td>null</td><td>null</td><td>null</td></tr><tr><td>&quot;DE&quot;</td><td>&quot;44&quot;</td><td>&quot;50010517540732…</td><td>&quot;50010517&quot;</td><td>null</td></tr><tr><td>&quot;AD&quot;</td><td>&quot;12&quot;</td><td>&quot;00012030200359…</td><td>&quot;0001&quot;</td><td>&quot;2030&quot;</td></tr><tr><td>null</td><td>null</td><td>null</td><td>null</td><td>null</td></tr></tbody></table></div>"
      ],
      "text/plain": [
       "shape: (4, 5)\n",
       "┌──────────────┬──────────────┬──────────────────────┬──────────┬───────────┐\n",
       "│ country_code ┆ check_digits ┆ bban                 ┆ bank_id  ┆ branch_id │\n",
       "│ ---          ┆ ---          ┆ ---                  ┆ ---      ┆ ---       │\n",
       "│ str          ┆ str          ┆ str                  ┆ str      ┆ str       │\n",
       "╞══════════════╪══════════════╪══════════════════════╪══════════╪═══════════╡\n",
       "│ null         ┆ null         ┆ null                 ┆ null     ┆ null      │\n",
       "│ DE           ┆ 44           ┆ 500105175407324931   ┆ 50010517 ┆ null      │\n",
       "│ AD           ┆ 12           ┆ 00012030200359100100 ┆ 0001     ┆ 2030      │\n",
       "│ null         ┆ null         ┆ null                 ┆ null     ┆ null      │\n",
       "└──────────────┴──────────────┴──────────────────────┴──────────┴───────────┘"
      ]
     },
     "execution_count": 4,
     "metadata": {},
     "output_type": "execute_result"
    }
   ],
   "source": [
    "df.select(\n",
    "    pl.col(\"iban\").iban.extract_all().alias(\"ib\")\n",
    ").unnest(\"ib\")"
   ]
  },
  {
   "cell_type": "markdown",
   "id": "4a6b3620",
   "metadata": {},
   "source": [
    "# ISIN"
   ]
  },
  {
   "cell_type": "code",
   "execution_count": 5,
   "id": "787f6807",
   "metadata": {},
   "outputs": [
    {
     "data": {
      "text/html": [
       "<div><style>\n",
       ".dataframe > thead > tr,\n",
       ".dataframe > tbody > tr {\n",
       "  text-align: right;\n",
       "  white-space: pre-wrap;\n",
       "}\n",
       "</style>\n",
       "<small>shape: (5, 1)</small><table border=\"1\" class=\"dataframe\"><thead><tr><th>isin</th></tr><tr><td>str</td></tr></thead><tbody><tr><td>&quot;US0378331005&quot;</td></tr><tr><td>&quot;US0378331008&quot;</td></tr><tr><td>&quot;US037833100&quot;</td></tr><tr><td>&quot;CA00206RGB20&quot;</td></tr><tr><td>&quot;XS1550212416&quot;</td></tr></tbody></table></div>"
      ],
      "text/plain": [
       "shape: (5, 1)\n",
       "┌──────────────┐\n",
       "│ isin         │\n",
       "│ ---          │\n",
       "│ str          │\n",
       "╞══════════════╡\n",
       "│ US0378331005 │\n",
       "│ US0378331008 │\n",
       "│ US037833100  │\n",
       "│ CA00206RGB20 │\n",
       "│ XS1550212416 │\n",
       "└──────────────┘"
      ]
     },
     "execution_count": 5,
     "metadata": {},
     "output_type": "execute_result"
    }
   ],
   "source": [
    "df = pl.DataFrame(\n",
    "    {\n",
    "        \"isin\": [\n",
    "            \"US0378331005\", # AAPL\n",
    "            \"US0378331008\", # AAPL w/ bad check digit\n",
    "            \"US037833100\", # AAPL w/o check digit\n",
    "            \"CA00206RGB20\", # Canadian\n",
    "            \"XS1550212416\", # Other\n",
    "            None,\n",
    "        ]\n",
    "    }\n",
    ")\n",
    "df.head()"
   ]
  },
  {
   "cell_type": "code",
   "execution_count": 6,
   "id": "f4cb10f0",
   "metadata": {},
   "outputs": [
    {
     "data": {
      "text/html": [
       "<div><style>\n",
       ".dataframe > thead > tr,\n",
       ".dataframe > tbody > tr {\n",
       "  text-align: right;\n",
       "  white-space: pre-wrap;\n",
       "}\n",
       "</style>\n",
       "<small>shape: (6, 4)</small><table border=\"1\" class=\"dataframe\"><thead><tr><th>country_code</th><th>check_digit</th><th>security_id</th><th>is_valid</th></tr><tr><td>str</td><td>str</td><td>str</td><td>bool</td></tr></thead><tbody><tr><td>&quot;US&quot;</td><td>&quot;5&quot;</td><td>&quot;037833100&quot;</td><td>true</td></tr><tr><td>null</td><td>null</td><td>null</td><td>false</td></tr><tr><td>null</td><td>null</td><td>null</td><td>false</td></tr><tr><td>&quot;CA&quot;</td><td>&quot;0&quot;</td><td>&quot;00206RGB2&quot;</td><td>true</td></tr><tr><td>&quot;XS&quot;</td><td>&quot;6&quot;</td><td>&quot;155021241&quot;</td><td>true</td></tr><tr><td>null</td><td>null</td><td>null</td><td>false</td></tr></tbody></table></div>"
      ],
      "text/plain": [
       "shape: (6, 4)\n",
       "┌──────────────┬─────────────┬─────────────┬──────────┐\n",
       "│ country_code ┆ check_digit ┆ security_id ┆ is_valid │\n",
       "│ ---          ┆ ---         ┆ ---         ┆ ---      │\n",
       "│ str          ┆ str         ┆ str         ┆ bool     │\n",
       "╞══════════════╪═════════════╪═════════════╪══════════╡\n",
       "│ US           ┆ 5           ┆ 037833100   ┆ true     │\n",
       "│ null         ┆ null        ┆ null        ┆ false    │\n",
       "│ null         ┆ null        ┆ null        ┆ false    │\n",
       "│ CA           ┆ 0           ┆ 00206RGB2   ┆ true     │\n",
       "│ XS           ┆ 6           ┆ 155021241   ┆ true     │\n",
       "│ null         ┆ null        ┆ null        ┆ false    │\n",
       "└──────────────┴─────────────┴─────────────┴──────────┘"
      ]
     },
     "execution_count": 6,
     "metadata": {},
     "output_type": "execute_result"
    }
   ],
   "source": [
    "df.select(\n",
    "    pl.col(\"isin\").isin.country_code().alias(\"country_code\"),\n",
    "    pl.col(\"isin\").isin.check_digit().alias(\"check_digit\"),\n",
    "    pl.col(\"isin\").isin.security_id().alias(\"security_id\"),\n",
    "    pl.col(\"isin\").isin.is_valid().alias(\"is_valid\"),\n",
    ")"
   ]
  },
  {
   "cell_type": "markdown",
   "id": "ba5a84bb",
   "metadata": {},
   "source": [
    "# URL"
   ]
  },
  {
   "cell_type": "code",
   "execution_count": 7,
   "id": "86bd1835",
   "metadata": {},
   "outputs": [],
   "source": [
    "df = pl.DataFrame(\n",
    "    {\n",
    "        \"url\": [\n",
    "            \"https://example.com/data.csv#row=4\",\n",
    "            \"google.com\", \n",
    "            \"ww.google.com\", \n",
    "            \"abc123@email.com\", \n",
    "            \"https://127.0.0.1/\", \n",
    "            \"https://test.com/\",\n",
    "            \"file:///tmp/foo\",\n",
    "            \"https://example.com/products?page=2&sort=desc\",\n",
    "            None,\n",
    "        ]\n",
    "    }\n",
    ")"
   ]
  },
  {
   "cell_type": "code",
   "execution_count": 8,
   "id": "6d9a2823",
   "metadata": {},
   "outputs": [
    {
     "data": {
      "text/html": [
       "<div><style>\n",
       ".dataframe > thead > tr,\n",
       ".dataframe > tbody > tr {\n",
       "  text-align: right;\n",
       "  white-space: pre-wrap;\n",
       "}\n",
       "</style>\n",
       "<small>shape: (9, 8)</small><table border=\"1\" class=\"dataframe\"><thead><tr><th>host</th><th>domain</th><th>fragment</th><th>path</th><th>query</th><th>check</th><th>is_valid</th><th>is_special</th></tr><tr><td>str</td><td>str</td><td>str</td><td>str</td><td>str</td><td>str</td><td>bool</td><td>bool</td></tr></thead><tbody><tr><td>&quot;example.com&quot;</td><td>&quot;example.com&quot;</td><td>&quot;row=4&quot;</td><td>&quot;/data.csv&quot;</td><td>null</td><td>&quot;ok&quot;</td><td>true</td><td>true</td></tr><tr><td>null</td><td>null</td><td>null</td><td>null</td><td>null</td><td>&quot;relative URL w…</td><td>false</td><td>null</td></tr><tr><td>null</td><td>null</td><td>null</td><td>null</td><td>null</td><td>&quot;relative URL w…</td><td>false</td><td>null</td></tr><tr><td>null</td><td>null</td><td>null</td><td>null</td><td>null</td><td>&quot;relative URL w…</td><td>false</td><td>null</td></tr><tr><td>&quot;127.0.0.1&quot;</td><td>null</td><td>null</td><td>&quot;/&quot;</td><td>null</td><td>&quot;ok&quot;</td><td>true</td><td>true</td></tr><tr><td>&quot;test.com&quot;</td><td>&quot;test.com&quot;</td><td>null</td><td>&quot;/&quot;</td><td>null</td><td>&quot;ok&quot;</td><td>true</td><td>true</td></tr><tr><td>null</td><td>null</td><td>null</td><td>&quot;/tmp/foo&quot;</td><td>null</td><td>&quot;ok&quot;</td><td>true</td><td>true</td></tr><tr><td>&quot;example.com&quot;</td><td>&quot;example.com&quot;</td><td>null</td><td>&quot;/products&quot;</td><td>&quot;page=2&amp;sort=de…</td><td>&quot;ok&quot;</td><td>true</td><td>true</td></tr><tr><td>null</td><td>null</td><td>null</td><td>null</td><td>null</td><td>null</td><td>null</td><td>null</td></tr></tbody></table></div>"
      ],
      "text/plain": [
       "shape: (9, 8)\n",
       "┌────────────┬────────────┬──────────┬───────────┬────────────┬────────────┬──────────┬────────────┐\n",
       "│ host       ┆ domain     ┆ fragment ┆ path      ┆ query      ┆ check      ┆ is_valid ┆ is_special │\n",
       "│ ---        ┆ ---        ┆ ---      ┆ ---       ┆ ---        ┆ ---        ┆ ---      ┆ ---        │\n",
       "│ str        ┆ str        ┆ str      ┆ str       ┆ str        ┆ str        ┆ bool     ┆ bool       │\n",
       "╞════════════╪════════════╪══════════╪═══════════╪════════════╪════════════╪══════════╪════════════╡\n",
       "│ example.co ┆ example.co ┆ row=4    ┆ /data.csv ┆ null       ┆ ok         ┆ true     ┆ true       │\n",
       "│ m          ┆ m          ┆          ┆           ┆            ┆            ┆          ┆            │\n",
       "│ null       ┆ null       ┆ null     ┆ null      ┆ null       ┆ relative   ┆ false    ┆ null       │\n",
       "│            ┆            ┆          ┆           ┆            ┆ URL        ┆          ┆            │\n",
       "│            ┆            ┆          ┆           ┆            ┆ without a  ┆          ┆            │\n",
       "│            ┆            ┆          ┆           ┆            ┆ base       ┆          ┆            │\n",
       "│ null       ┆ null       ┆ null     ┆ null      ┆ null       ┆ relative   ┆ false    ┆ null       │\n",
       "│            ┆            ┆          ┆           ┆            ┆ URL        ┆          ┆            │\n",
       "│            ┆            ┆          ┆           ┆            ┆ without a  ┆          ┆            │\n",
       "│            ┆            ┆          ┆           ┆            ┆ base       ┆          ┆            │\n",
       "│ null       ┆ null       ┆ null     ┆ null      ┆ null       ┆ relative   ┆ false    ┆ null       │\n",
       "│            ┆            ┆          ┆           ┆            ┆ URL        ┆          ┆            │\n",
       "│            ┆            ┆          ┆           ┆            ┆ without a  ┆          ┆            │\n",
       "│            ┆            ┆          ┆           ┆            ┆ base       ┆          ┆            │\n",
       "│ 127.0.0.1  ┆ null       ┆ null     ┆ /         ┆ null       ┆ ok         ┆ true     ┆ true       │\n",
       "│ test.com   ┆ test.com   ┆ null     ┆ /         ┆ null       ┆ ok         ┆ true     ┆ true       │\n",
       "│ null       ┆ null       ┆ null     ┆ /tmp/foo  ┆ null       ┆ ok         ┆ true     ┆ true       │\n",
       "│ example.co ┆ example.co ┆ null     ┆ /products ┆ page=2&sor ┆ ok         ┆ true     ┆ true       │\n",
       "│ m          ┆ m          ┆          ┆           ┆ t=desc     ┆            ┆          ┆            │\n",
       "│ null       ┆ null       ┆ null     ┆ null      ┆ null       ┆ null       ┆ null     ┆ null       │\n",
       "└────────────┴────────────┴──────────┴───────────┴────────────┴────────────┴──────────┴────────────┘"
      ]
     },
     "execution_count": 8,
     "metadata": {},
     "output_type": "execute_result"
    }
   ],
   "source": [
    "df.select(\n",
    "    pl.col(\"url\").url.host().alias(\"host\"),\n",
    "    pl.col(\"url\").url.domain().alias(\"domain\"),\n",
    "    pl.col(\"url\").url.fragment().alias(\"fragment\"),\n",
    "    pl.col(\"url\").url.path().alias(\"path\"),\n",
    "    pl.col(\"url\").url.query().alias(\"query\"),\n",
    "    pl.col(\"url\").url.check().alias(\"check\"),\n",
    "    pl.col(\"url\").url.is_valid().alias(\"is_valid\"),\n",
    "    pl.col(\"url\").url.is_special().alias(\"is_special\"),\n",
    ")"
   ]
  },
  {
   "cell_type": "markdown",
   "id": "f716217c",
   "metadata": {},
   "source": [
    "# CUSIP"
   ]
  },
  {
   "cell_type": "code",
   "execution_count": 9,
   "id": "f0aa4db1",
   "metadata": {},
   "outputs": [],
   "source": [
    "df = pl.DataFrame({\n",
    "    \"cusip\": [\n",
    "        \"303075105\",  # regular cusip (FactSet - Common Stock)\n",
    "        \"30307510\",  # regular cusip ex. check digit\n",
    "        \"G0052B105\",  # regular CINS (Abingdon Capital PLC - Shares)\n",
    "        \"HELLOWORLD\",  # Invalid\n",
    "    ]\n",
    "})"
   ]
  },
  {
   "cell_type": "code",
   "execution_count": 10,
   "id": "711de472",
   "metadata": {},
   "outputs": [
    {
     "data": {
      "text/html": [
       "<div><style>\n",
       ".dataframe > thead > tr,\n",
       ".dataframe > tbody > tr {\n",
       "  text-align: right;\n",
       "  white-space: pre-wrap;\n",
       "}\n",
       "</style>\n",
       "<small>shape: (4, 11)</small><table border=\"1\" class=\"dataframe\"><thead><tr><th>issue_num</th><th>issuer_num</th><th>check_digit</th><th>country_code</th><th>payload</th><th>is_private_issue</th><th>has_private_issuer</th><th>is_private_use</th><th>is_cins</th><th>is_cins_base</th><th>is_cins_extended</th></tr><tr><td>str</td><td>str</td><td>str</td><td>str</td><td>str</td><td>bool</td><td>bool</td><td>bool</td><td>bool</td><td>bool</td><td>bool</td></tr></thead><tbody><tr><td>&quot;10&quot;</td><td>&quot;303075&quot;</td><td>&quot;5&quot;</td><td>null</td><td>&quot;30307510&quot;</td><td>false</td><td>false</td><td>false</td><td>false</td><td>null</td><td>null</td></tr><tr><td>null</td><td>null</td><td>null</td><td>null</td><td>null</td><td>null</td><td>null</td><td>null</td><td>null</td><td>null</td><td>null</td></tr><tr><td>&quot;10&quot;</td><td>&quot;0052B&quot;</td><td>&quot;5&quot;</td><td>&quot;G&quot;</td><td>&quot;G0052B10&quot;</td><td>false</td><td>false</td><td>false</td><td>true</td><td>true</td><td>false</td></tr><tr><td>null</td><td>null</td><td>null</td><td>null</td><td>null</td><td>null</td><td>null</td><td>null</td><td>null</td><td>null</td><td>null</td></tr></tbody></table></div>"
      ],
      "text/plain": [
       "shape: (4, 11)\n",
       "┌───────────┬────────────┬───────────┬───────────┬───┬───────────┬─────────┬───────────┬───────────┐\n",
       "│ issue_num ┆ issuer_num ┆ check_dig ┆ country_c ┆ … ┆ is_privat ┆ is_cins ┆ is_cins_b ┆ is_cins_e │\n",
       "│ ---       ┆ ---        ┆ it        ┆ ode       ┆   ┆ e_use     ┆ ---     ┆ ase       ┆ xtended   │\n",
       "│ str       ┆ str        ┆ ---       ┆ ---       ┆   ┆ ---       ┆ bool    ┆ ---       ┆ ---       │\n",
       "│           ┆            ┆ str       ┆ str       ┆   ┆ bool      ┆         ┆ bool      ┆ bool      │\n",
       "╞═══════════╪════════════╪═══════════╪═══════════╪═══╪═══════════╪═════════╪═══════════╪═══════════╡\n",
       "│ 10        ┆ 303075     ┆ 5         ┆ null      ┆ … ┆ false     ┆ false   ┆ null      ┆ null      │\n",
       "│ null      ┆ null       ┆ null      ┆ null      ┆ … ┆ null      ┆ null    ┆ null      ┆ null      │\n",
       "│ 10        ┆ 0052B      ┆ 5         ┆ G         ┆ … ┆ false     ┆ true    ┆ true      ┆ false     │\n",
       "│ null      ┆ null       ┆ null      ┆ null      ┆ … ┆ null      ┆ null    ┆ null      ┆ null      │\n",
       "└───────────┴────────────┴───────────┴───────────┴───┴───────────┴─────────┴───────────┴───────────┘"
      ]
     },
     "execution_count": 10,
     "metadata": {},
     "output_type": "execute_result"
    }
   ],
   "source": [
    "df.select(\n",
    "        pl.col(\"cusip\").cusip.issue_num().alias(\"issue_num\"),\n",
    "        pl.col(\"cusip\").cusip.issuer_num().alias(\"issuer_num\"),\n",
    "        pl.col(\"cusip\").cusip.check_digit().alias(\"check_digit\"),\n",
    "        pl.col(\"cusip\").cusip.country_code().alias(\"country_code\"),\n",
    "        pl.col(\"cusip\").cusip.payload().alias(\"payload\"),\n",
    "        pl.col(\"cusip\").cusip.is_private_issue().alias(\"is_private_issue\"),\n",
    "        pl.col(\"cusip\").cusip.has_private_issuer().alias(\"has_private_issuer\"),\n",
    "        pl.col(\"cusip\").cusip.is_private_use().alias(\"is_private_use\"),\n",
    "        pl.col(\"cusip\").cusip.is_cins().alias(\"is_cins\"),\n",
    "        pl.col(\"cusip\").cusip.is_cins_base().alias(\"is_cins_base\"),\n",
    "        pl.col(\"cusip\").cusip.is_cins_extended().alias(\"is_cins_extended\"),\n",
    "    )"
   ]
  },
  {
   "cell_type": "code",
   "execution_count": null,
   "id": "cd30b6da",
   "metadata": {},
   "outputs": [],
   "source": []
  },
  {
   "cell_type": "code",
   "execution_count": null,
   "id": "8a7fa410",
   "metadata": {},
   "outputs": [],
   "source": []
  }
 ],
 "metadata": {
  "kernelspec": {
   "display_name": "Python 3 (ipykernel)",
   "language": "python",
   "name": "python3"
  },
  "language_info": {
   "codemirror_mode": {
    "name": "ipython",
    "version": 3
   },
   "file_extension": ".py",
   "mimetype": "text/x-python",
   "name": "python",
   "nbconvert_exporter": "python",
   "pygments_lexer": "ipython3",
   "version": "3.11.8"
  }
 },
 "nbformat": 4,
 "nbformat_minor": 5
}
