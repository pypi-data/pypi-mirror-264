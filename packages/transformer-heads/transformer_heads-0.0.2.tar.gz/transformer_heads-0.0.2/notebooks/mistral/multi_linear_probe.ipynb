{
 "cells": [
  {
   "cell_type": "markdown",
   "id": "af9d54fb",
   "metadata": {
    "papermill": {
     "duration": 0.003707,
     "end_time": "2024-03-23T09:46:23.974949",
     "exception": false,
     "start_time": "2024-03-23T09:46:23.971242",
     "status": "completed"
    },
    "tags": []
   },
   "source": [
    "# Train multiple linear probes at once\n",
    "In this notebook we will find out at which layer a transformer has the most linearly seperable information required to do causal language modelling on wikitext data. The nice thing about *transformer_heads* is that this will all be possible with just one training run."
   ]
  },
  {
   "cell_type": "code",
   "execution_count": 1,
   "id": "31a11280",
   "metadata": {
    "execution": {
     "iopub.execute_input": "2024-03-23T09:46:23.982933Z",
     "iopub.status.busy": "2024-03-23T09:46:23.982590Z",
     "iopub.status.idle": "2024-03-23T09:46:29.216892Z",
     "shell.execute_reply": "2024-03-23T09:46:29.216305Z"
    },
    "papermill": {
     "duration": 5.240033,
     "end_time": "2024-03-23T09:46:29.218425",
     "exception": false,
     "start_time": "2024-03-23T09:46:23.978392",
     "status": "completed"
    },
    "tags": []
   },
   "outputs": [],
   "source": [
    "from transformer_heads import load_headed\n",
    "from datasets import load_dataset\n",
    "from transformers import (\n",
    "    AutoTokenizer,\n",
    "    MistralForCausalLM,\n",
    "    Trainer,\n",
    "    BitsAndBytesConfig,\n",
    "    TrainingArguments,\n",
    "    GPT2Model,\n",
    "    GPT2LMHeadModel,\n",
    ")\n",
    "from transformer_heads.util.helpers import DataCollatorWithPadding, get_model_params\n",
    "from peft import LoraConfig\n",
    "from transformer_heads.config import HeadConfig\n",
    "from transformer_heads.util.model import print_trainable_parameters\n",
    "from transformer_heads.util.evaluate import evaluate_head_wise, get_top_n_preds\n",
    "import torch"
   ]
  },
  {
   "cell_type": "code",
   "execution_count": 2,
   "id": "7a92d47d",
   "metadata": {
    "execution": {
     "iopub.execute_input": "2024-03-23T09:46:29.227482Z",
     "iopub.status.busy": "2024-03-23T09:46:29.227080Z",
     "iopub.status.idle": "2024-03-23T09:46:29.230185Z",
     "shell.execute_reply": "2024-03-23T09:46:29.229719Z"
    },
    "papermill": {
     "duration": 0.008694,
     "end_time": "2024-03-23T09:46:29.231492",
     "exception": false,
     "start_time": "2024-03-23T09:46:29.222798",
     "status": "completed"
    },
    "tags": [
     "parameters"
    ]
   },
   "outputs": [],
   "source": [
    "model_path = \"gpt2\"\n",
    "train_epochs = 1\n",
    "eval_epochs = 1\n",
    "logging_steps = 100"
   ]
  },
  {
   "cell_type": "code",
   "execution_count": 3,
   "id": "3e2fa637",
   "metadata": {
    "execution": {
     "iopub.execute_input": "2024-03-23T09:46:29.238986Z",
     "iopub.status.busy": "2024-03-23T09:46:29.238675Z",
     "iopub.status.idle": "2024-03-23T09:46:29.241519Z",
     "shell.execute_reply": "2024-03-23T09:46:29.241040Z"
    },
    "papermill": {
     "duration": 0.007852,
     "end_time": "2024-03-23T09:46:29.242741",
     "exception": false,
     "start_time": "2024-03-23T09:46:29.234889",
     "status": "completed"
    },
    "tags": [
     "injected-parameters"
    ]
   },
   "outputs": [],
   "source": [
    "# Parameters\n",
    "model_path = \"mistralai/Mistral-7B-v0.1\"\n",
    "train_epochs = 1\n",
    "eval_epochs = 1\n",
    "logging_steps = 100\n"
   ]
  },
  {
   "cell_type": "code",
   "execution_count": 4,
   "id": "ecee985e",
   "metadata": {
    "execution": {
     "iopub.execute_input": "2024-03-23T09:46:29.249955Z",
     "iopub.status.busy": "2024-03-23T09:46:29.249654Z",
     "iopub.status.idle": "2024-03-23T09:46:29.253049Z",
     "shell.execute_reply": "2024-03-23T09:46:29.252590Z"
    },
    "papermill": {
     "duration": 0.008212,
     "end_time": "2024-03-23T09:46:29.254122",
     "exception": false,
     "start_time": "2024-03-23T09:46:29.245910",
     "status": "completed"
    },
    "tags": []
   },
   "outputs": [
    {
     "name": "stdout",
     "output_type": "stream",
     "text": [
      "{'model_class': <class 'transformers.models.mistral.modeling_mistral.MistralForCausalLM'>, 'hidden_size': 4096, 'vocab_size': 32000}\n"
     ]
    }
   ],
   "source": [
    "model_params = get_model_params(model_path)\n",
    "model_class = model_params[\"model_class\"]\n",
    "hidden_size = model_params[\"hidden_size\"]\n",
    "vocab_size = model_params[\"vocab_size\"]\n",
    "print(model_params)"
   ]
  },
  {
   "cell_type": "markdown",
   "id": "4919051e",
   "metadata": {
    "papermill": {
     "duration": 0.003218,
     "end_time": "2024-03-23T09:46:29.260629",
     "exception": false,
     "start_time": "2024-03-23T09:46:29.257411",
     "status": "completed"
    },
    "tags": []
   },
   "source": [
    "Let's define a lot of heads in a loop. The heads will be hooked at layer -1,-3,-5,-7,-9,-11,-13. This is using python indexing: Layer -1 means after the last transformer block for example. We'll keep the original pretrained lm_head of the transformer model for comparison."
   ]
  },
  {
   "cell_type": "code",
   "execution_count": 5,
   "id": "9cf10577",
   "metadata": {
    "execution": {
     "iopub.execute_input": "2024-03-23T09:46:29.268004Z",
     "iopub.status.busy": "2024-03-23T09:46:29.267712Z",
     "iopub.status.idle": "2024-03-23T09:46:29.272045Z",
     "shell.execute_reply": "2024-03-23T09:46:29.271599Z"
    },
    "papermill": {
     "duration": 0.009442,
     "end_time": "2024-03-23T09:46:29.273282",
     "exception": false,
     "start_time": "2024-03-23T09:46:29.263840",
     "status": "completed"
    },
    "tags": []
   },
   "outputs": [],
   "source": [
    "head_configs = [\n",
    "    HeadConfig(\n",
    "        name=f\"wikitext_head_{(1+(i-1)*2)}\",\n",
    "        layer_hook=-(1 + (i - 1) * 2),\n",
    "        in_size=hidden_size,\n",
    "        hidden_size=0,\n",
    "        num_layers=1,\n",
    "        output_activation=\"linear\",\n",
    "        is_causal_lm=True,\n",
    "        loss_fct=\"cross_entropy\",\n",
    "        num_outputs=vocab_size,\n",
    "        is_regression=False,\n",
    "        output_bias=False,\n",
    "    )\n",
    "    for i in range(1, 8)\n",
    "]\n",
    "head_configs.append(\n",
    "    HeadConfig(\n",
    "        name=f\"lm_head\",\n",
    "        layer_hook=-1,\n",
    "        in_size=hidden_size,\n",
    "        hidden_size=0,\n",
    "        num_layers=1,\n",
    "        output_activation=\"linear\",\n",
    "        is_causal_lm=True,\n",
    "        loss_fct=\"cross_entropy\",\n",
    "        num_outputs=vocab_size,\n",
    "        is_regression=False,\n",
    "        output_bias=False,\n",
    "        trainable=False,\n",
    "    )\n",
    ")"
   ]
  },
  {
   "cell_type": "code",
   "execution_count": 6,
   "id": "8ee5db96",
   "metadata": {
    "execution": {
     "iopub.execute_input": "2024-03-23T09:46:29.280789Z",
     "iopub.status.busy": "2024-03-23T09:46:29.280503Z",
     "iopub.status.idle": "2024-03-23T09:46:35.057848Z",
     "shell.execute_reply": "2024-03-23T09:46:35.057357Z"
    },
    "papermill": {
     "duration": 5.782562,
     "end_time": "2024-03-23T09:46:35.059252",
     "exception": false,
     "start_time": "2024-03-23T09:46:29.276690",
     "status": "completed"
    },
    "tags": []
   },
   "outputs": [],
   "source": [
    "dd = load_dataset(\"wikitext\", \"wikitext-2-v1\")"
   ]
  },
  {
   "cell_type": "markdown",
   "id": "096c3712",
   "metadata": {
    "papermill": {
     "duration": 0.003522,
     "end_time": "2024-03-23T09:46:35.066586",
     "exception": false,
     "start_time": "2024-03-23T09:46:35.063064",
     "status": "completed"
    },
    "tags": []
   },
   "source": [
    "In the *tokenize_function*, we define labels for each head. For causal_lm, this is just the copied input_ids."
   ]
  },
  {
   "cell_type": "code",
   "execution_count": 7,
   "id": "0941cdff",
   "metadata": {
    "execution": {
     "iopub.execute_input": "2024-03-23T09:46:35.074199Z",
     "iopub.status.busy": "2024-03-23T09:46:35.073811Z",
     "iopub.status.idle": "2024-03-23T09:46:36.277753Z",
     "shell.execute_reply": "2024-03-23T09:46:36.277240Z"
    },
    "papermill": {
     "duration": 1.209284,
     "end_time": "2024-03-23T09:46:36.279159",
     "exception": false,
     "start_time": "2024-03-23T09:46:35.069875",
     "status": "completed"
    },
    "tags": []
   },
   "outputs": [],
   "source": [
    "tokenizer = AutoTokenizer.from_pretrained(model_path)\n",
    "if tokenizer.pad_token_id is None:\n",
    "    tokenizer.pad_token = tokenizer.eos_token\n",
    "\n",
    "\n",
    "def tokenize_function(examples):\n",
    "    out = tokenizer(examples[\"text\"], padding=False)\n",
    "    for hc in head_configs:\n",
    "        out[hc.name] = out[\"input_ids\"].copy()\n",
    "    return out\n",
    "\n",
    "\n",
    "for split in dd.keys():\n",
    "    dd[split] = dd[split].filter(function=lambda example: len(example[\"text\"]) > 10)\n",
    "    dd[split] = dd[split].map(tokenize_function, batched=True)\n",
    "dd.set_format(\n",
    "    type=\"torch\",\n",
    "    columns=[\"input_ids\", \"attention_mask\"] + [x.name for x in head_configs],\n",
    ")\n",
    "for split in dd.keys():\n",
    "    dd[split] = dd[split].remove_columns(\"text\")"
   ]
  },
  {
   "cell_type": "code",
   "execution_count": 8,
   "id": "18626161",
   "metadata": {
    "execution": {
     "iopub.execute_input": "2024-03-23T09:46:36.288383Z",
     "iopub.status.busy": "2024-03-23T09:46:36.287956Z",
     "iopub.status.idle": "2024-03-23T09:47:23.449432Z",
     "shell.execute_reply": "2024-03-23T09:47:23.448871Z"
    },
    "papermill": {
     "duration": 47.16695,
     "end_time": "2024-03-23T09:47:23.450858",
     "exception": false,
     "start_time": "2024-03-23T09:46:36.283908",
     "status": "completed"
    },
    "tags": []
   },
   "outputs": [
    {
     "data": {
      "application/vnd.jupyter.widget-view+json": {
       "model_id": "649ff5c41555486db311a39f4272228f",
       "version_major": 2,
       "version_minor": 0
      },
      "text/plain": [
       "Loading checkpoint shards:   0%|          | 0/2 [00:00<?, ?it/s]"
      ]
     },
     "metadata": {},
     "output_type": "display_data"
    },
    {
     "name": "stderr",
     "output_type": "stream",
     "text": [
      "Some weights of TransformerWithHeads were not initialized from the model checkpoint at mistralai/Mistral-7B-v0.1 and are newly initialized: ['heads.wikitext_head_1.lins.0.weight', 'heads.wikitext_head_11.lins.0.weight', 'heads.wikitext_head_13.lins.0.weight', 'heads.wikitext_head_3.lins.0.weight', 'heads.wikitext_head_5.lins.0.weight', 'heads.wikitext_head_7.lins.0.weight', 'heads.wikitext_head_9.lins.0.weight']\n",
      "You should probably TRAIN this model on a down-stream task to be able to use it for predictions and inference.\n"
     ]
    }
   ],
   "source": [
    "quantization_config = BitsAndBytesConfig(\n",
    "    load_in_4bit=True,\n",
    "    load_in_8bit=False,\n",
    "    llm_int8_threshold=6.0,\n",
    "    llm_int8_has_fp16_weight=False,\n",
    "    bnb_4bit_compute_dtype=torch.float32,\n",
    "    bnb_4bit_use_double_quant=True,\n",
    "    bnb_4bit_quant_type=\"nf4\",\n",
    ")\n",
    "\n",
    "model = load_headed(\n",
    "    model_class,\n",
    "    model_path,\n",
    "    head_configs=head_configs,\n",
    "    quantization_config=quantization_config,\n",
    "    device_map={\"\": torch.cuda.current_device()},\n",
    ")"
   ]
  },
  {
   "cell_type": "markdown",
   "id": "fa3dbe7c",
   "metadata": {
    "papermill": {
     "duration": 0.00357,
     "end_time": "2024-03-23T09:47:23.458564",
     "exception": false,
     "start_time": "2024-03-23T09:47:23.454994",
     "status": "completed"
    },
    "tags": []
   },
   "source": [
    "Huggingface tells us that our newly added heads are newly initialized. Great."
   ]
  },
  {
   "cell_type": "code",
   "execution_count": 9,
   "id": "6e4ec64e",
   "metadata": {
    "execution": {
     "iopub.execute_input": "2024-03-23T09:47:23.466927Z",
     "iopub.status.busy": "2024-03-23T09:47:23.466666Z",
     "iopub.status.idle": "2024-03-23T09:47:23.471532Z",
     "shell.execute_reply": "2024-03-23T09:47:23.471017Z"
    },
    "papermill": {
     "duration": 0.010238,
     "end_time": "2024-03-23T09:47:23.472668",
     "exception": false,
     "start_time": "2024-03-23T09:47:23.462430",
     "status": "completed"
    },
    "tags": []
   },
   "outputs": [
    {
     "name": "stdout",
     "output_type": "stream",
     "text": [
      "all params: 4669575168 || trainable params: 917504000 || trainable%: 19.648554033085006\n",
      "params by dtype: defaultdict(<class 'int'>, {torch.float32: 1179914240, torch.uint8: 3489660928})\n",
      "trainable params by dtype: defaultdict(<class 'int'>, {torch.float32: 917504000})\n"
     ]
    }
   ],
   "source": [
    "print_trainable_parameters(model)"
   ]
  },
  {
   "cell_type": "markdown",
   "id": "58188662",
   "metadata": {
    "papermill": {
     "duration": 0.003642,
     "end_time": "2024-03-23T09:47:23.480007",
     "exception": false,
     "start_time": "2024-03-23T09:47:23.476365",
     "status": "completed"
    },
    "tags": []
   },
   "source": [
    "A lot of heads with large vocab size -> High amount of trainable parameters"
   ]
  },
  {
   "cell_type": "code",
   "execution_count": 10,
   "id": "38995799",
   "metadata": {
    "execution": {
     "iopub.execute_input": "2024-03-23T09:47:23.488342Z",
     "iopub.status.busy": "2024-03-23T09:47:23.488038Z",
     "iopub.status.idle": "2024-03-23T09:47:23.491674Z",
     "shell.execute_reply": "2024-03-23T09:47:23.491226Z"
    },
    "papermill": {
     "duration": 0.009221,
     "end_time": "2024-03-23T09:47:23.492867",
     "exception": false,
     "start_time": "2024-03-23T09:47:23.483646",
     "status": "completed"
    },
    "tags": []
   },
   "outputs": [
    {
     "data": {
      "text/plain": [
       "Dataset({\n",
       "    features: ['input_ids', 'attention_mask', 'wikitext_head_1', 'wikitext_head_3', 'wikitext_head_5', 'wikitext_head_7', 'wikitext_head_9', 'wikitext_head_11', 'wikitext_head_13', 'lm_head'],\n",
       "    num_rows: 23627\n",
       "})"
      ]
     },
     "execution_count": 10,
     "metadata": {},
     "output_type": "execute_result"
    }
   ],
   "source": [
    "dd[\"train\"]"
   ]
  },
  {
   "cell_type": "code",
   "execution_count": 11,
   "id": "60f9498a",
   "metadata": {
    "execution": {
     "iopub.execute_input": "2024-03-23T09:47:23.501508Z",
     "iopub.status.busy": "2024-03-23T09:47:23.501210Z",
     "iopub.status.idle": "2024-03-23T09:47:23.730317Z",
     "shell.execute_reply": "2024-03-23T09:47:23.729788Z"
    },
    "papermill": {
     "duration": 0.234974,
     "end_time": "2024-03-23T09:47:23.731836",
     "exception": false,
     "start_time": "2024-03-23T09:47:23.496862",
     "status": "completed"
    },
    "tags": []
   },
   "outputs": [
    {
     "name": "stdout",
     "output_type": "stream",
     "text": [
      "{'wikitext_head_1': ['Dezember', 'large', '[]{', 'outbreak', '!\\\\'], 'wikitext_head_3': ['乌', 'annt', 'Middle', 'EE', 'cers'], 'wikitext_head_5': ['AB', 'blame', 'ffect', '.”', 'Чи'], 'wikitext_head_7': ['經', 'Items', 'Method', 'ह', 'долж'], 'wikitext_head_9': ['git', 'tract', 'spend', 'packets', 'Dan'], 'wikitext_head_11': ['uar', 'ษ', 'PIN', '상', 'noten'], 'wikitext_head_13': ['tal', '有', 'accidentally', 'average', 'orange'], 'lm_head': ['the', 'this', 'a', '', 'The']}\n"
     ]
    }
   ],
   "source": [
    "print(get_top_n_preds(5, model, \"The historical significance of\", tokenizer))"
   ]
  },
  {
   "cell_type": "markdown",
   "id": "08ee400e",
   "metadata": {
    "papermill": {
     "duration": 0.003936,
     "end_time": "2024-03-23T09:47:23.740140",
     "exception": false,
     "start_time": "2024-03-23T09:47:23.736204",
     "status": "completed"
    },
    "tags": []
   },
   "source": [
    "The untrained heads are predicting somewhat randomly"
   ]
  },
  {
   "cell_type": "markdown",
   "id": "c90be9dd",
   "metadata": {
    "papermill": {
     "duration": 0.003837,
     "end_time": "2024-03-23T09:47:23.747978",
     "exception": false,
     "start_time": "2024-03-23T09:47:23.744141",
     "status": "completed"
    },
    "tags": []
   },
   "source": [
    "In the collator, we need to make sure that the labels for each head are padded correctly. Here, we are padding with -100, the ignore_index token for cross_entropy."
   ]
  },
  {
   "cell_type": "code",
   "execution_count": 12,
   "id": "a917e04a",
   "metadata": {
    "execution": {
     "iopub.execute_input": "2024-03-23T09:47:23.756894Z",
     "iopub.status.busy": "2024-03-23T09:47:23.756467Z"
    },
    "papermill": {
     "duration": null,
     "end_time": null,
     "exception": false,
     "start_time": "2024-03-23T09:47:23.751873",
     "status": "running"
    },
    "tags": []
   },
   "outputs": [
    {
     "name": "stderr",
     "output_type": "stream",
     "text": [
      "\u001b[34m\u001b[1mwandb\u001b[0m: Currently logged in as: \u001b[33mykeller\u001b[0m (\u001b[33mchm-hci\u001b[0m). Use \u001b[1m`wandb login --relogin`\u001b[0m to force relogin\n"
     ]
    },
    {
     "name": "stderr",
     "output_type": "stream",
     "text": [
      "\u001b[34m\u001b[1mwandb\u001b[0m: wandb version 0.16.4 is available!  To upgrade, please run:\n",
      "\u001b[34m\u001b[1mwandb\u001b[0m:  $ pip install wandb --upgrade\n"
     ]
    },
    {
     "name": "stderr",
     "output_type": "stream",
     "text": [
      "\u001b[34m\u001b[1mwandb\u001b[0m: Tracking run with wandb version 0.16.3\n"
     ]
    },
    {
     "name": "stderr",
     "output_type": "stream",
     "text": [
      "\u001b[34m\u001b[1mwandb\u001b[0m: Run data is saved locally in \u001b[35m\u001b[1m/raven/u/ykeller/transformer_heads/wandb/run-20240323_104725-yifhslb1\u001b[0m\n",
      "\u001b[34m\u001b[1mwandb\u001b[0m: Run \u001b[1m`wandb offline`\u001b[0m to turn off syncing.\n"
     ]
    },
    {
     "name": "stderr",
     "output_type": "stream",
     "text": [
      "\u001b[34m\u001b[1mwandb\u001b[0m: Syncing run \u001b[33methereal-dew-197\u001b[0m\n"
     ]
    },
    {
     "name": "stderr",
     "output_type": "stream",
     "text": [
      "\u001b[34m\u001b[1mwandb\u001b[0m: ⭐️ View project at \u001b[34m\u001b[4mhttps://wandb.ai/chm-hci/huggingface\u001b[0m\n"
     ]
    },
    {
     "name": "stderr",
     "output_type": "stream",
     "text": [
      "\u001b[34m\u001b[1mwandb\u001b[0m: 🚀 View run at \u001b[34m\u001b[4mhttps://wandb.ai/chm-hci/huggingface/runs/yifhslb1\u001b[0m\n"
     ]
    },
    {
     "name": "stderr",
     "output_type": "stream",
     "text": [
      "`use_cache=True` is incompatible with gradient checkpointing. Setting `use_cache=False`...\n"
     ]
    },
    {
     "name": "stderr",
     "output_type": "stream",
     "text": [
      "/u/ykeller/conda-envs/sh_finetuning/lib/python3.10/site-packages/torch/utils/checkpoint.py:460: UserWarning: torch.utils.checkpoint: please pass in use_reentrant=True or use_reentrant=False explicitly. The default value of use_reentrant will be updated to be False in the future. To maintain current behavior, pass use_reentrant=True. It is recommended that you use use_reentrant=False. Refer to docs for more details on the differences between the two variants.\n",
      "  warnings.warn(\n"
     ]
    },
    {
     "data": {
      "text/html": [
       "\n",
       "    <div>\n",
       "      \n",
       "      <progress value='908' max='2954' style='width:300px; height:20px; vertical-align: middle;'></progress>\n",
       "      [ 908/2954 1:49:12 < 4:06:36, 0.14 it/s, Epoch 0.31/1]\n",
       "    </div>\n",
       "    <table border=\"1\" class=\"dataframe\">\n",
       "  <thead>\n",
       " <tr style=\"text-align: left;\">\n",
       "      <th>Step</th>\n",
       "      <th>Training Loss</th>\n",
       "    </tr>\n",
       "  </thead>\n",
       "  <tbody>\n",
       "    <tr>\n",
       "      <td>100</td>\n",
       "      <td>71.833600</td>\n",
       "    </tr>\n",
       "    <tr>\n",
       "      <td>200</td>\n",
       "      <td>53.396700</td>\n",
       "    </tr>\n",
       "    <tr>\n",
       "      <td>300</td>\n",
       "      <td>46.163500</td>\n",
       "    </tr>\n",
       "    <tr>\n",
       "      <td>400</td>\n",
       "      <td>42.043800</td>\n",
       "    </tr>\n",
       "    <tr>\n",
       "      <td>500</td>\n",
       "      <td>39.943800</td>\n",
       "    </tr>\n",
       "    <tr>\n",
       "      <td>600</td>\n",
       "      <td>37.952200</td>\n",
       "    </tr>\n",
       "    <tr>\n",
       "      <td>700</td>\n",
       "      <td>36.530000</td>\n",
       "    </tr>\n",
       "    <tr>\n",
       "      <td>800</td>\n",
       "      <td>35.817700</td>\n",
       "    </tr>\n",
       "    <tr>\n",
       "      <td>900</td>\n",
       "      <td>34.704900</td>\n",
       "    </tr>\n",
       "  </tbody>\n",
       "</table><p>"
      ],
      "text/plain": [
       "<IPython.core.display.HTML object>"
      ]
     },
     "metadata": {},
     "output_type": "display_data"
    },
    {
     "name": "stderr",
     "output_type": "stream",
     "text": [
      "Checkpoint destination directory linear_probe_test/checkpoint-500 already exists and is non-empty.Saving will proceed but saved results may be invalid.\n"
     ]
    },
    {
     "name": "stderr",
     "output_type": "stream",
     "text": [
      "/u/ykeller/conda-envs/sh_finetuning/lib/python3.10/site-packages/torch/utils/checkpoint.py:460: UserWarning: torch.utils.checkpoint: please pass in use_reentrant=True or use_reentrant=False explicitly. The default value of use_reentrant will be updated to be False in the future. To maintain current behavior, pass use_reentrant=True. It is recommended that you use use_reentrant=False. Refer to docs for more details on the differences between the two variants.\n",
      "  warnings.warn(\n"
     ]
    }
   ],
   "source": [
    "args = TrainingArguments(\n",
    "    output_dir=\"linear_probe_test\",\n",
    "    learning_rate=0.0002,\n",
    "    num_train_epochs=train_epochs,\n",
    "    logging_steps=logging_steps,\n",
    "    do_eval=False,\n",
    "    remove_unused_columns=False,\n",
    ")\n",
    "collator = DataCollatorWithPadding(\n",
    "    feature_name_to_padding_value={\n",
    "        \"input_ids\": tokenizer.pad_token_id,\n",
    "        \"attention_mask\": 0,\n",
    "        **{key.name: -100 for key in head_configs},\n",
    "    }\n",
    ")\n",
    "trainer = Trainer(\n",
    "    model,\n",
    "    args=args,\n",
    "    train_dataset=dd[\"train\"],\n",
    "    data_collator=collator,\n",
    ")\n",
    "trainer.train()"
   ]
  },
  {
   "cell_type": "code",
   "execution_count": null,
   "id": "45b19aba",
   "metadata": {
    "papermill": {
     "duration": null,
     "end_time": null,
     "exception": null,
     "start_time": null,
     "status": "pending"
    },
    "tags": []
   },
   "outputs": [],
   "source": [
    "print(evaluate_head_wise(model, dd[\"validation\"], collator, epochs=eval_epochs))"
   ]
  },
  {
   "cell_type": "markdown",
   "id": "c924f8f0",
   "metadata": {
    "papermill": {
     "duration": null,
     "end_time": null,
     "exception": null,
     "start_time": null,
     "status": "pending"
    },
    "tags": []
   },
   "source": [
    "That one is some interesting result. Despite the fact that gpt2 was pretrained to do causal_lm after the last transformer block, the linear probe hooked after the third to last block performs the best for causal_lm on wikitext data."
   ]
  },
  {
   "cell_type": "code",
   "execution_count": null,
   "id": "d699c115",
   "metadata": {
    "papermill": {
     "duration": null,
     "end_time": null,
     "exception": null,
     "start_time": null,
     "status": "pending"
    },
    "tags": []
   },
   "outputs": [],
   "source": [
    "print(get_top_n_preds(5, model, \"The historical significance of\", tokenizer))"
   ]
  },
  {
   "cell_type": "markdown",
   "id": "7b264689",
   "metadata": {
    "papermill": {
     "duration": null,
     "end_time": null,
     "exception": null,
     "start_time": null,
     "status": "pending"
    },
    "tags": []
   },
   "source": [
    "The heads are now predicting pretty likely tokens. Note that predicting *<* is an artefact of the wikitext data."
   ]
  }
 ],
 "metadata": {
  "kernelspec": {
   "display_name": "sh_finetuning",
   "language": "python",
   "name": "python3"
  },
  "language_info": {
   "codemirror_mode": {
    "name": "ipython",
    "version": 3
   },
   "file_extension": ".py",
   "mimetype": "text/x-python",
   "name": "python",
   "nbconvert_exporter": "python",
   "pygments_lexer": "ipython3",
   "version": "3.10.13"
  },
  "papermill": {
   "default_parameters": {},
   "duration": null,
   "end_time": null,
   "environment_variables": {},
   "exception": null,
   "input_path": "notebooks/base/multi_linear_probe.ipynb",
   "output_path": "notebooks/mistral/multi_linear_probe.ipynb",
   "parameters": {
    "eval_epochs": 1,
    "logging_steps": 100,
    "model_path": "mistralai/Mistral-7B-v0.1",
    "train_epochs": 1
   },
   "start_time": "2024-03-23T09:46:22.790663",
   "version": "2.5.0"
  }
 },
 "nbformat": 4,
 "nbformat_minor": 5
}