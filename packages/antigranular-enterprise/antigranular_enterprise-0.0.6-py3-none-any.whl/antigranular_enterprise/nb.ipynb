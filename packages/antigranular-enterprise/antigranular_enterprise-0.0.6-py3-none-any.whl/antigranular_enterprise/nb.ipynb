{
 "cells": [
  {
   "cell_type": "code",
   "execution_count": 1,
   "metadata": {},
   "outputs": [],
   "source": [
    "import antigranular_enterprise as ag\n",
    "ag.write_config(profile='default', yaml_config=\"\"\"\n",
    "agent_jupyter_url: https://agent.antigranular.com\n",
    "agent_jupyter_port: 443\n",
    "agent_CONSOLE_URL: http://agent-api-dev.antigranular.com\n",
    "\"\"\")"
   ]
  },
  {
   "cell_type": "code",
   "execution_count": 4,
   "metadata": {},
   "outputs": [
    {
     "name": "stdout",
     "output_type": "stream",
     "text": [
      "<antigranular_enterprise.config.config.Config object at 0x7faba15ef500>\n",
      "Your request is pending approval. Please visit the following URL to approve the request: http://localhost:5173/auth/notebook/66032172f31389de217ac8bf\n",
      "\u001b[92mRequest approved.\u001b[0m\n",
      "Cell magic '%%ag' registered successfully, use `%%ag` in a notebook cell to execute your python code on Antigranular private python server\n"
     ]
    },
    {
     "data": {
      "text/plain": [
       "<antigranular_enterprise.client.AGClient at 0x7fab9f373a10>"
      ]
     },
     "execution_count": 4,
     "metadata": {},
     "output_type": "execute_result"
    }
   ],
   "source": [
    "ag.login(api_key=\"e3Enw7ddnizs-Y0GbFTIavcQl8RlGOPhJ9RqIgTj7WQ\")"
   ]
  },
  {
   "cell_type": "code",
   "execution_count": 5,
   "metadata": {},
   "outputs": [
    {
     "name": "stdout",
     "output_type": "stream",
     "text": [
      "Output: hello\n",
      "\n"
     ]
    }
   ],
   "source": [
    "%%ag\n",
    "ag_print(\"hello\")"
   ]
  },
  {
   "cell_type": "code",
   "execution_count": null,
   "metadata": {},
   "outputs": [],
   "source": []
  }
 ],
 "metadata": {
  "kernelspec": {
   "display_name": "venv",
   "language": "python",
   "name": "python3"
  },
  "language_info": {
   "codemirror_mode": {
    "name": "ipython",
    "version": 3
   },
   "file_extension": ".py",
   "mimetype": "text/x-python",
   "name": "python",
   "nbconvert_exporter": "python",
   "pygments_lexer": "ipython3",
   "version": "3.12.1"
  }
 },
 "nbformat": 4,
 "nbformat_minor": 2
}
