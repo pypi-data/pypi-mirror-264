{
 "cells": [
  {
   "cell_type": "code",
   "execution_count": 12,
   "id": "b094cf45",
   "metadata": {},
   "outputs": [],
   "source": [
    "import righor\n",
    "import matplotlib.pyplot as plt\n",
    "import seaborn\n",
    "import pandas as pd\n",
    "from tqdm.notebook import tqdm\n",
    "from collections import Counter\n",
    "import numpy as np\n",
    "\n",
    "# load the model\n",
    "igor_model = righor.load_model(\"human\", \"trb\")\n",
    "\n",
    "# alternatively, you can load a model from igor files \n",
    "# igor_model = righor.load_model_from_files(params.txt, marginals.txt, anchor_v.csv, anchor_j.csv)"
   ]
  },
  {
   "cell_type": "code",
   "execution_count": 13,
   "id": "81148148",
   "metadata": {},
   "outputs": [
    {
     "data": {
      "application/vnd.jupyter.widget-view+json": {
       "model_id": "98dabbbc251e46d69780ad48e757e24c",
       "version_major": 2,
       "version_minor": 0
      },
      "text/plain": [
       "  0%|          | 0/10000 [00:00<?, ?it/s]"
      ]
     },
     "metadata": {},
     "output_type": "display_data"
    },
    {
     "name": "stdout",
     "output_type": "stream",
     "text": [
      "TRB CDR3 containing \"IGH\": CASSEKGGGQIGHSYEQYF\n",
      "\n",
      "Result:\n",
      "GenerationResult(\n",
      "CDR3 (nucletides): TGCGCCAGCAGCTTGCTAAGGGACACGAGTAATAGCAATCAGCCCCAGCATTTT,\n",
      "CDR3 (amino-acids): CASSLLRDTSNSNQPQHF,\n",
      "Full sequence (nucleotides): AAGGCTGGAGTCACTCAAACTCCAAGATAT...,\n",
      "V gene: TRBV5-1*01,\n",
      "J gene: TRBJ1-5*01)\n",
      "\t\t \n",
      "Explicit recombination event:\n",
      "StaticEvent(\n",
      "nb. del. on V3: 5,\n",
      "nb. del. on D5: 8,\n",
      "nb. del. on D3: 10,\n",
      "nb. del. on J5: 3,\n",
      "V-D insertions: CTAAGGGA,\n",
      "D-J insertions: CGAGTA)\n"
     ]
    }
   ],
   "source": [
    "## Generate sequences\n",
    "\n",
    "# Create a generator object\n",
    "generator = igor_model.generator(seed=42) # or igor_model.generator() to run it without a seed\n",
    "\n",
    "# Generate 10'000 functional sequences (not out-of-frame, no stop codons, right boundaries)\n",
    "for _ in tqdm(range(10000)):\n",
    "    # generate_without_errors ignore Igor error model, use \"generate\" if this is needed\n",
    "    sequence = generator.generate_without_errors(functional=True)\n",
    "    if \"IGH\" in sequence.cdr3_aa:\n",
    "        print(\"TRB CDR3 containing \\\"IGH\\\":\", sequence.cdr3_aa)\n",
    "\n",
    "print()\n",
    "\n",
    "# Generate one sequence with a particular V/J genes family \n",
    "V_genes = righor.genes_matching(\"TRBV5\", igor_model) # all the V genes that match TRBV5\n",
    "J_genes = righor.genes_matching(\"TRBJ\", igor_model) # all the J genes\n",
    "generator = igor_model.generator(seed=42, available_v=V_genes, available_j=J_genes) \n",
    "generation_result = generator.generate_without_errors(functional=True)\n",
    "print(\"Result:\")\n",
    "print(generation_result)\n",
    "print(\"Explicit recombination event:\")\n",
    "print(generation_result.recombination_event)"
   ]
  },
  {
   "cell_type": "code",
   "execution_count": 14,
   "id": "6cd32849",
   "metadata": {},
   "outputs": [
    {
     "name": "stdout",
     "output_type": "stream",
     "text": [
      "Probability that this specific event chain created the sequence: 0.29.\n",
      "Reconstructed sequence (without errors): GAAGCTGACATCTACCAGACCCCAAGATACCTTGTTATAGGGACAGGAAAGAAGATCACTCTGGAATGTTCTCAAACCATGGGCCATGACAAAATGTACTGGTATCAACAAGATCCAGGAATGGAACTACACCTCATCCACTATTCCTATGGAGTTAATTCCACAGAGAAGGGAGATCTTTCCTCTGAGTCAACAGTCTCCAGAATAAGGACGGAGCATTTTCCCCTGACCCTGGAGTCTGCCAGGCCCTCACATACCTCTCAGTACCTCTGTGCCAGCAGTGAGGACAGGGACGTCACTGAAGCTTTCTTTGGACAAGGCACCAGACTCACAGTTGTAG\n",
      "Pgen: 9.6e-13\n"
     ]
    }
   ],
   "source": [
    "## Evaluate a given sequence\n",
    "\n",
    "my_sequence = \"ACCCTCCAGTCTGCCAGGCCCTCACATACCTCTCAGTACCTCTGTGCCAGCAGTGAGGACAGGGACGTCACTGAAGCTTTCTTTGGACAAGGCACC\"\n",
    "\n",
    "# first align the sequence\n",
    "align_params = righor.AlignmentParameters() # default alignment parameters\n",
    "aligned_sequence = igor_model.align_sequence(my_sequence, align_params)\n",
    "\n",
    "# then evaluate it\n",
    "infer_params = righor.InferenceParameters() # default inference parameters\n",
    "result_inference = igor_model.evaluate(aligned_sequence, infer_params)\n",
    "\n",
    "# Most likely scenario\n",
    "best_event = result_inference.best_event\n",
    "\n",
    "print(f\"Probability that this specific event chain created the sequence: {best_event.likelihood / result_inference.likelihood:.2f}.\")\n",
    "print(f\"Reconstructed sequence (without errors):\", best_event.reconstructed_sequence)\n",
    "print(f\"Pgen: {result_inference.pgen:.1e}\")"
   ]
  },
  {
   "cell_type": "code",
   "execution_count": null,
   "id": "f4d67a05",
   "metadata": {},
   "outputs": [],
   "source": [
    "# Inference of a model (takes ~10min)\n",
    "\n",
    "# here we just generate the sequences needed\n",
    "generator = igor_model.generator()\n",
    "example_seq = generator.generate(False)\n",
    "sequences = [generator.generate(False).full_seq for _ in range(1000)]\n",
    "\n",
    "# define parameters for the alignment and the inference\n",
    "align_params = righor.AlignmentParameters()\n",
    "align_params.left_v_cutoff = 40\n",
    "infer_params = righor.InferenceParameters()\n",
    "\n",
    "# generate an uniform model as a starting point \n",
    "# (it's generally *much* faster to start from an already inferred model)\n",
    "model = igor_model.copy()\n",
    "model.p_ins_vd = np.ones(model.p_ins_vd.shape)\n",
    "model.error_rate = 0\n",
    "\n",
    "# align multiple sequences at once\n",
    "aligned_sequences = model.align_all_sequences(sequences, align_params)\n",
    "\n",
    "# multiple round of expectation-maximization to infer the model\n",
    "models = {}\n",
    "model = igor_model.uniform()\n",
    "model.error_rate = 0\n",
    "models[0] = model\n",
    "for ii in tqdm(range(35)):\n",
    "    models[ii+1] = models[ii].copy()\n",
    "    models[ii+1].infer(aligned_sequences, infer_params)"
   ]
  }
 ],
 "metadata": {
  "kernelspec": {
   "display_name": "Python 3 (ipykernel)",
   "language": "python",
   "name": "python3"
  },
  "language_info": {
   "codemirror_mode": {
    "name": "ipython",
    "version": 3
   },
   "file_extension": ".py",
   "mimetype": "text/x-python",
   "name": "python",
   "nbconvert_exporter": "python",
   "pygments_lexer": "ipython3",
   "version": "3.10.10"
  }
 },
 "nbformat": 4,
 "nbformat_minor": 5
}
