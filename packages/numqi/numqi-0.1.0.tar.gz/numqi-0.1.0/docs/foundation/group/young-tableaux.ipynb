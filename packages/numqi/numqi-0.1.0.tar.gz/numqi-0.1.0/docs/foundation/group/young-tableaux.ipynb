{
 "cells": [
  {
   "cell_type": "markdown",
   "metadata": {},
   "source": [
    "# Young tableaux\n",
    "\n",
    "[wiki-link](https://en.wikipedia.org/wiki/Young_tableau)\n",
    "\n",
    "numqi implements functions to list all Young diagram and Young tableaux.\n",
    "\n",
    "Young diagram / tableaux is used in symmetric extension to detect quantum entanglement."
   ]
  },
  {
   "cell_type": "code",
   "execution_count": null,
   "metadata": {},
   "outputs": [],
   "source": [
    "import numqi"
   ]
  },
  {
   "cell_type": "code",
   "execution_count": null,
   "metadata": {},
   "outputs": [],
   "source": [
    "numqi.group.symext.get_sym_group_young_diagram(4)"
   ]
  },
  {
   "cell_type": "code",
   "execution_count": null,
   "metadata": {},
   "outputs": [],
   "source": [
    "numqi.group.print_all_young_tableaux(4)"
   ]
  }
 ],
 "metadata": {
  "kernelspec": {
   "display_name": "Python 3",
   "language": "python",
   "name": "python3"
  },
  "language_info": {
   "codemirror_mode": {
    "name": "ipython",
    "version": 3
   },
   "file_extension": ".py",
   "mimetype": "text/x-python",
   "name": "python",
   "nbconvert_exporter": "python",
   "pygments_lexer": "ipython3",
   "version": "3.11.6"
  }
 },
 "nbformat": 4,
 "nbformat_minor": 2
}
