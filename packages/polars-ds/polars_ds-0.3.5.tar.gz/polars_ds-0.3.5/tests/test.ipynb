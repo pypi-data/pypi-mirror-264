{
 "cells": [
  {
   "cell_type": "code",
   "execution_count": null,
   "metadata": {},
   "outputs": [],
   "source": [
    "import polars as pl\n",
    "import polars_ds as pds\n",
    "import numpy as np\n",
    "import time "
   ]
  },
  {
   "cell_type": "code",
   "execution_count": null,
   "metadata": {},
   "outputs": [],
   "source": [
    "df = pl.read_csv(\"test_dep.csv\")\n",
    "df.head()\n",
    "# detector = pds.diagnosis.Detector()"
   ]
  },
  {
   "cell_type": "code",
   "execution_count": null,
   "metadata": {},
   "outputs": [],
   "source": [
    "from polars_ds.diagnosis import Detector\n",
    "\n",
    "detector = Detector(df)"
   ]
  },
  {
   "cell_type": "code",
   "execution_count": null,
   "metadata": {},
   "outputs": [],
   "source": [
    "detector.infer_corr()"
   ]
  },
  {
   "cell_type": "code",
   "execution_count": null,
   "metadata": {},
   "outputs": [],
   "source": [
    "detector.infer_dependency()"
   ]
  },
  {
   "cell_type": "code",
   "execution_count": null,
   "metadata": {},
   "outputs": [],
   "source": [
    "detector.plot_dependency()"
   ]
  },
  {
   "cell_type": "code",
   "execution_count": null,
   "metadata": {},
   "outputs": [],
   "source": []
  },
  {
   "cell_type": "code",
   "execution_count": null,
   "metadata": {},
   "outputs": [],
   "source": [
    "df = pds.random_data()\n",
    "df.head()"
   ]
  },
  {
   "cell_type": "code",
   "execution_count": null,
   "metadata": {},
   "outputs": [],
   "source": [
    "df.select(\n",
    "    pds.query_ks_2samp(\"feature_1\", \"feature_2\")\n",
    ").unnest(\"feature_1\")"
   ]
  },
  {
   "cell_type": "code",
   "execution_count": null,
   "metadata": {},
   "outputs": [],
   "source": []
  },
  {
   "cell_type": "code",
   "execution_count": null,
   "metadata": {},
   "outputs": [],
   "source": []
  },
  {
   "cell_type": "code",
   "execution_count": null,
   "metadata": {},
   "outputs": [],
   "source": [
    "df = pl.DataFrame(dict(x=[ 1,  2, 10], y=[ 2,  5, 10]))\n",
    "df"
   ]
  },
  {
   "cell_type": "code",
   "execution_count": null,
   "metadata": {},
   "outputs": [],
   "source": [
    "df.select(pl.col(\"x\").num._knn_entropy(pl.col('y'), k=1, dist = \"l2\")).item(0,0)"
   ]
  },
  {
   "cell_type": "code",
   "execution_count": null,
   "metadata": {},
   "outputs": [],
   "source": [
    "df.select(\n",
    "    pds.query_knn_entropy(\"x\", \"y\", k=1, dist = \"l2\").sqrt().alias(\"l2\"),\n",
    "    pds.query_knn_entropy(\"x\", \"y\", k=1, dist = \"inf\").alias(\"inf\"),\n",
    ")"
   ]
  },
  {
   "cell_type": "code",
   "execution_count": null,
   "metadata": {},
   "outputs": [],
   "source": [
    "def test_knn_entropy():\n",
    "    df = pl.DataFrame(dict(x=[ 1,  2, 10], y=[ 2,  5, 10]))\n",
    "    ent = df.select(pl.col.x.num.knn_entropy(pl.col('y'), k=1))\n",
    "    assert ent.item(0, 0) == pytest.approx(5.67, abs=0.01)"
   ]
  },
  {
   "cell_type": "code",
   "execution_count": null,
   "metadata": {},
   "outputs": [],
   "source": []
  },
  {
   "cell_type": "code",
   "execution_count": null,
   "metadata": {},
   "outputs": [],
   "source": []
  },
  {
   "cell_type": "code",
   "execution_count": null,
   "metadata": {},
   "outputs": [],
   "source": [
    "df = pl.DataFrame({\n",
    "    \"A\": pl.int_range(10000, eager=True),\n",
    "    \"B\": pl.int_range(10000, eager=True)+1,\n",
    "    \"CC\": [1] * 10000,\n",
    "}).with_row_index()\n",
    "\n",
    "df = df.with_columns(df.to_dummies('B'))\n",
    "df = df.with_columns(pl.col('A').rolling_mean(2).alias('C'))\n",
    "print(df)"
   ]
  },
  {
   "cell_type": "code",
   "execution_count": null,
   "metadata": {},
   "outputs": [],
   "source": [
    "from typing import List\n",
    "\n",
    "def residual_multiple(cols: List[pl.Series], add_constant: bool) -> pl.Series:\n",
    "    cols = [list(c.struct) if isinstance(c.dtype, pl.Struct) else [c] for c in cols]\n",
    "    cols = [i.to_numpy() for p in cols for i in p]\n",
    "    if add_constant:\n",
    "        cols += [np.ones_like(cols[0])]\n",
    "    yx = np.vstack(cols).T\n",
    "\n",
    "    # skip nan\n",
    "    mask = np.any(np.isnan(yx), axis=1)\n",
    "    yx_ = yx[~mask, :]\n",
    "\n",
    "    y = yx_[:, 0]\n",
    "    x = yx_[:, 1:]\n",
    "    coef = np.linalg.lstsq(x, y, rcond=None)[0]\n",
    "    y_hat = np.sum(x * coef, axis=1)\n",
    "    residual = y - y_hat\n",
    "\n",
    "    # refill\n",
    "    out = np.empty_like(yx[:, 0])\n",
    "    out[~mask] = residual\n",
    "    out[mask] = np.nan\n",
    "    return pl.Series(out, nan_to_null=True)\n",
    "\n",
    "\n",
    "def cs_neutralize_residual_multiple(y: pl.Expr, *more_x: pl.Expr, add_constant: bool = False) -> pl.Expr:\n",
    "    return pl.map_batches([y, *more_x], lambda xx: residual_multiple(xx, add_constant))\n",
    "\n",
    "x = df.with_columns([\n",
    "    cs_neutralize_residual_multiple(pl.col('A'), pl.col('C')).alias('resid1'),\n",
    "    pl.col('A').num.lstsq(pl.col('C'), return_pred=True, skip_null=True).struct.field('resid').alias('resid2'),\n",
    "])\n",
    "print(x)"
   ]
  },
  {
   "cell_type": "code",
   "execution_count": null,
   "metadata": {},
   "outputs": [],
   "source": [
    "df = df.select(\n",
    "    pl.col(\"feature_1\").alias(\"B_1\"),\n",
    "    pl.col(\"feature_2\").alias(\"B_2\"),\n",
    "    pl.col(\"feature_3\").alias(\"B_3\"),\n",
    "    pl.col(\"feature_4\").alias(\"A\"),\n",
    ")\n",
    "df.head()"
   ]
  },
  {
   "cell_type": "code",
   "execution_count": null,
   "metadata": {},
   "outputs": [],
   "source": [
    "df.select(\n",
    "    pds.query_lstsq(pl.col(\"B_1\"), pl.col(\"B_2\"), pl.col(\"B_3\"), target = pl.col(\"A\"), return_pred=True, add_bias=True)\n",
    ")"
   ]
  },
  {
   "cell_type": "code",
   "execution_count": null,
   "metadata": {},
   "outputs": [],
   "source": [
    "df.with_columns(\n",
    "    pl.col('A').num.lstsq(*[pl.col(c) for c in df.columns if c.startswith(\"B_\")], return_pred=True).struct.field('resid')\n",
    ")"
   ]
  },
  {
   "cell_type": "code",
   "execution_count": null,
   "metadata": {},
   "outputs": [],
   "source": [
    "# pl.col('A').num.lstsq(pl.col('^B_.*$'), return_pred=True).struct.field('resid')"
   ]
  },
  {
   "cell_type": "code",
   "execution_count": null,
   "metadata": {},
   "outputs": [],
   "source": [
    "print(df.columns)\n",
    "df.with_columns(\n",
    "    pl.col('A').num.lstsq(pl.col('^B_.*$'), return_pred=True) # .struct.field('resid')\n",
    ").head()"
   ]
  },
  {
   "cell_type": "code",
   "execution_count": null,
   "metadata": {},
   "outputs": [],
   "source": []
  },
  {
   "cell_type": "code",
   "execution_count": null,
   "metadata": {},
   "outputs": [],
   "source": []
  },
  {
   "cell_type": "code",
   "execution_count": null,
   "metadata": {},
   "outputs": [],
   "source": []
  },
  {
   "cell_type": "code",
   "execution_count": null,
   "metadata": {},
   "outputs": [],
   "source": [
    "print(\n",
    "    \n",
    "df.select(\n",
    "    pl.col(\"row_num\"),\n",
    "    pds.query_radius_ptwise(\n",
    "        pl.col(\"feature_1\"), pl.col(\"feature_2\"), pl.col(\"feature_3\"), # Columns used as the coordinates in n-d space\n",
    "        index = pl.col(\"row_num\"),\n",
    "        r = 0.1, \n",
    "        dist = \"l2\", # actually this is squared l2\n",
    "        parallel = True\n",
    "    ).alias(\"best friends\"),\n",
    ").with_columns( # -1 to remove the point itself\n",
    "    (pl.col(\"best friends\").list.len() - 1).alias(\"best friends count\")\n",
    ").head()\n",
    "\n",
    ")"
   ]
  },
  {
   "cell_type": "code",
   "execution_count": null,
   "metadata": {},
   "outputs": [],
   "source": [
    "        pl.col(\"val1\"), pl.col(\"val2\"), pl.col(\"val3\"), # Columns used as the coordinates in n-d space\n",
    "        r = 0.1, \n",
    "        dist = \"l2\", # actually this is squared l2\n",
    "        parallel = True"
   ]
  },
  {
   "cell_type": "code",
   "execution_count": null,
   "metadata": {},
   "outputs": [],
   "source": []
  },
  {
   "cell_type": "code",
   "execution_count": null,
   "metadata": {},
   "outputs": [],
   "source": []
  },
  {
   "cell_type": "code",
   "execution_count": null,
   "metadata": {},
   "outputs": [],
   "source": [
    "import scipy"
   ]
  },
  {
   "cell_type": "code",
   "execution_count": null,
   "metadata": {},
   "outputs": [],
   "source": [
    "df.select(pl.col(\"feature_1\").num.rfft())"
   ]
  },
  {
   "cell_type": "code",
   "execution_count": null,
   "metadata": {},
   "outputs": [],
   "source": [
    "df.select(pl.col(\"feature_1\").num.rfft2())"
   ]
  },
  {
   "cell_type": "code",
   "execution_count": null,
   "metadata": {},
   "outputs": [],
   "source": []
  },
  {
   "cell_type": "code",
   "execution_count": null,
   "metadata": {},
   "outputs": [],
   "source": [
    "import polars as pl\n",
    "import polars_ds as pld  # noqa\n",
    "from pandas._testing import makeTimeDataFrame"
   ]
  },
  {
   "cell_type": "code",
   "execution_count": null,
   "metadata": {},
   "outputs": [],
   "source": [
    "df = makeTimeDataFrame()\n",
    "df = df.rename(columns={'B': 'B_1', 'C': 'B_2', 'D': 'B_3', })\n",
    "df = pl.from_pandas(df, include_index=True)"
   ]
  }
 ],
 "metadata": {
  "kernelspec": {
   "display_name": ".venv",
   "language": "python",
   "name": "python3"
  },
  "language_info": {
   "codemirror_mode": {
    "name": "ipython",
    "version": 3
   },
   "file_extension": ".py",
   "mimetype": "text/x-python",
   "name": "python",
   "nbconvert_exporter": "python",
   "pygments_lexer": "ipython3",
   "version": "3.11.8"
  }
 },
 "nbformat": 4,
 "nbformat_minor": 2
}
