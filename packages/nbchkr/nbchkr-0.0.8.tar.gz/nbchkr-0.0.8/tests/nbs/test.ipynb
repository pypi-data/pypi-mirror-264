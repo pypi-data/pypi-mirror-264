{
 "cells": [
  {
   "cell_type": "markdown",
   "metadata": {},
   "source": [
    "## A notebook used for testing of functionality.\n",
    "\n",
    "Consider the following question:\n",
    "\n",
    "> Use Python to obtain the sum of the first 10 natural numbers.\n",
    "\n",
    "Below is where we would expect the student to write their answer:"
   ]
  },
  {
   "cell_type": "code",
   "execution_count": 1,
   "metadata": {
    "tags": [
     "answer:q1"
    ]
   },
   "outputs": [
    {
     "data": {
      "text/plain": [
       "55"
      ]
     },
     "execution_count": 1,
     "metadata": {},
     "output_type": "execute_result"
    }
   ],
   "source": [
    "### BEGIN SOLUTION\n",
    "sum(i for i in range(11))\n",
    "### END SOLUTION"
   ]
  },
  {
   "cell_type": "code",
   "execution_count": 2,
   "metadata": {
    "tags": [
     "score:3",
     "description:correct-answer"
    ]
   },
   "outputs": [],
   "source": [
    "assert _ == 55, \"That is not the correct answer\""
   ]
  },
  {
   "cell_type": "markdown",
   "metadata": {},
   "source": [
    "Note that the `score:3` tag ensures that the cell won't be shown but other digits could also be used. These indicate to `nbchkr` how many points each cells is worth.\n",
    "\n",
    "Consider the following question:\n",
    "\n",
    "> Write a function called `sum_of_digits` that returns the sum of the first `n` natural numbers."
   ]
  },
  {
   "cell_type": "code",
   "execution_count": 3,
   "metadata": {
    "tags": [
     "answer:q2"
    ]
   },
   "outputs": [],
   "source": [
    "def sum_of_digits(n):\n",
    "    \"\"\"\n",
    "    A function to return the sum of the first n natural numbers.\n",
    "    \"\"\"\n",
    "    ### BEGIN SOLUTION\n",
    "    return sum(i for i in range(n + 1))\n",
    "    ### END SOLUTION"
   ]
  },
  {
   "cell_type": "code",
   "execution_count": 4,
   "metadata": {
    "tags": [
     "score:2",
     "description:has-docstring"
    ]
   },
   "outputs": [],
   "source": [
    "assert sum_of_digits.__doc__ is not None, \"You did not include a docstring\""
   ]
  },
  {
   "cell_type": "code",
   "execution_count": 5,
   "metadata": {
    "tags": [
     "score:5",
     "description:correct-answer-for-n-up-until-10"
    ]
   },
   "outputs": [],
   "source": [
    "for n in range(1, 10):\n",
    "    assert (\n",
    "        sum_of_digits(n=n) == n * (n + 1) / 2\n",
    "    ), f\"You function did not give the correct score for n={n}\""
   ]
  },
  {
   "cell_type": "code",
   "execution_count": 6,
   "metadata": {
    "tags": [
     "hide"
    ]
   },
   "outputs": [],
   "source": [
    "# It is also possible to hide other cells if you want to."
   ]
  }
 ],
 "metadata": {
  "celltoolbar": "Tags",
  "kernelspec": {
   "display_name": "Python 3",
   "language": "python",
   "name": "python3"
  },
  "language_info": {
   "codemirror_mode": {
    "name": "ipython",
    "version": 3
   },
   "file_extension": ".py",
   "mimetype": "text/x-python",
   "name": "python",
   "nbconvert_exporter": "python",
   "pygments_lexer": "ipython3",
   "version": "3.8.3"
  }
 },
 "nbformat": 4,
 "nbformat_minor": 4
}
