{
 "cells": [
  {
   "cell_type": "markdown",
   "metadata": {},
   "source": [
    "## A notebook used for testing of functionality.\n",
    "\n",
    "Consider the following question:\n",
    "\n",
    "> Use Python to obtain the sum of the first 10 natural numbers.\n",
    "\n",
    "Below is where we would expect the student to write their answer:"
   ]
  },
  {
   "cell_type": "code",
   "execution_count": 1,
   "metadata": {},
   "outputs": [
    {
     "data": {
      "text/plain": [
       "45"
      ]
     },
     "execution_count": 1,
     "metadata": {},
     "output_type": "execute_result"
    }
   ],
   "source": [
    "sum(i for i in range(10))"
   ]
  },
  {
   "cell_type": "markdown",
   "metadata": {},
   "source": [
    "Note that the `score:3` tag ensures that the cell won't be shown but other digits could also be used. These indicate to `nbchkr` how many points each cells is worth.\n",
    "\n",
    "Consider the following question:\n",
    "\n",
    "> Write a function called `sum_of_digits` that returns the sum of the first `n` natural numbers."
   ]
  },
  {
   "cell_type": "code",
   "execution_count": 2,
   "metadata": {
    "tags": [
     "answer:q2"
    ]
   },
   "outputs": [],
   "source": [
    "def sum_of_digits(n):\n",
    "    \"\"\"\n",
    "    A function to return the sum of the first n natural numbers.\n",
    "    \"\"\"\n",
    "    return sum(i for i in range(10))"
   ]
  }
 ],
 "metadata": {
  "celltoolbar": "Tags",
  "kernelspec": {
   "display_name": "Python 3",
   "language": "python",
   "name": "python3"
  },
  "language_info": {
   "codemirror_mode": {
    "name": "ipython",
    "version": 3
   },
   "file_extension": ".py",
   "mimetype": "text/x-python",
   "name": "python",
   "nbconvert_exporter": "python",
   "pygments_lexer": "ipython3",
   "version": "3.7.1"
  }
 },
 "nbformat": 4,
 "nbformat_minor": 4
}
