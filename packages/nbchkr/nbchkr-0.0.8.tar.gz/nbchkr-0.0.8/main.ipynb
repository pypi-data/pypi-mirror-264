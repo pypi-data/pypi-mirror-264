{
 "cells": [
  {
   "cell_type": "markdown",
   "metadata": {
    "editable": true,
    "slideshow": {
     "slide_type": ""
    },
    "tags": []
   },
   "source": [
    "# Class assignment\n",
    "\n",
    "We will use this assignment to solidify our understanding of using Python to\n",
    "carry out some numerical operations and also write functions.\n",
    "\n",
    "Use this notebook to write your answers in the cells as instructed, do your\n",
    "best not to delete any of the cells that are already there.\n",
    "\n",
    "## Question one.\n",
    "\n",
    "Use python to obtain the remainder when dividing 21 by 5:\n",
    "\n",
    "\\\\[21 \\mod 5\\\\]"
   ]
  },
  {
   "cell_type": "code",
   "execution_count": 3,
   "metadata": {
    "editable": true,
    "slideshow": {
     "slide_type": ""
    },
    "tags": [
     "answer:q1"
    ]
   },
   "outputs": [
    {
     "data": {
      "text/plain": [
       "1"
      ]
     },
     "execution_count": 3,
     "metadata": {},
     "output_type": "execute_result"
    }
   ],
   "source": [
    "### BEGIN SOLUTION\n",
    "21 % 5\n",
    "### END SOLUTION"
   ]
  },
  {
   "cell_type": "code",
   "execution_count": 4,
   "metadata": {
    "editable": true,
    "slideshow": {
     "slide_type": ""
    },
    "tags": [
     "score:1",
     "description:integer-answer"
    ]
   },
   "outputs": [],
   "source": [
    "import nbchkr.checks\n",
    "\n",
    "q1_answer = _\n",
    "feedback_string = \"Your operation did not return an integer which is expected\"\n",
    "\n",
    "\n",
    "def check_variable_is_an_integer(variable):\n",
    "    return type(variable) is int\n",
    "\n",
    "\n",
    "variable_string = \"q1_answer\"\n",
    "\n",
    "nbchkr.checks.check_variable_has_expected_property(\n",
    "    variable_string=variable_string,\n",
    "    feedback_string=feedback_string,\n",
    "    property_check=check_variable_is_an_integer,\n",
    ")"
   ]
  },
  {
   "cell_type": "code",
   "execution_count": 5,
   "metadata": {
    "editable": true,
    "slideshow": {
     "slide_type": ""
    },
    "tags": [
     "score:3",
     "description:correct-answer"
    ]
   },
   "outputs": [],
   "source": [
    "feedback_string = \"The expected answer is 1 because 21 = 5 * 3 + 1\"\n",
    "\n",
    "\n",
    "def check_value_is_correct(variable):\n",
    "    return variable == 1\n",
    "\n",
    "\n",
    "nbchkr.checks.check_variable_has_expected_property(\n",
    "    variable_string=variable_string,\n",
    "    feedback_string=feedback_string,\n",
    "    property_check=check_value_is_correct,\n",
    ")"
   ]
  },
  {
   "cell_type": "markdown",
   "metadata": {
    "editable": true,
    "slideshow": {
     "slide_type": ""
    },
    "tags": []
   },
   "source": [
    "## Question two.\n",
    "\n",
    "Write a python function `get_remainder(m, n)` that returns the remainder\n",
    "the remainder when dividing \\\\(m\\\\) by \\\\(n\\\\).\n",
    "\n",
    "\\\\[m \\mod n\\\\]"
   ]
  },
  {
   "cell_type": "code",
   "execution_count": 6,
   "metadata": {
    "editable": true,
    "slideshow": {
     "slide_type": ""
    },
    "tags": [
     "answer:q2"
    ]
   },
   "outputs": [],
   "source": [
    "def get_remainder(m, n):\n",
    "    ### BEGIN SOLUTION\n",
    "    \"\"\"\n",
    "    This function returns the remainder of m when dividing by n\n",
    "    \"\"\"\n",
    "    return m % n\n",
    "    ### END SOLUTION"
   ]
  },
  {
   "cell_type": "code",
   "execution_count": 7,
   "metadata": {
    "editable": true,
    "slideshow": {
     "slide_type": ""
    },
    "tags": [
     "score:1",
     "description:presence-of-docstring"
    ]
   },
   "outputs": [],
   "source": [
    "feedback_string = \"\"\"You did not include a docstring. This is important to help document your code.\n",
    "\n",
    "\n",
    "It is done  using triple quotation marks. For example:\n",
    "\n",
    "def get_remainder(m, n):\n",
    "    \\\"\\\"\\\"\n",
    "    This function returns the remainder of m when dividing by n\n",
    "    \\\"\\\"\\\"\n",
    "    ...\n",
    "\n",
    "Using that it's possible to access the docstring,\n",
    "one way to do this is to type: `get_remainder?`\n",
    "(which only works in Jupyter) or help(get_remainder).\n",
    "\n",
    "We can also comment code using `#` but this is completely\n",
    "ignored by Python so cannot be accessed in the same way.\n",
    "\n",
    "\"\"\"\n",
    "\n",
    "variable_string = \"get_remainder\"\n",
    "\n",
    "\n",
    "def check_function_has_docstring(variable):\n",
    "    return variable.__doc__ is not None\n",
    "\n",
    "\n",
    "nbchkr.checks.check_variable_has_expected_property(\n",
    "    variable_string=variable_string,\n",
    "    feedback_string=feedback_string,\n",
    "    property_check=check_function_has_docstring,\n",
    ")"
   ]
  },
  {
   "cell_type": "code",
   "execution_count": 14,
   "metadata": {
    "editable": true,
    "slideshow": {
     "slide_type": ""
    },
    "tags": [
     "score:6",
     "description:correct-answer"
    ]
   },
   "outputs": [],
   "source": [
    "feedback_string = \"Your function does not give the correct values\"\n",
    "\n",
    "\n",
    "def check_function_gives_correct_value(variable, m, n, expected_value):\n",
    "    return variable(m, n) == expected_value\n",
    "\n",
    "\n",
    "nbchkr.checks.check_variable_has_expected_property(\n",
    "    variable_string=variable_string,\n",
    "    feedback_string=feedback_string,\n",
    "    property_check=check_function_gives_correct_value,\n",
    "    m=5,\n",
    "    n=3,\n",
    "    expected_value=2,\n",
    ")\n",
    "nbchkr.checks.check_variable_has_expected_property(\n",
    "    variable_string=variable_string,\n",
    "    feedback_string=feedback_string,\n",
    "    property_check=check_function_gives_correct_value,\n",
    "    m=43,\n",
    "    n=21,\n",
    "    expected_value=1,\n",
    ")\n",
    "nbchkr.checks.check_variable_has_expected_property(\n",
    "    variable_string=variable_string,\n",
    "    feedback_string=feedback_string,\n",
    "    property_check=check_function_gives_correct_value,\n",
    "    m=1000,\n",
    "    n=10,\n",
    "    expected_value=0,\n",
    ")"
   ]
  }
 ],
 "metadata": {
  "celltoolbar": "Tags",
  "kernelspec": {
   "display_name": "Python 3 (ipykernel)",
   "language": "python",
   "name": "python3"
  },
  "language_info": {
   "codemirror_mode": {
    "name": "ipython",
    "version": 3
   },
   "file_extension": ".py",
   "mimetype": "text/x-python",
   "name": "python",
   "nbconvert_exporter": "python",
   "pygments_lexer": "ipython3",
   "version": "3.11.4"
  }
 },
 "nbformat": 4,
 "nbformat_minor": 4
}
