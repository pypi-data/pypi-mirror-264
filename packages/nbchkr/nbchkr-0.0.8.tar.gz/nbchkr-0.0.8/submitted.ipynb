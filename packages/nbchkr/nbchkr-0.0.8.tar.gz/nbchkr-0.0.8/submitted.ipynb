{
 "cells": [
  {
   "cell_type": "markdown",
   "metadata": {},
   "source": [
    "# Class assignment\n",
    "\n",
    "We will use this assignment to solidify our understanding of using Python to\n",
    "carry out some numerical operations and also write functions.\n",
    "\n",
    "Use this notebook to write your answers in the cells as instructed, do your\n",
    "best not to delete any of the cells that are already there.\n",
    "\n",
    "## Question one.\n",
    "\n",
    "Use python to obtain the remainder when dividing 21 by 5:\n",
    "\n",
    "\\\\[21 \\mod 5\\\\]"
   ]
  },
  {
   "cell_type": "code",
   "execution_count": 1,
   "metadata": {
    "tags": [
     "answer:q1"
    ]
   },
   "outputs": [
    {
     "data": {
      "text/plain": [
       "1"
      ]
     },
     "execution_count": 1,
     "metadata": {},
     "output_type": "execute_result"
    }
   ],
   "source": [
    "### BEGIN SOLUTION\n",
    "21 % 5\n",
    "### END SOLUTION"
   ]
  },
  {
   "cell_type": "markdown",
   "metadata": {},
   "source": [
    "## Question two.\n",
    "\n",
    "Write a python function `get_remainder(m, n)` that returns the remainder\n",
    "the remainder when dividing \\\\(m\\\\) by \\\\(n\\\\).\n",
    "\n",
    "\\\\[m \\mod n\\\\]"
   ]
  },
  {
   "cell_type": "code",
   "execution_count": 2,
   "metadata": {
    "tags": [
     "answer:q2"
    ]
   },
   "outputs": [],
   "source": [
    "def get_remainder(m, n):\n",
    "    ### BEGIN SOLUTION\n",
    "    return m % n\n",
    "\n",
    "\n",
    "### END SOLUTION"
   ]
  },
  {
   "cell_type": "code",
   "execution_count": null,
   "metadata": {},
   "outputs": [],
   "source": []
  }
 ],
 "metadata": {
  "celltoolbar": "Tags",
  "kernelspec": {
   "display_name": "Python 3",
   "language": "python",
   "name": "python3"
  },
  "language_info": {
   "codemirror_mode": {
    "name": "ipython",
    "version": 3
   },
   "file_extension": ".py",
   "mimetype": "text/x-python",
   "name": "python",
   "nbconvert_exporter": "python",
   "pygments_lexer": "ipython3",
   "version": "3.7.1"
  }
 },
 "nbformat": 4,
 "nbformat_minor": 4
}
