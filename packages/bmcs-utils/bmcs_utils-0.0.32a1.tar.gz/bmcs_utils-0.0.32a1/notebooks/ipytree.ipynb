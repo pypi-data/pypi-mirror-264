{
 "cells": [
  {
   "cell_type": "code",
   "execution_count": null,
   "id": "related-conservation",
   "metadata": {},
   "outputs": [],
   "source": [
    "from ipytree import Tree, Node"
   ]
  },
  {
   "cell_type": "code",
   "execution_count": null,
   "id": "optimum-disclaimer",
   "metadata": {},
   "outputs": [],
   "source": [
    "tree=Tree()\n",
    "\n",
    "tree.add_node(Node(\"Node1\"))\n",
    "tree.add_node(Node(\"Node2\"))\n",
    "tree.add_node(Node(\"Node3\"))\n",
    "\n",
    "tree"
   ]
  },
  {
   "cell_type": "code",
   "execution_count": null,
   "id": "confirmed-religion",
   "metadata": {},
   "outputs": [],
   "source": [
    "tree4  = Tree()\n",
    "\n",
    "node1 = Node(\"Node1\")\n",
    "\n",
    "tree4.add_node(node1)\n",
    "tree4.add_node(Node(\"Node2\"))\n",
    "tree4.add_node(Node(\"Node3\", [Node(\"Node4\"), Node(\"Node5\")]))\n",
    "\n",
    "\n",
    "def handle_click(event):\n",
    "    print('handle', event)\n",
    "    event['owner'].name = 'Selected' if event['new'] else 'Not Selected'\n",
    "\n",
    "node1.observe(handle_click, 'selected')\n",
    "node1.selected = True\n",
    "\n",
    "tree4"
   ]
  },
  {
   "cell_type": "code",
   "execution_count": null,
   "id": "molecular-costa",
   "metadata": {},
   "outputs": [],
   "source": []
  },
  {
   "cell_type": "code",
   "execution_count": null,
   "id": "formal-executive",
   "metadata": {},
   "outputs": [],
   "source": []
  }
 ],
 "metadata": {
  "kernelspec": {
   "display_name": "bmcs_env",
   "language": "python",
   "name": "bmcs_env"
  },
  "language_info": {
   "codemirror_mode": {
    "name": "ipython",
    "version": 3
   },
   "file_extension": ".py",
   "mimetype": "text/x-python",
   "name": "python",
   "nbconvert_exporter": "python",
   "pygments_lexer": "ipython3"
  },
  "toc": {
   "base_numbering": 1,
   "nav_menu": {},
   "number_sections": true,
   "sideBar": true,
   "skip_h1_title": false,
   "title_cell": "Table of Contents",
   "title_sidebar": "Contents",
   "toc_cell": false,
   "toc_position": {},
   "toc_section_display": true,
   "toc_window_display": false
  }
 },
 "nbformat": 4,
 "nbformat_minor": 5
}
