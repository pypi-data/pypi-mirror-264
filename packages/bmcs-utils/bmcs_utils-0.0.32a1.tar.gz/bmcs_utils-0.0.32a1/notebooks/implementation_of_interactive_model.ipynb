{
 "cells": [
  {
   "cell_type": "markdown",
   "metadata": {},
   "source": [
    "# Interactive model implementation"
   ]
  },
  {
   "cell_type": "markdown",
   "metadata": {},
   "source": [
    "This notebook combines the widget frontend of matplotib with the ipywidget package\n",
    "to enable a direct generation of interactive webapp interface from a model implementation."
   ]
  },
  {
   "cell_type": "code",
   "execution_count": null,
   "metadata": {},
   "outputs": [],
   "source": [
    "%matplotlib widget\n",
    "import ipywidgets as widgets\n",
    "import matplotlib.pyplot as plt\n",
    "import numpy as np"
   ]
  },
  {
   "cell_type": "markdown",
   "metadata": {},
   "source": [
    "Since `matplotlib` provides a support for widgets, it figures and plots\n",
    "can be assigned to an `Output` widget from `ipywidgets`"
   ]
  },
  {
   "cell_type": "code",
   "execution_count": null,
   "metadata": {},
   "outputs": [],
   "source": [
    "output = widgets.Output()\n",
    " \n",
    "# create some x data\n",
    "x = np.linspace(0, 2 * np.pi, 100)\n",
    " \n",
    "# default line color\n",
    "initial_color = '#FF00DD'\n",
    " \n",
    "with output:\n",
    "    fig, ax = plt.subplots(constrained_layout=True, figsize=(6, 4))\n",
    "     \n",
    "# move the toolbar to the bottom\n",
    "fig.canvas.toolbar_position = 'bottom'\n",
    "ax.grid(True)    \n",
    "line, = ax.plot(x, np.sin(x), initial_color)"
   ]
  },
  {
   "cell_type": "markdown",
   "metadata": {},
   "source": [
    "Thus, when we render the instance of the `output` widget, the figure and \n",
    "contained axes get automatically displayed."
   ]
  },
  {
   "cell_type": "code",
   "execution_count": null,
   "metadata": {},
   "outputs": [],
   "source": [
    "output"
   ]
  },
  {
   "cell_type": "markdown",
   "metadata": {},
   "source": [
    "The `output` widget can now be combined with interactive `ipywidgets` - like \n",
    "sliders, boxes, and other container formatters."
   ]
  },
  {
   "cell_type": "code",
   "execution_count": null,
   "metadata": {},
   "outputs": [],
   "source": [
    "# create some control elements\n",
    "int_slider = widgets.IntSlider(value=1, min=0, max=10, step=1, description='freq')\n",
    "color_picker = widgets.ColorPicker(value=initial_color, description='pick a color')\n",
    "text_xlabel = widgets.Text(value='', description='xlabel', continuous_update=False)\n",
    "text_ylabel = widgets.Text(value='', description='ylabel', continuous_update=False)\n",
    " \n",
    "# callback functions\n",
    "def update(change):\n",
    "    \"\"\"redraw line (update plot)\"\"\"\n",
    "    line.set_ydata(np.sin(change.new * x))\n",
    "    fig.canvas.draw()\n",
    "     \n",
    "def line_color(change):\n",
    "    \"\"\"set line color\"\"\"\n",
    "    line.set_color(change.new)\n",
    "     \n",
    "def update_xlabel(change):\n",
    "    ax.set_xlabel(change.new)\n",
    "     \n",
    "def update_ylabel(change):\n",
    "    ax.set_ylabel(change.new)\n",
    " \n",
    "# connect callbacks and traits\n",
    "int_slider.observe(update, 'value')\n",
    "color_picker.observe(line_color, 'value')\n",
    "text_xlabel.observe(update_xlabel, 'value')\n",
    "text_ylabel.observe(update_ylabel, 'value')\n",
    " \n",
    "text_xlabel.value = 'x'\n",
    "text_ylabel.value = 'y'"
   ]
  },
  {
   "cell_type": "markdown",
   "metadata": {},
   "source": [
    "Putting the slider containers and the `output` widget into a `VBox` we get an interactive interface."
   ]
  },
  {
   "cell_type": "code",
   "execution_count": null,
   "metadata": {},
   "outputs": [],
   "source": [
    "controls = widgets.VBox([int_slider, color_picker, text_xlabel, text_ylabel])\n",
    "widgets.HBox([controls, output])"
   ]
  },
  {
   "cell_type": "markdown",
   "metadata": {},
   "source": [
    "The implementation of `InteractiveModel` and `IPWInteract` is implemented in python\n",
    "code of this package. It uses the above described functionality. Additionaly, it introduces\n",
    " - a generator of the sliders directly from the model parameters\n",
    " - multi-model interface with switching between different figure layouts for each model\n",
    " - handles the plot updates upon changes of model parameters."
   ]
  },
  {
   "cell_type": "code",
   "execution_count": null,
   "metadata": {},
   "outputs": [],
   "source": [
    "'''\n",
    "Matplotlib enhanced with interactive plotting using ipywidgets.\n",
    "\n",
    " - The IPWInteract class can generate a simple interface to a model that\n",
    "   inherits from InteractiveModel. The parameters specified in `param_names`\n",
    "   are included in the interactive interface.\n",
    "\n",
    "   Further, the order of param_names can be used to transform the traits\n",
    "   of the model into a tuple that calls that can be called the lambdified\n",
    "   functions. This feature is useful for direct integration of function\n",
    "   derived symbolically using sympy.\n",
    "'''\n",
    "\n",
    "import ipywidgets as ipw\n",
    "import traits.api as tr\n",
    "import matplotlib.pylab as plt\n",
    "\n",
    "get_params_tuple = lambda param_names, **kw: tuple(kw[name] for name in param_names)\n",
    "\n",
    "ipw_map = \\\n",
    "{\n",
    "    tr.Float: ipw.FloatSlider,\n",
    "    tr.Int: ipw.IntSlider\n",
    "}\n",
    "\n",
    "class IInteractiveModel(tr.Interface):\n",
    "    '''Interface of interactive models'''\n",
    "\n",
    "\n",
    "@tr.provides(IInteractiveModel)\n",
    "class InteractiveModel(tr.HasTraits):\n",
    "    '''Base class for interactive models'''\n",
    "\n",
    "    name = tr.Str(\"<unnamed>\")\n",
    "\n",
    "    param_names = tr.List(tr.Str,[])\n",
    "\n",
    "    def get_params(self):\n",
    "        param_dict = self.trait_get(param=True)\n",
    "        params = get_params_tuple(self.param_names, **param_dict)\n",
    "        return params\n",
    "\n",
    "    def subplots(self, fig):\n",
    "        return fig.subplots(1, 1)\n",
    "\n",
    "\n",
    "class IPWElement(tr.HasTraits):\n",
    "    '''Base class for interaction elements.'''\n",
    "    index = tr.Int\n",
    "\n",
    "class IPWInteract(tr.HasTraits):\n",
    "    '''Container class synchronizing the interaction elements with plotting area.\n",
    "    '''\n",
    "    models = tr.List(InteractiveModel)\n",
    "\n",
    "    ipw_elements = tr.List(IPWElement)\n",
    "\n",
    "    figsize = tr.Tuple(8,3)\n",
    "\n",
    "    def __init__(self, models, **kw):\n",
    "        super(IPWInteract, self).__init__(**kw)\n",
    "        if not (type(models) in [list, tuple]):\n",
    "            models = [models]\n",
    "        self.models = models\n",
    "        self.ipw_elements = [\n",
    "            IPWModelSliders(model=model, interactor=self, index=i)\n",
    "            for i, model in enumerate(models)\n",
    "        ]\n",
    "\n",
    "        self.output = ipw.Output()\n",
    "        with self.output:\n",
    "            f = plt.figure(figsize=self.figsize,\n",
    "                        constrained_layout=True)\n",
    "        f.canvas.toolbar_position = 'top'\n",
    "        f.canvas.header_visible = False\n",
    "        self.fig = f\n",
    "        self.axes = self.models[0].subplots(self.fig)\n",
    "\n",
    "    def __del__(self):\n",
    "        plt.close(self.fig)\n",
    "\n",
    "    def interact(self):\n",
    "        tab = self.widget_layout()\n",
    "        vb = ipw.VBox([self.output, tab])\n",
    "        display(vb)\n",
    "\n",
    "    def widget_layout(self):\n",
    "        self.tab = ipw.Tab()\n",
    "        keyval = [(elem.model.name, elem) for elem in self.ipw_elements]\n",
    "        self.tab.children = tuple(value.widget_layout() for _, value in keyval)\n",
    "        [self.tab.set_title(i, key) for i, (key, val) in enumerate(keyval)]\n",
    "        self.tab.observe(self.change_tab,'selected_index')\n",
    "        self.change_tab()\n",
    "        return self.tab\n",
    "\n",
    "    def change_tab(self, change=None):\n",
    "        index = self.tab.selected_index\n",
    "        self.fig.clf()\n",
    "        self.axes = self.ipw_elements[index].subplots(self.fig)\n",
    "        self.update_plot(index)\n",
    "\n",
    "    def update_plot(self, index):\n",
    "        '''update the visualization with updated models'''\n",
    "        _axes = self.axes\n",
    "        if not hasattr(_axes,'__iter__'):\n",
    "            _axes = [_axes]\n",
    "        for ax in _axes:\n",
    "            ax.clear()\n",
    "        self.ipw_elements[index].update_plot(self.axes)\n",
    "        if len(self.tab.children) > index:\n",
    "            self.tab.selected_index=index\n",
    "        self.fig.canvas.draw()\n",
    "\n",
    "\n",
    "class IPWModelSliders(IPWElement):\n",
    "    '''Model showing the max of the quadratic function'''\n",
    "\n",
    "    model = tr.Instance(IInteractiveModel)\n",
    "\n",
    "    interactor = tr.WeakRef\n",
    "\n",
    "    def set_interactor(self, interactor):\n",
    "        self.interactor = interactor\n",
    "\n",
    "    n_steps = tr.Int(20)\n",
    "\n",
    "    def get_sliders(self):\n",
    "        param_names = self.model.param_names\n",
    "        traits = self.model.traits(param=True)\n",
    "        vals = self.model.trait_get(param=True)\n",
    "        val_ = [vals[name] for name in param_names]\n",
    "        traits_ = [traits[name] for name in param_names]\n",
    "        minmax_ = [getattr(traits[name], 'minmax', 2) for name in param_names]\n",
    "        latex_ = [getattr(traits[name], 'latex', r'<none>') for name in param_names]\n",
    "#        return {name: ipw.FloatSlider(\n",
    "        return {name: ipw_map[trait_.trait_type.__class__](\n",
    "            value=val, min=minmax[0], max=minmax[1],\n",
    "            step=(minmax[1] - minmax[0]) / self.n_steps,\n",
    "            continuous_update=False,\n",
    "            description=r'\\(%s\\)' % latex)\n",
    "            for (name, trait_, val, latex, minmax) in\n",
    "            zip(param_names, traits_, val_, latex_, minmax_)\n",
    "        }\n",
    "\n",
    "    def slider_changed(self, change):\n",
    "        key = change.owner.key\n",
    "        val = change.new\n",
    "        keyval = {key:val}\n",
    "        self.model.trait_set(**keyval)\n",
    "        self.interactor.update_plot(self.index)\n",
    "\n",
    "    def widget_layout(self):\n",
    "        sliders = self.get_sliders()\n",
    "        for key, slider in sliders.items():\n",
    "            slider.key = key\n",
    "            slider.observe(self.slider_changed,'value')\n",
    "        # Originally, the interactive_ouput widget was used\n",
    "        # here. But in this way, the update method was called\n",
    "        # earlier than the tab change observer of the interactor\n",
    "        # This caused problems if axes object did not correspond\n",
    "        # to the model's update_plot method. Therefore,\n",
    "        # slider observer is now used , augmented with the trait name.\n",
    "        # out = ipw.interactive_output(self.update, sliders);\n",
    "        layout = ipw.Layout(grid_template_columns='1fr 1fr')\n",
    "        param_names = self.model.param_names\n",
    "        param_sliders_list = [sliders[name] for name in param_names]\n",
    "        grid = ipw.GridBox(param_sliders_list, layout=layout)\n",
    "        return grid\n",
    "\n",
    "    def subplots(self, fig):\n",
    "        return self.model.subplots(fig)\n",
    "\n",
    "    def update_plot(self, axes):\n",
    "        self.model.update_plot(axes)"
   ]
  },
  {
   "cell_type": "markdown",
   "metadata": {},
   "source": [
    "Consider an example of two models `Mod1` and `Mod2`"
   ]
  },
  {
   "cell_type": "code",
   "execution_count": null,
   "metadata": {},
   "outputs": [],
   "source": [
    "class Mod1(InteractiveModel):\n",
    "    name = 'model 1'\n",
    "    a = tr.Float(1,param=True,latex='a',minmax=(-5,5))\n",
    "    b = tr.Float(1,param=True,latex='b',minmax=(-5,5))\n",
    "    param_names = ['a', 'b']\n",
    "    def update_plot(self, ax):\n",
    "        x = np.linspace(-10,10,100)\n",
    "        y = self.a * x + self.b\n",
    "        ax.plot(x, y)\n",
    "class Mod2(InteractiveModel):\n",
    "    name = 'model 2'\n",
    "    a = tr.Float(1,param=True,latex='a',minmax=(-5,5))\n",
    "    b = tr.Float(1,param=True,latex='b',minmax=(-5,5))\n",
    "    n_c = tr.Int(10,param=True,latex='c', minmax=(0,100))\n",
    "    param_names = ['a', 'b', 'n_c']\n",
    "    def subplots(self,fig):\n",
    "        return fig.subplots(1,2)\n",
    "    def update_plot(self, axes):\n",
    "        ax1, ax2 = axes\n",
    "        x = np.linspace(-10,10,self.n_c)\n",
    "        y = self.a * x + self.b\n",
    "        ax1.plot(x, y)\n",
    "        ax2.plot(x, y)"
   ]
  },
  {
   "cell_type": "markdown",
   "metadata": {},
   "source": [
    "The interactive interface gets generated as follows"
   ]
  },
  {
   "cell_type": "code",
   "execution_count": null,
   "metadata": {},
   "outputs": [],
   "source": [
    "ii = IPWInteract([Mod1(),Mod2()])\n",
    "ii.interact()"
   ]
  },
  {
   "cell_type": "code",
   "execution_count": null,
   "metadata": {},
   "outputs": [],
   "source": []
  },
  {
   "cell_type": "code",
   "execution_count": null,
   "metadata": {},
   "outputs": [],
   "source": []
  }
 ],
 "metadata": {
  "kernelspec": {
   "display_name": "bmcs_env",
   "language": "python",
   "name": "bmcs_env"
  },
  "language_info": {
   "codemirror_mode": {
    "name": "ipython",
    "version": 3
   },
   "file_extension": ".py",
   "mimetype": "text/x-python",
   "name": "python",
   "nbconvert_exporter": "python",
   "pygments_lexer": "ipython3"
  },
  "toc": {
   "base_numbering": 1,
   "nav_menu": {},
   "number_sections": true,
   "sideBar": true,
   "skip_h1_title": false,
   "title_cell": "Table of Contents",
   "title_sidebar": "Contents",
   "toc_cell": false,
   "toc_position": {
    "height": "calc(100% - 180px)",
    "left": "10px",
    "top": "150px",
    "width": "165px"
   },
   "toc_section_display": true,
   "toc_window_display": true
  }
 },
 "nbformat": 4,
 "nbformat_minor": 4
}
