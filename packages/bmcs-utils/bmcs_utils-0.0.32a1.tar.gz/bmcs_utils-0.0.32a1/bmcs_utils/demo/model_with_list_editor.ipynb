{
 "cells": [
  {
   "cell_type": "markdown",
   "metadata": {
    "pycharm": {
     "name": "#%% md\n"
    }
   },
   "source": [
    "# List editor"
   ]
  },
  {
   "cell_type": "code",
   "execution_count": null,
   "metadata": {
    "pycharm": {
     "name": "#%%\n"
    }
   },
   "outputs": [],
   "source": [
    "%matplotlib widget\n",
    "import numpy as np\n",
    "\n",
    "import traits.api as tr\n",
    "\n",
    "from bmcs_utils.api import \\\n",
    "    Model, Float, View, Item, Instance, List, ListEditor, ModelDict"
   ]
  },
  {
   "cell_type": "code",
   "execution_count": null,
   "metadata": {
    "pycharm": {
     "name": "#%%\n"
    }
   },
   "outputs": [],
   "source": [
    "class ReinfLayer(Model):\n",
    "    name = 'layer 1'\n",
    "    position = Float(10, CS=True)\n",
    "    area = Float(10, CS=True)\n",
    "\n",
    "    ipw_view = View(\n",
    "        Item('position'),\n",
    "        Item('area')\n",
    "    )\n",
    "\n",
    "    def update_plot(self, axes):\n",
    "        pass\n",
    "\n",
    "class CrossSection(Model):\n",
    "\n",
    "    name = 'cross section'\n",
    "\n",
    "    inst = Instance(ReinfLayer, ())\n",
    "\n",
    "    layers = Instance(ModelDict, ())\n",
    "    \n",
    "    depends_on = ['layers']\n",
    "    ipw_tree = ['layers', 'inst']\n",
    "    \n",
    "    ipw_view = View(\n",
    "        Item('layers'),\n",
    "        Item('area')\n",
    "    )\n",
    "    \n",
    "    area = tr.Property(Float, depends_on='state_changed')\n",
    "    @tr.cached_property\n",
    "    def _get_area(self):\n",
    "        areas = np.array([layer.area for layer in self.layers.values()])\n",
    "        return np.sum(areas)"
   ]
  },
  {
   "cell_type": "code",
   "execution_count": null,
   "metadata": {
    "pycharm": {
     "name": "#%%\n"
    }
   },
   "outputs": [],
   "source": [
    "cs = CrossSection()\n",
    "cs.layers['one'] = ReinfLayer(name='l1', position=20)\n",
    "cs.layers['two'] = ReinfLayer(name='l2', position=10)"
   ]
  },
  {
   "cell_type": "code",
   "execution_count": null,
   "metadata": {
    "pycharm": {
     "name": "#%%\n"
    }
   },
   "outputs": [],
   "source": [
    "cs.area"
   ]
  },
  {
   "cell_type": "code",
   "execution_count": null,
   "metadata": {
    "pycharm": {
     "name": "#%%\n"
    }
   },
   "outputs": [],
   "source": [
    "cs.app()"
   ]
  },
  {
   "cell_type": "code",
   "execution_count": null,
   "metadata": {
    "pycharm": {
     "name": "#%%\n"
    }
   },
   "outputs": [],
   "source": []
  }
 ],
 "metadata": {
  "kernelspec": {
   "display_name": "Python 3 (ipykernel)",
   "language": "python",
   "name": "python3"
  },
  "language_info": {
   "codemirror_mode": {
    "name": "ipython",
    "version": 3
   },
   "file_extension": ".py",
   "mimetype": "text/x-python",
   "name": "python",
   "nbconvert_exporter": "python",
   "pygments_lexer": "ipython3"
  },
  "toc": {
   "base_numbering": 1,
   "nav_menu": {},
   "number_sections": true,
   "sideBar": true,
   "skip_h1_title": false,
   "title_cell": "Table of Contents",
   "title_sidebar": "Contents",
   "toc_cell": false,
   "toc_position": {},
   "toc_section_display": true,
   "toc_window_display": false
  }
 },
 "nbformat": 4,
 "nbformat_minor": 4
}
