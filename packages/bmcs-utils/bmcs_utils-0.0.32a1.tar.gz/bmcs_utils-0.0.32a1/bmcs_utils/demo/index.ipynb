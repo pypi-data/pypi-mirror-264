{
 "cells": [
  {
   "cell_type": "markdown",
   "metadata": {
    "pycharm": {
     "name": "#%% md\n"
    }
   },
   "source": [
    "# Interactive Jupyter Models\n",
    "\n",
    "This sheet demonstrates how to streamline\n",
    "the process from a model implementation\n",
    "to an interactive jupyter application that\n",
    "can be accessed by users via their\n",
    "browsers without any further software\n",
    "requirements.\n",
    "\n",
    "## Model view\n",
    "\n",
    "[Elementary structure](model_elementary.ipynb)\n",
    "\n",
    "## Progress and history\n",
    "\n",
    "[Model with progress bar](model_with_progress_bar.ipynb)\n",
    "\n",
    "[Model with history slider]()\n",
    "\n",
    "## Editors\n",
    "\n",
    "[List editor](list_editor.ipynb)\n",
    "\n",
    "## Tree structure\n",
    "\n",
    "[Tree structure](model_with_either_type.ipynb)\n",
    "\n",
    "## Notification system\n",
    "\n",
    "[Change propagation](model_state_change_propagation.ipynb)"
   ]
  },
  {
   "cell_type": "markdown",
   "metadata": {},
   "source": []
  }
 ],
 "metadata": {
  "kernelspec": {
   "display_name": "Python 3 (ipykernel)",
   "language": "python",
   "name": "python3"
  },
  "language_info": {
   "codemirror_mode": {
    "name": "ipython",
    "version": 3
   },
   "file_extension": ".py",
   "mimetype": "text/x-python",
   "name": "python",
   "nbconvert_exporter": "python",
   "pygments_lexer": "ipython3"
  },
  "toc": {
   "base_numbering": 1,
   "nav_menu": {},
   "number_sections": true,
   "sideBar": true,
   "skip_h1_title": true,
   "title_cell": "Table of Contents",
   "title_sidebar": "Contents",
   "toc_cell": false,
   "toc_position": {
    "height": "calc(100% - 180px)",
    "left": "10px",
    "top": "150px",
    "width": "169.817px"
   },
   "toc_section_display": true,
   "toc_window_display": true
  }
 },
 "nbformat": 4,
 "nbformat_minor": 4
}
