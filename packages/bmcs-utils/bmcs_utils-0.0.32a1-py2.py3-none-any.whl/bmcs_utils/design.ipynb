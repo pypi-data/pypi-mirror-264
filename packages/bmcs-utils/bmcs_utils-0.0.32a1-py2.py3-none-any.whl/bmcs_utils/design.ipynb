{
 "cells": [
  {
   "cell_type": "markdown",
   "metadata": {
    "pycharm": {
     "name": "#%% md\n"
    }
   },
   "source": [
    "# AppWindow\n",
    "\n",
    "AppWindow consists of several panes which are automatically\n",
    "filled depending on the current model. The `AppWindow` is\n",
    "contains the trait `model` which is used to construct a\n",
    "tree structure in the `tree_pane`. The selected tree\n",
    "node is used to fill the other panes of the `AppWindow`, namely\n",
    "\n",
    " - toolbar_pane\n",
    " - edit_pane\n",
    " - display_pane\n",
    "   - plot2d_pane\n",
    "   - plot3d_pane\n",
    "   - doc_pane\n",
    "\n",
    "# ModelComponent\n",
    "\n",
    "A ModelComponent is mapping input parameters to a\n",
    "output parameters via a set of formulas.\n",
    "It also specifies `view` trait ```View``` to display and edit\n",
    "the input parameters of the model and `control`\n",
    "handler `Control` to provide a more advanced\n",
    "user interaction with the model, e.g. start, resume, interupt\n",
    "a simulation at a component level.\n",
    "\n",
    "## Interaction between a model component and AppWindow\n",
    "\n",
    "A model component should be able to display its content\n",
    "within the display pane. ModelDisplay has three tabs\n",
    "which are used for 2d plotting, 3d plotting and model documentation\n",
    "in a form of a markdown text interleaved with formulas, either\n",
    "in latex or generated via sympy.\n",
    "In this way, it might be possible to design a model componennt\n",
    "displaying the Helmholtz potential, visualize its derivatives\n",
    "within the space of state variables.\n",
    "\n",
    "Model components are\n",
    "\n"
   ]
  }
 ],
 "metadata": {
  "kernelspec": {
   "display_name": "Python 3",
   "language": "python",
   "name": "python3"
  },
  "language_info": {
   "codemirror_mode": {
    "name": "ipython",
    "version": 2
   },
   "file_extension": ".py",
   "mimetype": "text/x-python",
   "name": "python",
   "nbconvert_exporter": "python",
   "pygments_lexer": "ipython2"
  }
 },
 "nbformat": 4,
 "nbformat_minor": 0
}
