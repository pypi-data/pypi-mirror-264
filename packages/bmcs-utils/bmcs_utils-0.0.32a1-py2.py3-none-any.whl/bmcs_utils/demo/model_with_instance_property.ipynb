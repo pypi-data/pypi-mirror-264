{
 "cells": [
  {
   "cell_type": "code",
   "execution_count": null,
   "metadata": {
    "pycharm": {
     "name": "#%%\n"
    }
   },
   "outputs": [],
   "source": [
    "%matplotlib widget"
   ]
  },
  {
   "cell_type": "markdown",
   "metadata": {},
   "source": [
    "To capture the dependencies with of a parent-child type, instances emust be used. Thus, only instances and their derivates, e.g. either types or containers can be included in the `depends_on` list.\n",
    "\n",
    "On the other hand `ipw_tree` can contain both instances and cached properties."
   ]
  },
  {
   "cell_type": "code",
   "execution_count": null,
   "metadata": {
    "pycharm": {
     "name": "#%%\n"
    }
   },
   "outputs": [],
   "source": [
    "import bmcs_utils.api as bu\n",
    "import traits.api as tr\n",
    "from bmcs_utils.trait_types import EitherType, Instance\n",
    "from bmcs_utils.editors import EitherTypeEditor"
   ]
  },
  {
   "cell_type": "code",
   "execution_count": null,
   "metadata": {
    "jupyter": {
     "outputs_hidden": false
    },
    "pycharm": {
     "name": "#%%\n"
    }
   },
   "outputs": [],
   "source": [
    "class A(bu.Model):\n",
    "    a = bu.Int(4, MAT=True)\n",
    "    \n",
    "    ipw_view = bu.View(\n",
    "        bu.Item('a')\n",
    "    )\n",
    "\n",
    "class X(bu.Model):\n",
    "    name = 'X'\n",
    "    \n",
    "    a_instance = bu.Instance(A)\n",
    "    def _a_instance_default(self):\n",
    "        return A(a=3)\n",
    "    \n",
    "    a_updated = tr.Property(bu.Int, depends_on='state_changed')\n",
    "    @tr.cached_property\n",
    "    def _get_a_updated(self):\n",
    "        return self.a_instance.a\n",
    "\n",
    "    depends_on = ['a_instance']\n",
    "    \n",
    "    ipw_tree = ['a_instance']\n",
    "    ipw_view = bu.View(\n",
    "        bu.Item('a_instance'),\n",
    "        bu.Item('a_updated', readonly=True)\n",
    "    )"
   ]
  },
  {
   "cell_type": "code",
   "execution_count": null,
   "metadata": {
    "jupyter": {
     "outputs_hidden": false
    },
    "pycharm": {
     "name": "#%%\n"
    }
   },
   "outputs": [],
   "source": [
    "x = X(a_instance=A())\n",
    "x.interact()"
   ]
  },
  {
   "cell_type": "code",
   "execution_count": null,
   "metadata": {
    "jupyter": {
     "outputs_hidden": false
    },
    "pycharm": {
     "name": "#%%\n"
    }
   },
   "outputs": [],
   "source": [
    "class Y(bu.Model):\n",
    "    name = 'Y'\n",
    "    \n",
    "    x = bu.Instance(X, ())\n",
    "    \n",
    "    a_updated = tr.Property(bu.Int, depends_on='state_changed')\n",
    "    @tr.cached_property\n",
    "    def _get_a_updated(self):\n",
    "        return self.a_property.a\n",
    "    \n",
    "    a_property = tr.Property(bu.Instance(A), depends_on='state_changed')\n",
    "    @tr.cached_property\n",
    "    def _get_a_property(self):\n",
    "        return self.x.a_instance\n",
    "    \n",
    "    depends_on = ['x']\n",
    "    ipw_tree = ['a_property', 'x']\n",
    "    \n",
    "    ipw_view = bu.View(\n",
    "        bu.Item('a_updated')\n",
    "    )\n"
   ]
  },
  {
   "cell_type": "code",
   "execution_count": null,
   "metadata": {
    "jupyter": {
     "outputs_hidden": false
    },
    "pycharm": {
     "name": "#%%\n"
    }
   },
   "outputs": [],
   "source": [
    "y = Y()\n",
    "y.interact()"
   ]
  }
 ],
 "metadata": {
  "kernelspec": {
   "display_name": "Python 3 (ipykernel)",
   "language": "python",
   "name": "python3"
  },
  "language_info": {
   "codemirror_mode": {
    "name": "ipython",
    "version": 3
   },
   "file_extension": ".py",
   "mimetype": "text/x-python",
   "name": "python",
   "nbconvert_exporter": "python",
   "pygments_lexer": "ipython3"
  },
  "toc": {
   "base_numbering": 1,
   "nav_menu": {},
   "number_sections": true,
   "sideBar": true,
   "skip_h1_title": false,
   "title_cell": "Table of Contents",
   "title_sidebar": "Contents",
   "toc_cell": false,
   "toc_position": {},
   "toc_section_display": true,
   "toc_window_display": false
  }
 },
 "nbformat": 4,
 "nbformat_minor": 4
}
