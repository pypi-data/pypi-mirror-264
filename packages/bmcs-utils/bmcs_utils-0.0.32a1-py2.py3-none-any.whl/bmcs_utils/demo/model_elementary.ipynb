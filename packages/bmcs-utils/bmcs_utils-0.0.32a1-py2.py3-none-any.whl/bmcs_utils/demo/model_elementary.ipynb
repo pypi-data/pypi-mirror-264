{
 "cells": [
  {
   "cell_type": "code",
   "execution_count": null,
   "metadata": {},
   "outputs": [],
   "source": [
    "%matplotlib widget"
   ]
  },
  {
   "cell_type": "code",
   "execution_count": null,
   "metadata": {
    "pycharm": {
     "is_executing": true
    }
   },
   "outputs": [],
   "source": [
    "import bmcs_utils.api as bu\n",
    "import numpy as np\n",
    "\n",
    "class ModelExample(bu.Model):\n",
    "\n",
    "    name = 'Model example'\n",
    "    first = bu.Float(10.5)\n",
    "    raise_exception = bu.Bool(False)\n",
    "\n",
    "    ipw_view = bu.View(\n",
    "        bu.Item('first'),\n",
    "        bu.Item('raise_exception')\n",
    "    )\n",
    "\n",
    "    def update_plot(self, axes):\n",
    "        if self.raise_exception:\n",
    "            raise IndexError()\n",
    "        x_range = np.linspace(0,1,100)\n",
    "        y_range = x_range**self.first\n",
    "        print('plotting', axes)\n",
    "        axes.plot(x_range, y_range)\n"
   ]
  },
  {
   "cell_type": "code",
   "execution_count": null,
   "metadata": {},
   "outputs": [],
   "source": [
    "me = ModelExample()"
   ]
  },
  {
   "cell_type": "code",
   "execution_count": null,
   "metadata": {},
   "outputs": [],
   "source": [
    "me.interact()"
   ]
  },
  {
   "cell_type": "code",
   "execution_count": null,
   "metadata": {},
   "outputs": [],
   "source": []
  },
  {
   "cell_type": "code",
   "execution_count": null,
   "metadata": {},
   "outputs": [],
   "source": []
  }
 ],
 "metadata": {
  "interpreter": {
   "hash": "ebcff91b5d652715d8939a8899ef0ddafa7c15917479d2b47c651d9565cfe207"
  },
  "kernelspec": {
   "display_name": "bmcs_env",
   "language": "python",
   "name": "bmcs_env"
  },
  "language_info": {
   "codemirror_mode": {
    "name": "ipython",
    "version": 3
   },
   "file_extension": ".py",
   "mimetype": "text/x-python",
   "name": "python",
   "nbconvert_exporter": "python",
   "pygments_lexer": "ipython3"
  },
  "toc": {
   "base_numbering": 1,
   "nav_menu": {},
   "number_sections": true,
   "sideBar": true,
   "skip_h1_title": true,
   "title_cell": "Table of Contents",
   "title_sidebar": "Contents",
   "toc_cell": false,
   "toc_position": {},
   "toc_section_display": true,
   "toc_window_display": false
  }
 },
 "nbformat": 4,
 "nbformat_minor": 4
}
