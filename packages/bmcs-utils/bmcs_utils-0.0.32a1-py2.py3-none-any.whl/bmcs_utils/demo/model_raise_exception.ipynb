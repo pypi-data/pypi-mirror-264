{
 "cells": [
  {
   "cell_type": "markdown",
   "id": "infectious-rogers",
   "metadata": {},
   "source": [
    "# Example code snippet showing working switch between plot panes"
   ]
  },
  {
   "cell_type": "markdown",
   "id": "utility-firewall",
   "metadata": {},
   "source": [
    "First show the minimalistic implementation of the `AppWindow` class."
   ]
  },
  {
   "cell_type": "code",
   "execution_count": null,
   "id": "solved-happiness",
   "metadata": {
    "pycharm": {
     "name": "#%%\n"
    }
   },
   "outputs": [],
   "source": [
    "%matplotlib widget\n",
    "import bmcs_utils.api as bu"
   ]
  },
  {
   "cell_type": "code",
   "execution_count": null,
   "id": "orange-zimbabwe",
   "metadata": {},
   "outputs": [],
   "source": [
    "class TopLevelModel(bu.Model):\n",
    "    name = 'example of a top-level model'\n",
    "    a = bu.Float(8)\n",
    "    \n",
    "    ipw_view = bu.View(\n",
    "        bu.Item('a')\n",
    "    )\n",
    "    \n",
    "    def update_plot(self,ax):\n",
    "        print('plotting')"
   ]
  },
  {
   "cell_type": "markdown",
   "id": "baking-generator",
   "metadata": {},
   "source": [
    "Instantiate the model and render it for interaction. Subcomponents\n",
    "have different plot adapters which are immediately rendered to the plot pane.\n",
    "The `AppWindow` can be launched from any model by issuing the `interact` or `app` method."
   ]
  },
  {
   "cell_type": "code",
   "execution_count": null,
   "id": "furnished-conservation",
   "metadata": {},
   "outputs": [],
   "source": [
    "TopLevelModel().interact()"
   ]
  },
  {
   "cell_type": "markdown",
   "id": "authentic-spanking",
   "metadata": {},
   "source": [
    "The subcomponent used in the previous example can be used as a top level component as well."
   ]
  },
  {
   "cell_type": "code",
   "execution_count": null,
   "id": "e2c8d708-5ae1-4899-8560-42919364b0e8",
   "metadata": {},
   "outputs": [],
   "source": []
  }
 ],
 "metadata": {
  "kernelspec": {
   "display_name": "bmcs_env",
   "language": "python",
   "name": "bmcs_env"
  },
  "language_info": {
   "codemirror_mode": {
    "name": "ipython",
    "version": 3
   },
   "file_extension": ".py",
   "mimetype": "text/x-python",
   "name": "python",
   "nbconvert_exporter": "python",
   "pygments_lexer": "ipython3"
  },
  "toc": {
   "base_numbering": 1,
   "nav_menu": {},
   "number_sections": true,
   "sideBar": true,
   "skip_h1_title": true,
   "title_cell": "Table of Contents",
   "title_sidebar": "Contents",
   "toc_cell": false,
   "toc_position": {},
   "toc_section_display": true,
   "toc_window_display": false
  }
 },
 "nbformat": 4,
 "nbformat_minor": 5
}
