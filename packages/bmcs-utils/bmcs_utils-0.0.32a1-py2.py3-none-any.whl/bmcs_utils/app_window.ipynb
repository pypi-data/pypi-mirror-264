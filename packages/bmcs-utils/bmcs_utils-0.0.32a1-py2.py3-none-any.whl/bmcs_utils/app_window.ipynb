{
 "cells": [
  {
   "cell_type": "code",
   "execution_count": null,
   "metadata": {},
   "outputs": [],
   "source": [
    "%matplotlib widget\n",
    "from bmcs_utils.app_window import \\\n",
    "    AppWindow\n",
    "\n",
    "from bmcs_utils.model import Model\n",
    "from bmcs_utils.view import View\n",
    "from bmcs_utils.item import Item\n",
    "\n",
    "from bmcs_utils.trait_types import \\\n",
    "    Float, Bool, Int, FloatRangeEditor\n",
    "\n",
    "class ExampleModel(Model):\n",
    "\n",
    "    a = Float(20)\n",
    "\n",
    "    a_min = Float(1)\n",
    "    a_max = Float(8)\n",
    "    b = Float(80)\n",
    "    c = Bool(True)\n",
    "\n",
    "    ipw_view = View(\n",
    "        Item('a', editor=FloatRangeEditor(\n",
    "            low_name='a_min', high_name='a_max')),\n",
    "        Item('b'),\n",
    "        Item('c')\n",
    "    )\n",
    "\n",
    "    def update_plot(self, ax):\n",
    "        pass"
   ]
  },
  {
   "cell_type": "code",
   "execution_count": null,
   "metadata": {
    "pycharm": {
     "name": "#%%\n"
    }
   },
   "outputs": [],
   "source": [
    "m = Model()\n",
    "ii = AppWindow(m)\n",
    "ii.interact()"
   ]
  },
  {
   "cell_type": "code",
   "execution_count": null,
   "metadata": {
    "pycharm": {
     "name": "#%%\n"
    }
   },
   "outputs": [],
   "source": [
    "\n",
    "\n"
   ]
  }
 ],
 "metadata": {
  "kernelspec": {
   "display_name": "bmcs_env",
   "language": "python",
   "name": "bmcs_env"
  },
  "language_info": {
   "codemirror_mode": {
    "name": "ipython",
    "version": 3
   },
   "file_extension": ".py",
   "mimetype": "text/x-python",
   "name": "python",
   "nbconvert_exporter": "python",
   "pygments_lexer": "ipython3"
  },
  "toc": {
   "base_numbering": 1,
   "nav_menu": {},
   "number_sections": true,
   "sideBar": true,
   "skip_h1_title": false,
   "title_cell": "Table of Contents",
   "title_sidebar": "Contents",
   "toc_cell": false,
   "toc_position": {},
   "toc_section_display": true,
   "toc_window_display": false
  }
 },
 "nbformat": 4,
 "nbformat_minor": 1
}
