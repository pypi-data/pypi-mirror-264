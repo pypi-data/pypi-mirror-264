{
 "cells": [
  {
   "cell_type": "code",
   "execution_count": 6,
   "metadata": {},
   "outputs": [],
   "source": [
    "import pandas as pd\n",
    "import matplotlib.pyplot as plt\n",
    "\n",
    "from sklearn.datasets import fetch_california_housing\n",
    "from sklearn.model_selection import train_test_split\n",
    "from sklearn.metrics import mean_squared_error\n",
    "\n",
    "from rapidgbm import RapidGBMTuner"
   ]
  },
  {
   "cell_type": "code",
   "execution_count": 2,
   "metadata": {},
   "outputs": [],
   "source": [
    "X, y = fetch_california_housing(return_X_y=True, as_frame=True)\n",
    "X_train, X_test, y_train, y_test = train_test_split(X, y, random_state=0)"
   ]
  },
  {
   "cell_type": "code",
   "execution_count": 4,
   "metadata": {},
   "outputs": [
    {
     "name": "stderr",
     "output_type": "stream",
     "text": [
      "[I 2024-03-23 18:09:54,240] A new study created in memory with name: no-name-7175bc79-612e-4c59-a692-9803a6b68d3b\n"
     ]
    },
    {
     "name": "stdout",
     "output_type": "stream",
     "text": [
      "\n",
      " * Initiating LGBMTuner.fit\n",
      "     . Settings:\n",
      "     .. Trying 4 trials\n",
      "     .. Evaluation metric: mae \n",
      "     .. Study direction: minimize mae\n",
      "\n"
     ]
    },
    {
     "name": "stderr",
     "output_type": "stream",
     "text": [
      "[I 2024-03-23 18:10:07,293] Trial 0 finished with value: 0.2897430156153537 and parameters: {'feature_fraction': 0.6872700594236812, 'num_leaves': 244}. Best is trial 0 with value: 0.2897430156153537.\n"
     ]
    },
    {
     "name": "stdout",
     "output_type": "stream",
     "text": [
      "     . Trial number: 0 finished\n",
      "     .. Optimization score (lower-better): mae: 0.2897430156153537\n",
      " ...........................................................................\n"
     ]
    },
    {
     "name": "stderr",
     "output_type": "stream",
     "text": [
      "[I 2024-03-23 18:10:17,035] Trial 1 finished with value: 0.29579712766650956 and parameters: {'feature_fraction': 0.8659969709057025, 'num_leaves': 159}. Best is trial 0 with value: 0.2897430156153537.\n"
     ]
    },
    {
     "name": "stdout",
     "output_type": "stream",
     "text": [
      "     . Trial number: 1 finished\n",
      "     .. Optimization score (lower-better): mae: 0.29579712766650956\n",
      " ...........................................................................\n"
     ]
    },
    {
     "name": "stderr",
     "output_type": "stream",
     "text": [
      "[I 2024-03-23 18:10:25,177] Trial 2 finished with value: 0.283817135831635 and parameters: {'feature_fraction': 0.5780093202212182, 'num_leaves': 53}. Best is trial 2 with value: 0.283817135831635.\n"
     ]
    },
    {
     "name": "stdout",
     "output_type": "stream",
     "text": [
      "     . Trial number: 2 finished\n",
      "     .. Optimization score (lower-better): mae: 0.283817135831635\n",
      " ...........................................................................\n"
     ]
    },
    {
     "name": "stderr",
     "output_type": "stream",
     "text": [
      "[I 2024-03-23 18:10:40,643] Trial 3 finished with value: 0.3170478138815479 and parameters: {'feature_fraction': 0.5290418060840998, 'num_leaves': 223}. Best is trial 2 with value: 0.283817135831635.\n"
     ]
    },
    {
     "name": "stdout",
     "output_type": "stream",
     "text": [
      "     . Trial number: 3 finished\n",
      "     .. Optimization score (lower-better): mae: 0.3170478138815479\n",
      " ...........................................................................\n",
      "\n",
      "   - Fitting optimized model with the following params:\n",
      "learning_rate                    : 0.02\n",
      "num_leaves                       : 53\n",
      "feature_fraction                 : 0.5780093202212182\n",
      "bagging_fraction                 : 0.9\n",
      "verbosity                        : -1\n",
      "random_state                     : 42\n",
      "device_type                      : cpu\n",
      "objective                        : regression\n",
      "metric                           : l1\n",
      "num_threads                      : 6\n",
      "lambda_l1                        : 0.5\n",
      "num_iterations                   : 2089\n",
      "\n",
      "     . Optuna hyperparameters optimization finished\n",
      "     .. Best trial number: 2    |     mae:            0.283817135831635\n",
      " ---------------------------------------------------------------------------\n",
      "\n",
      "Time elapsed for fit execution: 53.45144 seconds\n"
     ]
    }
   ],
   "source": [
    "tuner = RapidGBMTuner(metric = 'mae', trials = 4, verbosity = 5, visualization=False)\n",
    "tuner.fit(X_train, y_train)"
   ]
  },
  {
   "cell_type": "code",
   "execution_count": 7,
   "metadata": {},
   "outputs": [
    {
     "data": {
      "text/plain": [
       "0.18446140275456893"
      ]
     },
     "execution_count": 7,
     "metadata": {},
     "output_type": "execute_result"
    }
   ],
   "source": [
    "mean_squared_error(y_test, tuner.predict(X_test))"
   ]
  },
  {
   "cell_type": "code",
   "execution_count": null,
   "metadata": {},
   "outputs": [],
   "source": []
  }
 ],
 "metadata": {
  "kernelspec": {
   "display_name": ".venv",
   "language": "python",
   "name": "python3"
  },
  "language_info": {
   "codemirror_mode": {
    "name": "ipython",
    "version": 3
   },
   "file_extension": ".py",
   "mimetype": "text/x-python",
   "name": "python",
   "nbconvert_exporter": "python",
   "pygments_lexer": "ipython3",
   "version": "3.10.8"
  }
 },
 "nbformat": 4,
 "nbformat_minor": 2
}
