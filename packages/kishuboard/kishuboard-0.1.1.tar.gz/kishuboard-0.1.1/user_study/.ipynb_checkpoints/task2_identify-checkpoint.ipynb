{
 "cells": [
  {
   "cell_type": "markdown",
   "id": "ff189b3b-c1f4-43fe-90bd-3276db946aca",
   "metadata": {},
   "source": [
    "# Identifying Bugs\n",
    "\n",
    "On a usual Thursday afternoon, your co-workers suddenly asked you to model the median housing price in California. They urgently expect the model in 30 minutes.\n",
    "\n",
    "You look around... Turns out everyone at your company is doing the same thing and is grabbing a limited number of Jupyter Notebook sessions for their own. As a result of the high demand, __this Jupyter Notebook session will be slowed down and restarted at some point__.\n",
    "\n",
    "_I'm in luck_. Years ago, you wrote the exact notebook you used to accurately model housing prices!\n",
    "\n",
    "... _But_ ... just now you remember that it may be packed with bugs!!!\n",
    "\n",
    "You don't have time to start from zero. You __must__ make this notebook work. In the middle of the Jupyter Notebook shortage.\n",
    "\n",
    "__Can you successfully run this notebook and submit the model in time??__"
   ]
  },
  {
   "cell_type": "markdown",
   "id": "7eb66f7f-b702-417e-a849-9ae17fe1f248",
   "metadata": {},
   "source": [
    "____________________"
   ]
  },
  {
   "cell_type": "markdown",
   "id": "6b3ac00f-b75e-49f1-a734-8bc3d431b940",
   "metadata": {},
   "source": [
    "# The Notebook"
   ]
  },
  {
   "cell_type": "markdown",
   "id": "04d3b348-b8d1-44dc-8e19-6648f17d3275",
   "metadata": {
    "jp-MarkdownHeadingCollapsed": true
   },
   "source": [
    "**Hint: Run every cell one by one up to \"Part 1\" section.**"
   ]
  },
  {
   "cell_type": "code",
   "execution_count": null,
   "id": "77ba1580-2237-49cf-9464-4ea723231fd7",
   "metadata": {},
   "outputs": [],
   "source": [
    "import numpy as np\n",
    "import pandas as pd\n",
    "import matplotlib.pyplot as plt\n",
    "import seaborn as sns\n",
    "from pandas.plotting import scatter_matrix\n",
    "from sklearn.impute import SimpleImputer\n",
    "from sklearn.preprocessing import LabelEncoder\n",
    "from sklearn.model_selection import train_test_split\n",
    "from sklearn.preprocessing import StandardScaler\n",
    "from sklearn.linear_model import LinearRegression\n",
    "from sklearn.tree import DecisionTreeRegressor\n",
    "from sklearn import metrics\n",
    "from kishu.user_study import install_submit_cell_execution\n",
    "install_submit_cell_execution()\n",
    "pd.options.mode.chained_assignment = None\n",
    "\n",
    "np.random.seed(42)"
   ]
  },
  {
   "cell_type": "markdown",
   "id": "f507ba3d-3c7b-408f-87dd-dcadc76648a8",
   "metadata": {},
   "source": [
    "Read in the dataset."
   ]
  },
  {
   "cell_type": "code",
   "execution_count": null,
   "id": "5af802dd-bd81-4ec3-9b44-9d55fb15e7fa",
   "metadata": {},
   "outputs": [],
   "source": [
    "housing = pd.read_csv(\"./housing_california.csv\")"
   ]
  },
  {
   "cell_type": "code",
   "execution_count": null,
   "id": "0a726858-b53f-4dcc-81ab-0afbd32b2368",
   "metadata": {},
   "outputs": [],
   "source": [
    "print(housing.head())"
   ]
  },
  {
   "cell_type": "code",
   "execution_count": null,
   "id": "93affc96-61b3-40c3-9162-b7188c034d79",
   "metadata": {},
   "outputs": [],
   "source": [
    "print(housing.dtypes)"
   ]
  },
  {
   "cell_type": "code",
   "execution_count": null,
   "id": "6adf5a89-b28e-46bc-86d3-feaf878a24c3",
   "metadata": {},
   "outputs": [],
   "source": [
    "housing.isnull().sum()"
   ]
  },
  {
   "cell_type": "code",
   "execution_count": null,
   "id": "da09078f-30ca-4492-9b76-545b175502b1",
   "metadata": {},
   "outputs": [],
   "source": [
    "housing.hist(figsize=(25,25),bins=50);"
   ]
  },
  {
   "cell_type": "code",
   "execution_count": null,
   "id": "db8fdfdf-0c53-4052-8c99-fdbcf67ad785",
   "metadata": {},
   "outputs": [],
   "source": [
    "hcorr = housing.corr()\n",
    "hcorr.style.background_gradient()"
   ]
  },
  {
   "cell_type": "code",
   "execution_count": null,
   "id": "076fed1f-9ff6-411e-a523-cf8300a7b0c2",
   "metadata": {
    "scrolled": true
   },
   "outputs": [],
   "source": [
    "from sklearn.impute import KNNImputer\n",
    "from sklearn.preprocessing import MinMaxScaler"
   ]
  },
  {
   "cell_type": "code",
   "execution_count": null,
   "id": "24fa41da-dbc4-4ed6-97e0-0ee22097dc78",
   "metadata": {},
   "outputs": [],
   "source": [
    "# Normalize dataset columns by scaling.\n",
    "scaler = MinMaxScaler()\n",
    "housing_imputed = pd.DataFrame(scaler.fit_transform(housing), columns=housing.columns)"
   ]
  },
  {
   "cell_type": "code",
   "execution_count": null,
   "id": "96d4cd1a-2455-44e5-a34b-d982b465bbbe",
   "metadata": {},
   "outputs": [],
   "source": [
    "# Fit a KNN for imputing missing values.\n",
    "knn_imputer = KNNImputer(n_neighbors=2)\n",
    "housing_imputed = pd.DataFrame(knn_imputer.fit_transform(housing_imputed), columns=housing.columns)"
   ]
  },
  {
   "cell_type": "code",
   "execution_count": null,
   "id": "b3a29b90-f659-4ddf-88a2-c6aa6d8f8e77",
   "metadata": {},
   "outputs": [],
   "source": [
    "# Predict the imputed dataset based on KNN clusters\n",
    "housing_imputed = pd.DataFrame(scaler.inverse_transform(housing_imputed), columns=housing.columns)"
   ]
  },
  {
   "cell_type": "code",
   "execution_count": null,
   "id": "a0e62c78-705c-49d5-9da3-6681924524f5",
   "metadata": {},
   "outputs": [],
   "source": [
    "# Replace the missing values in the original dataframe.\n",
    "housing = housing_imputed[~housing['total_bedrooms'].isna()]"
   ]
  },
  {
   "cell_type": "code",
   "execution_count": null,
   "id": "85802714-ec1f-40cc-8acc-2f35d453ad36",
   "metadata": {},
   "outputs": [],
   "source": [
    "# Stratified train-test split: first categorize the median income by quantizing.\n",
    "housing['income_cat'] = np.ceil(housing['median_income']/1.5)"
   ]
  },
  {
   "cell_type": "code",
   "execution_count": null,
   "id": "4aae7f68-9c7a-45ff-8aca-4ef2902378ce",
   "metadata": {},
   "outputs": [],
   "source": [
    "# Clamp the maximum category.\n",
    "housing['income_cat'].where(housing['income_cat']<5, 5.0, inplace=True)"
   ]
  },
  {
   "cell_type": "code",
   "execution_count": null,
   "id": "a23c0e31-2c35-4667-8785-a516476b2737",
   "metadata": {},
   "outputs": [],
   "source": [
    "# Split train and test by stratified sampling on income category.\n",
    "tr_data,te_data = train_test_split(housing, test_size=0.2,stratify=housing['income_cat'])"
   ]
  },
  {
   "cell_type": "code",
   "execution_count": null,
   "id": "c049e1d3-0a26-46aa-9780-045ac81b16f5",
   "metadata": {},
   "outputs": [],
   "source": [
    "# Drop the intermediate column (income category).\n",
    "housing.drop('income_cat',axis=1)\n",
    "tr_data.drop('income_cat',axis=1)\n",
    "te_data.drop('income_cat',axis=1)"
   ]
  },
  {
   "cell_type": "markdown",
   "id": "28056a9b-369f-4c3a-8066-9716f68fbd4b",
   "metadata": {},
   "source": [
    "Split between features and values to predict."
   ]
  },
  {
   "cell_type": "code",
   "execution_count": null,
   "id": "e1a287e7-ba2a-4e2c-8aaf-309d94618fcc",
   "metadata": {},
   "outputs": [],
   "source": [
    "X_train = tr_data.drop('median_house_value', axis=1)\n",
    "Y_train = tr_data['median_house_value']"
   ]
  },
  {
   "cell_type": "code",
   "execution_count": null,
   "id": "851f72d3-b4e4-42cc-9648-6ed2fb413221",
   "metadata": {},
   "outputs": [],
   "source": [
    "X_test = te_data.drop('median_house_value', axis=1)\n",
    "Y_test = te_data['median_house_value']"
   ]
  },
  {
   "cell_type": "markdown",
   "id": "e419fdbc-dd1c-465a-aaf7-bb33e338b95d",
   "metadata": {},
   "source": [
    "Drop unnecessary columns."
   ]
  },
  {
   "cell_type": "code",
   "execution_count": null,
   "id": "d0fd318a-a0f9-4bb0-93e9-edd997ad36f5",
   "metadata": {},
   "outputs": [],
   "source": [
    "del X_train['latitude']\n",
    "del X_train['total_rooms']\n",
    "del X_train['households']"
   ]
  },
  {
   "cell_type": "code",
   "execution_count": null,
   "id": "8f21751e-6f19-4849-9c49-b52ba7bcda72",
   "metadata": {},
   "outputs": [],
   "source": [
    "del X_test['latitude']\n",
    "del X_test['total_rooms']\n",
    "del X_test['households']"
   ]
  },
  {
   "cell_type": "markdown",
   "id": "7dccfbe2-b65b-4f8f-b7bb-5c1d959f96f5",
   "metadata": {
    "jp-MarkdownHeadingCollapsed": true
   },
   "source": [
    "## Part 1\n",
    "\n",
    "Please do **not** edit cells in this section."
   ]
  },
  {
   "cell_type": "code",
   "execution_count": null,
   "id": "0e32a35a-ef83-47be-a574-ef9d0b6794f1",
   "metadata": {},
   "outputs": [],
   "source": [
    "from kishu.user_study import check_train_test_dataset\n",
    "check_pass = check_train_test_dataset(X_train, Y_train, X_test, Y_test)"
   ]
  },
  {
   "cell_type": "markdown",
   "id": "e64b1fb9-2bce-4447-8501-50b52a715450",
   "metadata": {},
   "source": [
    "**Task**: Identify which **cell** removes rows from the dataset.\n",
    "\n",
    "**Please contact the staff after successfully identifying the cell.**"
   ]
  },
  {
   "cell_type": "code",
   "execution_count": null,
   "id": "fad15b95-2851-4588-9179-5cd62239bcb7",
   "metadata": {},
   "outputs": [],
   "source": [
    "assert check_pass, \"Must fix the previous bug before continuing\""
   ]
  },
  {
   "cell_type": "markdown",
   "id": "ad32f412-473a-477d-b367-d54204ff455f",
   "metadata": {
    "jp-MarkdownHeadingCollapsed": true
   },
   "source": [
    "## Part 2\n",
    "\n",
    "Please do **not** edit cells in this section."
   ]
  },
  {
   "cell_type": "markdown",
   "id": "1a2d0dc9-3019-4067-8064-439307d7177a",
   "metadata": {},
   "source": [
    "Your Jupyter Notebook session is being restarted due to the high demand!\n",
    "\n",
    "**Please manually restart the kernel (\"Kernel\" > \"Restart Kernel...\") and continue.**\n",
    "\n",
    "**Hint**: After the restart, you may need to restore the state."
   ]
  },
  {
   "cell_type": "markdown",
   "id": "27826eb7-622c-4666-8970-2db01e4efd4e",
   "metadata": {
    "jp-MarkdownHeadingCollapsed": true
   },
   "source": [
    "## Part 3\n",
    "\n",
    "Please do **not** edit cells in this section."
   ]
  },
  {
   "cell_type": "code",
   "execution_count": null,
   "id": "a3d7a2d7-1b10-43dd-956f-75ff80a37d1f",
   "metadata": {},
   "outputs": [],
   "source": [
    "# Fit a linear model.\n",
    "model = LinearRegression(n_jobs=-1)\n",
    "model.fit(X_train,Y_train)\n",
    "Y_pred = model.predict(X_test)\n",
    "rmse = np.sqrt(metrics.mean_squared_error(Y_test,Y_pred))\n",
    "print(f\"RMSE= {rmse}\")"
   ]
  },
  {
   "cell_type": "code",
   "execution_count": null,
   "id": "b06b9085-2efe-49e6-afcd-f6151474f749",
   "metadata": {},
   "outputs": [],
   "source": [
    "from kishu.user_study import submit\n",
    "success = submit(model)  # Expecting \"CHECK PASSED\""
   ]
  },
  {
   "cell_type": "markdown",
   "id": "c51c4048-dfb1-4dab-b607-453d1e11317e",
   "metadata": {},
   "source": [
    "**Task**: Identify which **cell** creates the temporary column.\n",
    "\n",
    "**Please contact the staff after successfully identifying the cell.**"
   ]
  },
  {
   "cell_type": "code",
   "execution_count": null,
   "id": "d76b601c-95c9-43e1-b667-324915bccd28",
   "metadata": {},
   "outputs": [],
   "source": []
  }
 ],
 "metadata": {
  "kernelspec": {
   "display_name": "Python 3 (ipykernel)",
   "language": "python",
   "name": "python3"
  },
  "language_info": {
   "codemirror_mode": {
    "name": "ipython",
    "version": 3
   },
   "file_extension": ".py",
   "mimetype": "text/x-python",
   "name": "python",
   "nbconvert_exporter": "python",
   "pygments_lexer": "ipython3",
   "version": "3.8.16"
  }
 },
 "nbformat": 4,
 "nbformat_minor": 5
}
