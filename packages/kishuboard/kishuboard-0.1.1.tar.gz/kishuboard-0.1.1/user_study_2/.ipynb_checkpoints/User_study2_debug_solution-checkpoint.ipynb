{
 "cells": [
  {
   "cell_type": "markdown",
   "id": "2c1b2893-6f92-492c-aef1-a5f4da377083",
   "metadata": {},
   "source": [
    "# CHECK #1 Solution"
   ]
  },
  {
   "cell_type": "code",
   "execution_count": null,
   "id": "076fed1f-9ff6-411e-a523-cf8300a7b0c2",
   "metadata": {
    "scrolled": true
   },
   "outputs": [],
   "source": [
    "# Replace the missing values in the original dataframe.\n",
    "housing['total_bedrooms'] = housing_imputed['total_bedrooms']"
   ]
  },
  {
   "cell_type": "code",
   "execution_count": null,
   "id": "2bd2656f-7d41-4ace-a79a-c21cf4a132f8",
   "metadata": {},
   "outputs": [],
   "source": []
  },
  {
   "cell_type": "code",
   "execution_count": null,
   "id": "b4a66da6-e402-48be-80f4-83d30980cdf6",
   "metadata": {},
   "outputs": [],
   "source": []
  },
  {
   "cell_type": "code",
   "execution_count": null,
   "id": "ec45749a-e791-44ae-b4d5-c313c3c33b2a",
   "metadata": {},
   "outputs": [],
   "source": []
  },
  {
   "cell_type": "code",
   "execution_count": null,
   "id": "105c1953-8906-45f7-8c09-3246f26886cb",
   "metadata": {},
   "outputs": [],
   "source": []
  },
  {
   "cell_type": "code",
   "execution_count": null,
   "id": "1a8b27cc-e3d8-4834-81f1-8fc1cb257f5a",
   "metadata": {},
   "outputs": [],
   "source": []
  },
  {
   "cell_type": "code",
   "execution_count": null,
   "id": "d1e6188e-6338-450c-be9c-6741253809e6",
   "metadata": {},
   "outputs": [],
   "source": []
  },
  {
   "cell_type": "code",
   "execution_count": null,
   "id": "ce33ac89-13a5-4a4d-a0f0-456a6d54088d",
   "metadata": {},
   "outputs": [],
   "source": []
  },
  {
   "cell_type": "code",
   "execution_count": null,
   "id": "2904fba1-f2f2-47af-9c00-8532b79ed55d",
   "metadata": {},
   "outputs": [],
   "source": []
  },
  {
   "cell_type": "code",
   "execution_count": null,
   "id": "96efe16d-370e-459d-ba72-33eb81fb927b",
   "metadata": {},
   "outputs": [],
   "source": []
  },
  {
   "cell_type": "code",
   "execution_count": null,
   "id": "a7855c25-6ce9-45c0-8ea1-24b93b5158cd",
   "metadata": {},
   "outputs": [],
   "source": []
  },
  {
   "cell_type": "code",
   "execution_count": null,
   "id": "1ba0de7e-2240-42bf-aa10-f4ea7b607871",
   "metadata": {},
   "outputs": [],
   "source": []
  },
  {
   "cell_type": "code",
   "execution_count": null,
   "id": "cecfd776-df66-4f88-8483-ac5e9b3971ce",
   "metadata": {},
   "outputs": [],
   "source": []
  },
  {
   "cell_type": "code",
   "execution_count": null,
   "id": "0b338413-73bb-4442-9d0e-d5f19b91bbed",
   "metadata": {},
   "outputs": [],
   "source": []
  },
  {
   "cell_type": "code",
   "execution_count": null,
   "id": "0771cc68-7bc0-4116-9c61-98a1c0edbd23",
   "metadata": {},
   "outputs": [],
   "source": []
  },
  {
   "cell_type": "code",
   "execution_count": null,
   "id": "190272b8-6f75-455e-8dfa-b5f0b7b8037d",
   "metadata": {},
   "outputs": [],
   "source": []
  },
  {
   "cell_type": "code",
   "execution_count": null,
   "id": "da1ca9fa-f77f-4786-932f-ece057634dc6",
   "metadata": {},
   "outputs": [],
   "source": []
  },
  {
   "cell_type": "code",
   "execution_count": null,
   "id": "d49e10eb-a53c-42bc-81bd-4e4979652036",
   "metadata": {},
   "outputs": [],
   "source": []
  },
  {
   "cell_type": "code",
   "execution_count": null,
   "id": "69f65b16-c909-4b4a-bd15-649cbc5363af",
   "metadata": {},
   "outputs": [],
   "source": []
  },
  {
   "cell_type": "code",
   "execution_count": null,
   "id": "1bea7d18-4ce8-469d-9c6c-ff20303aa842",
   "metadata": {},
   "outputs": [],
   "source": []
  },
  {
   "cell_type": "code",
   "execution_count": null,
   "id": "5b0e9c79-1f40-41f4-8ed6-cc2f59c0885a",
   "metadata": {},
   "outputs": [],
   "source": []
  },
  {
   "cell_type": "code",
   "execution_count": null,
   "id": "bd27baa7-92fa-4dfd-a6b8-0ec5767f6ccf",
   "metadata": {},
   "outputs": [],
   "source": []
  },
  {
   "cell_type": "markdown",
   "id": "af14ac29-8a9b-4bda-a7e3-18909fc97b1f",
   "metadata": {},
   "source": [
    "# CHECK #2 Solution"
   ]
  },
  {
   "cell_type": "code",
   "execution_count": null,
   "id": "2c565b0f-46bb-4312-b31b-a61bde152497",
   "metadata": {},
   "outputs": [],
   "source": [
    "# Drop the intermediate column (income category).\n",
    "housing = housing.drop('income_cat',axis=1)\n",
    "tr_data = tr_data.drop('income_cat',axis=1)\n",
    "te_data = te_data.drop('income_cat',axis=1)"
   ]
  }
 ],
 "metadata": {
  "kernelspec": {
   "display_name": "Python 3 (ipykernel)",
   "language": "python",
   "name": "python3"
  },
  "kishu": {
   "notebook_id": "20240131T201430",
   "session_count": 2
  },
  "language_info": {
   "codemirror_mode": {
    "name": "ipython",
    "version": 3
   },
   "file_extension": ".py",
   "mimetype": "text/x-python",
   "name": "python",
   "nbconvert_exporter": "python",
   "pygments_lexer": "ipython3",
   "version": "3.8.16"
  }
 },
 "nbformat": 4,
 "nbformat_minor": 5
}
