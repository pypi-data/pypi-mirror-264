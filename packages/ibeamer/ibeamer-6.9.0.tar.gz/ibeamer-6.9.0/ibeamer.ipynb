{
 "cells": [
  {
   "cell_type": "code",
   "execution_count": null,
   "id": "9f270a26-0d0e-4ddd-a291-94ddbdfb090c",
   "metadata": {},
   "outputs": [],
   "source": []
  },
  {
   "cell_type": "markdown",
   "id": "1ae4b492-407d-4e17-8c2a-0ad10872e67c",
   "metadata": {},
   "source": [
    "<div style=\"display: inline-flex;\">\n",
    "    <span style=\"\n",
    "        color: lightblue;\n",
    "        font-size: 30px;\n",
    "        font-weight: bold;\n",
    "        font-style: italic;\n",
    "    \">\n",
    "        iBeamer\n",
    "    </span>\n",
    "    <span style=\"position: absolute; right: 10px; margin-top: 5px;\">\n",
    "        <a href=\"https://lambda.joburg\">\n",
    "            <img style=\"width: 30px;\"src=\"https://lambda.joburg/assets/images/index/logo/lambda_logo.svg\"/>\n",
    "        </a>\n",
    "    </span>\n",
    "</div>"
   ]
  },
  {
   "cell_type": "code",
   "execution_count": null,
   "id": "3742dd40-f436-4edd-a38e-136e49c3067b",
   "metadata": {},
   "outputs": [],
   "source": []
  },
  {
   "cell_type": "markdown",
   "id": "613d2b4f-7da9-44ba-8e66-40a4874b2138",
   "metadata": {},
   "source": [
    "# Table of Contens:\n",
    "- [1. iBeamer Environment Jupyter Lab Extension](#1.-iBeamer-Environment-Jupyter-Lab-Extension)\n",
    "- [2. Basic Environment Examples](#2.-Basic-Environment-Examples)\n",
    "- [3. Some More Examples](#3.-Some-More-Examples)\n",
    "- [4. Full List of Environments](#4.-Full-List-of-Environments)\n",
    "- [5. Implementation of All Available Environements](#5.-Implementation-of-All-Available-Environments)\n",
    "- [6. Lists in iBeamer Environments](#6.-Lists-in-iBeamer-Environments)\n",
    "- [7. Abstract & Bibliography](#7.-Abstract-&-Bibliography)"
   ]
  },
  {
   "cell_type": "code",
   "execution_count": null,
   "id": "8817a54b-9ef1-473d-b497-baa81c508315",
   "metadata": {},
   "outputs": [],
   "source": []
  },
  {
   "cell_type": "markdown",
   "id": "ad1c5f24-6eca-4b75-ba1d-875ce3778197",
   "metadata": {},
   "source": [
    "### 1. iBeamer Environment Jupyter Lab Extension"
   ]
  },
  {
   "cell_type": "code",
   "execution_count": null,
   "id": "c2a7ef2e-a060-4d8c-b761-1b357eef1b2e",
   "metadata": {},
   "outputs": [],
   "source": []
  },
  {
   "cell_type": "markdown",
   "id": "f719b6cc-5565-4c53-b093-8ebbd0f818da",
   "metadata": {},
   "source": [
    "iBeamer is an easy-to-understand and easy-to-use Jupyter Lab Extension, specifically designed for defining <a href=\"https://www.overleaf.com/learn/latex/Beamer\">Beamer</a>-style environments inside Jupyter Lab/Notebook markdown cells."
   ]
  },
  {
   "cell_type": "code",
   "execution_count": null,
   "id": "8fc8dc21-671d-49d2-be22-27dd56f02369",
   "metadata": {},
   "outputs": [],
   "source": []
  },
  {
   "cell_type": "markdown",
   "id": "b7d94169-b386-4c41-9cc4-a6496cecd5ea",
   "metadata": {},
   "source": [
    "iBeamer environments are easy to define by using plain html `div` or `span` tags (or any other appropriate html tag type). The magic happens by appropriately assigning a `.css` class name attribute to the html tags to indicate an iBeamer environment, for example ..."
   ]
  },
  {
   "cell_type": "code",
   "execution_count": null,
   "id": "049bb963-a29b-46a8-8d6b-6debed3c44f5",
   "metadata": {},
   "outputs": [],
   "source": []
  },
  {
   "cell_type": "markdown",
   "id": "73ab3fc0-9380-4616-bd10-d4cd3a08ea50",
   "metadata": {},
   "source": [
    "### 2. Basic Environment Examples"
   ]
  },
  {
   "cell_type": "code",
   "execution_count": null,
   "id": "b735cb79-810e-4689-8f16-f81d54dc8643",
   "metadata": {},
   "outputs": [],
   "source": []
  },
  {
   "cell_type": "markdown",
   "id": "895e8434-9ddc-41fa-8961-ad0319a32da5",
   "metadata": {},
   "source": [
    "Creating an iBeamer theorem environment could be done like so ...\n",
    "\n",
    "`<div class=\"theorem\"> <p> This is a(n) (ordinary) theorem </p> </div>`\n",
    "\n",
    "which renders as ..."
   ]
  },
  {
   "cell_type": "code",
   "execution_count": null,
   "id": "5125285d-6141-47aa-b107-7b78490b8467",
   "metadata": {},
   "outputs": [],
   "source": []
  },
  {
   "cell_type": "markdown",
   "id": "b872e3e6-5b72-4f83-b6fe-5154d5161353",
   "metadata": {},
   "source": [
    "<div class=\"theorem\">\n",
    "    <p>this is a(n) (ordinary) theorem</p>\n",
    "</div>"
   ]
  },
  {
   "cell_type": "code",
   "execution_count": null,
   "id": "b43ece9e-333f-4e60-bb5c-bd6b8af8472f",
   "metadata": {},
   "outputs": [],
   "source": []
  },
  {
   "cell_type": "markdown",
   "id": "635bc3cd-60e9-4dbf-b81a-21a9d89f79b2",
   "metadata": {},
   "source": [
    "or a Beamer-style theorem environment ...\n",
    "\n",
    "`<span class=\"beamer-theorem\"> <p> This is a Beamer-style theorem </p> </span>`\n",
    "\n",
    "which renders as ..."
   ]
  },
  {
   "cell_type": "markdown",
   "id": "364b590b-3c2d-4e83-ba37-6c931036bfca",
   "metadata": {},
   "source": [
    "<span class=\"beamer-theorem\">\n",
    "    <p> This is a Beamer-style theorem </p>\n",
    "</span>"
   ]
  },
  {
   "cell_type": "code",
   "execution_count": null,
   "id": "52cb3cb5-a313-4a74-aacb-ff35b16a8725",
   "metadata": {},
   "outputs": [],
   "source": []
  },
  {
   "cell_type": "markdown",
   "id": "a5fa8374-2251-45e7-9323-d771f74db0a2",
   "metadata": {},
   "source": [
    "Ordinary html is still possible using the iBeamer extension, for example ..."
   ]
  },
  {
   "cell_type": "code",
   "execution_count": null,
   "id": "d4cf7c6d-eca0-4f8f-94c9-2c1440bdd84d",
   "metadata": {},
   "outputs": [],
   "source": []
  },
  {
   "cell_type": "markdown",
   "id": "cdab0466-708e-4f4e-ba09-fd8985869ea4",
   "metadata": {},
   "source": [
    "<span class=\"beamer-theorem\">\n",
    "    <p>  This is a Beamer-style theorem containing a list ... </p>\n",
    "    <ol>\n",
    "        <li>This is the first list item</li>\n",
    "        <li>This is the second list item</li>\n",
    "        <li>This is the third list item</li>\n",
    "    </ol>\n",
    "</span>"
   ]
  },
  {
   "cell_type": "code",
   "execution_count": null,
   "id": "5c944477-4971-47da-ac6a-d8f379da609f",
   "metadata": {},
   "outputs": [],
   "source": []
  },
  {
   "cell_type": "markdown",
   "id": "253c86d6-cfe8-469b-ab96-dd49dad840d8",
   "metadata": {},
   "source": [
    "By default, the list does not have padding at the bottom, thus allowing the client to specify whether or not and how much padding would be required for their preferred layout ..."
   ]
  },
  {
   "cell_type": "code",
   "execution_count": null,
   "id": "12021bad-2c82-44a5-b877-c10b6c9b7391",
   "metadata": {},
   "outputs": [],
   "source": []
  },
  {
   "cell_type": "markdown",
   "id": "823d2f72-ac19-4ce2-a927-71925a0b863e",
   "metadata": {},
   "source": [
    "<span class=\"beamer-theorem\">\n",
    "    <p>  This is a Beamer-style theorem containing a list with some bottom padding ... </p>\n",
    "    <ol style=\"padding-bottom: 15px;\">\n",
    "        <li>This is the first list item</li>\n",
    "        <li>This is the second list item</li>\n",
    "        <li>This is the third list item</li>\n",
    "    </ol>\n",
    "</span>"
   ]
  },
  {
   "cell_type": "code",
   "execution_count": null,
   "id": "1a18caee-d901-4bd6-a7eb-861652261e4e",
   "metadata": {},
   "outputs": [],
   "source": []
  },
  {
   "cell_type": "markdown",
   "id": "d160bb42-0569-4380-a39c-6328201ba9bf",
   "metadata": {},
   "source": [
    "Here's a demonstration of how to create a definition environment containing an html link ..."
   ]
  },
  {
   "cell_type": "markdown",
   "id": "c6cbaafa-b06b-472d-aaa9-d7c2ee38b378",
   "metadata": {},
   "source": [
    "`<span class=\"definition\"> <p> This is a(n) (ordinary) defnition containing a <a href=\"https://www.google.com\" target=\"_blank\">link</a> </p> </span>`"
   ]
  },
  {
   "cell_type": "markdown",
   "id": "c6b9ba0d-b691-4757-8499-763fc981ddd6",
   "metadata": {},
   "source": [
    "<span class=\"definition\">\n",
    "    <p>\n",
    "        This is a(n) (ordinary) definition containing a\n",
    "        <a href=\"https://www.google.com\" target=\"_blank\">\n",
    "            link\n",
    "        </a>\n",
    "    </p>\n",
    "</span>"
   ]
  },
  {
   "cell_type": "code",
   "execution_count": null,
   "id": "316961da-1da6-43d0-9c5a-f42d8151ddd9",
   "metadata": {},
   "outputs": [],
   "source": []
  },
  {
   "cell_type": "markdown",
   "id": "dd195abc-e4cd-4982-865f-bc583d576814",
   "metadata": {},
   "source": [
    "<span class=\"definition\">\n",
    "    <p>\n",
    "        This is a(n) (ordinary) definition containing an unordered list ...\n",
    "    </p>\n",
    "    <ul>\n",
    "        <li> This is the first list item </li>\n",
    "        <li> This is the second list item </li>\n",
    "        <li> This is the third list item </li>\n",
    "    </ul>\n",
    "    &nbsp;\n",
    "</span>"
   ]
  },
  {
   "cell_type": "code",
   "execution_count": null,
   "id": "67aa1d59-8aa9-40ae-9fe5-504c9f0c38b4",
   "metadata": {},
   "outputs": [],
   "source": []
  },
  {
   "cell_type": "markdown",
   "id": "aefc8948-f9d0-42b0-ad6d-6a3edfbbb907",
   "metadata": {},
   "source": [
    "In the above example, the easiest way to get rid of the scroll-bar is to include some white space after the list, thus we included a the html character `&nbsp;`\n",
    "\n",
    "This is a known issue with the \"ordinary\" environments and does not persist for the Beamer-style environments."
   ]
  },
  {
   "cell_type": "code",
   "execution_count": null,
   "id": "663f35aa-f65f-45f5-8798-b621fedd55c1",
   "metadata": {},
   "outputs": [],
   "source": []
  },
  {
   "cell_type": "markdown",
   "id": "96dc7e6c-70eb-4dd4-8788-26083003d9aa",
   "metadata": {},
   "source": [
    "### 3. Some More Examples"
   ]
  },
  {
   "cell_type": "code",
   "execution_count": null,
   "id": "307eacd5-236f-4b00-a97d-72bf9dad437e",
   "metadata": {},
   "outputs": [],
   "source": []
  },
  {
   "cell_type": "markdown",
   "id": "c91ae5ad-23ed-4939-bac8-ac57b1cba041",
   "metadata": {},
   "source": [
    "<div class=\"beamer-alert\">\n",
    "    <span> Careful </span>\n",
    "    <p> An example of the beamer-alert class. The <b>alert heading</b> is wrapped in html span-tags </p>\n",
    "</div>"
   ]
  },
  {
   "cell_type": "code",
   "execution_count": null,
   "id": "ff7f4249-ec71-4167-b61d-bfd40636a88c",
   "metadata": {},
   "outputs": [],
   "source": []
  },
  {
   "cell_type": "markdown",
   "id": "53c67bd7-241c-40a3-8f4b-ea07eeb83810",
   "metadata": {},
   "source": [
    "An example with a picture ..."
   ]
  },
  {
   "cell_type": "markdown",
   "id": "780ab6f3-36f5-4994-8b83-0838caf30e19",
   "metadata": {},
   "source": [
    "<span class=\"beamer-example\">\n",
    "    <p>\n",
    "        This is an iBeamer example environment containing a picture:\n",
    "    </p>\n",
    "    <img style=\"width: 200px;\" src=\"https://upload.wikimedia.org/wikipedia/commons/thumb/5/5b/6n-graf.svg/1280px-6n-graf.svg.png\"/>\n",
    "</span>"
   ]
  },
  {
   "cell_type": "code",
   "execution_count": null,
   "id": "c7aff277-b1df-432e-937e-898e10d12cc6",
   "metadata": {},
   "outputs": [],
   "source": []
  },
  {
   "cell_type": "markdown",
   "id": "6f52ed4f-02fb-4198-b0fc-e0ba21a8a833",
   "metadata": {},
   "source": [
    "Most of the styling is left to the client, so that the elements in an iBeamer environment is customizable ..."
   ]
  },
  {
   "cell_type": "code",
   "execution_count": null,
   "id": "f5274d13-80f2-4371-a05b-425ca91ff18c",
   "metadata": {},
   "outputs": [],
   "source": []
  },
  {
   "cell_type": "markdown",
   "id": "70dca965-6ae4-48ad-b3ad-58dd1c791191",
   "metadata": {},
   "source": [
    "<span class=\"beamer-example\">\n",
    "    <p>\n",
    "        This is an iBeamer example environment containing a centered picture:\n",
    "    </p>\n",
    "    <img style=\"width: 200px; display: block; margin: auto; padding-bottom: 15px;\" src=\"https://upload.wikimedia.org/wikipedia/commons/thumb/5/5b/6n-graf.svg/1280px-6n-graf.svg.png\"/>\n",
    "</span>"
   ]
  },
  {
   "cell_type": "code",
   "execution_count": null,
   "id": "1c78ed32-8920-4823-86e6-b8c540b40654",
   "metadata": {},
   "outputs": [],
   "source": []
  },
  {
   "cell_type": "markdown",
   "id": "36ff4de5-4e96-47f5-972b-8173541305d1",
   "metadata": {},
   "source": [
    "### 4. Full List of Environments"
   ]
  },
  {
   "cell_type": "code",
   "execution_count": null,
   "id": "ee7598aa-b946-4ad9-9aeb-8ec866d7a3c0",
   "metadata": {},
   "outputs": [],
   "source": []
  },
  {
   "cell_type": "markdown",
   "id": "eabb7d38-1d06-46ce-9643-80f4edbd45b7",
   "metadata": {},
   "source": [
    "Here's a list of available (ordinary) environments defined by `.css` class names:\n",
    "\n",
    "<ol>\n",
    "    <li>alert</li>\n",
    "    <li>corollary</li>\n",
    "    <li>definition</li>\n",
    "    <li>example</li>\n",
    "    <li>exercise</li>\n",
    "    <li>lemma</li>    \n",
    "    <li>proof</li>\n",
    "    <li>remark</li>    \n",
    "    <li>theorem</li>\n",
    "</ol>"
   ]
  },
  {
   "cell_type": "code",
   "execution_count": null,
   "id": "8e67df60-8cba-4799-8519-5638d16cca39",
   "metadata": {},
   "outputs": [],
   "source": []
  },
  {
   "cell_type": "markdown",
   "id": "b97f6fb3-3848-4628-99e1-1b6f05705b9b",
   "metadata": {},
   "source": [
    "In contrast to the above, here's a list of available iBeaner environments defined by `.css` class names:\n",
    "\n",
    "<ol>\n",
    "    <li>beamer-alert</li>\n",
    "    <li>beamer-corollary</li>\n",
    "    <li>beamer-definition</li>\n",
    "    <li>beamer-example</li>\n",
    "    <li>beamer-exercise</li>\n",
    "    <li>beamer-lemma</li>    \n",
    "    <li>beamer-proof</li>\n",
    "    <li>beamer-remark</li>    \n",
    "    <li>beamer-theorem</li>\n",
    "</ol>"
   ]
  },
  {
   "cell_type": "code",
   "execution_count": null,
   "id": "c67ece45-625d-4b0e-917e-56afe307d675",
   "metadata": {},
   "outputs": [],
   "source": []
  },
  {
   "cell_type": "markdown",
   "id": "4db98d3d-f4ce-4790-90e4-f26dd990ac52",
   "metadata": {},
   "source": [
    "<div class=\"beamer-remark\">\n",
    "    <p> This is a beamer-remark environment. The background is slightly darker than the beamer-theorem environment </p>\n",
    "</div>"
   ]
  },
  {
   "cell_type": "code",
   "execution_count": null,
   "id": "b5b18016-eb61-44dd-a574-08e11e935583",
   "metadata": {},
   "outputs": [],
   "source": []
  },
  {
   "cell_type": "markdown",
   "id": "e160d132-eafd-4951-9074-0fd95528477c",
   "metadata": {},
   "source": [
    "<div class=\"definition\"> \n",
    "    This is a(n) (ordinary) definition\n",
    "</div>"
   ]
  },
  {
   "cell_type": "code",
   "execution_count": null,
   "id": "2d510169-d2a5-4015-ab68-6f07502e073e",
   "metadata": {},
   "outputs": [],
   "source": []
  },
  {
   "cell_type": "markdown",
   "id": "0c5fae10-e13e-4981-b341-47730fae9c9f",
   "metadata": {},
   "source": [
    "<div class=\"proof\">\n",
    "    <p>\n",
    "        This is a(n) (ordinary) proof ...\n",
    "        <br>\n",
    "        <br>\n",
    "        Here is the usual inline $\\LaTeX$ and below is some display-style expression ...\n",
    "        $$\n",
    "            e = \\sum_{n=0}^{\\infty} \\frac{x^n}{n!}\n",
    "        $$\n",
    "    </p>\n",
    "    QED\n",
    "</div>"
   ]
  },
  {
   "cell_type": "code",
   "execution_count": null,
   "id": "9f94e369-8ce5-4666-aad7-756041b19c6f",
   "metadata": {},
   "outputs": [],
   "source": []
  },
  {
   "cell_type": "markdown",
   "id": "e0e96eff-0cbf-490d-a985-2ef9aaf0a352",
   "metadata": {},
   "source": [
    "#### \"Ordinary\" environments:"
   ]
  },
  {
   "cell_type": "code",
   "execution_count": null,
   "id": "b392aaff-08ec-4e19-91a9-efca5f2b37df",
   "metadata": {},
   "outputs": [],
   "source": []
  },
  {
   "cell_type": "markdown",
   "id": "793df0d9-c19c-4b27-87c8-fc0b71dbacab",
   "metadata": {},
   "source": [
    "### 5. Implementation of All Available Environments"
   ]
  },
  {
   "cell_type": "markdown",
   "id": "c26afd96-d98d-4c41-9eef-a228e0a76697",
   "metadata": {},
   "source": [
    "<div class=\"alert\">\n",
    "    <p>This is a(n) (ordinary) alert</p>\n",
    "</div>"
   ]
  },
  {
   "cell_type": "markdown",
   "id": "75316335-440e-416a-8a11-d5ffccd23d1c",
   "metadata": {},
   "source": [
    "<div class=\"corollary\">\n",
    "    <p>This is a(n) (ordinary) corollary</p>\n",
    "</div>"
   ]
  },
  {
   "cell_type": "markdown",
   "id": "80c440c2-63aa-4e9c-b471-39dfb61f2d35",
   "metadata": {},
   "source": [
    "<div class=\"definition\">\n",
    "    <p>\n",
    "        This is a(n) (ordinary) definition which continues over multiple lines.\n",
    "        Lorem ipsum dolor sit amet, consectetuer-adipiscing elit. Aliquam tinccidunt\n",
    "        mauris eu risus. Vestibulum auctor dapibus neque.\n",
    "    </p>\n",
    "</div>"
   ]
  },
  {
   "cell_type": "markdown",
   "id": "6600f0ca-4a56-4fb9-9c7f-07a955a81624",
   "metadata": {},
   "source": [
    "<div class=\"example\">\n",
    "    <p>This is a(n) (ordinary) example asdlfmsl;kfgml sdfgsd asdfsd sdfbs sdfbsdfbdfbsd dfbs adfbs adf afsb adfv ag </p>\n",
    "</div>"
   ]
  },
  {
   "cell_type": "markdown",
   "id": "fc602cde-2385-4435-8fac-24ed392f6434",
   "metadata": {},
   "source": [
    "<div class=\"exercise\">\n",
    "    <p>This is a(n) (ordinary) exercise</p>\n",
    "</div>"
   ]
  },
  {
   "cell_type": "markdown",
   "id": "8259f0b3-a506-4513-b826-e48677289c29",
   "metadata": {},
   "source": [
    "<div class=\"lemma\">\n",
    "    <p>This is a(n) (ordinary) lemma</p>\n",
    "</div>"
   ]
  },
  {
   "cell_type": "markdown",
   "id": "54e0e504-d70c-47ba-bf17-fa08059aa080",
   "metadata": {},
   "source": [
    "<div class=\"proof\">\n",
    "    <p> This is a(n) (ordinary) proof </p>\n",
    "</div>"
   ]
  },
  {
   "cell_type": "markdown",
   "id": "4bfc86fa-fca0-4601-b86b-5f71895d61e8",
   "metadata": {},
   "source": [
    "<div class=\"remark\">\n",
    "    <p>This is a(n) (ordinary) remark</p>\n",
    "</div>"
   ]
  },
  {
   "cell_type": "markdown",
   "id": "df25ddd5-b5a7-4d63-85c3-14984f364664",
   "metadata": {},
   "source": [
    "<div class=\"theorem\">\n",
    "    <p>This is a(n) (ordinary) theorem</p>\n",
    "</div>"
   ]
  },
  {
   "cell_type": "code",
   "execution_count": null,
   "id": "907ed5b8-0acb-4063-8fc8-2bd8b7bd72e3",
   "metadata": {},
   "outputs": [],
   "source": []
  },
  {
   "cell_type": "markdown",
   "id": "74c17ef7-ea03-413e-9ecb-1344f3a189a6",
   "metadata": {},
   "source": [
    "#### iBeamer environments:"
   ]
  },
  {
   "cell_type": "code",
   "execution_count": null,
   "id": "4fbd12f9-6039-4653-9bea-cd0fd626b635",
   "metadata": {},
   "outputs": [],
   "source": []
  },
  {
   "cell_type": "markdown",
   "id": "d76d5088-68f6-4906-b220-fdf0e42725e6",
   "metadata": {},
   "source": [
    "<div class=\"beamer-alert\">\n",
    "    <span> Danger </span>\n",
    "    <p>This is an iBeamer alert</p>\n",
    "</div>"
   ]
  },
  {
   "cell_type": "markdown",
   "id": "84da7aab-126f-49ec-ba93-fcb53fa42762",
   "metadata": {},
   "source": [
    "<div class=\"beamer-corollary\">\n",
    "    <p>This is an iBeamer corollary</p>\n",
    "</div>"
   ]
  },
  {
   "cell_type": "markdown",
   "id": "16b651ad-9d47-440d-9e4e-45340a175a17",
   "metadata": {},
   "source": [
    "<div class=\"beamer-definition\">\n",
    "    <p>This is an iBeamer definition</p>\n",
    "</div>"
   ]
  },
  {
   "cell_type": "markdown",
   "id": "abed05fc-9830-4e71-b049-ea7ec425b871",
   "metadata": {},
   "source": [
    "<div class=\"beamer-example\">\n",
    "    <p>This is an iBeamer example</p>\n",
    "</div>"
   ]
  },
  {
   "cell_type": "markdown",
   "id": "b2f39753-ab87-4623-8d1c-9afd78d42776",
   "metadata": {},
   "source": [
    "<div class=\"beamer-exercise\">\n",
    "    <p>This is an iBeamer exercise</p>\n",
    "</div>"
   ]
  },
  {
   "cell_type": "markdown",
   "id": "0e369b42-2ac4-4038-b900-767c6ad965f9",
   "metadata": {},
   "source": [
    "<div class=\"beamer-lemma\">\n",
    "    <p>This is an iBeamer lemma</p>\n",
    "</div>"
   ]
  },
  {
   "cell_type": "markdown",
   "id": "bf6c5e41-bb94-41f8-874f-09a637492cf4",
   "metadata": {},
   "source": [
    "<div class=\"beamer-proof\">\n",
    "    <p>This is an iBeamer proof</p>\n",
    "</div>"
   ]
  },
  {
   "cell_type": "markdown",
   "id": "0092edc3-f23d-4a9b-8f89-71e645f82498",
   "metadata": {},
   "source": [
    "<div class=\"beamer-remark\">\n",
    "    <p>This is an iBeamer remark</p>\n",
    "</div>"
   ]
  },
  {
   "cell_type": "markdown",
   "id": "68d26988-77da-424a-ad28-611f207dda87",
   "metadata": {},
   "source": [
    "<div class=\"beamer-theorem\">\n",
    "    <p>This is an iBeamer theorem</p>\n",
    "</div>"
   ]
  },
  {
   "cell_type": "code",
   "execution_count": null,
   "id": "9e558409-a257-44b2-bb66-d93d0bafb650",
   "metadata": {},
   "outputs": [],
   "source": []
  },
  {
   "cell_type": "markdown",
   "id": "75095b7f-7940-4524-b028-3d63db00fc14",
   "metadata": {},
   "source": [
    "### 6. Lists in iBeamer Environments"
   ]
  },
  {
   "cell_type": "code",
   "execution_count": null,
   "id": "ef98fe42-83fa-4072-af66-75081d15b664",
   "metadata": {},
   "outputs": [],
   "source": []
  },
  {
   "cell_type": "markdown",
   "id": "6f05476c-c4d9-4c33-9c16-baa6f9e2b5ba",
   "metadata": {},
   "source": [
    "Here's an example of an iBeamer theorem environment containing a bulleted/unordered list ..."
   ]
  },
  {
   "cell_type": "code",
   "execution_count": null,
   "id": "80ffcf81-cae6-48f1-82f9-1068e594af23",
   "metadata": {},
   "outputs": [],
   "source": []
  },
  {
   "cell_type": "markdown",
   "id": "f6138f3c-2324-4536-960f-824caa359078",
   "metadata": {},
   "source": [
    "<div class=\"beamer-theorem\">\n",
    "    <p>This is an iBeamer theorem containing an unordered list</p>\n",
    "    <ul style=\"padding-bottom: 10px\">\n",
    "        <li> Part 1 of theorem statement </li>\n",
    "        <li> Part 2 of theorem statement </li>\n",
    "        <li> Part 3 of theorem statement </li>\n",
    "    </ul>\n",
    "</div>"
   ]
  },
  {
   "cell_type": "code",
   "execution_count": null,
   "id": "752cd5cf-840e-4597-8a79-254125fc4233",
   "metadata": {},
   "outputs": [],
   "source": []
  },
  {
   "cell_type": "markdown",
   "id": "b6630370-0b73-410a-8eac-9ffc01a70d23",
   "metadata": {},
   "source": [
    "The default value of the bullets is darkblue, but can be changed easily using ordinary inline css styling, like so ..."
   ]
  },
  {
   "cell_type": "code",
   "execution_count": null,
   "id": "eb0803cc-75a8-47c7-b2dc-475853cab6cd",
   "metadata": {},
   "outputs": [],
   "source": []
  },
  {
   "cell_type": "markdown",
   "id": "fe76bbc1-ee22-471b-ac47-1f8a51b9b4c4",
   "metadata": {},
   "source": [
    "<div class=\"beamer-alert\">\n",
    "    <span> Observations ... </span>\n",
    "    <p>This is an iBeamer alert containing an unordered list ... </p>\n",
    "    <ul style=\"padding-bottom: 10px\">\n",
    "        <li> First observation </li>\n",
    "        <li> Second observation </li>\n",
    "        <li> Third observation </li>\n",
    "    </ul>\n",
    "</div>"
   ]
  },
  {
   "cell_type": "code",
   "execution_count": null,
   "id": "7bd39de7-f398-4452-aa8d-5bc1eef67675",
   "metadata": {},
   "outputs": [],
   "source": []
  },
  {
   "cell_type": "markdown",
   "id": "c09084a7-3870-422d-8124-dd542e328f86",
   "metadata": {},
   "source": [
    "<div class=\"beamer-proof\">\n",
    "    <p>This is an iBeamer proof containing an unordered list ... </p>\n",
    "    <ul style=\"padding-bottom: 10px\">\n",
    "        <li> case 1: </li>\n",
    "            <p>First case of proof </p>\n",
    "        <li> case 2: </li>\n",
    "            <p>First case of proof </p>\n",
    "        <li> case 3: </li>\n",
    "            <p>First case of proof </p>\n",
    "    </ul>\n",
    "</div>"
   ]
  },
  {
   "cell_type": "code",
   "execution_count": null,
   "id": "e8ce52a1-a896-4244-a239-2e79bc0979aa",
   "metadata": {},
   "outputs": [],
   "source": []
  },
  {
   "cell_type": "markdown",
   "id": "baaa81da-7543-4ec5-b84a-738f1afe7895",
   "metadata": {},
   "source": [
    "The iBeamer extension also allows the client to specify the usual Beamer-style $\\LaTeX$ document structure/layout, for example ..."
   ]
  },
  {
   "cell_type": "code",
   "execution_count": null,
   "id": "4f516bba-2119-4b58-9487-ad8670482120",
   "metadata": {},
   "outputs": [],
   "source": []
  },
  {
   "cell_type": "markdown",
   "id": "8beaedaa-35d2-4519-84c3-8a4f179573d7",
   "metadata": {},
   "source": [
    "### 7. Abstract & Bibliography"
   ]
  },
  {
   "cell_type": "code",
   "execution_count": null,
   "id": "6f19c4e3-9f73-4541-acc5-5ba8bb7ce14a",
   "metadata": {},
   "outputs": [],
   "source": []
  },
  {
   "cell_type": "markdown",
   "id": "43ab6d31-9bf2-49c6-b79a-6d72ec780fc2",
   "metadata": {},
   "source": [
    "<div class=\"abstract\">\n",
    "This is an article abstract containing a brief description of the project. Sed ut perspiciatis, unde omnis iste natus error sit voluptatem accusantium doloremque laudantium, totam rem aperiam eaque ipsa, quae ab illo inventore veritatis et quasi architecto beatae vitae dicta sunt, explicabo. Nemo enim ipsam voluptatem, quia voluptas sit, aspernatur aut odit aut fugit, sed quia consequuntur magni dolores eos, qui ratione voluptatem sequi nesciunt,\n",
    "</div>"
   ]
  },
  {
   "cell_type": "code",
   "execution_count": null,
   "id": "dd31560e-6e8a-45fd-9210-cd3faaf0ea7d",
   "metadata": {},
   "outputs": [],
   "source": []
  },
  {
   "cell_type": "markdown",
   "id": "88a9eeac-8b67-45d2-b0a5-133a7ac1cb47",
   "metadata": {},
   "source": [
    "Once again, only basic/essential styling is specified by the iBeamer exptensions to allow the user customization over the html elements, for example, the abstract above may be adapted to be justified if the client so desires ..."
   ]
  },
  {
   "cell_type": "code",
   "execution_count": null,
   "id": "3c56a352-2514-47ec-a813-97a270a96b42",
   "metadata": {},
   "outputs": [],
   "source": []
  },
  {
   "cell_type": "markdown",
   "id": "fece2b33-826f-4b0b-b6cf-a71a41d7bc57",
   "metadata": {},
   "source": [
    "<div class=\"abstract\">\n",
    "<p style=\"text-align: justify\">\n",
    "This is an article abstract containing a brief description of the project. Sed ut perspiciatis, unde omnis iste natus error sit voluptatem accusantium doloremque laudantium, totam rem aperiam eaque ipsa, quae ab illo inventore veritatis et quasi architecto beatae vitae dicta sunt, explicabo. Nemo enim ipsam voluptatem, quia voluptas sit, aspernatur aut odit aut fugit, sed quia consequuntur magni dolores eos, qui ratione voluptatem sequi nesciunt,\n",
    "</p>\n",
    "</div>"
   ]
  },
  {
   "cell_type": "code",
   "execution_count": null,
   "id": "ab87c3ad-5283-4b7f-9436-2d78e5fd364b",
   "metadata": {},
   "outputs": [],
   "source": []
  },
  {
   "cell_type": "markdown",
   "id": "9fec0c05-dda3-40dd-8e48-dc2c7758a9dd",
   "metadata": {},
   "source": [
    "Note: when writing an article, the abstract should probably be included at the top of the page ..."
   ]
  },
  {
   "cell_type": "code",
   "execution_count": null,
   "id": "ac623fe2-5d4a-4d67-a13b-148526edec90",
   "metadata": {},
   "outputs": [],
   "source": []
  },
  {
   "cell_type": "markdown",
   "id": "34d6f4ed-8fea-4a35-9f04-d49fe8228f55",
   "metadata": {},
   "source": [
    "The iBeamer extension also also allows the client to create a bibliography like so ..."
   ]
  },
  {
   "cell_type": "code",
   "execution_count": null,
   "id": "6eef8776-c60a-4d9a-8a29-fbbe29d2c362",
   "metadata": {},
   "outputs": [],
   "source": []
  },
  {
   "cell_type": "markdown",
   "id": "c528cf1b-7978-4b5e-82a6-ba1f9fc47c3c",
   "metadata": {},
   "source": [
    "<div class=\"bib\">\n",
    "    <ol>\n",
    "        <li>\n",
    "            <span>Author Surname, Name.</span>\n",
    "            <span class=\"title\">Article Title</span>\n",
    "            <span class=\"journal\">Journal Name</span>\n",
    "            <span class=\"volume\">Volume Number</span>\n",
    "            <span class=\"pages\">Page Numbers</span>\n",
    "            <span class=\"press\">Press Name</span>\n",
    "            <span class=\"date\">Year of Publication</span>\n",
    "        </li>\n",
    "        <li>\n",
    "            <span>Author Surname, Name.</span>\n",
    "            <span class=\"title\">Book Title</span>\n",
    "            <span class=\"edition\">Edition</span>\n",
    "            <span class=\"pages\">Page Numbers</span>\n",
    "            <span class=\"press\">Press Name</span>\n",
    "            <span class=\"date\">Year of Publication</span>\n",
    "        </li>\n",
    "        <li>\n",
    "            <span>Doe, John.</span>\n",
    "            <span class=\"title\">This is a Very Interesting Book</span>\n",
    "            <span class=\"edition\">$1^\\text{st}$ edition</span>\n",
    "            <span class=\"pages\">1-100</span>\n",
    "            <span class=\"press\">Open Book Publishers</span>\n",
    "            <span class=\"date\">2008</span>\n",
    "        </li>\n",
    "    </ol>\n",
    "</div>"
   ]
  },
  {
   "cell_type": "code",
   "execution_count": null,
   "id": "1076a226-4f1a-411f-a79b-252511c13330",
   "metadata": {},
   "outputs": [],
   "source": []
  },
  {
   "cell_type": "markdown",
   "id": "f1cbb6dd-dd92-4b57-8ea5-932d683eafeb",
   "metadata": {},
   "source": [
    "In future updates of the project, a feature will be included for creating in-text/in-line references to the bibliography entries and adding counters to each iBeamer environments for auto-incrementing each defintion/example/theorem/lemma/etc ..."
   ]
  },
  {
   "cell_type": "code",
   "execution_count": null,
   "id": "f45063dd-d416-499a-a484-4327a36465b9",
   "metadata": {},
   "outputs": [],
   "source": []
  },
  {
   "cell_type": "code",
   "execution_count": null,
   "id": "231e9a7e-02b3-4ee7-b3f0-bcc180f26f64",
   "metadata": {},
   "outputs": [],
   "source": []
  }
 ],
 "metadata": {
  "kernelspec": {
   "display_name": "Python 3 (ipykernel)",
   "language": "python",
   "name": "python3"
  },
  "language_info": {
   "codemirror_mode": {
    "name": "ipython",
    "version": 3
   },
   "file_extension": ".py",
   "mimetype": "text/x-python",
   "name": "python",
   "nbconvert_exporter": "python",
   "pygments_lexer": "ipython3",
   "version": "3.12.2"
  }
 },
 "nbformat": 4,
 "nbformat_minor": 5
}
