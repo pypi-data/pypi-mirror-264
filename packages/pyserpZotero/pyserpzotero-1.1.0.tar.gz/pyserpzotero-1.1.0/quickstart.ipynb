{
 "cells": [
  {
   "cell_type": "code",
   "execution_count": null,
   "id": "d27d8476-b0d8-49e8-b9a1-9cf6e202dd46",
   "metadata": {},
   "outputs": [],
   "source": [
    "# Load libraries\n",
    "import importlib # You won't need this\n",
    "import os\n",
    "import pyserpZotero\n",
    "import yaml\n",
    "\n",
    "from box import Box\n",
    "\n",
    "importlib.reload(pyserpZotero) # For development only"
   ]
  },
  {
   "cell_type": "code",
   "execution_count": 25,
   "id": "7a3b5bb3-3234-4629-993d-898030899756",
   "metadata": {},
   "outputs": [],
   "source": [
    "# Load a YAML with the following 3 values (Optional)\n",
    "with open(\"config.yaml\", \"r\") as ymlfile:\n",
    "    cfg = Box(yaml.safe_load(ymlfile), default_box=True, default_box_attr=None)\n",
    "    \n",
    "API_KEY = cfg.API_KEY\n",
    "ZOT_ID  = cfg.ZOT_ID\n",
    "ZOT_KEY = cfg.ZOT_KEY"
   ]
  },
  {
   "cell_type": "code",
   "execution_count": 26,
   "id": "753aa58d-d8b9-4a39-8847-102b8621185d",
   "metadata": {},
   "outputs": [
    {
     "name": "stdout",
     "output_type": "stream",
     "text": [
      "Reminder: Make sure your Zotero key has write permissions.\n"
     ]
    }
   ],
   "source": [
    "# Instantiate a SerpZot object for API management\n",
    "citeObj = pyserpZotero.SerpZot(API_KEY       = API_KEY, \n",
    "                               ZOT_ID        = ZOT_ID, \n",
    "                               ZOT_KEY       = ZOT_KEY,\n",
    "                               DOWNLOAD_DEST = \".\" # Optional (for destinations other than the current directory)\n",
    "                            )"
   ]
  },
  {
   "cell_type": "code",
   "execution_count": 12,
   "id": "958eeb00-0489-4261-b773-d7f407bc1dbe",
   "metadata": {},
   "outputs": [
    {
     "name": "stdout",
     "output_type": "stream",
     "text": [
      "https://serpapi.com/search\n",
      "0\n",
      "This should've returned 0 (sucess)\n"
     ]
    }
   ],
   "source": [
    "# Call the search method\n",
    "print(citeObj.SearchScholar(TERM = \"unidentified anomalous phenom*\", MIN_YEAR = \"2000\"))\n",
    "print(\"This should've returned 0 (success)\")"
   ]
  },
  {
   "cell_type": "code",
   "execution_count": 13,
   "id": "64216d85-0931-4de0-9a2e-f887d2f64303",
   "metadata": {},
   "outputs": [
    {
     "name": "stdout",
     "output_type": "stream",
     "text": [
      "Now processing: -gWp8ob7zvUJ\n",
      "https://serpapi.com/search\n",
      "Liu, Z., Ionov, D. A., Nimis, P., Xu, Y., He, P., & Golovin, A. V. (2022). Thermal and compositional anomalies in a detailed xenolith-based lithospheric mantle profile of the Siberian craton and the origin of seismic midlithosphere discontinuities. Geology.\n"
     ]
    },
    {
     "name": "stderr",
     "output_type": "stream",
     "text": [
      "  % Total    % Received % Xferd  Average Speed   Time    Time     Time  Current\n",
      "                                 Dload  Upload   Total   Spent    Left  Speed\n",
      "  0     0    0     0    0     0      0      0 --:--:-- --:--:-- --:--:--     0\n",
      "100   209  100   209    0     0   1016      0 --:--:-- --:--:-- --:--:--  1016\n",
      "100   536    0   536    0     0   1440      0 --:--:-- --:--:-- --:--:--  1440\n"
     ]
    },
    {
     "name": "stdout",
     "output_type": "stream",
     "text": [
      "{'itemType': 'journalArticle', 'title': 'Thermal and compositional anomalies in a detailed xenolith-based lithospheric mantle profile of the Siberian craton and the origin of seismic midlithosphere discontinuities', 'creators': [{'creatorType': 'author', 'firstName': 'Zhe', 'lastName': 'Liu'}, {'creatorType': 'author', 'firstName': 'Dmitri', 'lastName': 'Ionov'}, {'creatorType': 'author', 'firstName': 'Paolo', 'lastName': 'Nimis'}, {'creatorType': 'author', 'firstName': 'Yigang', 'lastName': 'Xu'}, {'creatorType': 'author', 'firstName': 'Pengli', 'lastName': 'He'}, {'creatorType': 'author', 'firstName': 'Alexander', 'lastName': 'Golovin'}], 'abstractNote': '', 'publicationTitle': 'Geology', 'volume': '50', 'issue': '8', 'pages': '', 'date': '2022-04-01', 'series': '', 'seriesTitle': '', 'seriesText': '', 'journalAbbreviation': '', 'language': '', 'DOI': '10.1130/g49947.1', 'ISSN': '', 'shortTitle': '', 'url': 'https://doi.org/10.1130%2Fg49947.1', 'accessDate': '2022-12-20', 'archive': '', 'archiveLocation': '', 'libraryCatalog': '', 'callNumber': '', 'rights': '', 'extra': '[]', 'tags': [], 'collections': [], 'relations': {}}\n",
      "Now processing: xluuA7-A7qcJ\n",
      "https://serpapi.com/search\n",
      "Shin, J. A., Kang, N. R., & Lee, W. Y. (2022). Tetralogy of Fallot associated with a rare type partially anomalous pulmonary venous connection and levoatrial cardinal vein. Journal of Cardiac Surgery, 37(11), 3943-3946.\n"
     ]
    },
    {
     "name": "stderr",
     "output_type": "stream",
     "text": [
      "  % Total    % Received % Xferd  Average Speed   Time    Time     Time  Current\n",
      "                                 Dload  Upload   Total   Spent    Left  Speed\n",
      "  0     0    0     0    0     0      0      0 --:--:-- --:--:-- --:--:--     0\n",
      "100   213  100   213    0     0    915      0 --:--:-- --:--:-- --:--:--   915\n",
      "100   435    0   435    0     0   1081      0 --:--:-- --:--:-- --:--:--  1081\n"
     ]
    },
    {
     "name": "stdout",
     "output_type": "stream",
     "text": [
      "{'itemType': 'journalArticle', 'title': 'Tetralogy of Fallot associated with a rare type partially anomalous pulmonary venous connection and levoatrial cardinal vein', 'creators': [{'creatorType': 'author', 'firstName': 'Ju', 'lastName': 'Shin'}, {'creatorType': 'author', 'firstName': 'Nu-Ri', 'lastName': 'Kang'}, {'creatorType': 'author', 'firstName': 'Won', 'lastName': 'Lee'}], 'abstractNote': '', 'publicationTitle': 'Journal of Cardiac Surgery', 'volume': '37', 'issue': '11', 'pages': '', 'date': '2022-08-01', 'series': '', 'seriesTitle': '', 'seriesText': '', 'journalAbbreviation': '', 'language': '', 'DOI': '10.1111/jocs.16825', 'ISSN': '', 'shortTitle': '', 'url': 'https://doi.org/10.1111%2Fjocs.16825', 'accessDate': '2022-12-20', 'archive': '', 'archiveLocation': '', 'libraryCatalog': '', 'callNumber': '', 'rights': '', 'extra': '[]', 'tags': [], 'collections': [], 'relations': {}}\n",
      "Now processing: 7hPAuaheGygJ\n",
      "https://serpapi.com/search\n",
      "Chemtob, R. A., Hodges, K. E., & Marc Gillinov, A. (2022). Anomalous inferior vena cava drainage in a patient undergoing cardiac surgery. Journal of Cardiac Surgery.\n"
     ]
    },
    {
     "name": "stderr",
     "output_type": "stream",
     "text": [
      "  % Total    % Received % Xferd  Average Speed   Time    Time     Time  Current\n",
      "                                 Dload  Upload   Total   Spent    Left  Speed\n",
      "  0     0    0     0    0     0      0      0 --:--:-- --:--:-- --:--:--     0\n",
      "100   213  100   213    0     0   1013      0 --:--:-- --:--:-- --:--:--  1013\n",
      "100   413    0   413    0     0   1071      0 --:--:-- --:--:-- --:--:--  1071\n"
     ]
    },
    {
     "name": "stdout",
     "output_type": "stream",
     "text": [
      "{'itemType': 'journalArticle', 'title': 'Anomalous inferior vena cava drainage in a patient undergoing cardiac surgery', 'creators': [{'creatorType': 'author', 'firstName': 'Raphaelle', 'lastName': 'Chemtob'}, {'creatorType': 'author', 'firstName': 'Kevin', 'lastName': 'Hodges'}, {'creatorType': 'author', 'firstName': 'Alan', 'lastName': 'Gillinov'}], 'abstractNote': '', 'publicationTitle': 'Journal of Cardiac Surgery', 'volume': '37', 'issue': '8', 'pages': '', 'date': '2022-05-01', 'series': '', 'seriesTitle': '', 'seriesText': '', 'journalAbbreviation': '', 'language': '', 'DOI': '10.1111/jocs.16611', 'ISSN': '', 'shortTitle': '', 'url': 'https://doi.org/10.1111%2Fjocs.16611', 'accessDate': '2022-12-20', 'archive': '', 'archiveLocation': '', 'libraryCatalog': '', 'callNumber': '', 'rights': '', 'extra': '[]', 'tags': [], 'collections': [], 'relations': {}}\n",
      "Now processing: JrK6xiNNkLcJ\n",
      "https://serpapi.com/search\n",
      "Coyle, L., Lechner, S. A., Mirarchi, D., Camillocci, M. S., Wenninger, J., Blanc, S. F., ... & Pieloni, T. A NOVEL METHOD FOR DETECTING UNIDENTIFIED FALLING OBJECT LOSS PATTERNS IN THE LHC.\n"
     ]
    },
    {
     "name": "stderr",
     "output_type": "stream",
     "text": [
      "  % Total    % Received % Xferd  Average Speed   Time    Time     Time  Current\n",
      "                                 Dload  Upload   Total   Spent    Left  Speed\n",
      "  0     0    0     0    0     0      0      0 --:--:-- --:--:-- --:--:--     0\n",
      "100   225  100   225    0     0    938      0 --:--:-- --:--:-- --:--:--   938\n",
      "100   850    0   850    0     0   2085      0 --:--:-- --:--:-- --:--:--  2085\n"
     ]
    },
    {
     "name": "stdout",
     "output_type": "stream",
     "text": [
      "{'itemType': 'journalArticle', 'title': 'Beam Measurements and Machine Learning at the {CERN} Large Hadron Collider', 'creators': [{'creatorType': 'author', 'firstName': 'Pasquale', 'lastName': 'Arpaia'}, {'creatorType': 'author', 'firstName': 'Gabriella', 'lastName': 'Azzopardi'}, {'creatorType': 'author', 'firstName': 'Frederic', 'lastName': 'Blanc'}, {'creatorType': 'author', 'firstName': 'Xavier', 'lastName': 'Buffat'}, {'creatorType': 'author', 'firstName': 'Loic', 'lastName': 'Coyle'}, {'creatorType': 'author', 'firstName': 'Elena', 'lastName': 'Fol'}, {'creatorType': 'author', 'firstName': 'Francesco', 'lastName': 'Giordano'}, {'creatorType': 'author', 'firstName': 'Massimo', 'lastName': 'Giovannozzi'}, {'creatorType': 'author', 'firstName': 'Tatiana', 'lastName': 'Pieloni'}, {'creatorType': 'author', 'firstName': 'Roberto', 'lastName': 'Prevete'}, {'creatorType': 'author', 'firstName': 'Stefano', 'lastName': 'Redaelli'}, {'creatorType': 'author', 'firstName': 'Belen', 'lastName': 'Salvachua'}, {'creatorType': 'author', 'firstName': 'Benoit', 'lastName': 'Salvant'}, {'creatorType': 'author', 'firstName': 'Michael', 'lastName': 'Schenk'}, {'creatorType': 'author', 'firstName': 'Matteo', 'lastName': 'Camillocci'}, {'creatorType': 'author', 'firstName': 'Rogelio', 'lastName': 'Tomas'}, {'creatorType': 'author', 'firstName': 'Gianluca', 'lastName': 'Valentino'}, {'creatorType': 'author', 'firstName': 'Frederik', 'lastName': 'Veken'}, {'creatorType': 'author', 'firstName': 'Jorg', 'lastName': 'Wenninger'}], 'abstractNote': '', 'publicationTitle': '{IEEE} Instrumentation {\\\\&}amp$\\\\mathsemicolon$ Measurement Magazine', 'volume': '24', 'issue': '9', 'pages': '', 'date': '2021-12-01', 'series': '', 'seriesTitle': '', 'seriesText': '', 'journalAbbreviation': '', 'language': '', 'DOI': '10.1109/mim.2021.9620023', 'ISSN': '', 'shortTitle': '', 'url': 'https://doi.org/10.1109%2Fmim.2021.9620023', 'accessDate': '2022-12-20', 'archive': '', 'archiveLocation': '', 'libraryCatalog': '', 'callNumber': '', 'rights': '', 'extra': '[]', 'tags': [], 'collections': [], 'relations': {}}\n",
      "Now processing: zjWAgR071rcJ\n",
      "https://serpapi.com/search\n",
      "UAP, A. P. (2022). CHAPTER EIGHT THE IMPACT OF PHYSICAL SCIENCES ON THE STUDY OF UNIDENTIFIED AERIAL PHENOMENA (UAP) MASSIMO TEODORANI. Extraterrestrial Intelligence: Academic and Societal Implications, 124.\n"
     ]
    },
    {
     "name": "stderr",
     "output_type": "stream",
     "text": [
      "  % Total    % Received % Xferd  Average Speed   Time    Time     Time  Current\n",
      "                                 Dload  Upload   Total   Spent    Left  Speed\n",
      "  0     0    0     0    0     0      0      0 --:--:-- --:--:-- --:--:--     0\n",
      "100   227  100   227    0     0   1020      0 --:--:-- --:--:-- --:--:--  1020\n",
      "100   262    0   262    0     0    657      0 --:--:-- --:--:-- --:--:--   657\n"
     ]
    },
    {
     "name": "stdout",
     "output_type": "stream",
     "text": [
      "Now processing: zEBPZcK_ZgoJ\n",
      "https://serpapi.com/search\n",
      "Junior, M. C. M. T., Heaton, D. J., Everist, B. M., & Carlson, B. B. (2022). A new lumbar vertebral anomaly in Goldenhar syndrome: A case report. Radiology Case Reports, 17(6), 2175-2180.\n"
     ]
    },
    {
     "name": "stderr",
     "output_type": "stream",
     "text": [
      "  % Total    % Received % Xferd  Average Speed   Time    Time     Time  Current\n",
      "                                 Dload  Upload   Total   Spent    Left  Speed\n",
      "  0     0    0     0    0     0      0      0 --:--:-- --:--:-- --:--:--     0\n",
      "100   231  100   231    0     0   1150      0 --:--:-- --:--:-- --:--:--  1150\n",
      "100   467    0   467    0     0   1264      0 --:--:-- --:--:-- --:--:--  1264\n"
     ]
    },
    {
     "name": "stdout",
     "output_type": "stream",
     "text": [
      "{'itemType': 'journalArticle', 'title': 'A new lumbar vertebral anomaly in Goldenhar syndrome: A case report', 'creators': [{'creatorType': 'author', 'firstName': 'Mauro', 'lastName': 'Junior'}, {'creatorType': 'author', 'firstName': 'Dennis', 'lastName': 'Heaton'}, {'creatorType': 'author', 'firstName': 'Brian', 'lastName': 'Everist'}, {'creatorType': 'author', 'firstName': 'Brandon', 'lastName': 'Carlson'}], 'abstractNote': '', 'publicationTitle': 'Radiology Case Reports', 'volume': '17', 'issue': '6', 'pages': '', 'date': '2022-06-01', 'series': '', 'seriesTitle': '', 'seriesText': '', 'journalAbbreviation': '', 'language': '', 'DOI': '10.1016/j.radcr.2022.03.076', 'ISSN': '', 'shortTitle': '', 'url': 'https://doi.org/10.1016%2Fj.radcr.2022.03.076', 'accessDate': '2022-12-20', 'archive': '', 'archiveLocation': '', 'libraryCatalog': '', 'callNumber': '', 'rights': '', 'extra': '[]', 'tags': [], 'collections': [], 'relations': {}}\n",
      "Now processing: U_ZbHzOMR-4J\n",
      "https://serpapi.com/search\n",
      "Lee, W. Y., Shin, J. A., & Kang, N. (2022). Tetralogy of Fallot Associated with a Rare Type Partial Anomalous Pulmonary Venous Return.\n"
     ]
    },
    {
     "name": "stderr",
     "output_type": "stream",
     "text": [
      "  % Total    % Received % Xferd  Average Speed   Time    Time     Time  Current\n",
      "                                 Dload  Upload   Total   Spent    Left  Speed\n",
      "  0     0    0     0    0     0      0      0 --:--:-- --:--:-- --:--:--     0\n",
      "100   247  100   247    0     0    757      0 --:--:-- --:--:-- --:--:--   757\n",
      "100   347    0   347    0     0    695      0 --:--:-- --:--:-- --:--:--   695\n"
     ]
    },
    {
     "name": "stdout",
     "output_type": "stream",
     "text": [
      "{'itemType': 'journalArticle', 'title': 'Tetralogy of Fallot Associated with a Rare Type Partial Anomalous Pulmonary Venous Return', 'creators': [{'creatorType': 'author', 'firstName': 'Won', 'lastName': 'Lee'}, {'creatorType': 'author', 'firstName': 'Ju', 'lastName': 'Shin'}, {'creatorType': 'author', 'firstName': 'Nu-Ri', 'lastName': 'Kang'}], 'abstractNote': '', 'publicationTitle': '', 'volume': '', 'issue': '', 'pages': '', 'date': '2022-06-01', 'series': '', 'seriesTitle': '', 'seriesText': '', 'journalAbbreviation': '', 'language': '', 'DOI': '10.22541/au.165458889.95372996/v1', 'ISSN': '', 'shortTitle': '', 'url': 'https://doi.org/10.22541%2Fau.165458889.95372996%2Fv1', 'accessDate': '2022-12-20', 'archive': '', 'archiveLocation': '', 'libraryCatalog': '', 'callNumber': '', 'rights': '', 'extra': '[]', 'tags': [], 'collections': [], 'relations': {}}\n",
      "Now processing: wwA1dJs0RuoJ\n",
      "https://serpapi.com/search\n",
      "Le, T. T. (2022). The unknown information transmission anomaly of precognition.\n"
     ]
    },
    {
     "name": "stderr",
     "output_type": "stream",
     "text": [
      "  % Total    % Received % Xferd  Average Speed   Time    Time     Time  Current\n",
      "                                 Dload  Upload   Total   Spent    Left  Speed\n",
      "  0     0    0     0    0     0      0      0 --:--:-- --:--:-- --:--:--     0\n",
      "100   223  100   223    0     0   1280      0 --:--:-- --:--:-- --:--:--  1280\n",
      "100   269    0   269    0     0    725      0 --:--:-- --:--:-- --:--:--   725\n"
     ]
    },
    {
     "name": "stdout",
     "output_type": "stream",
     "text": [
      "{'itemType': 'journalArticle', 'title': 'The unknown information transmission anomaly of precognition', 'creators': [{'creatorType': 'author', 'firstName': 'Tam-Tri', 'lastName': 'Le'}], 'abstractNote': '', 'publicationTitle': '', 'volume': '', 'issue': '', 'pages': '', 'date': '2022-10-01', 'series': '', 'seriesTitle': '', 'seriesText': '', 'journalAbbreviation': '', 'language': '', 'DOI': '10.31219/osf.io/tsvz3', 'ISSN': '', 'shortTitle': '', 'url': 'https://doi.org/10.31219%2Fosf.io%2Ftsvz3', 'accessDate': '2022-12-20', 'archive': '', 'archiveLocation': '', 'libraryCatalog': '', 'callNumber': '', 'rights': '', 'extra': '[]', 'tags': [], 'collections': [], 'relations': {}}\n",
      "Now processing: 8DKG-0JLEtYJ\n",
      "https://serpapi.com/search\n",
      "Loeb, A. Identifying the Unidentified: Seeking Extraterrestrial Equipment Near Earth.\n"
     ]
    },
    {
     "name": "stderr",
     "output_type": "stream",
     "text": [
      "  % Total    % Received % Xferd  Average Speed   Time    Time     Time  Current\n",
      "                                 Dload  Upload   Total   Spent    Left  Speed\n",
      "  0     0    0     0    0     0      0      0 --:--:-- --:--:-- --:--:--     0\n",
      "100   343  100   343    0     0   1116      0 --:--:-- --:--:-- --:--:--  1116\n",
      "100   367    0   367    0     0    763      0 --:--:-- --:--:-- --:--:--   763\n"
     ]
    },
    {
     "name": "stdout",
     "output_type": "stream",
     "text": [
      "Now processing: 1fw1PeeRwUsJ\n",
      "https://serpapi.com/search\n",
      "Chavez, A., & Martinez Galarza, J. (2022). X-ray Transients and Transits Hidden in the Chandra Source Catalog. AAS/High Energy Astrophysics Division, 54(3), 111-26.\n"
     ]
    },
    {
     "name": "stderr",
     "output_type": "stream",
     "text": [
      "  % Total    % Received % Xferd  Average Speed   Time    Time     Time  Current\n",
      "                                 Dload  Upload   Total   Spent    Left  Speed\n",
      "  0     0    0     0    0     0      0      0 --:--:-- --:--:-- --:--:--     0\n",
      "100   235  100   235    0     0   1284      0 --:--:-- --:--:-- --:--:--  1284\n",
      "100   403    0   403    0     0   1142      0 --:--:-- --:--:-- --:--:--  1142\n"
     ]
    },
    {
     "name": "stdout",
     "output_type": "stream",
     "text": [
      "{'itemType': 'journalArticle', 'title': 'Chandra X-ray Observatory Overview', 'creators': [{'creatorType': 'author', 'firstName': 'Belinda', 'lastName': 'Wilkes'}, {'creatorType': 'author', 'firstName': 'Raffaele', 'lastName': \"D'Abrusco\"}, {'creatorType': 'author', 'firstName': 'Rafael', 'lastName': \"Mart{\\\\'{\\\\i}}nez-Galarza\"}], 'abstractNote': '', 'publicationTitle': '', 'volume': '', 'issue': '', 'pages': '', 'date': '2019-12-01', 'series': '', 'seriesTitle': '', 'seriesText': '', 'journalAbbreviation': '', 'language': '', 'DOI': '10.1088/2514-3433/ab43dcch2', 'ISSN': '', 'shortTitle': '', 'url': 'https://doi.org/10.1088%2F2514-3433%2Fab43dcch2', 'accessDate': '2022-12-20', 'archive': '', 'archiveLocation': '', 'libraryCatalog': '', 'callNumber': '', 'rights': '', 'extra': '[]', 'tags': [], 'collections': [], 'relations': {}}\n",
      "Now processing: ECNS9uj3IyUJ\n",
      "https://serpapi.com/search\n",
      "Feng, Z., Zhou, X., Šmejkal, L., Wu, L., Zhu, Z., Guo, H., ... & Liu, Z. (2022). An anomalous Hall effect in altermagnetic ruthenium dioxide. Nature Electronics, 5(11), 735-743.\n"
     ]
    },
    {
     "name": "stderr",
     "output_type": "stream",
     "text": [
      "  % Total    % Received % Xferd  Average Speed   Time    Time     Time  Current\n",
      "                                 Dload  Upload   Total   Spent    Left  Speed\n",
      "  0     0    0     0    0     0      0      0 --:--:-- --:--:-- --:--:--     0\n",
      "100   229  100   229    0     0   1392      0 --:--:-- --:--:-- --:--:--  3816\n",
      "100   704    0   704    0     0   2111      0 --:--:-- --:--:-- --:--:--  2111\n"
     ]
    },
    {
     "name": "stdout",
     "output_type": "stream",
     "text": [
      "{'itemType': 'journalArticle', 'title': 'An anomalous Hall effect in altermagnetic ruthenium dioxide', 'creators': [{'creatorType': 'author', 'firstName': 'Zexin', 'lastName': 'Feng'}, {'creatorType': 'author', 'firstName': 'Xiaorong', 'lastName': 'Zhou'}, {'creatorType': 'author', 'firstName': 'Libor', 'lastName': '{\\\\v{S}}mejkal'}, {'creatorType': 'author', 'firstName': 'Lei', 'lastName': 'Wu'}, {'creatorType': 'author', 'firstName': 'Zengwei', 'lastName': 'Zhu'}, {'creatorType': 'author', 'firstName': 'Huixin', 'lastName': 'Guo'}, {'creatorType': 'author', 'firstName': 'Rafael', 'lastName': \"Gonz{\\\\'{a}}lez-Hern{\\\\'{a}}ndez\"}, {'creatorType': 'author', 'firstName': 'Xiaoning', 'lastName': 'Wang'}, {'creatorType': 'author', 'firstName': 'Han', 'lastName': 'Yan'}, {'creatorType': 'author', 'firstName': 'Peixin', 'lastName': 'Qin'}, {'creatorType': 'author', 'firstName': 'Xin', 'lastName': 'Zhang'}, {'creatorType': 'author', 'firstName': 'Haojiang', 'lastName': 'Wu'}, {'creatorType': 'author', 'firstName': 'Hongyu', 'lastName': 'Chen'}, {'creatorType': 'author', 'firstName': 'Ziang', 'lastName': 'Meng'}, {'creatorType': 'author', 'firstName': 'Li', 'lastName': 'Liu'}, {'creatorType': 'author', 'firstName': 'Zhengcai', 'lastName': 'Xia'}, {'creatorType': 'author', 'firstName': 'Jairo', 'lastName': 'Sinova'}, {'creatorType': 'author', 'firstName': \"Tom{\\\\'{a}}{\\\\v{s}}\", 'lastName': 'Jungwirth'}, {'creatorType': 'author', 'firstName': 'Zhiqi', 'lastName': 'Liu'}], 'abstractNote': '', 'publicationTitle': 'Nature Electronics', 'volume': '5', 'issue': '11', 'pages': '', 'date': '2022-11-01', 'series': '', 'seriesTitle': '', 'seriesText': '', 'journalAbbreviation': '', 'language': '', 'DOI': '10.1038/s41928-022-00866-z', 'ISSN': '', 'shortTitle': '', 'url': 'https://doi.org/10.1038%2Fs41928-022-00866-z', 'accessDate': '2022-12-20', 'archive': '', 'archiveLocation': '', 'libraryCatalog': '', 'callNumber': '', 'rights': '', 'extra': '[]', 'tags': [], 'collections': [], 'relations': {}}\n",
      "Now processing: bX3l3QUi4TwJ\n",
      "https://serpapi.com/search\n",
      "Gadal, S., Mokhtar, R., Abdelhaq, M., Alsaqour, R., Ali, E. S., & Saeed, R. (2022). Machine Learning-Based Anomaly Detection Using K-Mean Array and Sequential Minimal Optimization. Electronics, 11(14), 2158.\n"
     ]
    },
    {
     "name": "stderr",
     "output_type": "stream",
     "text": [
      "  % Total    % Received % Xferd  Average Speed   Time    Time     Time  Current\n",
      "                                 Dload  Upload   Total   Spent    Left  Speed\n",
      "  0     0    0     0    0     0      0      0 --:--:-- --:--:-- --:--:--     0\n",
      "100   231  100   231    0     0   1262      0 --:--:-- --:--:-- --:--:--  1262\n",
      "100   475    0   475    0     0   1341      0 --:--:-- --:--:-- --:--:--  1341\n"
     ]
    },
    {
     "name": "stdout",
     "output_type": "stream",
     "text": [
      "{'itemType': 'journalArticle', 'title': 'Machine Learning-Based Anomaly Detection Using K-Mean Array and Sequential Minimal Optimization', 'creators': [{'creatorType': 'author', 'firstName': 'Saad', 'lastName': 'Gadal'}, {'creatorType': 'author', 'firstName': 'Rania', 'lastName': 'Mokhtar'}, {'creatorType': 'author', 'firstName': 'Maha', 'lastName': 'Abdelhaq'}, {'creatorType': 'author', 'firstName': 'Raed', 'lastName': 'Alsaqour'}, {'creatorType': 'author', 'firstName': 'Elmustafa', 'lastName': 'Ali'}, {'creatorType': 'author', 'firstName': 'Rashid', 'lastName': 'Saeed'}], 'abstractNote': '', 'publicationTitle': 'Electronics', 'volume': '11', 'issue': '14', 'pages': '', 'date': '2022-07-01', 'series': '', 'seriesTitle': '', 'seriesText': '', 'journalAbbreviation': '', 'language': '', 'DOI': '10.3390/electronics11142158', 'ISSN': '', 'shortTitle': '', 'url': 'https://doi.org/10.3390%2Felectronics11142158', 'accessDate': '2022-12-20', 'archive': '', 'archiveLocation': '', 'libraryCatalog': '', 'callNumber': '', 'rights': '', 'extra': '[]', 'tags': [], 'collections': [], 'relations': {}}\n",
      "Now processing: iuGcQdB1mLsJ\n",
      "https://serpapi.com/search\n",
      "McVittie, C., & McKinlay, A. (2023). “I don't mean extradimensional in a woo-woo sense”: Doing non-explanation in discussions of unidentified aerial phenomena. Language & Communication, 88, 90-98.\n"
     ]
    },
    {
     "name": "stderr",
     "output_type": "stream",
     "text": [
      "  % Total    % Received % Xferd  Average Speed   Time    Time     Time  Current\n",
      "                                 Dload  Upload   Total   Spent    Left  Speed\n",
      "  0     0    0     0    0     0      0      0 --:--:-- --:--:-- --:--:--     0\n",
      "100   235  100   235    0     0    918      0 --:--:-- --:--:-- --:--:--   918\n",
      "100   512    0   512    0     0   1213      0 --:--:-- --:--:-- --:--:--  1213\n"
     ]
    },
    {
     "name": "stdout",
     "output_type": "stream",
     "text": [
      "{'itemType': 'journalArticle', 'title': '{\\\\textquotedblleft}I don{\\\\textquotesingle}t mean extradimensional in a woo-woo sense{\\\\textquotedblright}: Doing non-explanation in discussions of unidentified aerial phenomena', 'creators': [{'creatorType': 'author', 'firstName': 'Chris', 'lastName': 'McVittie'}, {'creatorType': 'author', 'firstName': 'Andy', 'lastName': 'McKinlay'}], 'abstractNote': '', 'publicationTitle': 'Language {\\\\&}amp$\\\\mathsemicolon$ Communication', 'volume': '88', 'issue': '', 'pages': '', 'date': '2023-01-01', 'series': '', 'seriesTitle': '', 'seriesText': '', 'journalAbbreviation': '', 'language': '', 'DOI': '10.1016/j.langcom.2022.11.005', 'ISSN': '', 'shortTitle': '', 'url': 'https://doi.org/10.1016%2Fj.langcom.2022.11.005', 'accessDate': '2022-12-20', 'archive': '', 'archiveLocation': '', 'libraryCatalog': '', 'callNumber': '', 'rights': '', 'extra': '[]', 'tags': [], 'collections': [], 'relations': {}}\n",
      "Now processing: 6jluG-k-FlsJ\n",
      "https://serpapi.com/search\n",
      "UAP, O. U. A. P. (2022). CHAPTER SIX SCIENTIFIC AND TECHNOLOGY EXPLORATION OF UNIDENTIFIED AERIAL PHENOMENA (UAP) HAKAN KAYAL. Extraterrestrial Intelligence: Academic and Societal Implications, 87.\n"
     ]
    },
    {
     "name": "stderr",
     "output_type": "stream",
     "text": [
      "  % Total    % Received % Xferd  Average Speed   Time    Time     Time  Current\n",
      "                                 Dload  Upload   Total   Spent    Left  Speed\n",
      "  0     0    0     0    0     0      0      0 --:--:-- --:--:-- --:--:--     0\n",
      "100   213  100   213    0     0    849      0 --:--:-- --:--:-- --:--:--   849\n",
      "100   485    0   485    0     0   1131      0 --:--:-- --:--:-- --:--:--  1131\n"
     ]
    },
    {
     "name": "stdout",
     "output_type": "stream",
     "text": [
      "{'itemType': 'journalArticle', 'title': 'A Study on Reported Contact with Non-Human Intelligence Associated with Unidentified Aerial Phenomena', 'creators': [{'creatorType': 'author', 'firstName': 'Reinerio', 'lastName': 'Hernandez'}, {'creatorType': 'author', 'firstName': 'Robert', 'lastName': 'Davis'}, {'creatorType': 'author', 'firstName': 'Russell', 'lastName': 'Scalpone'}, {'creatorType': 'author', 'firstName': 'Rudolph', 'lastName': 'Schild'}], 'abstractNote': '', 'publicationTitle': 'Journal of Scientific Exploration', 'volume': '32', 'issue': '2', 'pages': '', 'date': '2018-06-01', 'series': '', 'seriesTitle': '', 'seriesText': '', 'journalAbbreviation': '', 'language': '', 'DOI': '10.31275/2018.1282', 'ISSN': '', 'shortTitle': '', 'url': 'https://doi.org/10.31275%2F2018.1282', 'accessDate': '2022-12-20', 'archive': '', 'archiveLocation': '', 'libraryCatalog': '', 'callNumber': '', 'rights': '', 'extra': '[]', 'tags': [], 'collections': [], 'relations': {}}\n",
      "Now processing: pJGenih9l-AJ\n",
      "https://serpapi.com/search\n",
      "Skuse, D. H. (2022). Early-Onset Psychosis and Autism Spectrum Disorder: Similar Rates of Deleterious Copy Number Variants, Yet Diverse Phenotypic Manifestations. American Journal of Psychiatry, 179(11), 798-799.\n"
     ]
    },
    {
     "name": "stderr",
     "output_type": "stream",
     "text": [
      "  % Total    % Received % Xferd  Average Speed   Time    Time     Time  Current\n",
      "                                 Dload  Upload   Total   Spent    Left  Speed\n",
      "  0     0    0     0    0     0      0      0 --:--:-- --:--:-- --:--:--     0\n",
      "100   227  100   227    0     0    921      0 --:--:-- --:--:-- --:--:--   921\n",
      "100   481    0   481    0     0   1177      0 --:--:-- --:--:-- --:--:--  5528\n"
     ]
    },
    {
     "name": "stdout",
     "output_type": "stream",
     "text": [
      "{'itemType': 'journalArticle', 'title': 'Early-Onset Psychosis and Autism Spectrum Disorder: Similar Rates of Deleterious Copy Number Variants, Yet Diverse Phenotypic Manifestations', 'creators': [{'creatorType': 'author', 'firstName': 'David', 'lastName': 'Skuse'}], 'abstractNote': '', 'publicationTitle': 'American Journal of Psychiatry', 'volume': '179', 'issue': '11', 'pages': '', 'date': '2022-11-01', 'series': '', 'seriesTitle': '', 'seriesText': '', 'journalAbbreviation': '', 'language': '', 'DOI': '10.1176/appi.ajp.20220790', 'ISSN': '', 'shortTitle': '', 'url': 'https://doi.org/10.1176%2Fappi.ajp.20220790', 'accessDate': '2022-12-20', 'archive': '', 'archiveLocation': '', 'libraryCatalog': '', 'callNumber': '', 'rights': '', 'extra': '[]', 'tags': [], 'collections': [], 'relations': {}}\n",
      "Now processing: 4eCw7-R82nYJ\n",
      "https://serpapi.com/search\n",
      "Watanabe, N., Fujita, Y., Nakayama, J., Mori, Y., Kadota, T., Hayashi, Y., ... & Yamamoto, Y. (2022). Anomalous epithelial variations and ectopic inflammatory response in chronic obstructive pulmonary disease. American Journal of Respiratory Cell and Molecular Biology, 67(6), 708-719.\n"
     ]
    },
    {
     "name": "stderr",
     "output_type": "stream",
     "text": [
      "  % Total    % Received % Xferd  Average Speed   Time    Time     Time  Current\n",
      "                                 Dload  Upload   Total   Spent    Left  Speed\n",
      "  0     0    0     0    0     0      0      0 --:--:-- --:--:-- --:--:--     0\n",
      "100   225  100   225    0     0   1099      0 --:--:-- --:--:-- --:--:--  1099\n",
      "100   653    0   653    0     0   1764      0 --:--:-- --:--:-- --:--:--  1764\n"
     ]
    },
    {
     "name": "stdout",
     "output_type": "stream",
     "text": [
      "{'itemType': 'journalArticle', 'title': 'Anomalous Epithelial Variations and Ectopic Inflammatory Response in Chronic Obstructive Pulmonary Disease', 'creators': [{'creatorType': 'author', 'firstName': 'Naoaki', 'lastName': 'Watanabe'}, {'creatorType': 'author', 'firstName': 'Yu', 'lastName': 'Fujita'}, {'creatorType': 'author', 'firstName': 'Jun', 'lastName': 'Nakayama'}, {'creatorType': 'author', 'firstName': 'Yutaro', 'lastName': 'Mori'}, {'creatorType': 'author', 'firstName': 'Tsukasa', 'lastName': 'Kadota'}, {'creatorType': 'author', 'firstName': 'Yusuke', 'lastName': 'Hayashi'}, {'creatorType': 'author', 'firstName': 'Iwao', 'lastName': 'Shimomura'}, {'creatorType': 'author', 'firstName': 'Takashi', 'lastName': 'Ohtsuka'}, {'creatorType': 'author', 'firstName': 'Koji', 'lastName': 'Okamoto'}, {'creatorType': 'author', 'firstName': 'Jun', 'lastName': 'Araya'}, {'creatorType': 'author', 'firstName': 'Kazuyoshi', 'lastName': 'Kuwano'}, {'creatorType': 'author', 'firstName': 'Yusuke', 'lastName': 'Yamamoto'}], 'abstractNote': '', 'publicationTitle': 'American Journal of Respiratory Cell and Molecular Biology', 'volume': '67', 'issue': '6', 'pages': '', 'date': '2022-12-01', 'series': '', 'seriesTitle': '', 'seriesText': '', 'journalAbbreviation': '', 'language': '', 'DOI': '10.1165/rcmb.2021-0555oc', 'ISSN': '', 'shortTitle': '', 'url': 'https://doi.org/10.1165%2Frcmb.2021-0555oc', 'accessDate': '2022-12-20', 'archive': '', 'archiveLocation': '', 'libraryCatalog': '', 'callNumber': '', 'rights': '', 'extra': '[]', 'tags': [], 'collections': [], 'relations': {}}\n",
      "Now processing: FqDWJpD-8fUJ\n",
      "https://serpapi.com/search\n",
      "Chow, B., Kaneko, Y., & Townend, J. (2022). Evidence for Deeply Subducted Lower‐Plate Seamounts at the Hikurangi Subduction Margin: Implications for Seismic and Aseismic Behavior. Journal of Geophysical Research: Solid Earth, 127(1), e2021JB022866.\n"
     ]
    },
    {
     "name": "stderr",
     "output_type": "stream",
     "text": [
      "  % Total    % Received % Xferd  Average Speed   Time    Time     Time  Current\n",
      "                                 Dload  Upload   Total   Spent    Left  Speed\n",
      "  0     0    0     0    0     0      0      0 --:--:-- --:--:-- --:--:--     0\n",
      "100   217  100   217    0     0   1051      0 --:--:-- --:--:-- --:--:--  1051\n",
      "100   482    0   482    0     0   1286      0 --:--:-- --:--:-- --:--:--  1286\n"
     ]
    },
    {
     "name": "stdout",
     "output_type": "stream",
     "text": [
      "{'itemType': 'journalArticle', 'title': 'Evidence for Deeply Subducted Lower-Plate Seamounts at the Hikurangi Subduction Margin: Implications for Seismic and Aseismic Behavior', 'creators': [{'creatorType': 'author', 'firstName': 'Bryant', 'lastName': 'Chow'}, {'creatorType': 'author', 'firstName': 'Yoshihiro', 'lastName': 'Kaneko'}, {'creatorType': 'author', 'firstName': 'John', 'lastName': 'Townend'}], 'abstractNote': '', 'publicationTitle': 'Journal of Geophysical Research: Solid Earth', 'volume': '127', 'issue': '1', 'pages': '', 'date': '2022-01-01', 'series': '', 'seriesTitle': '', 'seriesText': '', 'journalAbbreviation': '', 'language': '', 'DOI': '10.1029/2021jb022866', 'ISSN': '', 'shortTitle': '', 'url': 'https://doi.org/10.1029%2F2021jb022866', 'accessDate': '2022-12-20', 'archive': '', 'archiveLocation': '', 'libraryCatalog': '', 'callNumber': '', 'rights': '', 'extra': '[]', 'tags': [], 'collections': [], 'relations': {}}\n",
      "Now processing: y_sF1kFqWukJ\n",
      "https://serpapi.com/search\n",
      "Sun, M. L., Yue, F. G., Zhang, X. Y., Jiang, Y. T., Li, L. L., Zhang, H. G., & Liu, R. Z. (2022). Molecular cytogenetic characterization of 2q deletion and Xq duplication associated with nasal bone dysplasia in prenatal diagnosis: A case report and literature review. Taiwanese Journal of Obstetrics and Gynecology, 61(1), 163-169.\n"
     ]
    },
    {
     "name": "stderr",
     "output_type": "stream",
     "text": [
      "  % Total    % Received % Xferd  Average Speed   Time    Time     Time  Current\n",
      "                                 Dload  Upload   Total   Spent    Left  Speed\n",
      "  0     0    0     0    0     0      0      0 --:--:-- --:--:-- --:--:--     0\n",
      "100   229  100   229    0     0   1242      0 --:--:-- --:--:-- --:--:--  1242\n",
      "100   592    0   592    0     0   1667      0 --:--:-- --:--:-- --:--:--  1667\n"
     ]
    },
    {
     "name": "stdout",
     "output_type": "stream",
     "text": [
      "{'itemType': 'journalArticle', 'title': 'Molecular cytogenetic characterization of 2q deletion and Xq duplication associated with nasal bone dysplasia in prenatal diagnosis: A case report and literature review', 'creators': [{'creatorType': 'author', 'firstName': 'Mei-Ling', 'lastName': 'Sun'}, {'creatorType': 'author', 'firstName': 'Fa-Gui', 'lastName': 'Yue'}, {'creatorType': 'author', 'firstName': 'Xin-Yue', 'lastName': 'Zhang'}, {'creatorType': 'author', 'firstName': 'Yu-Ting', 'lastName': 'Jiang'}, {'creatorType': 'author', 'firstName': 'Lei-Lei', 'lastName': 'Li'}, {'creatorType': 'author', 'firstName': 'Hong-Guo', 'lastName': 'Zhang'}, {'creatorType': 'author', 'firstName': 'Rui-Zhi', 'lastName': 'Liu'}], 'abstractNote': '', 'publicationTitle': 'Taiwanese Journal of Obstetrics and Gynecology', 'volume': '61', 'issue': '1', 'pages': '', 'date': '2022-01-01', 'series': '', 'seriesTitle': '', 'seriesText': '', 'journalAbbreviation': '', 'language': '', 'DOI': '10.1016/j.tjog.2021.11.029', 'ISSN': '', 'shortTitle': '', 'url': 'https://doi.org/10.1016%2Fj.tjog.2021.11.029', 'accessDate': '2022-12-20', 'archive': '', 'archiveLocation': '', 'libraryCatalog': '', 'callNumber': '', 'rights': '', 'extra': '[]', 'tags': [], 'collections': [], 'relations': {}}\n",
      "Now processing: ynbX3pGbykgJ\n",
      "https://serpapi.com/search\n",
      "Barnes, S. J., Stanley, C. R., & Taranovic, V. (2022). Compositions and Ni-Cu-PGE tenors of Nova-Bollinger ores with implications for the origin of Pt anomalies in PGE-poor massive sulfides. Economic Geology, 117(8), 1687-1707.\n"
     ]
    },
    {
     "name": "stderr",
     "output_type": "stream",
     "text": [
      "  % Total    % Received % Xferd  Average Speed   Time    Time     Time  Current\n",
      "                                 Dload  Upload   Total   Spent    Left  Speed\n",
      "  0     0    0     0    0     0      0      0 --:--:-- --:--:-- --:--:--     0\n",
      "100   217  100   217    0     0   1215      0 --:--:-- --:--:-- --:--:--  1215\n",
      "100   501    0   501    0     0   1395      0 --:--:-- --:--:-- --:--:--  8350\n"
     ]
    },
    {
     "name": "stdout",
     "output_type": "stream",
     "text": [
      "{'itemType': 'journalArticle', 'title': 'Compositions and Ni-Cu-{PGE} Tenors of Nova-Bollinger Ores with Implications for the Origin of Pt Anomalies in {PGE}-Poor Massive Sulfides', 'creators': [{'creatorType': 'author', 'firstName': 'Stephen', 'lastName': 'Barnes'}, {'creatorType': 'author', 'firstName': 'Clifford', 'lastName': 'Stanley'}, {'creatorType': 'author', 'firstName': 'Valentina', 'lastName': 'Taranovic'}], 'abstractNote': '', 'publicationTitle': 'Economic Geology', 'volume': '117', 'issue': '8', 'pages': '', 'date': '2022-12-01', 'series': '', 'seriesTitle': '', 'seriesText': '', 'journalAbbreviation': '', 'language': '', 'DOI': '10.5382/econgeo.4894', 'ISSN': '', 'shortTitle': '', 'url': 'https://doi.org/10.5382%2Fecongeo.4894', 'accessDate': '2022-12-20', 'archive': '', 'archiveLocation': '', 'libraryCatalog': '', 'callNumber': '', 'rights': '', 'extra': '[]', 'tags': [], 'collections': [], 'relations': {}}\n",
      "Now processing: V-dY9UZNjd8J\n",
      "https://serpapi.com/search\n",
      "Woźniak, M., Zielonka, A., & Sikora, A. (2022). Driving support by type-2 fuzzy logic control model. Expert Systems with Applications, 207, 117798.\n"
     ]
    },
    {
     "name": "stderr",
     "output_type": "stream",
     "text": [
      "  % Total    % Received % Xferd  Average Speed   Time    Time     Time  Current\n",
      "                                 Dload  Upload   Total   Spent    Left  Speed\n",
      "  0     0    0     0    0     0      0      0 --:--:-- --:--:-- --:--:--     0\n",
      "100   229  100   229    0     0   1249      0 --:--:-- --:--:-- --:--:--  1249\n",
      "100   393    0   393    0     0   1103      0 --:--:-- --:--:-- --:--:--  1103\n"
     ]
    },
    {
     "name": "stdout",
     "output_type": "stream",
     "text": [
      "{'itemType': 'journalArticle', 'title': 'Driving support by type-2 fuzzy logic control model', 'creators': [{'creatorType': 'author', 'firstName': 'Marcin', 'lastName': \"Wo{\\\\'{z}}niak\"}, {'creatorType': 'author', 'firstName': 'Adam', 'lastName': 'Zielonka'}, {'creatorType': 'author', 'firstName': 'Andrzej', 'lastName': 'Sikora'}], 'abstractNote': '', 'publicationTitle': 'Expert Systems with Applications', 'volume': '207', 'issue': '', 'pages': '', 'date': '2022-11-01', 'series': '', 'seriesTitle': '', 'seriesText': '', 'journalAbbreviation': '', 'language': '', 'DOI': '10.1016/j.eswa.2022.117798', 'ISSN': '', 'shortTitle': '', 'url': 'https://doi.org/10.1016%2Fj.eswa.2022.117798', 'accessDate': '2022-12-20', 'archive': '', 'archiveLocation': '', 'libraryCatalog': '', 'callNumber': '', 'rights': '', 'extra': '[]', 'tags': [], 'collections': [], 'relations': {}}\n",
      "0\n"
     ]
    }
   ],
   "source": [
    "# Upload the parsed results\n",
    "print(citeObj.Search2Zotero())"
   ]
  },
  {
   "cell_type": "code",
   "execution_count": 27,
   "id": "7fb57a2c-ed14-422f-b99e-c24b256bd2b0",
   "metadata": {},
   "outputs": [
    {
     "name": "stdout",
     "output_type": "stream",
     "text": [
      "Number of items retreived from your library:4459\n",
      "Updating your cloud library...\n",
      "Done! I hope this made things more readable.\n"
     ]
    },
    {
     "data": {
      "text/plain": [
       "0"
      ]
     },
     "execution_count": 27,
     "metadata": {},
     "output_type": "execute_result"
    }
   ],
   "source": [
    "# Clean Ugly Raw LaText (as Much as Possible)\n",
    "citeObj.cleanZot(ZOT_ID      = ZOT_ID, \n",
    "                 ZOT_KEY     = ZOT_KEY,\n",
    "                 SEARCH_TERM = \"\") # Search is optional - filters the Zotero items considered"
   ]
  },
  {
   "cell_type": "code",
   "execution_count": null,
   "id": "11974f98-b792-4f56-bcc1-bf51b4be0293",
   "metadata": {
    "scrolled": true,
    "tags": []
   },
   "outputs": [],
   "source": [
    "# Check Arxiv for Free PDFs of Papers and Attach / Upload Them To Zotero\n",
    "citeObj.arxiv_download()"
   ]
  },
  {
   "cell_type": "code",
   "execution_count": null,
   "id": "1085a514-df92-4f82-bf6b-bc6fc6da1ef1",
   "metadata": {},
   "outputs": [],
   "source": []
  }
 ],
 "metadata": {
  "kernelspec": {
   "display_name": "Python 3 (ipykernel)",
   "language": "python",
   "name": "python3"
  },
  "language_info": {
   "codemirror_mode": {
    "name": "ipython",
    "version": 3
   },
   "file_extension": ".py",
   "mimetype": "text/x-python",
   "name": "python",
   "nbconvert_exporter": "python",
   "pygments_lexer": "ipython3",
   "version": "3.9.13"
  }
 },
 "nbformat": 4,
 "nbformat_minor": 5
}
